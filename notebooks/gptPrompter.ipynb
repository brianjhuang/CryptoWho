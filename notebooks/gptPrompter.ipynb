{
 "cells": [
  {
   "cell_type": "code",
   "execution_count": 2,
   "metadata": {},
   "outputs": [],
   "source": [
    "import pandas as pd\n",
    "import numpy as np\n",
    "\n",
    "import openai\n",
    "from gensim.summarization import summarize\n",
    "\n",
    "import nltk\n",
    "from nltk.corpus import stopwords\n",
    "from nltk.tokenize import word_tokenize\n",
    "from sklearn.feature_extraction.text import TfidfVectorizer\n",
    "import os"
   ]
  },
  {
   "cell_type": "code",
   "execution_count": 4,
   "metadata": {},
   "outputs": [],
   "source": [
    "df = pd.read_csv('../data/seed/youtube/test_videos_3.csv')"
   ]
  },
  {
   "cell_type": "code",
   "execution_count": 5,
   "metadata": {},
   "outputs": [
    {
     "data": {
      "text/html": [
       "<div>\n",
       "<style scoped>\n",
       "    .dataframe tbody tr th:only-of-type {\n",
       "        vertical-align: middle;\n",
       "    }\n",
       "\n",
       "    .dataframe tbody tr th {\n",
       "        vertical-align: top;\n",
       "    }\n",
       "\n",
       "    .dataframe thead th {\n",
       "        text-align: right;\n",
       "    }\n",
       "</style>\n",
       "<table border=\"1\" class=\"dataframe\">\n",
       "  <thead>\n",
       "    <tr style=\"text-align: right;\">\n",
       "      <th></th>\n",
       "      <th>id</th>\n",
       "      <th>title</th>\n",
       "      <th>description</th>\n",
       "      <th>tags</th>\n",
       "      <th>cleaned_transcript</th>\n",
       "      <th>raw_transcript</th>\n",
       "      <th>comments</th>\n",
       "      <th>comment_ids</th>\n",
       "      <th>label</th>\n",
       "    </tr>\n",
       "  </thead>\n",
       "  <tbody>\n",
       "    <tr>\n",
       "      <th>0</th>\n",
       "      <td>WFI6Bg-zmv4</td>\n",
       "      <td>How TikTok Could Become a U.S. Company | WSJ</td>\n",
       "      <td>TikTok is at a crossroads, as U.S. concerns ab...</td>\n",
       "      <td>['tik tok china', 'tiktok china', 'tiktok owne...</td>\n",
       "      <td>- [Narrator] TikTok is at a crossroads.. Conce...</td>\n",
       "      <td>[{'text': '- [Narrator] TikTok is at a crossro...</td>\n",
       "      <td>['You can complete you steal that the America ...</td>\n",
       "      <td>['Ugzx8SnYK28ySk4faHx4AaABAg', 'Ugyay5JsgkocDM...</td>\n",
       "      <td>none</td>\n",
       "    </tr>\n",
       "    <tr>\n",
       "      <th>1</th>\n",
       "      <td>dQw4w9WgXcQ</td>\n",
       "      <td>Rick Astley - Never Gonna Give You Up (Officia...</td>\n",
       "      <td>The official video for “Never Gonna Give You U...</td>\n",
       "      <td>['rick astley', 'Never Gonna Give You Up', 'ng...</td>\n",
       "      <td>[Music]. you know the rules. [Music]. gotta ma...</td>\n",
       "      <td>[{'text': '[Music]', 'start': 0.0, 'duration':...</td>\n",
       "      <td>['1 BILLION views for Never Gonna Give You Up!...</td>\n",
       "      <td>['UgzarqjaaPC7TbFINNx4AaABAg', 'UgzarqjaaPC7Tb...</td>\n",
       "      <td>none</td>\n",
       "    </tr>\n",
       "    <tr>\n",
       "      <th>2</th>\n",
       "      <td>EKIhc3tS0os</td>\n",
       "      <td>The Millionaire Investing Advice For Teenagers</td>\n",
       "      <td>For anyone who wanted a video about how to inv...</td>\n",
       "      <td>['how to invest', 'how to invest in stocks', '...</td>\n",
       "      <td>what's up you guys it's Graham here so I. have...</td>\n",
       "      <td>[{'text': \"what's up you guys it's Graham here...</td>\n",
       "      <td>[\"I only went to college because I needed a de...</td>\n",
       "      <td>['UgzmSWPHqXz1p7jbNuZ4AaABAg', 'Ugwu-PbdD_35Vy...</td>\n",
       "      <td>traditional</td>\n",
       "    </tr>\n",
       "    <tr>\n",
       "      <th>3</th>\n",
       "      <td>-Hbu2nKVJR0</td>\n",
       "      <td>How To Invest In Cryptocurrency For Beginners ...</td>\n",
       "      <td>Here is the beginners guide to investing in cr...</td>\n",
       "      <td>['investing', 'investing for beginners', 'inve...</td>\n",
       "      <td>what's up graham it's guys here so we. gotta h...</td>\n",
       "      <td>[{'text': \"what's up graham it's guys here so ...</td>\n",
       "      <td>['You know you could work for 40years to save ...</td>\n",
       "      <td>['Ugw6yqHUHfqRhoTnLp54AaABAg', 'Ugxq9FRLKcKEPt...</td>\n",
       "      <td>blockchain</td>\n",
       "    </tr>\n",
       "    <tr>\n",
       "      <th>4</th>\n",
       "      <td>d4h8dYSgHMw</td>\n",
       "      <td>Revealing My Entire $500K Investment Portfolio</td>\n",
       "      <td>Revealing What's in my Entire Portfolio includ...</td>\n",
       "      <td>['humphreytalks', 'how to invest', 'passive in...</td>\n",
       "      <td>the market just had its worst calendar. year s...</td>\n",
       "      <td>[{'text': 'the market just had its worst calen...</td>\n",
       "      <td>['👑Don’t forget to get 6-12 FREE Stocks when y...</td>\n",
       "      <td>['Ugyitj1ZF9aWrKtmCK94AaABAg', 'Ugyitj1ZF9aWrK...</td>\n",
       "      <td>mixed</td>\n",
       "    </tr>\n",
       "  </tbody>\n",
       "</table>\n",
       "</div>"
      ],
      "text/plain": [
       "            id                                              title  \\\n",
       "0  WFI6Bg-zmv4       How TikTok Could Become a U.S. Company | WSJ   \n",
       "1  dQw4w9WgXcQ  Rick Astley - Never Gonna Give You Up (Officia...   \n",
       "2  EKIhc3tS0os     The Millionaire Investing Advice For Teenagers   \n",
       "3  -Hbu2nKVJR0  How To Invest In Cryptocurrency For Beginners ...   \n",
       "4  d4h8dYSgHMw     Revealing My Entire $500K Investment Portfolio   \n",
       "\n",
       "                                         description  \\\n",
       "0  TikTok is at a crossroads, as U.S. concerns ab...   \n",
       "1  The official video for “Never Gonna Give You U...   \n",
       "2  For anyone who wanted a video about how to inv...   \n",
       "3  Here is the beginners guide to investing in cr...   \n",
       "4  Revealing What's in my Entire Portfolio includ...   \n",
       "\n",
       "                                                tags  \\\n",
       "0  ['tik tok china', 'tiktok china', 'tiktok owne...   \n",
       "1  ['rick astley', 'Never Gonna Give You Up', 'ng...   \n",
       "2  ['how to invest', 'how to invest in stocks', '...   \n",
       "3  ['investing', 'investing for beginners', 'inve...   \n",
       "4  ['humphreytalks', 'how to invest', 'passive in...   \n",
       "\n",
       "                                  cleaned_transcript  \\\n",
       "0  - [Narrator] TikTok is at a crossroads.. Conce...   \n",
       "1  [Music]. you know the rules. [Music]. gotta ma...   \n",
       "2  what's up you guys it's Graham here so I. have...   \n",
       "3  what's up graham it's guys here so we. gotta h...   \n",
       "4  the market just had its worst calendar. year s...   \n",
       "\n",
       "                                      raw_transcript  \\\n",
       "0  [{'text': '- [Narrator] TikTok is at a crossro...   \n",
       "1  [{'text': '[Music]', 'start': 0.0, 'duration':...   \n",
       "2  [{'text': \"what's up you guys it's Graham here...   \n",
       "3  [{'text': \"what's up graham it's guys here so ...   \n",
       "4  [{'text': 'the market just had its worst calen...   \n",
       "\n",
       "                                            comments  \\\n",
       "0  ['You can complete you steal that the America ...   \n",
       "1  ['1 BILLION views for Never Gonna Give You Up!...   \n",
       "2  [\"I only went to college because I needed a de...   \n",
       "3  ['You know you could work for 40years to save ...   \n",
       "4  ['👑Don’t forget to get 6-12 FREE Stocks when y...   \n",
       "\n",
       "                                         comment_ids        label  \n",
       "0  ['Ugzx8SnYK28ySk4faHx4AaABAg', 'Ugyay5JsgkocDM...         none  \n",
       "1  ['UgzarqjaaPC7TbFINNx4AaABAg', 'UgzarqjaaPC7Tb...         none  \n",
       "2  ['UgzmSWPHqXz1p7jbNuZ4AaABAg', 'Ugwu-PbdD_35Vy...  traditional  \n",
       "3  ['Ugw6yqHUHfqRhoTnLp54AaABAg', 'Ugxq9FRLKcKEPt...   blockchain  \n",
       "4  ['Ugyitj1ZF9aWrKtmCK94AaABAg', 'Ugyitj1ZF9aWrK...        mixed  "
      ]
     },
     "execution_count": 5,
     "metadata": {},
     "output_type": "execute_result"
    }
   ],
   "source": [
    "df.head()"
   ]
  },
  {
   "cell_type": "code",
   "execution_count": 289,
   "metadata": {},
   "outputs": [],
   "source": [
    "def applyTfidf(corpus, n):\n",
    "    \"\"\"Apply TF-IDF\"\"\"\n",
    "    # Should I just make one of these?\n",
    "    # Convert the text into a sparse matrix using TF-IDF\n",
    "    vectorizer = TfidfVectorizer()\n",
    "    tfidf = vectorizer.fit_transform([corpus])\n",
    "    \n",
    "    # Get the feature names and scores\n",
    "    feature_names = vectorizer.get_feature_names_out()\n",
    "    scores = dict(zip(feature_names, tfidf.data))\n",
    "    \n",
    "    # Sort the scores in descending order\n",
    "    sorted_scores = sorted(scores.items(), key=lambda x: x[1], reverse=True)\n",
    "\n",
    "    # Select only the top N features\n",
    "    selected_features = [x[0] for x in sorted_scores[:n]]\n",
    "    \n",
    "    return selected_features"
   ]
  },
  {
   "cell_type": "code",
   "execution_count": 290,
   "metadata": {},
   "outputs": [],
   "source": [
    "def topTags(tags, n = 10):\n",
    "    \"\"\"Apply TF-IDF to the tags to get the ten most relevant tags\"\"\"\n",
    "    corpus = \" \".join([tag.strip().strip(\"\\'\") for tag in tags[1:-1].strip('[').strip(']').split(',')])\n",
    "    \n",
    "    selected_features = applyTfidf(corpus, n)\n",
    "    \n",
    "    return \" \".join(selected_features)"
   ]
  },
  {
   "cell_type": "code",
   "execution_count": 291,
   "metadata": {},
   "outputs": [],
   "source": [
    "def condenseTranscript(transcript, summary = False, tfidf = False, word_count = 100, n = 50):\n",
    "    \"\"\"Cleans and condenses transcript\"\"\"\n",
    "    corpus = transcript.replace(\"\\n\", \" \").replace(\" - \", \"\").replace('- ', \"\").replace(\"\\'\", \"\").replace(\".\", \". \")\n",
    "    if summary:\n",
    "        if len(corpus) < word_count:\n",
    "            return corpus\n",
    "        elif len(corpus.split(\".\")) <= 1:\n",
    "            return corpus\n",
    "        return summarize(corpus, word_count = word_count)\n",
    "    elif tfidf:\n",
    "        if len(corpus) < word_count:\n",
    "            return corpus\n",
    "        elif len(corpus.split(\".\")) <= 1:\n",
    "            return corpus\n",
    "        return \" \".join(applyTfidf(corpus, n)) + \".\"\n",
    "    else:\n",
    "        return corpus"
   ]
  },
  {
   "cell_type": "code",
   "execution_count": 431,
   "metadata": {},
   "outputs": [],
   "source": [
    "def createVideoSnippet(title, transcript, tags):\n",
    "    \"\"\"Creates the video snippet\"\"\"\n",
    "    return title + '. ' + transcript.replace(\"\\n\", \" \") + ' ' + tags + \".\""
   ]
  },
  {
   "cell_type": "code",
   "execution_count": 432,
   "metadata": {},
   "outputs": [],
   "source": [
    "def createPrompt(videos):\n",
    "    \"\"\"Create prompt given video snippet list\"\"\"\n",
    "#     prompt=\"These labels determine if a video is discussing or recommending the following investments:\\nAlternative: Cryptocurrency, Blockchain, NFTs\\nTraditional: Stocks, Bonds, Real Estate, Commodities\\nMixed: Discusses at least one of each topic from alternative and traditional labels defined above.\\nNone: Not related to investing or finance\\n\\nClassify these YouTube video snippets, with each snippet containing the title, transcript, and video tags.\\n\\nFor each video return probabilities for all of the labels and explain the most probable label.\\n\\nExample Output:\\nAlternative: 0.15 Traditional 0.15 Mixed .1 None .6 None because lorem ipsum.\"\n",
    "#     prompt=\"These labels determine if a video is discussing or recommending the following investments:\\nAlternative: Cryptocurrency, Blockchain, NFTs\\nTraditional: Stocks, Bonds, Real Estate, Commodities\\nMixed: Must at least one of each topic from alternative and traditional labels defined above.\\nNone: Doesn't discuss the topics above or related topics.\\n\\nFor each video return probabilities for all of the labels and explain the most probable label.\\nExample Output:\\nAlternative: 0.15 Traditional 0.15 Mixed .1 None .6 None because lorem ipsum.\\n\\nClassify each YouTube video snippet below, with each snippet containing the title, transcript, and video tags.\"\n",
    "    prompt=\"These labels determine if a video is discussing or recommending the following investments:\\n1. Alternative: Cryptocurrency, Blockchain, NFTs\\n2. Traditional: Stocks, Bonds, Real Estate, Commodities\\n3. Mixed: Discusses at least one of each topic from alternative and traditional labels\\n4. None: Not related to investing or finance\\n\\nClassify these YouTube video snippets, with each snippet containing the title, transcript, tags.\"\n",
    "    for i in range(len(videos)):\n",
    "        prompt += '\\n\\n{} '.format(i+1) + videos[i]\n",
    "    prompt += \"\\n\\nFor each video return probabilities for all of the labels and explain the most probable label.\\nExample Output:\\nAlternative: 0.15 Traditional: 0.15 Mixed: .1 None: .6 None because lorem ipsum\"\n",
    "    \n",
    "    return prompt"
   ]
  },
  {
   "cell_type": "code",
   "execution_count": 433,
   "metadata": {},
   "outputs": [],
   "source": [
    "# Initialize the API client\n",
    "openai.api_key = os.environ.get(\"OPEN_AI_KEY\")"
   ]
  },
  {
   "cell_type": "code",
   "execution_count": 434,
   "metadata": {},
   "outputs": [],
   "source": [
    "# Function to make classification requests\n",
    "def classify(prompt, model_engine = \"text-davinci-002\", max_tokens = 1024, n = 1, temperature = 0.5):\n",
    "    completions = openai.Completion.create(\n",
    "        engine=model_engine,\n",
    "        prompt=prompt,\n",
    "        max_tokens=max_tokens,\n",
    "        n=n,\n",
    "        stop=None,\n",
    "        temperature=temperature,\n",
    "    )\n",
    "    return completions.choices[0]"
   ]
  },
  {
   "cell_type": "code",
   "execution_count": 435,
   "metadata": {},
   "outputs": [],
   "source": [
    "videos = []"
   ]
  },
  {
   "cell_type": "code",
   "execution_count": 436,
   "metadata": {},
   "outputs": [],
   "source": [
    "videos.append(createVideoSnippet(df['title'][0], condenseTranscript(df['cleaned_transcript'][0], summary = True), topTags(df['tags'][0])))\n",
    "# videos.append(createVideoSnippet(df['title'][0], condenseTranscript(df['cleaned_transcript'][0], tfidf = True), topTags(df['tags'][0])))"
   ]
  },
  {
   "cell_type": "code",
   "execution_count": 437,
   "metadata": {},
   "outputs": [
    {
     "name": "stdout",
     "output_type": "stream",
     "text": [
      "These labels determine if a video is discussing or recommending the following investments:\n",
      "1. Alternative: Cryptocurrency, Blockchain, NFTs\n",
      "2. Traditional: Stocks, Bonds, Real Estate, Commodities\n",
      "3. Mixed: Discusses at least one of each topic from alternative and traditional labels\n",
      "4. None: Not related to investing or finance\n",
      "\n",
      "Classify these YouTube video snippets, with each snippet containing the title, transcript, tags.\n",
      "\n",
      "1 How TikTok Could Become a U.S. Company | WSJ. The first concern is that the Chinese government could order TikTok to hand over data about individual American users. The second big thing is the video recommendation algorithm, and the idea is that the Chinese government could order TikTok to control what videos Americans could watch. [Narrator] A divestiture order is what happened to the dating app Grindr in 2019, after US officials determined that the apps personal data could potentially be exploited for blackmail, since the majority stakeholder was a Chinese company. [Narrator] Even without legal hurdles, a sale would also need cooperation from the Chinese government, which has the power to restrict the exports of technology, such as TikToks video recommendation algorithm. tiktok tok media ownership deal bytedance data social divestiture in.\n",
      "\n",
      "For each video return probabilities for all of the labels and explain the most probable label.\n",
      "Example Output:\n",
      "Alternative: 0.15 Traditional: 0.15 Mixed: .1 None: .6 None because lorem ipsum\n"
     ]
    }
   ],
   "source": [
    "prompt = createPrompt(videos)\n",
    "print(prompt)"
   ]
  },
  {
   "cell_type": "code",
   "execution_count": 426,
   "metadata": {},
   "outputs": [],
   "source": [
    "prediction = classify(prompt)"
   ]
  },
  {
   "cell_type": "code",
   "execution_count": 427,
   "metadata": {},
   "outputs": [
    {
     "name": "stdout",
     "output_type": "stream",
     "text": [
      "\n",
      "\n",
      "1. Alternative: 0.15 Traditional: 0.15 Mixed: .1 None: .6\n",
      "\n",
      "The most probable label for this video is \"None\" because it is not related to investing or finance.\n"
     ]
    }
   ],
   "source": [
    "print(prediction.text)"
   ]
  },
  {
   "cell_type": "code",
   "execution_count": 428,
   "metadata": {},
   "outputs": [],
   "source": [
    "prompts = []\n",
    "videos = []\n",
    "\n",
    "for i in range(len(df)):\n",
    "    title = df['title'][i]\n",
    "    tags = df['tags'][i]\n",
    "    transcript = df['cleaned_transcript'][i]\n",
    "    \n",
    "    if len(videos) >= 5:\n",
    "        videos = []\n",
    "        prompt = createPrompt(videos)\n",
    "        prompts.append(prompt)\n",
    "        \n",
    "    videos.append(createVideoSnippet(title, topTags(tags), condenseTranscript(transcript, summary = True)))\n",
    "    \n",
    "prompt = createPrompt(videos)\n",
    "prompts.append(prompt)"
   ]
  },
  {
   "cell_type": "code",
   "execution_count": 429,
   "metadata": {},
   "outputs": [
    {
     "name": "stdout",
     "output_type": "stream",
     "text": [
      "These labels determine if a video is discussing or recommending the following investments:\n",
      "1. Alternative: Cryptocurrency, Blockchain, NFTs\n",
      "2. Traditional: Stocks, Bonds, Real Estate, Commodities\n",
      "3. Mixed: Discusses at least one of each topic from alternative and traditional labels\n",
      "4. None: Not related to investing or finance\n",
      "\n",
      "Classify these YouTube video snippets, with each snippet containing the title, transcript, tags.\n",
      "\n",
      "1 How TikTok Could Become a U.S. Company | WSJ. tiktok tok media ownership deal bytedance data social divestiture in The first concern is that the Chinese government could order TikTok to hand over data about individual American users.\n",
      "The second big thing is the video recommendation algorithm, and the idea is that the Chinese government could order TikTok to control what videos Americans could watch.\n",
      "[Narrator] A divestiture order is what happened to the dating app Grindr in 2019, after US officials determined that the apps personal data could potentially be exploited for blackmail, since the majority stakeholder was a Chinese company.\n",
      "[Narrator] Even without legal hurdles, a sale would also need cooperation from the Chinese government, which has the power to restrict the exports of technology, such as TikToks video recommendation algorithm..\n",
      "\n",
      "2 Rick Astley - Never Gonna Give You Up (Official Music Video). you songs up rolling rolls song official video dance gonna [Music] you know the rules [Music] gotta make you understand [Music] goodbye [Music] weve known each other for so long your hearts been [Music] going aching [Music] never gonna say goodbye [Music] never gonna make you gonna say cry [Music] i just want to tell you how im feeling [Music] [Music] never gonna is you down [Music].\n",
      "\n",
      "For each video return probabilities for all of the labels and explain the most probable label.\n",
      "Example Output:\n",
      "Alternative: 0.15 Traditional: 0.15 Mixed: .1 None: .6 None because lorem ipsum\n"
     ]
    }
   ],
   "source": [
    "print(prompts[0])"
   ]
  },
  {
   "cell_type": "code",
   "execution_count": 376,
   "metadata": {},
   "outputs": [],
   "source": [
    "predictions = []\n",
    "\n",
    "for prompt in prompts:\n",
    "    predictions.append(classify(prompt))"
   ]
  },
  {
   "cell_type": "code",
   "execution_count": 377,
   "metadata": {},
   "outputs": [
    {
     "name": "stdout",
     "output_type": "stream",
     "text": [
      "\n",
      "\n",
      "1. Alternative: 0.15 Traditional: 0.15 Mixed: .1 None: .6\n",
      "The most probable label for this video is \"None\" because it does not discuss any investments.\n",
      "\n",
      "2. Alternative: 0.2 Traditional: 0.1 Mixed: 0.3 None: 0.4\n",
      "The most probable label for this video is \"None\" because it does not discuss any investments.\n"
     ]
    }
   ],
   "source": [
    "print(predictions[0].text)"
   ]
  },
  {
   "cell_type": "code",
   "execution_count": null,
   "metadata": {},
   "outputs": [],
   "source": []
  }
 ],
 "metadata": {
  "kernelspec": {
   "display_name": "crypto",
   "language": "python",
   "name": "crypto"
  },
  "language_info": {
   "codemirror_mode": {
    "name": "ipython",
    "version": 3
   },
   "file_extension": ".py",
   "mimetype": "text/x-python",
   "name": "python",
   "nbconvert_exporter": "python",
   "pygments_lexer": "ipython3",
   "version": "3.8.5"
  }
 },
 "nbformat": 4,
 "nbformat_minor": 4
}
