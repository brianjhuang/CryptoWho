{
 "cells": [
  {
   "cell_type": "code",
   "execution_count": 74,
   "metadata": {},
   "outputs": [],
   "source": [
    "import pandas as pd\n",
    "import numpy as np\n",
    "\n",
    "import openai\n",
    "from gensim.summarization import summarize\n",
    "\n",
    "import nltk\n",
    "from nltk.corpus import stopwords\n",
    "from nltk.tokenize import word_tokenize\n",
    "from sklearn.feature_extraction.text import TfidfVectorizer\n",
    "import os"
   ]
  },
  {
   "cell_type": "code",
   "execution_count": 75,
   "metadata": {},
   "outputs": [],
   "source": [
    "df = pd.read_csv('../data/seed/youtube/seed_videos_7.csv')"
   ]
  },
  {
   "cell_type": "code",
   "execution_count": 76,
   "metadata": {},
   "outputs": [],
   "source": [
    "df = df.dropna(subset = ['cleaned_transcript']).reset_index(drop = True)"
   ]
  },
  {
   "cell_type": "code",
   "execution_count": 78,
   "metadata": {},
   "outputs": [],
   "source": [
    "df = df.fillna(\"\")"
   ]
  },
  {
   "cell_type": "code",
   "execution_count": 79,
   "metadata": {},
   "outputs": [],
   "source": [
    "def applyTfidf(corpus, n):\n",
    "    \"\"\"Apply TF-IDF\"\"\"\n",
    "    # Should I just make one of these?\n",
    "    # Convert the text into a sparse matrix using TF-IDF\n",
    "    vectorizer = TfidfVectorizer()\n",
    "    tfidf = vectorizer.fit_transform([corpus])\n",
    "    \n",
    "    # Get the feature names and scores\n",
    "    feature_names = vectorizer.get_feature_names_out()\n",
    "    scores = dict(zip(feature_names, tfidf.data))\n",
    "    \n",
    "    # Sort the scores in descending order\n",
    "    sorted_scores = sorted(scores.items(), key=lambda x: x[1], reverse=True)\n",
    "\n",
    "    # Select only the top N features\n",
    "    selected_features = [x[0] for x in sorted_scores[:n]]\n",
    "    \n",
    "    return selected_features"
   ]
  },
  {
   "cell_type": "code",
   "execution_count": 88,
   "metadata": {},
   "outputs": [],
   "source": [
    "def topTags(tags, n = 10):\n",
    "    \"\"\"Apply TF-IDF to the tags to get the ten most relevant tags\"\"\"\n",
    "    corpus = \" \".join([tag.strip().strip(\"\\'\") for tag in tags[1:-1].strip('[').strip(']').split(',')])\n",
    "    \n",
    "    if len(corpus) == 0:\n",
    "        return \"\"\n",
    "    \n",
    "    selected_features = applyTfidf(corpus, n)\n",
    "    \n",
    "    return \" \".join(selected_features)"
   ]
  },
  {
   "cell_type": "code",
   "execution_count": 89,
   "metadata": {},
   "outputs": [],
   "source": [
    "def condenseTranscript(transcript, summary = False, tfidf = False, word_count = 250, n = 50):\n",
    "    \"\"\"Cleans and condenses transcript\"\"\"\n",
    "    corpus = transcript.replace(\"\\n\", \" \").replace(\" - \", \"\").replace('- ', \"\").replace(\"\\'\", \"\").replace(\".\", \". \")\n",
    "    if summary:\n",
    "        if len(corpus) < word_count:\n",
    "            return corpus\n",
    "        elif len(corpus.split(\".\")) <= 1:\n",
    "            return corpus\n",
    "        return summarize(corpus, word_count = word_count)\n",
    "    elif tfidf:\n",
    "        if len(corpus) < word_count:\n",
    "            return corpus\n",
    "        elif len(corpus.split(\".\")) <= 1:\n",
    "            return corpus\n",
    "        return \" \".join(applyTfidf(corpus, n)) + \".\"\n",
    "    else:\n",
    "        return corpus"
   ]
  },
  {
   "cell_type": "code",
   "execution_count": 90,
   "metadata": {},
   "outputs": [],
   "source": [
    "def createVideoSnippet(title, transcript, tags):\n",
    "    \"\"\"Creates the video snippet\"\"\"\n",
    "    return title + '. ' + transcript.replace(\"\\n\", \" \") + ' ' + tags + \".\""
   ]
  },
  {
   "cell_type": "code",
   "execution_count": 91,
   "metadata": {},
   "outputs": [],
   "source": [
    "def createPrompt(videos):\n",
    "    \"\"\"Create prompt given video snippet list\"\"\"\n",
    "#     prompt=\"These labels determine if a video is discussing or recommending the following investments:\\nAlternative: Cryptocurrency, Blockchain, NFTs\\nTraditional: Stocks, Bonds, Real Estate, Commodities\\nMixed: Discusses at least one of each topic from alternative and traditional labels defined above.\\nNone: Not related to investing or finance\\n\\nClassify these YouTube video snippets, with each snippet containing the title, transcript, and video tags.\\n\\nFor each video return probabilities for all of the labels and explain the most probable label.\\n\\nExample Output:\\nAlternative: 0.15 Traditional 0.15 Mixed .1 None .6 None because lorem ipsum.\"\n",
    "#     prompt=\"These labels determine if a video is discussing or recommending the following investments:\\nAlternative: Cryptocurrency, Blockchain, NFTs\\nTraditional: Stocks, Bonds, Real Estate, Commodities\\nMixed: Must at least one of each topic from alternative and traditional labels defined above.\\nNone: Doesn't discuss the topics above or related topics.\\n\\nFor each video return probabilities for all of the labels and explain the most probable label.\\nExample Output:\\nAlternative: 0.15 Traditional 0.15 Mixed .1 None .6 None because lorem ipsum.\\n\\nClassify each YouTube video snippet below, with each snippet containing the title, transcript, and video tags.\"\n",
    "    prompt=\"These labels determine if a video is discussing or recommending the following investments:\\n1. Alternative: Cryptocurrency, Blockchain, NFTs\\n2. Traditional: Stocks, Bonds, Real Estate, Commodities\\n3. Mixed: Discusses at least one of each topic from alternative and traditional labels\\n4. None: Not related to investing or finance\\n\\nClassify these YouTube video snippets, with each snippet containing the title, transcript, tags.\"\n",
    "    for i in range(len(videos)):\n",
    "        prompt += '\\n\\n{} '.format(i+1) + videos[i]\n",
    "    prompt += \"\\n\\nFor each video return probabilities for all of the labels and explain the most probable label.\\nExample Output:\\nAlternative: 0.15 Traditional: 0.15 Mixed: .1 None: .6 None because lorem ipsum\"\n",
    "    \n",
    "    return prompt"
   ]
  },
  {
   "cell_type": "code",
   "execution_count": 92,
   "metadata": {},
   "outputs": [],
   "source": [
    "# Initialize the API client\n",
    "openai.api_key = os.environ.get(\"OPENAI_API_KEY\")"
   ]
  },
  {
   "cell_type": "code",
   "execution_count": 93,
   "metadata": {},
   "outputs": [],
   "source": [
    "# Function to make classification requests\n",
    "def classify(prompt, model_engine = \"text-davinci-002\", max_tokens = 1024, n = 1, temperature = 0.5):\n",
    "    completions = openai.Completion.create(\n",
    "        engine=model_engine,\n",
    "        prompt=prompt,\n",
    "        max_tokens=max_tokens,\n",
    "        n=n,\n",
    "        stop=None,\n",
    "        temperature=temperature,\n",
    "    )\n",
    "    return completions.choices[0]"
   ]
  },
  {
   "cell_type": "code",
   "execution_count": 96,
   "metadata": {},
   "outputs": [],
   "source": [
    "df['snippet'] = df.apply(lambda x: createVideoSnippet(x.title, condenseTranscript(x.cleaned_transcript, summary = True), topTags(x.tags)), axis = 1)"
   ]
  },
  {
   "cell_type": "code",
   "execution_count": 108,
   "metadata": {},
   "outputs": [
    {
     "data": {
      "text/plain": [
       "'- Investing, when most people think of it,. they imagine day trading, stock tickers,. and people screaming at each other.. But apart from what you may have heard,. investing doesn\\'t need to be complicated,. overwhelming, or even boring.. The basics are actually quite simple.. And once you get them down,. you could make millions of\\ndollars in your lifetime.. With the help of my friend\\nand personal finance expert,. Ramit Sethi, we\\'re gonna\\nditch the generalities. and get into the specifics\\ncovering how to start investing,. what accounts you should open up,. and all the things that you\\nshould and shouldn\\'t be doing. when it comes to investing.. - This is a critical mistake people make.. And it will cost you hundreds\\nof thousands of dollars.. - This video is sponsored by Squarespace.. More on them later.. My early twenties weren\\'t exactly. my most productive financial years.. I remember counting\\npennies in line at Wendy\\'s. to get their $1 chicken sandwich.. And if you\\'re in a similar situation,. it might feel impossible. to even start thinking about investing,. and that\\'s because you probably shouldn\\'t.. Before you open up your\\nfirst investment account,. there are two big steps\\nthat you need to take. that most personal finance\\nexperts can agree on.. First, you need to build\\nup an emergency fund.. You can start with a month of savings,. but eventually, you should get it up. to three to six months of basic expenses.. We\\'re talking about the bare minimum:. rent, utilities, groceries, and gas.. What is the absolute minimum\\nthat you need to get by on?. And second, you should\\npay off all of your debt. except for your house.. You specifically wanna focus on the debt. with the highest interest rates,. so those credit cards,\\nstudent loans, and car loans. that are 8%, 9%, 10% or\\nmore should be tackled. as soon as you\\'ve got your\\nemergency fund filled.. The power of taking these\\ntwo steps alone are huge. when it comes to your\\npersonal finance journey.. And they will likely take years of saving,. patience, frustration, and sacrifice,. especially if you graduated. with $100,000 of student debt like I did.. But once you pay off your last loan,. you\\'ll finally be ready. to start investing in the stock market.. Warren Buffett once famously said,. \"My wealth has come from a\\ncombination of living in America,. some lucky genes, and compound interest.\". Compound interest is the reason. you need to start investing\\nas soon as you possibly can.. - What we know is that. over the course of a long period of time,. we\\'re talking 40, 50, 60 years,. the market tends to return about 7% to 8%.. That\\'s per year.. So people go, \"Well, is that\\na lot? Is that a little?\". Doesn\\'t mean anything to people.. What that means is that your money. will essentially double every\\n10 years if you do nothing.. Let\\'s say you invest $5,000\\na year from age 25 to 65.. At an annual return of 8%,. you\\'ll have a total of\\nnearly $1.3 million.. If you chose not to invest. and instead stash the money\\naway in your sock drawer,. you would have $200,000.. That\\'s a difference that\\nwill easily change your life.. - So the minute that I paid\\noff my last student loan,. I knew that I wanted to start investing,. but I still had so many questions.. How do I open an account?\\nWhat company do I use?. How much should I invest?\\nWhat stocks do I invest in?. It was truly overwhelming.. There are a number of different accounts. that you could open up with\\nvarying fees and tax advantages.. My guess is if you\\'ve thought\\nabout investing before. but haven\\'t taken the leap,. this is where you\\'ve\\ngotten stuck in the weeds.. So let\\'s break down exactly\\nwhat you should be doing. from the minute that you\\ndecide to start investing.. In the U.S., if your\\nemployer has a 401k plan. and offers matching contributions,. then this is the first account. that you should start investing in,. and you should probably\\ntake advantage of this deal. even before you finish\\npaying off all of your debt.. Put as much money into this 401k plan. as your employer will match.. After that, the first account. you should open up is a Roth IRA.. If you meet the income requirements,. there are some great tax\\nadvantages to Roth IRAs,. and it\\'s why most personal\\nfinance experts recommend it.. But what companies should\\nyou trust with your money?. - There are a few companies I love.. I personally use Vanguard.. I have no financial affiliation with them,. but that\\'s where I suggested\\nmy wife open her account.. They\\'re super low-cost.. They don\\'t get you with a bunch\\nof fees. That\\'s important.. Fidelity\\'s also very good.\\nSchwab is also very good.. All three of these are great.. Some people ask about\\nrobo-advisors. It\\'s really popular.. I think they\\'re fine.. If you are coming to me, you\\'re saying,. \"Ramit, should I do Wealthfront\\nor Betterment or Vanguard?\". There is a slight difference in fees.. You know, you might be\\npaying about 0.3% more. for Wealthfront or Betterment.. In the grand scheme, it\\'s not\\nthe worst thing you could do.. Personally, for me, I\\ndon\\'t think it\\'s worth it.. I don\\'t mind that Vanguard\\nhas a worse interface. because I hardly log in.. It\\'s not important to me.. And I want a company that\\nis focused on low fees.. - So, to keep things simple,. if you haven\\'t opened an account already,. just go with Vanguard.. They\\'ve got really low fees,. give you all the investing\\noptions you need,. and they make it really\\neasy to get started.. Okay, now that you\\'ve created an account,. what do you do next?. Well, you actually need\\nto invest your money,. and regardless of what your\\nbrother-in-law told you,. investing your life savings into Bitcoin. is probably a terrible option.. I think when a lot of people. think about investing in the stock market,. they think about, like, you said, Tesla.. They think about investing\\nin specific companies.. Some of them go,. \"Ramit, why would I invest\\nin the stock market?. 7%? That\\'s for losers.. Bitcoin, you can average\\n50% to 60% a year.\". I go, \"All right, let\\'s start\\nwith some basic math here,. which you missed the\\nday they taught that.\". If you\\'re getting 60% returns per year,. pretty soon you have more money. than all the money in the universe,. and there are essentially no investments. that are consistently\\ngetting you 60% returns.. Oftentimes, really what people are doing. with these highly speculative investments. is they are admitting. I have lost the game of money for myself. and the only chance I\\nbelieve I have to win. is to buy a lottery ticket.. And that is not how you invest.\\nThat\\'s not how you do it.. - So, instead of investing\\nyour money into one company,. one stock, or one risky bet,. you need to diversify by investing. in something called an index fund.. An index fund is a type of investment. that pulls together stocks, bonds,. and other securities into\\none diversified portfolio.. While there is always a risk\\nwhen it comes to investing,. this reduces the overall amount of risk. that you need to take.. What are the investments\\nthat are safe in the long run. but that will also give us a return. where we can actually have\\na living when we retire?. - I love a target date retirement fund.. You simply pick the year\\nthat you\\'re gonna retire.. Basically, the year you\\'re gonna be 65.. And you just put all your money into it.. It\\'s automatically\\ndiversified, automatically.. It includes stocks, bonds.. It includes domestic,\\nlarge caps, all that,. and you just put as much as you can.. They charge essentially no fees.. This is not a financial\\nadvisor that\\'s charging you 1%.. It\\'s just a computer\\nthat\\'s doing it for you.. People almost find it unbelievable.. They go, \"Ramit, you\\'re telling me. that I just pick one target date fund,. and I invest in that same fund\\nin my 401k, in my Roth IRA,. even in a taxable brokerage account?\". For the most part, yes.. For the vast majority of people,. a target date fund is a fantastic thing.. If I had, like, if I were\\ntelling a brother or sister,. family member, and they\\'re 25\\nyears old, what should I do?. I\\'d be like, put every\\nextra dollar you\\'ve got. in a target date fund and\\nget on with your life.. - I wanna share the exact\\nindex fund that I invest in. as well as the strategy you need to know. once you start investing your\\nmoney into the stock market.. But first, a quick word from\\nmy sponsor, Squarespace.. So I chose to build my first website. on Squarespace eight years\\nago for three main reasons.. Their templates are beautiful.. It\\'s really simple to make changes,. and you don\\'t need to know any code.. Let me show you exactly how easy it is.. Let\\'s say you wanna create a blog. documenting your journey out of debt. and towards financial freedom.. You get started by\\ngoing to squarespace.com. and buying your first domain name,. something like mattonthemoney.com.. Next up, you grab a template\\nthat matches your vision.. This one\\'s perfect. And then the fun part.. You start creating by simply. dragging and dropping your content,. set your brand colors, add your logo,. and take that terrifying step. of writing and publishing\\nyour very first blog post.. I honestly think that everybody\\nshould have a website.. It can help you build an\\naudience, land a better job,. and share your rags to\\nriches story with the world.. Visit squarespace.com\\ntoday for a free trial.. Then, when you\\'re ready to launch,. go to squarespace.com/mattdavella. to save 10% off your first\\npurchase of a website or domain.. The brands that I choose to\\npartner with on this channel. help me to invest back into my videos. so I can create better content every week.. If you wanna get started and\\nmake a website for yourself,. click the link in the description below.. Thanks for considering. I\\nforgot to turn the camera off.. All right, so let me show you. the exact target retirement\\nfund that I invest into. when it comes to Vanguard.. So this is it.. It\\'s the Vanguard target\\nretirement 2050 fund.. Obviously, if you plan on\\nretiring earlier or later,. you would pick a different fund,. but this is because I plan\\non retiring around 2050.. You can see, over the past 10 years,. it\\'s performing at 8.36% annually.. After you\\'ve actually invested. your hard-earned money\\ninto the stock market,. the hard part comes, waiting.. How you manage your\\nemotions and risk tolerance. is one of the most important aspects. to building wealth over time. because growth isn\\'t a straight line.. - It goes like this. It\\'s up. It\\'s down.. Some years it\\'s up 30%.\\nSome years it\\'s down 6%.. This year happens to be down.. But you have to remember\\nthat it was way up. for the last 10-plus years.. - Most people just can\\'t stomach. the twists and turns\\nthat the market takes,. and over the past year,. things have been looking a bit dicey.. - But it does seem we are kind of. slipping into a recession, doesn\\'t it?. - People are gonna feel a lot of pain.. - Concerns, of course, about\\nthe potential recession,. they continue to loom.. - In a poll for the Wall Street Journal,. economist put the probability. of a recession in the\\nnext 12 months at 61%.. - And the fear is that we\\nare much more likely now. heading toward a recession.. - What would you say to somebody. who sees this happening right now. and wants to pull their\\nmoney out of their 401k?. - If you do this, you are doomed.. It\\'s one of the worst financial\\ndecisions you can make. to try to pull your money out.. Let me explain.. It\\'s called timing the market. when you try to pull it\\nout at the right time. and then get back in at the right time.. There\\'s several problems with this.. First of all, you don\\'t know. if it\\'s gonna go lower or higher.. And people go, \"Well,\\ndude, it\\'s so obvious.\". It\\'s actually not obvious.. People said it was obvious\\nin 2008, 9, 10, 16, 20, 22.. It\\'s not obvious. It can\\ngo up. It can go down.. The market does what\\nthe market\\'s gonna do.. You cannot predict it.. Second, even if you pulled\\nit out at a great time. where things are really\\nhigh, and then it goes low,. you need to be right a second time. to put it in at the right time.. The solution is to simply invest. every single month consistently.. Doesn\\'t matter whether it\\'s up.. Doesn\\'t matter whether it\\'s\\ndown because you don\\'t know. where that fits in the overall scheme.. Every month you set up an\\nautomation in your Vanguard,. Fidelity, Schwab account,. and it might be $100, it might\\nbe $1000, it might be $5,000.. It\\'s just continually going in.. So when it\\'s expensive,\\nyou\\'re buying fewer shares.. When it\\'s cheaper, you\\'re\\nbuying more shares.. Over time, that strategy\\ncalled dollar cost averaging. tends to dramatically\\noutperform timing the market.. - I remember the day that\\nI first invested money. into the stock market through Vanguard.. I knew that I wasn\\'t supposed\\nto be checking these accounts.. I had read books by Ramit\\nand others that told me so,. but I couldn\\'t help it.. I refreshed that thing every single day,. tracking the changes and\\nwatching as it went up and down.. But eventually, I decided\\nto stop obsessing,. and I just let the investments. do their work in the background,. and it was the best decision that I made.. Now I check in every six months\\nto see how things are going.. And over the past eight years, on average,. I\\'ve returned about 8% annually.. If you invested $5,000 per\\nyear over the same time period,. you\\'d have made $13,000 in interest.. And if you remember that graph\\nfrom earlier in this video,. if you keep investing,. your money will soon grow exponentially.. That is, of course,. unless you make one\\nfatal investing mistake.. - This is a critical mistake people make,. and it will cost you hundreds\\nof thousands of dollars.. A lot of you watching have parents. who are using a financial advisor.. I want you to pull out\\nyour phone right now.. I want you to text mommy and\\ndaddy, and I want you to say,. \"Hey, how much are you paying Chet,. our neighborhood financial advisor?\". Chet, when he gets the question,. is going to go into a\\nvery long monologue about,. \"Well, you know, we\\'re\\nhere to protect your money.. I wanna keep you safe, and\\nI\\'m always looking over it,. and blah, I\\'m making decisions.. (bleep) Chet is ripping your parents off.. Chet is charging: I can almost guarantee,. a 1% assets under management fee.. Now, you go, \"1%, what\\'s the big deal?. That\\'s not bad to have\\nsomebody look over it.\". Over the course of your lifetime,. if you pay a 1% fee, 28% of your returns. will go right into your advisor\\'s pocket.. If you pay a 2% fee, which some\\nof these ripoff artists do,. you will pay over 50% of your returns. straight into their pocket.. If you have a modest income,\\nyou\\'re starting in your 20s:. it could be hundreds of\\nthousands of dollars.. Most finances we\\'ve heard\\ntoday, it\\'s really simple.. Target date fund, automate your money,. focus on living your life.. But if you really need a financial advisor. because things have gotten complicated. or you have stepchildren or\\nall kinds of crazy stuff,. fine, pay an hourly fee or a project fee,. but never a percentage of\\nassets under management.. - Since personal finance and investing. is really different for everyone,. it requires you to do\\na bit of extra research. to make sure that you\\'re making. the best decision for\\nyourself and your family.. So to help you identify. what you should and\\nshouldn\\'t be doing right now,. I\\'ve linked to some\\nreally helpful resources. in the description below this video.. There are some flow charts. from the personal finance Subreddit. that I\\'ve found to be very helpful,. and I also highly recommend. you check out Ramit Sethi\\'s book,. \"I Will Teach You to Be Rich\".. It helped me out a ton\\nwhen I first got started,. and I think it\\'ll help you as well.. As you start to dig into\\nyour own personal finances,. it\\'s often easy to lose\\nsight of the big picture:. the reason why it\\'s so important. to start investing, to begin with.. Say somebody just starts getting\\ninto personal finance now,. what advice would you give them?. - I think money is an\\namazing source of joy,. and I think when we\\ntypically think about money,. it feels like flossing to us.. \"Ah, I really should like\\ndo something with my 401k.\". So I always start by asking people,. \"What\\'s your rich life?\\nWhat do you wanna do?. You wanna take a trip to Italy?. You wanna take a quarterly camping trip?. Awesome. Let\\'s build\\nthat into your rich life.. Let\\'s start there.\". And once you do that,\\nsuddenly you realize,. \"Oh, my gosh. In order to do\\nthese things that I wanna do,. whether it\\'s solo or with a partner,. or bring my family and friends with me,. maybe I need to have more money.\". Now you have lots of ways to do it.. You can negotiate your salary.\\nWe\\'ve talked about that.. You can start a business. But\\ncertainly, you can invest.. Every year you wait to invest\\nis costing you thousands,. sometimes tens of thousands of dollars.. - Ramit, thank you so much for doing this.. If people wanna learn\\nmore about your work,. where should we send them?. - Come to my YouTube channel.. Come to my podcast,\\nwhere I interview couples. where they share real numbers.. Sometimes they cry. Sometimes they laugh.. It\\'s really insightful when\\nit comes to money psychology.. And you can come to my website, iwt.com,. and all my other social channels.. [Matt] Check the description\\nout for all the things. that we mentioned in this video.. Thanks so much for watching.. Don\\'t forget to hit subscribe.. And turn on notifications\\nfor future videos from me.. Thanks for watching.'"
      ]
     },
     "execution_count": 108,
     "metadata": {},
     "output_type": "execute_result"
    }
   ],
   "source": [
    "df['cleaned_transcript'][1]"
   ]
  },
  {
   "cell_type": "code",
   "execution_count": 109,
   "metadata": {},
   "outputs": [
    {
     "data": {
      "text/plain": [
       "'I asked a personal finance expert how to invest.. Investing, when most people think of it,. investing doesnt need to be complicated,. and get into the specifics covering how to start investing,. to even start thinking about investing,. .  Before you open up your first investment account,. to start investing in the stock market. you need to start investing as soon as you possibly can. .  Lets say you invest $5,000 a year from age 25 to 65. I knew that I wanted to start investing,. from the minute that you decide to start investing. that you should start investing in,. Well, you actually need to invest your money,. think about investing in the stock market,. \"Ramit, why would I invest in the stock market?. \".  If youre getting 60% returns per year,. . So, instead of investing your money into one company,. you need to diversify by investing. .  While there is always a risk when it comes to investing,. .  You simply pick the year that youre gonna retire. .  Basically, the year youre gonna be 65. . I wanna share the exact index fund that I invest in. once you start investing your money into the stock market. help me to invest back into my videos. the exact target retirement fund that I invest into. . I remember the day that I first invested money. .  If you invested $5,000 per year over the same time period,. . Since personal finance and investing. to start investing, to begin with. .  Every year you wait to invest is costing you thousands,. creativity wellness advice avella davella design development health lifestyle matt.'"
      ]
     },
     "execution_count": 109,
     "metadata": {},
     "output_type": "execute_result"
    }
   ],
   "source": [
    "df['snippet'][1]"
   ]
  },
  {
   "cell_type": "code",
   "execution_count": null,
   "metadata": {},
   "outputs": [],
   "source": [
    "prompt = createPrompt(videos)\n",
    "print(prompt)"
   ]
  },
  {
   "cell_type": "code",
   "execution_count": null,
   "metadata": {},
   "outputs": [],
   "source": [
    "prediction = classify(prompt)"
   ]
  },
  {
   "cell_type": "code",
   "execution_count": null,
   "metadata": {},
   "outputs": [],
   "source": [
    "print(prediction.text)"
   ]
  },
  {
   "cell_type": "code",
   "execution_count": null,
   "metadata": {},
   "outputs": [],
   "source": [
    "prompts = []\n",
    "videos = []\n",
    "\n",
    "for i in range(len(df)):\n",
    "    title = df['title'][i]\n",
    "    tags = df['tags'][i]\n",
    "    transcript = df['cleaned_transcript'][i]\n",
    "    \n",
    "    if len(videos) >= 5:\n",
    "        videos = []\n",
    "        prompt = createPrompt(videos)\n",
    "        prompts.append(prompt)\n",
    "        \n",
    "    videos.append(createVideoSnippet(title, topTags(tags), condenseTranscript(transcript, summary = True)))\n",
    "    \n",
    "prompt = createPrompt(videos)\n",
    "prompts.append(prompt)"
   ]
  },
  {
   "cell_type": "code",
   "execution_count": null,
   "metadata": {},
   "outputs": [],
   "source": [
    "print(prompts[0])"
   ]
  },
  {
   "cell_type": "code",
   "execution_count": null,
   "metadata": {},
   "outputs": [],
   "source": [
    "predictions = []\n",
    "\n",
    "for prompt in prompts:\n",
    "    predictions.append(classify(prompt))"
   ]
  },
  {
   "cell_type": "code",
   "execution_count": null,
   "metadata": {},
   "outputs": [],
   "source": [
    "print(predictions[0].text)"
   ]
  },
  {
   "cell_type": "code",
   "execution_count": null,
   "metadata": {},
   "outputs": [],
   "source": []
  }
 ],
 "metadata": {
  "interpreter": {
   "hash": "e5e9da20ac624690ae763919769c043ee092f8509a0b80cd8ab242b626dc7799"
  },
  "kernelspec": {
   "display_name": "crypto",
   "language": "python",
   "name": "crypto"
  }
 },
 "nbformat": 4,
 "nbformat_minor": 4
}
