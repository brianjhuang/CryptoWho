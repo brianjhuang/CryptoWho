{
 "cells": [
  {
   "cell_type": "code",
   "execution_count": 1,
   "metadata": {},
   "outputs": [],
   "source": [
    "import pandas as pd\n",
    "import numpy as np\n",
    "\n",
    "import openai\n",
    "from gensim.summarization import summarize\n",
    "\n",
    "import nltk\n",
    "from nltk.corpus import stopwords\n",
    "from nltk.tokenize import word_tokenize\n",
    "from sklearn.feature_extraction.text import TfidfVectorizer\n",
    "import os\n",
    "\n",
    "import sys\n",
    "\n",
    "sys.path.insert(0, '..')\n",
    "\n",
    "from src.features.youtubeCleaner import Cleaner"
   ]
  },
  {
   "cell_type": "code",
   "execution_count": 2,
   "metadata": {},
   "outputs": [],
   "source": [
    "df = pd.read_csv('../data/interim/youtube/seed_videos_1.csv')"
   ]
  },
  {
   "cell_type": "code",
   "execution_count": 3,
   "metadata": {},
   "outputs": [],
   "source": [
    "cleaner = Cleaner(df, '../data/seed/youtube/notebook_seed_test.csv')"
   ]
  },
  {
   "cell_type": "code",
   "execution_count": 4,
   "metadata": {},
   "outputs": [],
   "source": [
    "df_with_snippet = cleaner.generateVideoSnippets()"
   ]
  },
  {
   "cell_type": "code",
   "execution_count": 15,
   "metadata": {},
   "outputs": [
    {
     "name": "stdout",
     "output_type": "stream",
     "text": [
      "Investing Basics: Bonds. A bond is simply a loan given to a company or government.\n",
      "By issuing a bond, a company or government.\n",
      "borrows money from investors, who in return are paid interest.\n",
      "Some investors use bonds in hopes.\n",
      "Bonds are often viewed as a less risky alternative to stocks, and are sometimes used to diversify a portfolio.\n",
      "The city of Fairview wants to build a new baseball stadium, so it decides to issue bonds to raise money.\n",
      "To make this loan more attractive to investors, Fairview agrees to pay an annual interest.\n",
      "Each year the city of Fairview pays the investor $50.\n",
      "Once the bond reaches maturity, the investor redeems his bond, and Fairview returns his $1,000 principal investment.\n",
      "This bond was a good deal for both the city and our investor.\n",
      "and the return of invested principal, bonds are often viewed as a more predictable and stable form.\n",
      "Of course, like any investment, bonds are not without risk.\n",
      "One risk that bond investors face.\n",
      "Typically, bonds with higher default risk.\n",
      "considered stable issuers and issue bonds.\n",
      "Thats why corporate bonds often offer a higher coupon rate.\n",
      "This can help bond investors to gauge the financial strength.\n",
      "These ratings agencies often use different criteria.\n",
      "This is the risk that interest rates will go up.\n",
      "After all, when interest rates rise, more investors allocate their money.\n",
      "into the new, higher interest rate bonds.\n",
      "Many investors use a mix of stocks and bonds.\n",
      "might use bonds and only a few of the risks to consider. yield interest returns risk are bonds corporate debt default education.\n"
     ]
    }
   ],
   "source": [
    "print(df_with_snippet['snippet'][8])"
   ]
  },
  {
   "cell_type": "code",
   "execution_count": null,
   "metadata": {},
   "outputs": [],
   "source": [
    "def applyTfidf(corpus, n):\n",
    "    \"\"\"Apply TF-IDF\"\"\"\n",
    "    # Should I just make one of these?\n",
    "    # Convert the text into a sparse matrix using TF-IDF\n",
    "    vectorizer = TfidfVectorizer()\n",
    "    tfidf = vectorizer.fit_transform([corpus])\n",
    "    \n",
    "    # Get the feature names and scores\n",
    "    feature_names = vectorizer.get_feature_names_out()\n",
    "    scores = dict(zip(feature_names, tfidf.data))\n",
    "    \n",
    "    # Sort the scores in descending order\n",
    "    sorted_scores = sorted(scores.items(), key=lambda x: x[1], reverse=True)\n",
    "\n",
    "    # Select only the top N features\n",
    "    selected_features = [x[0] for x in sorted_scores[:n]]\n",
    "    \n",
    "    return selected_features"
   ]
  },
  {
   "cell_type": "code",
   "execution_count": null,
   "metadata": {},
   "outputs": [],
   "source": [
    "def topTags(tags, n = 10):\n",
    "    \"\"\"Apply TF-IDF to the tags to get the ten most relevant tags\"\"\"\n",
    "    corpus = \" \".join([tag.strip().strip(\"\\'\") for tag in tags[1:-1].strip('[').strip(']').split(',')])\n",
    "    \n",
    "    if len(corpus) == 0:\n",
    "        return \"\"\n",
    "    \n",
    "    selected_features = applyTfidf(corpus, n)\n",
    "    \n",
    "    return \" \".join(selected_features)"
   ]
  },
  {
   "cell_type": "code",
   "execution_count": null,
   "metadata": {},
   "outputs": [],
   "source": [
    "def condenseTranscript(transcript, summary = False, tfidf = False, word_count = 250, n = 50):\n",
    "    \"\"\"Cleans and condenses transcript\"\"\"\n",
    "    corpus = transcript.replace(\"\\n\", \" \").replace(\" - \", \"\").replace('- ', \"\").replace(\"\\'\", \"\").replace(\".\", \". \")\n",
    "    if summary:\n",
    "        if len(corpus) < word_count:\n",
    "            return corpus\n",
    "        elif len(corpus.split(\".\")) <= 1:\n",
    "            return corpus\n",
    "        return summarize(corpus, word_count = word_count)\n",
    "    elif tfidf:\n",
    "        if len(corpus) < word_count:\n",
    "            return corpus\n",
    "        elif len(corpus.split(\".\")) <= 1:\n",
    "            return corpus\n",
    "        return \" \".join(applyTfidf(corpus, n)) + \".\"\n",
    "    else:\n",
    "        return corpus"
   ]
  },
  {
   "cell_type": "code",
   "execution_count": null,
   "metadata": {},
   "outputs": [],
   "source": [
    "def createVideoSnippet(title, transcript, tags):\n",
    "    \"\"\"Creates the video snippet\"\"\"\n",
    "    return title + '. ' + transcript.replace(\"\\n\", \" \") + ' ' + tags + \".\""
   ]
  },
  {
   "cell_type": "code",
   "execution_count": null,
   "metadata": {},
   "outputs": [],
   "source": [
    "def createPrompt(videos):\n",
    "    \"\"\"Create prompt given video snippet list\"\"\"\n",
    "#     prompt=\"These labels determine if a video is discussing or recommending the following investments:\\nAlternative: Cryptocurrency, Blockchain, NFTs\\nTraditional: Stocks, Bonds, Real Estate, Commodities\\nMixed: Discusses at least one of each topic from alternative and traditional labels defined above.\\nNone: Not related to investing or finance\\n\\nClassify these YouTube video snippets, with each snippet containing the title, transcript, and video tags.\\n\\nFor each video return probabilities for all of the labels and explain the most probable label.\\n\\nExample Output:\\nAlternative: 0.15 Traditional 0.15 Mixed .1 None .6 None because lorem ipsum.\"\n",
    "#     prompt=\"These labels determine if a video is discussing or recommending the following investments:\\nAlternative: Cryptocurrency, Blockchain, NFTs\\nTraditional: Stocks, Bonds, Real Estate, Commodities\\nMixed: Must at least one of each topic from alternative and traditional labels defined above.\\nNone: Doesn't discuss the topics above or related topics.\\n\\nFor each video return probabilities for all of the labels and explain the most probable label.\\nExample Output:\\nAlternative: 0.15 Traditional 0.15 Mixed .1 None .6 None because lorem ipsum.\\n\\nClassify each YouTube video snippet below, with each snippet containing the title, transcript, and video tags.\"\n",
    "    prompt=\"These labels determine if a video is discussing or recommending the following investments:\\n1. Alternative: Cryptocurrency, Blockchain, NFTs\\n2. Traditional: Stocks, Bonds, Real Estate, Commodities\\n3. Mixed: Discusses at least one of each topic from alternative and traditional labels\\n4. None: Not related to investing or finance\\n\\nClassify these YouTube video snippets, with each snippet containing the title, transcript, tags.\"\n",
    "    for i in range(len(videos)):\n",
    "        prompt += '\\n\\n{} '.format(i+1) + videos[i]\n",
    "    prompt += \"\\n\\nFor each video return probabilities for all of the labels and explain the most probable label.\\nExample Output:\\nAlternative: 0.15 Traditional: 0.15 Mixed: .1 None: .6 None because lorem ipsum\"\n",
    "    \n",
    "    return prompt"
   ]
  },
  {
   "cell_type": "code",
   "execution_count": null,
   "metadata": {},
   "outputs": [],
   "source": [
    "# Initialize the API client\n",
    "openai.api_key = os.environ.get(\"OPENAI_API_KEY\")"
   ]
  },
  {
   "cell_type": "code",
   "execution_count": null,
   "metadata": {},
   "outputs": [],
   "source": [
    "# Function to make classification requests\n",
    "def classify(prompt, model_engine = \"text-davinci-002\", max_tokens = 1024, n = 1, temperature = 0.5):\n",
    "    completions = openai.Completion.create(\n",
    "        engine=model_engine,\n",
    "        prompt=prompt,\n",
    "        max_tokens=max_tokens,\n",
    "        n=n,\n",
    "        stop=None,\n",
    "        temperature=temperature,\n",
    "    )\n",
    "    return completions.choices[0]"
   ]
  },
  {
   "cell_type": "code",
   "execution_count": null,
   "metadata": {},
   "outputs": [],
   "source": [
    "df['snippet'] = df.apply(lambda x: createVideoSnippet(x.title, condenseTranscript(x.cleaned_transcript, summary = True), topTags(x.tags)), axis = 1)"
   ]
  },
  {
   "cell_type": "code",
   "execution_count": null,
   "metadata": {},
   "outputs": [],
   "source": [
    "df['cleaned_transcript'][1]"
   ]
  },
  {
   "cell_type": "code",
   "execution_count": null,
   "metadata": {},
   "outputs": [],
   "source": [
    "df['snippet'][1]"
   ]
  },
  {
   "cell_type": "code",
   "execution_count": null,
   "metadata": {},
   "outputs": [],
   "source": [
    "prompt = createPrompt(videos)\n",
    "print(prompt)"
   ]
  },
  {
   "cell_type": "code",
   "execution_count": null,
   "metadata": {},
   "outputs": [],
   "source": [
    "prediction = classify(prompt)"
   ]
  },
  {
   "cell_type": "code",
   "execution_count": null,
   "metadata": {},
   "outputs": [],
   "source": [
    "print(prediction.text)"
   ]
  },
  {
   "cell_type": "code",
   "execution_count": null,
   "metadata": {},
   "outputs": [],
   "source": [
    "prompts = []\n",
    "videos = []\n",
    "\n",
    "for i in range(len(df)):\n",
    "    title = df['title'][i]\n",
    "    tags = df['tags'][i]\n",
    "    transcript = df['cleaned_transcript'][i]\n",
    "    \n",
    "    if len(videos) >= 5:\n",
    "        videos = []\n",
    "        prompt = createPrompt(videos)\n",
    "        prompts.append(prompt)\n",
    "        \n",
    "    videos.append(createVideoSnippet(title, topTags(tags), condenseTranscript(transcript, summary = True)))\n",
    "    \n",
    "prompt = createPrompt(videos)\n",
    "prompts.append(prompt)"
   ]
  },
  {
   "cell_type": "code",
   "execution_count": null,
   "metadata": {},
   "outputs": [],
   "source": [
    "print(prompts[0])"
   ]
  },
  {
   "cell_type": "code",
   "execution_count": null,
   "metadata": {},
   "outputs": [],
   "source": [
    "predictions = []\n",
    "\n",
    "for prompt in prompts:\n",
    "    predictions.append(classify(prompt))"
   ]
  },
  {
   "cell_type": "code",
   "execution_count": null,
   "metadata": {},
   "outputs": [],
   "source": [
    "print(predictions[0].text)"
   ]
  },
  {
   "cell_type": "code",
   "execution_count": null,
   "metadata": {},
   "outputs": [],
   "source": []
  }
 ],
 "metadata": {
  "interpreter": {
   "hash": "e5e9da20ac624690ae763919769c043ee092f8509a0b80cd8ab242b626dc7799"
  },
  "kernelspec": {
   "display_name": "crypto",
   "language": "python",
   "name": "crypto"
  },
  "language_info": {
   "codemirror_mode": {
    "name": "ipython",
    "version": 3
   },
   "file_extension": ".py",
   "mimetype": "text/x-python",
   "name": "python",
   "nbconvert_exporter": "python",
   "pygments_lexer": "ipython3",
   "version": "3.8.5"
  }
 },
 "nbformat": 4,
 "nbformat_minor": 4
}
