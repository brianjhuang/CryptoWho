{
 "cells": [
  {
   "cell_type": "code",
   "execution_count": 43,
   "metadata": {
    "tags": []
   },
   "outputs": [],
   "source": [
    "import pandas as pd\n",
    "import numpy as np\n",
    "\n",
    "import openai\n",
    "from gensim.summarization import summarize\n",
    "import nltk\n",
    "from nltk.corpus import stopwords\n",
    "from nltk.tokenize import word_tokenize\n",
    "from sklearn.feature_extraction.text import TfidfVectorizer\n",
    "import os\n",
    "\n",
    "import sys\n",
    "\n",
    "sys.path.insert(0, '..')\n",
    "\n",
    "from src.features.youtubeCleaner import Cleaner"
   ]
  },
  {
   "cell_type": "code",
   "execution_count": 44,
   "metadata": {
    "tags": []
   },
   "outputs": [],
   "source": [
    "df = pd.read_csv('../data/interim/youtube/seed_videos_3.csv')"
   ]
  },
  {
   "cell_type": "code",
   "execution_count": 45,
   "metadata": {
    "tags": []
   },
   "outputs": [],
   "source": [
    "cleaner = Cleaner(df, save_path='../data/seed/youtube/notebook_seed_test.csv', use_ratio = True, ratio = 0.10)\n",
    "df = cleaner.remove_nulls()"
   ]
  },
  {
   "cell_type": "code",
   "execution_count": 46,
   "metadata": {
    "tags": []
   },
   "outputs": [
    {
     "data": {
      "text/html": [
       "<div>\n",
       "<style scoped>\n",
       "    .dataframe tbody tr th:only-of-type {\n",
       "        vertical-align: middle;\n",
       "    }\n",
       "\n",
       "    .dataframe tbody tr th {\n",
       "        vertical-align: top;\n",
       "    }\n",
       "\n",
       "    .dataframe thead th {\n",
       "        text-align: right;\n",
       "    }\n",
       "</style>\n",
       "<table border=\"1\" class=\"dataframe\">\n",
       "  <thead>\n",
       "    <tr style=\"text-align: right;\">\n",
       "      <th></th>\n",
       "      <th>id</th>\n",
       "      <th>title</th>\n",
       "      <th>description</th>\n",
       "      <th>tags</th>\n",
       "      <th>cleaned_transcript</th>\n",
       "      <th>raw_transcript</th>\n",
       "      <th>comments</th>\n",
       "      <th>comment_ids</th>\n",
       "      <th>label</th>\n",
       "      <th>link</th>\n",
       "    </tr>\n",
       "  </thead>\n",
       "  <tbody>\n",
       "    <tr>\n",
       "      <th>0</th>\n",
       "      <td>gFQNPmLKj1k</td>\n",
       "      <td>How to Invest for Beginners</td>\n",
       "      <td>Hey friends, in this video I'll give you a com...</td>\n",
       "      <td>['Ali Abdaal', 'Ali abdal', 'how to get starte...</td>\n",
       "      <td>Right, so let's say\\nyou want to get started w...</td>\n",
       "      <td>[{'text': \"Right, so let's say\\nyou want to ge...</td>\n",
       "      <td>['@Ali Abdall , man i wantend to start from th...</td>\n",
       "      <td>['UgykIF0qeJ7ORZ-q8Dd4AaABAg', 'Ugz68Vae2si-Tu...</td>\n",
       "      <td>traditional</td>\n",
       "      <td>www.youtube.com/watch?v=gFQNPmLKj1k</td>\n",
       "    </tr>\n",
       "    <tr>\n",
       "      <th>1</th>\n",
       "      <td>GZ42PIi9bis</td>\n",
       "      <td>I asked a personal finance expert how to invest.</td>\n",
       "      <td>Go to https://squarespace.com/mattdavella to s...</td>\n",
       "      <td>[\"Matt D'Avella\", 'matt davella', 'self-develo...</td>\n",
       "      <td>- Investing, when most people think of it, the...</td>\n",
       "      <td>[{'text': '- Investing, when most people think...</td>\n",
       "      <td>['Huge thanks to Ramit Sethi for joining me! S...</td>\n",
       "      <td>['Ugx7vuOGQxrEMVYfVyN4AaABAg', 'Ugx7vuOGQxrEMV...</td>\n",
       "      <td>traditional</td>\n",
       "      <td>www.youtube.com/watch?v=GZ42PIi9bis</td>\n",
       "    </tr>\n",
       "    <tr>\n",
       "      <th>2</th>\n",
       "      <td>Z3I8TPYn4Z0</td>\n",
       "      <td>Traditional and Roth IRAs | Simple Steps for a...</td>\n",
       "      <td>Individual Retirement  Accounts (IRAs) can hel...</td>\n",
       "      <td>['tdameritrade', 'TD Ameritrade', 'What is an ...</td>\n",
       "      <td>If you're saving for retirement, IRAs, also\\nk...</td>\n",
       "      <td>[{'text': \"If you're saving for retirement, IR...</td>\n",
       "      <td>['hmmmmm do I think taxes will be HIGHER or LO...</td>\n",
       "      <td>['UgxhIPwye-LL2ICHp594AaABAg', 'Ugw_poXl_sbpan...</td>\n",
       "      <td>traditional</td>\n",
       "      <td>www.youtube.com/watch?v=Z3I8TPYn4Z0</td>\n",
       "    </tr>\n",
       "    <tr>\n",
       "      <th>3</th>\n",
       "      <td>ss5yImerkhg</td>\n",
       "      <td>What is a 401(k)?</td>\n",
       "      <td>A 401(k) is an employer-sponsored retirement a...</td>\n",
       "      <td>['401k', '401(k) contributions', '401k limit',...</td>\n",
       "      <td>One of the most common ways people save for\\nr...</td>\n",
       "      <td>[{'text': 'One of the most common ways people ...</td>\n",
       "      <td>['so if the market crashes what happens to you...</td>\n",
       "      <td>['UgxvZb1p0tmadP_Lrn94AaABAg', 'UgxvZb1p0tmadP...</td>\n",
       "      <td>traditional</td>\n",
       "      <td>www.youtube.com/watch?v=ss5yImerkhg</td>\n",
       "    </tr>\n",
       "    <tr>\n",
       "      <th>4</th>\n",
       "      <td>DPnXJpDOAHI</td>\n",
       "      <td>How IRAs Work And Why They Are More Popular Th...</td>\n",
       "      <td>Choosing the right retirement account that bes...</td>\n",
       "      <td>['CNBC', 'business', 'news', 'finance stock', ...</td>\n",
       "      <td>are you one of the 60 million americans.  acti...</td>\n",
       "      <td>[{'text': 'are you one of the 60 million ameri...</td>\n",
       "      <td>['I honestly hope they don’t pass laws that au...</td>\n",
       "      <td>['UgyjWWVJM9zySO3L3oJ4AaABAg', 'Ugx-U2VntiMGdX...</td>\n",
       "      <td>traditional</td>\n",
       "      <td>www.youtube.com/watch?v=DPnXJpDOAHI</td>\n",
       "    </tr>\n",
       "  </tbody>\n",
       "</table>\n",
       "</div>"
      ],
      "text/plain": [
       "            id                                              title  \\\n",
       "0  gFQNPmLKj1k                        How to Invest for Beginners   \n",
       "1  GZ42PIi9bis   I asked a personal finance expert how to invest.   \n",
       "2  Z3I8TPYn4Z0  Traditional and Roth IRAs | Simple Steps for a...   \n",
       "3  ss5yImerkhg                                  What is a 401(k)?   \n",
       "4  DPnXJpDOAHI  How IRAs Work And Why They Are More Popular Th...   \n",
       "\n",
       "                                         description  \\\n",
       "0  Hey friends, in this video I'll give you a com...   \n",
       "1  Go to https://squarespace.com/mattdavella to s...   \n",
       "2  Individual Retirement  Accounts (IRAs) can hel...   \n",
       "3  A 401(k) is an employer-sponsored retirement a...   \n",
       "4  Choosing the right retirement account that bes...   \n",
       "\n",
       "                                                tags  \\\n",
       "0  ['Ali Abdaal', 'Ali abdal', 'how to get starte...   \n",
       "1  [\"Matt D'Avella\", 'matt davella', 'self-develo...   \n",
       "2  ['tdameritrade', 'TD Ameritrade', 'What is an ...   \n",
       "3  ['401k', '401(k) contributions', '401k limit',...   \n",
       "4  ['CNBC', 'business', 'news', 'finance stock', ...   \n",
       "\n",
       "                                  cleaned_transcript  \\\n",
       "0  Right, so let's say\\nyou want to get started w...   \n",
       "1  - Investing, when most people think of it, the...   \n",
       "2  If you're saving for retirement, IRAs, also\\nk...   \n",
       "3  One of the most common ways people save for\\nr...   \n",
       "4  are you one of the 60 million americans.  acti...   \n",
       "\n",
       "                                      raw_transcript  \\\n",
       "0  [{'text': \"Right, so let's say\\nyou want to ge...   \n",
       "1  [{'text': '- Investing, when most people think...   \n",
       "2  [{'text': \"If you're saving for retirement, IR...   \n",
       "3  [{'text': 'One of the most common ways people ...   \n",
       "4  [{'text': 'are you one of the 60 million ameri...   \n",
       "\n",
       "                                            comments  \\\n",
       "0  ['@Ali Abdall , man i wantend to start from th...   \n",
       "1  ['Huge thanks to Ramit Sethi for joining me! S...   \n",
       "2  ['hmmmmm do I think taxes will be HIGHER or LO...   \n",
       "3  ['so if the market crashes what happens to you...   \n",
       "4  ['I honestly hope they don’t pass laws that au...   \n",
       "\n",
       "                                         comment_ids        label  \\\n",
       "0  ['UgykIF0qeJ7ORZ-q8Dd4AaABAg', 'Ugz68Vae2si-Tu...  traditional   \n",
       "1  ['Ugx7vuOGQxrEMVYfVyN4AaABAg', 'Ugx7vuOGQxrEMV...  traditional   \n",
       "2  ['UgxhIPwye-LL2ICHp594AaABAg', 'Ugw_poXl_sbpan...  traditional   \n",
       "3  ['UgxvZb1p0tmadP_Lrn94AaABAg', 'UgxvZb1p0tmadP...  traditional   \n",
       "4  ['UgyjWWVJM9zySO3L3oJ4AaABAg', 'Ugx-U2VntiMGdX...  traditional   \n",
       "\n",
       "                                  link  \n",
       "0  www.youtube.com/watch?v=gFQNPmLKj1k  \n",
       "1  www.youtube.com/watch?v=GZ42PIi9bis  \n",
       "2  www.youtube.com/watch?v=Z3I8TPYn4Z0  \n",
       "3  www.youtube.com/watch?v=ss5yImerkhg  \n",
       "4  www.youtube.com/watch?v=DPnXJpDOAHI  "
      ]
     },
     "execution_count": 46,
     "metadata": {},
     "output_type": "execute_result"
    }
   ],
   "source": [
    "df.head()"
   ]
  },
  {
   "cell_type": "code",
   "execution_count": 47,
   "metadata": {
    "tags": []
   },
   "outputs": [],
   "source": [
    "df_with_snippet = cleaner.generateVideoSnippets()"
   ]
  },
  {
   "cell_type": "code",
   "execution_count": null,
   "metadata": {},
   "outputs": [],
   "source": [
    "def applyTfidf(corpus, n):\n",
    "    \"\"\"Apply TF-IDF\"\"\"\n",
    "    # Should I just make one of these?\n",
    "    # Convert the text into a sparse matrix using TF-IDF\n",
    "    vectorizer = TfidfVectorizer()\n",
    "    tfidf = vectorizer.fit_transform([corpus])\n",
    "    \n",
    "    # Get the feature names and scores\n",
    "    feature_names = vectorizer.get_feature_names_out()\n",
    "    scores = dict(zip(feature_names, tfidf.data))\n",
    "    \n",
    "    # Sort the scores in descending order\n",
    "    sorted_scores = sorted(scores.items(), key=lambda x: x[1], reverse=True)\n",
    "\n",
    "    # Select only the top N features\n",
    "    selected_features = [x[0] for x in sorted_scores[:n]]\n",
    "    \n",
    "    return selected_features"
   ]
  },
  {
   "cell_type": "code",
   "execution_count": null,
   "metadata": {},
   "outputs": [],
   "source": [
    "def topTags(tags, n = 10):\n",
    "    \"\"\"Apply TF-IDF to the tags to get the ten most relevant tags\"\"\"\n",
    "    corpus = \" \".join([tag.strip().strip(\"\\'\") for tag in tags[1:-1].strip('[').strip(']').split(',')])\n",
    "    \n",
    "    if len(corpus) == 0:\n",
    "        return \"\"\n",
    "    \n",
    "    selected_features = applyTfidf(corpus, n)\n",
    "    \n",
    "    return \" \".join(selected_features)"
   ]
  },
  {
   "cell_type": "code",
   "execution_count": null,
   "metadata": {},
   "outputs": [],
   "source": [
    "def condenseTranscript(transcript, summary = False, tfidf = False, word_count = 250, n = 50):\n",
    "    \"\"\"Cleans and condenses transcript\"\"\"\n",
    "    corpus = transcript.replace(\"\\n\", \" \").replace(\" - \", \"\").replace('- ', \"\").replace(\"\\'\", \"\").replace(\".\", \". \")\n",
    "    if summary:\n",
    "        if len(corpus) < word_count:\n",
    "            return corpus\n",
    "        elif len(corpus.split(\".\")) <= 1:\n",
    "            return corpus\n",
    "        return summarize(corpus, word_count = word_count)\n",
    "    elif tfidf:\n",
    "        if len(corpus) < word_count:\n",
    "            return corpus\n",
    "        elif len(corpus.split(\".\")) <= 1:\n",
    "            return corpus\n",
    "        return \" \".join(applyTfidf(corpus, n)) + \".\"\n",
    "    else:\n",
    "        return corpus"
   ]
  },
  {
   "cell_type": "code",
   "execution_count": null,
   "metadata": {},
   "outputs": [],
   "source": [
    "def createVideoSnippet(title, transcript, tags):\n",
    "    \"\"\"Creates the video snippet\"\"\"\n",
    "    return title + '. ' + transcript.replace(\"\\n\", \" \") + ' ' + tags + \".\""
   ]
  },
  {
   "cell_type": "code",
   "execution_count": null,
   "metadata": {},
   "outputs": [],
   "source": [
    "def createPrompt(videos):\n",
    "    \"\"\"Create prompt given video snippet list\"\"\"\n",
    "#     prompt=\"These labels determine if a video is discussing or recommending the following investments:\\nAlternative: Cryptocurrency, Blockchain, NFTs\\nTraditional: Stocks, Bonds, Real Estate, Commodities\\nMixed: Discusses at least one of each topic from alternative and traditional labels defined above.\\nNone: Not related to investing or finance\\n\\nClassify these YouTube video snippets, with each snippet containing the title, transcript, and video tags.\\n\\nFor each video return probabilities for all of the labels and explain the most probable label.\\n\\nExample Output:\\nAlternative: 0.15 Traditional 0.15 Mixed .1 None .6 None because lorem ipsum.\"\n",
    "#     prompt=\"These labels determine if a video is discussing or recommending the following investments:\\nAlternative: Cryptocurrency, Blockchain, NFTs\\nTraditional: Stocks, Bonds, Real Estate, Commodities\\nMixed: Must at least one of each topic from alternative and traditional labels defined above.\\nNone: Doesn't discuss the topics above or related topics.\\n\\nFor each video return probabilities for all of the labels and explain the most probable label.\\nExample Output:\\nAlternative: 0.15 Traditional 0.15 Mixed .1 None .6 None because lorem ipsum.\\n\\nClassify each YouTube video snippet below, with each snippet containing the title, transcript, and video tags.\"\n",
    "    prompt=\"These labels determine if a video is discussing or recommending the following investments:\\n1. Alternative: Cryptocurrency, Blockchain, NFTs\\n2. Traditional: Stocks, Bonds, Real Estate, Commodities\\n3. Mixed: Discusses at least one of each topic from alternative and traditional labels\\n4. None: Not related to investing or finance\\n\\nClassify these YouTube video snippets, with each snippet containing the title, transcript, tags.\"\n",
    "    for i in range(len(videos)):\n",
    "        prompt += '\\n\\n{} '.format(i+1) + videos[i]\n",
    "    prompt += \"\\n\\nFor each video return probabilities for all of the labels and explain the most probable label.\\nExample Output:\\nAlternative: 0.15 Traditional: 0.15 Mixed: .1 None: .6 None because lorem ipsum\"\n",
    "    \n",
    "    return prompt"
   ]
  },
  {
   "cell_type": "code",
   "execution_count": null,
   "metadata": {},
   "outputs": [],
   "source": [
    "# Initialize the API client\n",
    "openai.api_key = os.environ.get(\"OPENAI_API_KEY\")"
   ]
  },
  {
   "cell_type": "code",
   "execution_count": null,
   "metadata": {},
   "outputs": [],
   "source": [
    "# Function to make classification requests\n",
    "def classify(prompt, model_engine = \"text-davinci-002\", max_tokens = 1024, n = 1, temperature = 0.5):\n",
    "    completions = openai.Completion.create(\n",
    "        engine=model_engine,\n",
    "        prompt=prompt,\n",
    "        max_tokens=max_tokens,\n",
    "        n=n,\n",
    "        stop=None,\n",
    "        temperature=temperature,\n",
    "    )\n",
    "    return completions.choices[0]"
   ]
  },
  {
   "cell_type": "code",
   "execution_count": null,
   "metadata": {},
   "outputs": [],
   "source": [
    "df['snippet'] = df.apply(lambda x: createVideoSnippet(x.title, condenseTranscript(x.cleaned_transcript, summary = True), topTags(x.tags)), axis = 1)"
   ]
  },
  {
   "cell_type": "code",
   "execution_count": null,
   "metadata": {},
   "outputs": [],
   "source": [
    "df['cleaned_transcript'][1]"
   ]
  },
  {
   "cell_type": "code",
   "execution_count": null,
   "metadata": {},
   "outputs": [],
   "source": [
    "df['snippet'][1]"
   ]
  },
  {
   "cell_type": "code",
   "execution_count": null,
   "metadata": {},
   "outputs": [],
   "source": [
    "prompt = createPrompt(videos)\n",
    "print(prompt)"
   ]
  },
  {
   "cell_type": "code",
   "execution_count": null,
   "metadata": {},
   "outputs": [],
   "source": [
    "prediction = classify(prompt)"
   ]
  },
  {
   "cell_type": "code",
   "execution_count": null,
   "metadata": {},
   "outputs": [],
   "source": [
    "print(prediction.text)"
   ]
  },
  {
   "cell_type": "code",
   "execution_count": null,
   "metadata": {},
   "outputs": [],
   "source": [
    "prompts = []\n",
    "videos = []\n",
    "\n",
    "for i in range(len(df)):\n",
    "    title = df['title'][i]\n",
    "    tags = df['tags'][i]\n",
    "    transcript = df['cleaned_transcript'][i]\n",
    "    \n",
    "    if len(videos) >= 5:\n",
    "        videos = []\n",
    "        prompt = createPrompt(videos)\n",
    "        prompts.append(prompt)\n",
    "        \n",
    "    videos.append(createVideoSnippet(title, topTags(tags), condenseTranscript(transcript, summary = True)))\n",
    "    \n",
    "prompt = createPrompt(videos)\n",
    "prompts.append(prompt)"
   ]
  },
  {
   "cell_type": "code",
   "execution_count": null,
   "metadata": {},
   "outputs": [],
   "source": [
    "print(prompts[0])"
   ]
  },
  {
   "cell_type": "code",
   "execution_count": null,
   "metadata": {},
   "outputs": [],
   "source": [
    "predictions = []\n",
    "\n",
    "for prompt in prompts:\n",
    "    predictions.append(classify(prompt))"
   ]
  },
  {
   "cell_type": "code",
   "execution_count": null,
   "metadata": {},
   "outputs": [],
   "source": [
    "print(predictions[0].text)"
   ]
  }
 ],
 "metadata": {
  "interpreter": {
   "hash": "e5e9da20ac624690ae763919769c043ee092f8509a0b80cd8ab242b626dc7799"
  },
  "kernelspec": {
   "display_name": "crypto",
   "language": "python",
   "name": "crypto"
  }
 },
 "nbformat": 4,
 "nbformat_minor": 4
}
