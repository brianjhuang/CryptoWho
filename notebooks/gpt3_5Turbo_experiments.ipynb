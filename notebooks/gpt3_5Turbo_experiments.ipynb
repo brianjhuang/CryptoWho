{
 "cells": [
  {
   "cell_type": "code",
   "execution_count": null,
   "id": "2944ba9f-cfb0-49ec-ac16-9b55fa4f257b",
   "metadata": {
    "tags": []
   },
   "outputs": [],
   "source": [
    "import pandas as pd\n",
    "import numpy as np\n",
    "import random\n",
    "\n",
    "import openai\n",
    "import os\n",
    "from tqdm import tqdm\n",
    "import time\n",
    "\n",
    "import sys\n",
    "\n",
    "sys.path.insert(0, '..')"
   ]
  },
  {
   "cell_type": "code",
   "execution_count": null,
   "id": "27874b00-88cb-4849-9b39-952898a442f0",
   "metadata": {
    "tags": []
   },
   "outputs": [],
   "source": [
    "# TURBO COST\n",
    "TURBO_COST = 0.00200 / 1000"
   ]
  },
  {
   "cell_type": "code",
   "execution_count": null,
   "id": "cf429bab-bc58-4083-b855-d2f768be907a",
   "metadata": {
    "tags": []
   },
   "outputs": [],
   "source": [
    "# Initialize the API client\n",
    "openai.api_key = os.environ.get(\"OPENAI_API_KEY\")"
   ]
  },
  {
   "cell_type": "code",
   "execution_count": null,
   "id": "050df362-34e5-4f7c-8870-035d78670449",
   "metadata": {
    "tags": []
   },
   "outputs": [],
   "source": [
    "df = pd.read_csv('../data/seed/youtube/seed_videos.csv')"
   ]
  },
  {
   "cell_type": "code",
   "execution_count": null,
   "id": "62d8f148",
   "metadata": {},
   "outputs": [],
   "source": [
    "### BASE PROMPT\n",
    "# Labels:\n",
    "\n",
    "# - Blockchain: Cryptocurrency, NFTs, or other Web3 investments\n",
    "# - Traditional: Stocks, Bonds, Real Estate, Commodities, or other traditional investments\n",
    "# - Mixed: Videos that recommend or educate about both blockchain and traditional investments\n",
    "# - None: Videos that do not recommend or educate about either blockchain or traditional investments\n",
    "\n",
    "# Instructions:\n",
    "\n",
    "# - If a video snippet mentions keywords related to blockchain or traditional investments but does not recommend or educate about the label, it will be classified as None.\n",
    "# - Please return predictions in the format\" {Label} : {50 word or shorter rationale}\"\"\"},\n",
    "#         {\"role\": \"assistant\", \"content\": \"\"\"Understood. I will classify YouTube video snippets based on the provided labels and instructions. Here's how I will format the predictions:\n",
    "\n",
    "# {Label} : {50-word or shorter rationale}\n",
    "\n",
    "# Please provide me with the YouTube video snippet you would like me to classify."
   ]
  },
  {
   "cell_type": "code",
   "execution_count": null,
   "id": "4358a585",
   "metadata": {},
   "outputs": [],
   "source": [
    "### Deal with failure to classify retirement accounts\n",
    "# Labels:\n",
    "\n",
    "# - Blockchain: Cryptocurrency, NFTs, or other Web3 investments\n",
    "# - Traditional: Stocks, Bonds, Real Estate, Commodities, Retirement Accounts\n",
    "# - Mixed: Videos that recommend or educate about both blockchain and traditional investments\n",
    "# - None: Videos that do not recommend or educate about either blockchain or traditional investments\n",
    "\n",
    "# Instructions:\n",
    "\n",
    "# - If a video snippet mentions keywords related to blockchain or traditional investments but does not recommend or educate about the label, it will be classified as None.\n",
    "# - Please return predictions in the format\" {Label} : {50 word or shorter rationale}\"\"\"},\n",
    "#         {\"role\": \"assistant\", \"content\": \"\"\"Understood. I will classify YouTube video snippets based on the provided labels and instructions. Here's how I will format the predictions:\n",
    "\n",
    "# {Label} : {50-word or shorter rationale}\n",
    "\n",
    "# Please provide me with the YouTube video snippet you would like me to classify."
   ]
  },
  {
   "cell_type": "code",
   "execution_count": null,
   "id": "01b0d15c",
   "metadata": {},
   "outputs": [],
   "source": [
    "### Better accuracy failed other things\n",
    "# Labels:\n",
    "\n",
    "# Traditional: Videos that recommend or educate about stocks, bonds, real estate, commodities, retirement accounts, or other traditional investments or keywords related to them.\n",
    "# Blockchain: Videos that recommend or educate about cryptocurrency, NFTs, or other Web3 investments or keywords related to them.\n",
    "# Mixed: Videos that recommend or educate about both blockchain and traditional investments or keywords related to both.\n",
    "# Unrelated: Videos that do not recommend or educate about either blockchain or traditional investments or keywords related to them.\n",
    "\n",
    "# Instructions:\n",
    "# If a video snippet mentions any of the keywords related to traditional or blockchain investments, it will be classified accordingly. The classifier should consider the context and meaning of the keywords used to determine whether the snippet is related to traditional or blockchain investments."
   ]
  },
  {
   "cell_type": "code",
   "execution_count": null,
   "id": "b0c9debf",
   "metadata": {},
   "outputs": [],
   "source": [
    "### High accuracy, great precision recall on traditional and blockchain, really bad at None/Unrelated\n",
    "# Labels:\n",
    "\n",
    "# Traditional: Videos that recommend or educate about stocks, bonds, real estate, commodities, retirement accounts, or other traditional investments or keywords related to them.\n",
    "# Blockchain: Videos that recommend or educate about cryptocurrency, NFTs, or other Web3 investments or keywords related to them.\n",
    "# Mixed: Videos that recommend or educate about both blockchain and traditional investments or keywords related to both.\n",
    "# Unrelated: Videos that do not recommend or educate about either blockchain or traditional investments or keywords related to them.\n",
    "\n",
    "# Instructions:\n",
    "#  - If a video snippet mentions any of the keywords related to traditional or blockchain investments, it will be classified accordingly. The classifier should consider the context and meaning of the keywords used to determine whether the snippet is related to traditional or blockchain investments.\n",
    "#  - Please return predictions in the format\" {Label} : {20 word or shorter rationale}"
   ]
  },
  {
   "cell_type": "code",
   "execution_count": null,
   "id": "a2b7555d-9ee4-4fe5-a0ee-6a07d6247e0d",
   "metadata": {
    "tags": []
   },
   "outputs": [],
   "source": [
    "def create_messages(snippet):\n",
    "    messages = [\n",
    "        {\"role\": \"system\", \"content\" : \"You are a classifier that determines if a YouTube video snippet falls under a label. A snippet is a concatenation of the video title, summarized transcript, and video tags. The labels and additional instructions will be included in the first user message.\"},\n",
    "        {\"role\": \"user\", \"content\" : \"\"\"Labels:\n",
    "\n",
    "Traditional: Videos that recommend or educate about stocks, bonds, real estate, commodities, retirement accounts, or other traditional investments or keywords related to them.\n",
    "Blockchain: Videos that recommend or educate about cryptocurrency (BTC, ETH, etc.), NFTs, or other Web3 investments or keywords related to them.\n",
    "Mixed: Videos that recommend or educate about both blockchain and traditional investments or keywords related to both.\n",
    "Unrelated: Videos that do not recommend or educate about either blockchain or traditional investments or keywords related to them.\n",
    "\n",
    "Instructions:\n",
    "- The classifier should consider the context and meaning of the keywords used to determine whether the snippet is related to traditional or blockchain investments.\n",
    "- If talks about making money from jobs, side hustles, or other alternative assets (cars, watches, artificial intelligence, trading cards, art, etc), they are Unrelated.\n",
    "- If a video is only discussing the asset(s) negatively, it should be classified as Unrelated.\n",
    "- Please return predictions in the format\" {Label} : {20 word or shorter rationale}\"\"\"},\n",
    "        {\"role\": \"assistant\", \"content\": \"\"\"Understood. I will classify YouTube video snippets based on the provided labels and instructions. Here's how I will format the predictions:\n",
    "\n",
    "{Label} : {20-word or shorter rationale}\n",
    "\n",
    "Please provide me with the YouTube video snippet you would like me to classify.\"\"\"},\n",
    "    ]\n",
    "    \n",
    "    snippet_message = {\"role\" : \"user\", \"content\" : snippet.replace(\"\\n\", \" \").replace(\"  \", \" \")}\n",
    "    \n",
    "    messages.append(snippet_message)\n",
    "    \n",
    "    return messages"
   ]
  },
  {
   "cell_type": "code",
   "execution_count": null,
   "id": "95b70014-c6b6-4f71-a12c-96f0018f96b2",
   "metadata": {
    "tags": []
   },
   "outputs": [],
   "source": [
    "def classify(messages):\n",
    "    chatCompletion = openai.ChatCompletion.create(\n",
    "      model=\"gpt-3.5-turbo\",\n",
    "      messages=messages,\n",
    "      temperature=0.25\n",
    "    )\n",
    "    return chatCompletion"
   ]
  },
  {
   "cell_type": "code",
   "execution_count": null,
   "id": "ca595ca7-f99b-40b4-93c6-639ec9d8511e",
   "metadata": {
    "tags": []
   },
   "outputs": [],
   "source": [
    "df['messages'] = df['snippet'].apply(create_messages)"
   ]
  },
  {
   "cell_type": "code",
   "execution_count": null,
   "id": "ee0d3e10-9224-4550-812e-0ac717b68ddb",
   "metadata": {
    "tags": []
   },
   "outputs": [],
   "source": [
    "completions = []\n",
    "completion_df = []\n",
    "\n",
    "\n",
    "pbar = tqdm(tough_traditional.iterrows())  \n",
    "\n",
    "for idx, entry in pbar:\n",
    "    pbar.set_description(\"Processing %s\" % entry['title'])\n",
    "    \n",
    "    body = classify(entry['messages'])\n",
    "    \n",
    "    ## Add error catching\n",
    "    completion = dict(body['choices'][0]['message'])\n",
    "    completion['prediction']  = completion['content'].split(':')[0].strip()\n",
    "    completion['reason'] = completion['content'].split(':')[1].strip()\n",
    "    \n",
    "    ## Grab meta data\n",
    "    completion.update({key: body[key] for key in ['created', 'id', 'model', 'object']})\n",
    "    \n",
    "    ## Grab token usage\n",
    "    completion.update(dict(body['usage']))\n",
    "\n",
    "    completions.append(completion)\n",
    "    \n",
    "    pd.DataFrame(completions).to_csv('seed_predictions.csv', index_label = False)\n",
    "    \n",
    "    \n",
    "    time.sleep(10)"
   ]
  },
  {
   "cell_type": "code",
   "execution_count": null,
   "id": "f35aa627-2b55-473c-8e73-fb6f2dc4fcd0",
   "metadata": {
    "tags": []
   },
   "outputs": [],
   "source": [
    "predictions = pd.read_csv('seed_predictions.csv')"
   ]
  },
  {
   "cell_type": "code",
   "execution_count": null,
   "id": "6b6193c3-97ff-49ed-836c-243918b3a2b6",
   "metadata": {
    "tags": []
   },
   "outputs": [],
   "source": [
    "for reason in predictions['reason']:\n",
    "    print(reason + '\\n')"
   ]
  },
  {
   "cell_type": "code",
   "execution_count": null,
   "id": "de6a3e3d-8ff8-4628-b7c9-d8d9af07ea44",
   "metadata": {
    "tags": []
   },
   "outputs": [],
   "source": [
    "sum(predictions['total_tokens']) * TURBO_COST"
   ]
  },
  {
   "cell_type": "code",
   "execution_count": null,
   "id": "1a676fb0-cd77-487b-8e9a-e3d676bc8db7",
   "metadata": {
    "tags": []
   },
   "outputs": [],
   "source": [
    "predictions['prediction']"
   ]
  },
  {
   "cell_type": "code",
   "execution_count": null,
   "id": "e6ac7025-bf89-4267-99b6-ce704bc8ca80",
   "metadata": {
    "tags": []
   },
   "outputs": [],
   "source": [
    "print(tough_traditional['messages'][34][3]['content'])"
   ]
  },
  {
   "cell_type": "code",
   "execution_count": null,
   "id": "723e6a1e",
   "metadata": {},
   "outputs": [],
   "source": [
    "print(df['messages'][0][1]['content'])"
   ]
  },
  {
   "cell_type": "code",
   "execution_count": null,
   "id": "c217d8c8",
   "metadata": {},
   "outputs": [],
   "source": [
    "completions = []\n",
    "completion_df = []\n",
    "\n",
    "pbar = tqdm(df.iterrows())  \n",
    "\n",
    "for idx, entry in pbar:\n",
    "    pbar.set_description(\"Processing %s\" % entry['title'])\n",
    "    \n",
    "    body = classify(entry['messages'])\n",
    "    \n",
    "    ## Add error catching\n",
    "    completion = dict(body['choices'][0]['message'])\n",
    "    completion['prediction']  = completion['content'].split(':')[0].strip()\n",
    "    completion['reason'] = completion['content'].split(':')[1].strip()\n",
    "    completion['message'] = entry['messages']\n",
    "    completion['title'] = entry['title']\n",
    "    completion['transcript'] = entry['cleaned_transcript']\n",
    "    completion['snippet'] = entry['snippet']\n",
    "    completion['link'] = entry['link']\n",
    "\n",
    "    ## Grab meta data\n",
    "    completion.update({key: body[key] for key in ['created', 'id', 'model', 'object']})\n",
    "    \n",
    "    ## Grab token usage\n",
    "    completion.update(dict(body['usage']))\n",
    "\n",
    "    completions.append(completion)\n",
    "    \n",
    "    pd.DataFrame(completions).to_csv('seed_predictions.csv', index_label = False)\n",
    "    \n",
    "    \n",
    "    time.sleep(5)"
   ]
  },
  {
   "cell_type": "code",
   "execution_count": null,
   "id": "613d392d",
   "metadata": {},
   "outputs": [],
   "source": [
    "predictions = pd.read_csv('seed_predictions.csv')"
   ]
  },
  {
   "cell_type": "code",
   "execution_count": null,
   "id": "d2c170a1",
   "metadata": {},
   "outputs": [],
   "source": [
    "preds = list(predictions['prediction'].apply(lambda x: 'None' if x == 'Unrelated' else x))\n",
    "actual = list(df['label'])\n",
    "preds = ['Blockchain' if pred == 'Label' else pred for pred in preds]\n",
    "sum(predictions['total_tokens']) * TURBO_COST"
   ]
  },
  {
   "cell_type": "code",
   "execution_count": null,
   "id": "efb56701",
   "metadata": {},
   "outputs": [],
   "source": [
    "from sklearn.metrics import accuracy_score, classification_report"
   ]
  },
  {
   "cell_type": "code",
   "execution_count": null,
   "id": "78192930",
   "metadata": {},
   "outputs": [],
   "source": [
    "accuracy_score(actual, preds)"
   ]
  },
  {
   "cell_type": "code",
   "execution_count": null,
   "id": "9fb3cd78",
   "metadata": {},
   "outputs": [],
   "source": [
    "print(classification_report(actual, preds))"
   ]
  },
  {
   "cell_type": "code",
   "execution_count": null,
   "id": "6a4ba0b0",
   "metadata": {},
   "outputs": [],
   "source": [
    "predictions"
   ]
  },
  {
   "cell_type": "code",
   "execution_count": null,
   "id": "f5275a86",
   "metadata": {},
   "outputs": [],
   "source": [
    "df['label'][70:81]"
   ]
  },
  {
   "cell_type": "code",
   "execution_count": null,
   "id": "24deb768",
   "metadata": {},
   "outputs": [],
   "source": [
    "print(df.iloc[23]['snippet'])"
   ]
  },
  {
   "cell_type": "code",
   "execution_count": null,
   "id": "291c4894",
   "metadata": {},
   "outputs": [],
   "source": [
    "predictions.iloc[23]['reason']"
   ]
  },
  {
   "cell_type": "code",
   "execution_count": null,
   "id": "74ada17a",
   "metadata": {},
   "outputs": [],
   "source": [
    "### This should not be Mixed, it should be traditional. It just has video tags that mentions crypto"
   ]
  },
  {
   "cell_type": "code",
   "execution_count": null,
   "id": "be508bc8",
   "metadata": {},
   "outputs": [],
   "source": [
    "print(df.iloc[54]['messages'][3]['content'])"
   ]
  },
  {
   "cell_type": "code",
   "execution_count": null,
   "id": "15a27336",
   "metadata": {},
   "outputs": [],
   "source": [
    "predictions.iloc[54]['reason']"
   ]
  },
  {
   "cell_type": "code",
   "execution_count": null,
   "id": "2508d89c",
   "metadata": {},
   "outputs": [],
   "source": [
    "### This should be blockchain, not mixed. Shift focus to when it's mainly talking about bitcoin"
   ]
  },
  {
   "cell_type": "code",
   "execution_count": null,
   "id": "ef8d1e34",
   "metadata": {},
   "outputs": [],
   "source": [
    "print(df.iloc[65]['messages'][3]['content'])"
   ]
  },
  {
   "cell_type": "code",
   "execution_count": null,
   "id": "1f51f0a6",
   "metadata": {},
   "outputs": [],
   "source": [
    "predictions.iloc[65]['reason']"
   ]
  },
  {
   "cell_type": "code",
   "execution_count": null,
   "id": "fa9c2a82",
   "metadata": {},
   "outputs": [],
   "source": [
    "### BTC is not an investment, maybe provide examples of bitcoin ticker symbols"
   ]
  },
  {
   "cell_type": "code",
   "execution_count": null,
   "id": "b4cfb4b8",
   "metadata": {},
   "outputs": [],
   "source": [
    "print(df.iloc[81]['messages'][3]['content'])"
   ]
  },
  {
   "cell_type": "code",
   "execution_count": null,
   "id": "11e35e1a",
   "metadata": {},
   "outputs": [],
   "source": [
    "print(predictions.iloc[81]['reason'])"
   ]
  },
  {
   "cell_type": "code",
   "execution_count": null,
   "id": "1681dcc7",
   "metadata": {},
   "outputs": [],
   "source": [
    "### Speculating on bitcoin."
   ]
  },
  {
   "cell_type": "code",
   "execution_count": null,
   "id": "fa070c57",
   "metadata": {},
   "outputs": [],
   "source": [
    "print(df.iloc[82]['snippet'])"
   ]
  },
  {
   "cell_type": "code",
   "execution_count": null,
   "id": "2e7f8016",
   "metadata": {},
   "outputs": [],
   "source": [
    "print(predictions.iloc[82]['reason'])"
   ]
  },
  {
   "cell_type": "code",
   "execution_count": null,
   "id": "638ee998",
   "metadata": {},
   "outputs": [],
   "source": [
    "print(df.iloc[83]['messages'][3]['content'])"
   ]
  },
  {
   "cell_type": "code",
   "execution_count": null,
   "id": "a336e54e",
   "metadata": {},
   "outputs": [],
   "source": [
    "print(predictions.iloc[83]['reason'])"
   ]
  },
  {
   "cell_type": "code",
   "execution_count": null,
   "id": "0ccfc53b",
   "metadata": {},
   "outputs": [],
   "source": [
    "print(df.iloc[84]['messages'][3]['content'])"
   ]
  },
  {
   "cell_type": "code",
   "execution_count": null,
   "id": "ff0e959c",
   "metadata": {},
   "outputs": [],
   "source": [
    "print(predictions.iloc[84]['reason'])"
   ]
  },
  {
   "cell_type": "code",
   "execution_count": null,
   "id": "30b25861",
   "metadata": {},
   "outputs": [],
   "source": [
    "# Arguably, 85 is mislabelled by me hahaha..."
   ]
  },
  {
   "cell_type": "code",
   "execution_count": null,
   "id": "80660e2a",
   "metadata": {},
   "outputs": [],
   "source": [
    "print(df.iloc[85]['messages'][3]['content'])"
   ]
  },
  {
   "cell_type": "code",
   "execution_count": null,
   "id": "5fa382f0",
   "metadata": {},
   "outputs": [],
   "source": [
    "print(predictions.iloc[85]['reason'])"
   ]
  },
  {
   "cell_type": "code",
   "execution_count": null,
   "id": "12fcdcac",
   "metadata": {},
   "outputs": [],
   "source": [
    "print(df.iloc[86]['messages'][3]['content'])"
   ]
  },
  {
   "cell_type": "code",
   "execution_count": null,
   "id": "d1e9ebcf",
   "metadata": {},
   "outputs": [],
   "source": [
    "print(predictions.iloc[86]['reason'])"
   ]
  },
  {
   "cell_type": "code",
   "execution_count": null,
   "id": "597118d7",
   "metadata": {},
   "outputs": [],
   "source": [
    "print(df.iloc[87]['messages'][3]['content'])"
   ]
  },
  {
   "cell_type": "code",
   "execution_count": null,
   "id": "8a8dfc7e",
   "metadata": {},
   "outputs": [],
   "source": [
    "print(predictions.iloc[87]['reason'])"
   ]
  },
  {
   "cell_type": "code",
   "execution_count": null,
   "id": "75860ba3",
   "metadata": {},
   "outputs": [],
   "source": [
    "print(df.iloc[88]['messages'][3]['content'])"
   ]
  },
  {
   "cell_type": "code",
   "execution_count": null,
   "id": "b75483d3",
   "metadata": {},
   "outputs": [],
   "source": [
    "print(predictions.iloc[88]['reason'])"
   ]
  },
  {
   "cell_type": "code",
   "execution_count": null,
   "id": "eba276ff",
   "metadata": {},
   "outputs": [],
   "source": [
    "print(df.iloc[89]['messages'][3]['content'])"
   ]
  },
  {
   "cell_type": "code",
   "execution_count": null,
   "id": "3ca2ba91",
   "metadata": {},
   "outputs": [],
   "source": [
    "print(predictions.iloc[89]['reason'])"
   ]
  },
  {
   "cell_type": "code",
   "execution_count": null,
   "id": "61da4a2e",
   "metadata": {},
   "outputs": [],
   "source": [
    "print(df.iloc[90]['snippet'])"
   ]
  },
  {
   "cell_type": "code",
   "execution_count": null,
   "id": "44bc480d",
   "metadata": {},
   "outputs": [],
   "source": [
    "print(predictions.iloc[90]['reason'])"
   ]
  },
  {
   "cell_type": "code",
   "execution_count": null,
   "id": "3b3adc58",
   "metadata": {},
   "outputs": [],
   "source": [
    "print(df.iloc[91]['messages'][3]['content'])"
   ]
  },
  {
   "cell_type": "code",
   "execution_count": null,
   "id": "21d4b98b",
   "metadata": {},
   "outputs": [],
   "source": [
    "print(predictions.iloc[91]['reason'])"
   ]
  },
  {
   "cell_type": "code",
   "execution_count": null,
   "id": "a241e0ba",
   "metadata": {},
   "outputs": [],
   "source": [
    "print(df.iloc[92]['snippet'])"
   ]
  },
  {
   "cell_type": "code",
   "execution_count": null,
   "id": "127b7021",
   "metadata": {},
   "outputs": [],
   "source": [
    "print(predictions.iloc[92]['reason'])"
   ]
  },
  {
   "cell_type": "code",
   "execution_count": null,
   "id": "05a5f0b7",
   "metadata": {},
   "outputs": [],
   "source": [
    "## I can argue this as a traditional video"
   ]
  },
  {
   "cell_type": "code",
   "execution_count": null,
   "id": "1de278ba",
   "metadata": {},
   "outputs": [],
   "source": [
    "print(df.iloc[93]['messages'][3]['content'])"
   ]
  },
  {
   "cell_type": "code",
   "execution_count": null,
   "id": "cf83d3b4",
   "metadata": {},
   "outputs": [],
   "source": [
    "print(predictions.iloc[93]['reason'])"
   ]
  },
  {
   "cell_type": "code",
   "execution_count": null,
   "id": "3dc76bf4",
   "metadata": {},
   "outputs": [],
   "source": [
    "## I can argue this as a traditional video"
   ]
  },
  {
   "cell_type": "code",
   "execution_count": null,
   "id": "45356f2f",
   "metadata": {},
   "outputs": [],
   "source": [
    "print(df.iloc[94]['messages'][3]['content'])"
   ]
  },
  {
   "cell_type": "code",
   "execution_count": null,
   "id": "da2f1323",
   "metadata": {},
   "outputs": [],
   "source": [
    "print(predictions.iloc[94]['reason'])"
   ]
  },
  {
   "cell_type": "code",
   "execution_count": null,
   "id": "78ba5f56",
   "metadata": {},
   "outputs": [],
   "source": [
    "print(df.iloc[95]['messages'][3]['content'])"
   ]
  },
  {
   "cell_type": "code",
   "execution_count": null,
   "id": "4bcbea4c",
   "metadata": {},
   "outputs": [],
   "source": [
    "print(predictions.iloc[95]['reason'])"
   ]
  },
  {
   "cell_type": "code",
   "execution_count": null,
   "id": "38d6c651",
   "metadata": {
    "tags": []
   },
   "outputs": [],
   "source": [
    "# Labels:\n",
    "\n",
    "# Traditional: Videos that recommend or educate about stocks, bonds, real estate, commodities, retirement accounts, or other traditional investments or keywords related to them.\n",
    "# Blockchain: Videos that recommend or educate about cryptocurrency (BTC, ETH, etc.), NFTs, or other Web3 investments or keywords related to them.\n",
    "# Mixed: Videos that recommend or educate about both blockchain and traditional investments or keywords related to both.\n",
    "# Unrelated: Videos that do not recommend or educate about either blockchain or traditional investments or keywords related to them.\n",
    "\n",
    "# Instructions:\n",
    "# - The classifier should consider the context and meaning of the keywords used to determine whether the snippet is related to traditional or blockchain investments.\n",
    "# - If talks about making money from jobs, side hustles, or other alternative assets (cars, watches, artificial intelligence, trading cards, art, etc), they are Unrelated.\n",
    "# - A video that is downplaying an investment or discussing it negatively should be classified as Unrelated.\n",
    "# - Please return predictions in the format\" {Label} : {20-word or shorter rationale"
   ]
  },
  {
   "cell_type": "code",
   "execution_count": null,
   "id": "79947e5d",
   "metadata": {},
   "outputs": [],
   "source": [
    "completions = []\n",
    "completion_df = []\n",
    "\n",
    "pbar = tqdm(df.iterrows())  \n",
    "\n",
    "for idx, entry in pbar:\n",
    "    pbar.set_description(\"Processing %s\" % entry['title'])\n",
    "    \n",
    "    body = classify(entry['messages'])\n",
    "    \n",
    "    ## Add error catching\n",
    "    completion = dict(body['choices'][0]['message'])\n",
    "    completion['prediction']  = completion['content'].split(':')[0].strip()\n",
    "    completion['reason'] = completion['content'].split(':')[1].strip()\n",
    "    completion['message'] = entry['messages']\n",
    "    completion['title'] = entry['title']\n",
    "    completion['transcript'] = entry['cleaned_transcript']\n",
    "    completion['snippet'] = entry['snippet']\n",
    "    completion['link'] = entry['link']\n",
    "\n",
    "    ## Grab meta data\n",
    "    completion.update({key: body[key] for key in ['created', 'id', 'model', 'object']})\n",
    "    \n",
    "    ## Grab token usage\n",
    "    completion.update(dict(body['usage']))\n",
    "\n",
    "    completions.append(completion)\n",
    "    \n",
    "    pd.DataFrame(completions).to_csv('seed_predictions.csv', index_label = False)\n",
    "    \n",
    "    \n",
    "    time.sleep(5)"
   ]
  },
  {
   "cell_type": "code",
   "execution_count": null,
   "id": "837fd2d7",
   "metadata": {
    "tags": []
   },
   "outputs": [],
   "source": [
    "predictions = pd.read_csv('seed_predictions.csv')"
   ]
  },
  {
   "cell_type": "code",
   "execution_count": null,
   "id": "d04ea3a8",
   "metadata": {
    "tags": []
   },
   "outputs": [],
   "source": [
    "preds = list(predictions['prediction'].apply(lambda x: 'None' if x == 'Unrelated' else x))\n",
    "actual = list(df['label'])\n",
    "preds = ['Blockchain' if pred == 'Label' else pred for pred in preds]\n",
    "sum(predictions['total_tokens']) * TURBO_COST"
   ]
  },
  {
   "cell_type": "code",
   "execution_count": null,
   "id": "0a7f7d45-e50a-49ba-b589-87ecc4f088c2",
   "metadata": {
    "tags": []
   },
   "outputs": [],
   "source": [
    "from sklearn.metrics import accuracy_score, classification_report"
   ]
  },
  {
   "cell_type": "code",
   "execution_count": null,
   "id": "6d876293",
   "metadata": {
    "tags": []
   },
   "outputs": [],
   "source": [
    "accuracy_score(actual, preds)"
   ]
  },
  {
   "cell_type": "code",
   "execution_count": null,
   "id": "3686984d",
   "metadata": {
    "tags": []
   },
   "outputs": [],
   "source": [
    "print(classification_report(actual, preds))"
   ]
  },
  {
   "cell_type": "code",
   "execution_count": null,
   "id": "76ac43dc",
   "metadata": {
    "tags": []
   },
   "outputs": [],
   "source": [
    "predictions"
   ]
  },
  {
   "cell_type": "code",
   "execution_count": null,
   "id": "82a650ae",
   "metadata": {
    "tags": []
   },
   "outputs": [],
   "source": [
    "predictions.iloc[45]['reason']\n",
    "# Predicted mixed because the recommender was skeptical, thoiugh the title says coin will skyrocket, adjust prompt accordingly"
   ]
  },
  {
   "cell_type": "code",
   "execution_count": null,
   "id": "2b57b769-a4d8-4653-959e-de060b972955",
   "metadata": {
    "tags": []
   },
   "outputs": [],
   "source": [
    "predictions.iloc[45]['snippet']"
   ]
  },
  {
   "cell_type": "code",
   "execution_count": null,
   "id": "fb06490d",
   "metadata": {},
   "outputs": [],
   "source": [
    "predictions.iloc[64]['reason']\n",
    "# impact of social media led to this being predicted as mixed, also its sus about unrelated terminology like (like and subscribe)"
   ]
  },
  {
   "cell_type": "code",
   "execution_count": null,
   "id": "c5799d3a-e08b-4e49-8356-51d153478f0d",
   "metadata": {
    "tags": []
   },
   "outputs": [],
   "source": [
    "print(predictions.iloc[64]['snippet'])"
   ]
  },
  {
   "cell_type": "code",
   "execution_count": null,
   "id": "51d0ee85",
   "metadata": {},
   "outputs": [],
   "source": [
    "predictions.iloc[65]['reason']\n",
    "# classifying BTC as traditional, talks about side hustles and other information as well"
   ]
  },
  {
   "cell_type": "code",
   "execution_count": null,
   "id": "910ee50d-14b8-42a2-8b51-a5c72e634549",
   "metadata": {
    "tags": []
   },
   "outputs": [],
   "source": [
    "print(predictions.iloc[65]['snippet'])"
   ]
  },
  {
   "cell_type": "code",
   "execution_count": null,
   "id": "a90fe47d-5e70-49d4-b07e-3248776f1214",
   "metadata": {
    "tags": []
   },
   "outputs": [],
   "source": [
    "# Labels:\n",
    "\n",
    "# Traditional: Videos that recommend or educate about stocks, bonds, real estate, commodities, retirement accounts, or other traditional investments or keywords related to them.\n",
    "# Blockchain: Videos that recommend or educate about cryptocurrency (BTC, ETH, etc.), NFTs, or other Web3 investments or keywords related to them.\n",
    "# Mixed: Videos that recommend or educate about both blockchain and traditional investments or keywords related to both.\n",
    "# Unrelated: Videos that do not recommend or educate about either blockchain or traditional investments or keywords related to them.\n",
    "\n",
    "# Instructions:\n",
    "# - The classifier should consider the context and meaning of the keywords used to determine whether the snippet is related to traditional or blockchain investments.\n",
    "# - If talks about making money from jobs, side hustles, or other alternative assets (cars, watches, artificial intelligence, trading cards, art, etc), they are Unrelated.\n",
    "# - If a video is only discussing the asset negatively, it should be classified as Unrelated.\n",
    "# - Please return predictions in the format\" {Label} : {20 word or shorter rationale}"
   ]
  },
  {
   "cell_type": "code",
   "execution_count": null,
   "id": "0a03e36e-8e95-4925-910a-6e1b675700f0",
   "metadata": {
    "tags": []
   },
   "outputs": [],
   "source": [
    "completions = []\n",
    "completion_df = []\n",
    "\n",
    "pbar = tqdm(df.iterrows())  \n",
    "\n",
    "for idx, entry in pbar:\n",
    "    pbar.set_description(\"Processing %s\" % entry['title'])\n",
    "    \n",
    "    body = classify(entry['messages'])\n",
    "    \n",
    "    ## Add error catching\n",
    "    completion = dict(body['choices'][0]['message'])\n",
    "    completion['prediction']  = completion['content'].split(':')[0].strip()\n",
    "    completion['reason'] = completion['content'].split(':')[1].strip()\n",
    "    completion['message'] = entry['messages']\n",
    "    completion['title'] = entry['title']\n",
    "    completion['transcript'] = entry['cleaned_transcript']\n",
    "    completion['snippet'] = entry['snippet']\n",
    "    completion['link'] = entry['link']\n",
    "\n",
    "    ## Grab meta data\n",
    "    completion.update({key: body[key] for key in ['created', 'id', 'model', 'object']})\n",
    "    \n",
    "    ## Grab token usage\n",
    "    completion.update(dict(body['usage']))\n",
    "\n",
    "    completions.append(completion)\n",
    "    \n",
    "    pd.DataFrame(completions).to_csv('seed_predictions.csv', index_label = False)\n",
    "    \n",
    "    \n",
    "    time.sleep(5)"
   ]
  },
  {
   "cell_type": "code",
   "execution_count": null,
   "id": "4d8f452d-09c0-4807-acb4-68dc87fc6f6e",
   "metadata": {
    "tags": []
   },
   "outputs": [],
   "source": [
    "predictions = pd.read_csv('seed_predictions.csv')"
   ]
  },
  {
   "cell_type": "code",
   "execution_count": null,
   "id": "eed65c33-9fa5-4f4e-ae15-6596091e43e8",
   "metadata": {
    "tags": []
   },
   "outputs": [],
   "source": [
    "preds = list(predictions['prediction'].apply(lambda x: 'None' if x == 'Unrelated' else x))\n",
    "actual = list(df['label'])\n",
    "preds = ['Blockchain' if pred == 'Label' else pred for pred in preds]\n",
    "sum(predictions['total_tokens']) * TURBO_COST"
   ]
  },
  {
   "cell_type": "code",
   "execution_count": null,
   "id": "891d9bf2-db69-4a21-8b69-97e01369b447",
   "metadata": {
    "tags": []
   },
   "outputs": [],
   "source": [
    "accuracy_score(actual, preds)"
   ]
  },
  {
   "cell_type": "code",
   "execution_count": null,
   "id": "1d936dee-c8cf-4f36-a86b-3166a1e82887",
   "metadata": {
    "tags": []
   },
   "outputs": [],
   "source": [
    "print(classification_report(actual, preds))"
   ]
  },
  {
   "cell_type": "code",
   "execution_count": null,
   "id": "4adb760d-5c7e-4d9b-bc68-65c9389d7a61",
   "metadata": {
    "tags": []
   },
   "outputs": [],
   "source": [
    "predictions"
   ]
  },
  {
   "cell_type": "code",
   "execution_count": null,
   "id": "5af1ad5b-cb1a-4399-8175-5fc8dee394ce",
   "metadata": {
    "tags": []
   },
   "outputs": [],
   "source": [
    "print(predictions.iloc[0]['snippet'])"
   ]
  }
 ],
 "metadata": {
  "kernelspec": {
   "display_name": "Python 3 (ipykernel)",
   "language": "python",
   "name": "python3"
  },
  "language_info": {
   "codemirror_mode": {
    "name": "ipython",
    "version": 3
   },
   "file_extension": ".py",
   "mimetype": "text/x-python",
   "name": "python",
   "nbconvert_exporter": "python",
   "pygments_lexer": "ipython3",
   "version": "3.8.5"
  }
 },
 "nbformat": 4,
 "nbformat_minor": 5
}
