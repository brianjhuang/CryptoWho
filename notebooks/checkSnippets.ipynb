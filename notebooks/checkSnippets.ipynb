{
 "cells": [
  {
   "cell_type": "code",
   "execution_count": null,
   "metadata": {},
   "outputs": [],
   "source": [
    "import pandas as pd\n",
    "from src.features.youtubeCleaner import Cleaner\n",
    "import datetime\n",
    "import numpy as np"
   ]
  },
  {
   "cell_type": "code",
   "execution_count": null,
   "metadata": {},
   "outputs": [],
   "source": [
    "df = pd.read_csv('data/audit/youtube/processed/downloaded_homepage_blockchain_old.csv')"
   ]
  },
  {
   "cell_type": "code",
   "execution_count": null,
   "metadata": {},
   "outputs": [],
   "source": [
    "df.loc[df[df['duration'] > str(datetime.time(hour = 1, minute = 0, second = 0))].index]"
   ]
  },
  {
   "cell_type": "code",
   "execution_count": null,
   "metadata": {},
   "outputs": [],
   "source": [
    "df.loc[df[df['duration'] > str(datetime.time(hour = 1, minute = 0, second = 0))].index, \"cleaned_transcript\"] = \" \""
   ]
  },
  {
   "cell_type": "code",
   "execution_count": null,
   "metadata": {},
   "outputs": [],
   "source": [
    "df.loc[df[df['duration'] > str(datetime.time(hour = 1, minute = 0, second = 0))].index]"
   ]
  },
  {
   "cell_type": "code",
   "execution_count": null,
   "metadata": {},
   "outputs": [],
   "source": [
    "df.to_csv('data/audit/youtube/processed/downloaded_homepage_blockchain_old.csv', index_label = False)"
   ]
  },
  {
   "cell_type": "code",
   "execution_count": null,
   "metadata": {},
   "outputs": [],
   "source": [
    "def createSnippets(load_path, save_path, max_word_count = 300, use_ratio = False, ratio = 0.2):\n",
    "    '''\n",
    "    Clean our seed videos. Given a dataframe, save our data to \n",
    "    the final seed path folder.\n",
    "\n",
    "    Parameters\n",
    "    ----------\n",
    "    load_path : str\n",
    "        The path to our seed videos.\n",
    "    save_path : str\n",
    "        Where we want to save the output.\n",
    "    test : bool\n",
    "        If we are running this downloader on test data.\n",
    "    \n",
    "    Returns\n",
    "    -------\n",
    "    pd.DataFrame\n",
    "        Our cleaned data with snippets\n",
    "    '''\n",
    "\n",
    "    print(f\"\"\"\\n Cleaning data with the following settings:\n",
    "    \\n Using Ratio?: {use_ratio}\n",
    "    \\n Ratio: {ratio}\n",
    "    \\n Max Word Count: {max_word_count}\n",
    "    \\n Load Path: {load_path}\n",
    "    \\n Save Path: {save_path}\n",
    "    \"\"\")\n",
    "\n",
    "    df = pd.read_csv(load_path)\n",
    "    print(f\"Read in : {load_path}\")\n",
    "\n",
    "    cleaner = Cleaner(df, save_path=save_path, max_word_count=max_word_count, use_ratio=use_ratio, ratio=ratio)\n",
    "    print(f\"Cleaning : {load_path}\")\n",
    "\n",
    "    df_with_snippets = cleaner.generateVideoSnippets()\n",
    "\n",
    "    df_with_snippets.to_csv(save_path, index_label=False)\n",
    "    print(f\"Finished cleaning, saving to : {save_path}\")\n",
    "\n",
    "    return df_with_snippets"
   ]
  },
  {
   "cell_type": "code",
   "execution_count": null,
   "metadata": {},
   "outputs": [],
   "source": [
    "createSnippets('data/audit/youtube/processed/downloaded_homepage_blockchain_old.csv', 'data/audit/youtube/processed/downloaded_homepage_blockchain_old_with_snippets.csv')"
   ]
  },
  {
   "cell_type": "code",
   "execution_count": null,
   "metadata": {},
   "outputs": [],
   "source": []
  }
 ],
 "metadata": {
  "kernelspec": {
   "display_name": ".venv",
   "language": "python",
   "name": "python3"
  },
  "language_info": {
   "codemirror_mode": {
    "name": "ipython",
    "version": 3
   },
   "file_extension": ".py",
   "mimetype": "text/x-python",
   "name": "python",
   "nbconvert_exporter": "python",
   "pygments_lexer": "ipython3",
   "version": "3.8.5"
  },
  "orig_nbformat": 4
 },
 "nbformat": 4,
 "nbformat_minor": 2
}
