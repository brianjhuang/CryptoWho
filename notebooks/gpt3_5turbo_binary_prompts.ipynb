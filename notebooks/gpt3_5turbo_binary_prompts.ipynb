{
 "cells": [
  {
   "cell_type": "code",
   "execution_count": 1,
   "id": "82a93184-65f5-4e02-ad13-d80ec0193511",
   "metadata": {
    "tags": []
   },
   "outputs": [],
   "source": [
    "import pandas as pd\n",
    "import numpy as np\n",
    "import random\n",
    "\n",
    "import openai\n",
    "import os\n",
    "from tqdm import tqdm\n",
    "import time\n",
    "\n",
    "import sys\n",
    "\n",
    "sys.path.insert(0, '..')"
   ]
  },
  {
   "cell_type": "code",
   "execution_count": null,
   "id": "00e951f5-378a-4eb0-af92-9eca43d65abb",
   "metadata": {},
   "outputs": [],
   "source": [
    "# TURBO COST\n",
    "TURBO_COST = 0.00200 / 1000"
   ]
  },
  {
   "cell_type": "code",
   "execution_count": null,
   "id": "e53e1c45-d77d-44eb-b1fa-f46a36dc64d2",
   "metadata": {},
   "outputs": [],
   "source": [
    "# Initialize the API client\n",
    "openai.api_key = os.environ.get(\"OPENAI_API_KEY\")"
   ]
  },
  {
   "cell_type": "code",
   "execution_count": null,
   "id": "b59bbb92-30a0-49a3-853d-d6437ee6fbab",
   "metadata": {},
   "outputs": [],
   "source": [
    "df = pd.read_csv('../data/seed/youtube/seed_videos.csv')"
   ]
  },
  {
   "cell_type": "code",
   "execution_count": 3,
   "id": "47430695-d90d-40e6-996b-e425b41975a9",
   "metadata": {
    "tags": []
   },
   "outputs": [],
   "source": [
    "def create_traditional_messages(snippet):\n",
    "    messages = [\n",
    "        {\"role\": \"system\", \"content\" : \"You are a binary classifier that determines if a YouTube video snippet falls under a label. A snippet is a concatenation of the video title, summarized transcript, and video tags. The label and additional instructions will be included in the first user message.\"},\n",
    "        {\"role\": \"user\", \"content\" : \"\"\"Label:\n",
    "\n",
    "A video snippet is considered 'Traditional\" if it recommends or educates about stocks, bonds, real estate, commodities, retirement accounts, or other traditional investments or keywords related to them.\n",
    "\n",
    "A video snippet may talk about making money with traditional investment strategies, but if it recommends a non-traditional investment asset (such as a side hustle, watch, cryptocurrency, etc.), the video is not traditional.\n",
    "\n",
    "Lastly, if a video mentions a traditional investment strategy, but the strategy is applied to a non-traditional asset, the video is not traditional.\n",
    "\n",
    "Instructions:\n",
    "- Predictions must be returned as 'Yes' or 'No', followed by a 20-word or shorter rationale.\n",
    "- The classifier should consider the context and meaning of the keywords used to determine whether the snippet is considered 'Traditional'..\"\"\"},\n",
    "        {\"role\": \"assistant\", \"content\": \"\"\"Understood. I will classify YouTube video snippets based on the provided label and instructions. Here's how I will format the predictions:\n",
    "\n",
    "{Yes/No}: {20-word or shorter rationale}.\n",
    "\n",
    "Please provide me with the YouTube video snippet you would like me to classify.\"\"\"},\n",
    "    ]\n",
    "    \n",
    "    snippet_message = {\"role\" : \"user\", \"content\" : snippet.replace(\"\\n\", \" \").replace(\"  \", \" \")}\n",
    "    \n",
    "    messages.append(snippet_message)\n",
    "    \n",
    "    return messages"
   ]
  },
  {
   "cell_type": "code",
   "execution_count": 4,
   "id": "317c023d-0acf-4c21-ac05-7506ba6bfcb4",
   "metadata": {
    "tags": []
   },
   "outputs": [],
   "source": [
    "def create_blockchain_messages(snippet):\n",
    "    messages = [\n",
    "        {\"role\": \"system\", \"content\" : \"You are a binary classifier that determines if a YouTube video snippet falls under a label. A snippet is a concatenation of the video title, summarized transcript, and video tags. The label and additional instructions will be included in the first user message.\"},\n",
    "        {\"role\": \"user\", \"content\" : \"\"\"Label:\n",
    "\n",
    "A video snippet is considered 'Blockchain\" if it recommends or educates about cryptocurrency (BTC, ETH, etc.), NFTs, or other Web3 investments or keywords related to them.\n",
    "\n",
    "A video snippet may talk about making money with blockchain investment strategies, but if it recommends a non-blockchain investment asset (such as a side hustle, watch, stocks, bonds, etc.), the video is not blockchain.\n",
    "\n",
    "Lastly, if a video mentions a blockchain investment strategy, but the strategy is applied to a non-blockchain asset, the video is not blockchain.\n",
    "\n",
    "Instructions:\n",
    "- Predictions must be returned as 'Yes' or 'No', followed by a 20-word or shorter rationale.\n",
    "- The classifier should consider the context and meaning of the keywords used to determine whether the snippet is considered 'Traditional'.\"\"\"},\n",
    "        {\"role\": \"assistant\", \"content\": \"\"\"Understood. I will classify YouTube video snippets based on the provided label and instructions. Here's how I will format the predictions:\n",
    "\n",
    "{Yes/No}: {20-word or shorter rationale}.\n",
    "\n",
    "Please provide me with the YouTube video snippet you would like me to classify.\"\"\"},\n",
    "    ]\n",
    "    \n",
    "    snippet_message = {\"role\" : \"user\", \"content\" : snippet.replace(\"\\n\", \" \").replace(\"  \", \" \")}\n",
    "    \n",
    "    messages.append(snippet_message)\n",
    "    \n",
    "    return messages"
   ]
  },
  {
   "cell_type": "code",
   "execution_count": null,
   "id": "64798bb4-46a9-4772-a34d-c7b67c43e15c",
   "metadata": {},
   "outputs": [],
   "source": [
    "def classify(messages):\n",
    "    chatCompletion = openai.ChatCompletion.create(\n",
    "      model=\"gpt-3.5-turbo\",\n",
    "      messages=messages,\n",
    "      temperature=0.25\n",
    "    )\n",
    "    return chatCompletion"
   ]
  },
  {
   "cell_type": "code",
   "execution_count": null,
   "id": "52a8da42-0546-4b9e-b0c1-dfff757aa237",
   "metadata": {},
   "outputs": [],
   "source": [
    "df['messages'] = df['snippet'].apply(create_messages)"
   ]
  },
  {
   "cell_type": "code",
   "execution_count": null,
   "id": "2ff2686b-9894-489d-b833-52078acc69f6",
   "metadata": {},
   "outputs": [],
   "source": [
    "completions = []\n",
    "completion_df = []\n",
    "\n",
    "pbar = tqdm(df.iterrows())  \n",
    "\n",
    "for idx, entry in pbar:\n",
    "    pbar.set_description(\"Processing %s\" % entry['title'])\n",
    "    \n",
    "    body = classify(entry['messages'])\n",
    "    \n",
    "    ## Add error catching\n",
    "    completion = dict(body['choices'][0]['message'])\n",
    "    completion['prediction']  = completion['content'].split(':')[0].strip()\n",
    "    completion['reason'] = completion['content'].split(':')[1].strip()\n",
    "    completion['message'] = entry['messages']\n",
    "    completion['title'] = entry['title']\n",
    "    completion['transcript'] = entry['cleaned_transcript']\n",
    "    completion['snippet'] = entry['snippet']\n",
    "    completion['link'] = entry['link']\n",
    "\n",
    "    ## Grab meta data\n",
    "    completion.update({key: body[key] for key in ['created', 'id', 'model', 'object']})\n",
    "    \n",
    "    ## Grab token usage\n",
    "    completion.update(dict(body['usage']))\n",
    "\n",
    "    completions.append(completion)\n",
    "    \n",
    "    pd.DataFrame(completions).to_csv('seed_predictions.csv', index_label = False)\n",
    "    \n",
    "    \n",
    "    time.sleep(5)"
   ]
  },
  {
   "cell_type": "code",
   "execution_count": null,
   "id": "6e6ce4b4-48f9-4d49-99b5-006245a11e10",
   "metadata": {},
   "outputs": [],
   "source": [
    "predictions = pd.read_csv('seed_predictions.csv')"
   ]
  },
  {
   "cell_type": "code",
   "execution_count": null,
   "id": "5e73d9c2-39e1-4157-ac35-4d7567f4b943",
   "metadata": {},
   "outputs": [],
   "source": [
    "preds = list(predictions['prediction'].apply(lambda x: 'None' if x == 'Unrelated' else x))\n",
    "actual = list(df['label'])\n",
    "preds = ['Blockchain' if pred == 'Label' else pred for pred in preds]\n",
    "sum(predictions['total_tokens']) * TURBO_COST"
   ]
  },
  {
   "cell_type": "code",
   "execution_count": null,
   "id": "58f0a0db-43aa-4eb9-854d-97e55c9e6e5b",
   "metadata": {},
   "outputs": [],
   "source": [
    "print(accuracy_score(actual, preds))\n",
    "print(classification_report(actual, preds))"
   ]
  }
 ],
 "metadata": {
  "kernelspec": {
   "display_name": "crypto",
   "language": "python",
   "name": "crypto"
  },
  "language_info": {
   "codemirror_mode": {
    "name": "ipython",
    "version": 3
   },
   "file_extension": ".py",
   "mimetype": "text/x-python",
   "name": "python",
   "nbconvert_exporter": "python",
   "pygments_lexer": "ipython3",
   "version": "3.8.5"
  }
 },
 "nbformat": 4,
 "nbformat_minor": 5
}
