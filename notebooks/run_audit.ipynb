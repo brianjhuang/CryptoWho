{
 "cells": [
  {
   "cell_type": "code",
   "execution_count": 1,
   "metadata": {},
   "outputs": [],
   "source": [
    "import sys\n",
    "sys.path.insert(0, '..')\n",
    "from selenium import webdriver\n",
    "from bs4 import BeautifulSoup\n",
    "from selenium.webdriver.common.by import By\n",
    "import json\n",
    "import sys\n",
    "import pandas as pd\n",
    "import re"
   ]
  },
  {
   "cell_type": "code",
   "execution_count": 3,
   "metadata": {},
   "outputs": [],
   "source": [
    "from src.YTDriver import YTDriver"
   ]
  },
  {
   "cell_type": "code",
   "execution_count": null,
   "metadata": {},
   "outputs": [],
   "source": [
    "def scrape_video(url):\n",
    "    \"\"\"\n",
    "\n",
    "    Args:\n",
    "        url (str): Must be a url for a valid YouTube video\n",
    "    \"\"\"\n",
    "    assert('youtube.com' in url.lower())\n",
    "    \n",
    "    driver = webdriver.Chrome()\n",
    "    driver.get(url)\n",
    "    time.sleep(5)\n",
    "    driver.execute_script(\"window.scrollTo(0, document.body.scrollHeight);\")\n",
    "    \n",
    "    elements = driver.find_elements(By.ID, 'video-title')\n",
    "    out = []\n",
    "    for elem in elements[:-1]: #Last element is not actually a video\n",
    "        title = elem.get_attribute('innerHTML').strip()\n",
    "        link = elem.find_element(By.XPATH, \"./../..\").get_attribute('href') #Extracts link to video\n",
    "        \n",
    "        row = {'title': title, 'link': link, 'source': url}\n",
    "        out.append(row)\n",
    "        \n",
    "    print(out)\n",
    "    driver.close()\n",
    "    return out\n",
    "\n",
    "def scrape_ytdriver(filepath, recursions=5):\n",
    "    driver = YTDriver(browser='firefox', verbose=True)\n",
    "\n",
    "    videos = []\n",
    "    cur_videos = driver.get_homepage()\n",
    "    if not cur_videos:\n",
    "        cur_videos = driver.get_homepage()\n",
    "    videos += cur_videos\n",
    "    \n",
    "    for _ in range(recursions):\n",
    "        driver.play(cur_videos[0], 10)\n",
    "\n",
    "        cur_videos = driver.get_recommendations()\n",
    "        videos += cur_videos\n",
    "            \n",
    "    driver.close()\n",
    "\n",
    "    video_urls = [video.url for video in videos]\n",
    "    video_urls.insert(0, 'https://www.youtube.com') #Demark start of sessions\n",
    "    \n",
    "    list_to_csv(video_urls, filepath)\n",
    "    return video_urls"
   ]
  }
 ],
 "metadata": {
  "kernelspec": {
   "display_name": ".venv",
   "language": "python",
   "name": "python3"
  },
  "language_info": {
   "codemirror_mode": {
    "name": "ipython",
    "version": 3
   },
   "file_extension": ".py",
   "mimetype": "text/x-python",
   "name": "python",
   "nbconvert_exporter": "python",
   "pygments_lexer": "ipython3",
   "version": "3.9.6"
  },
  "orig_nbformat": 4,
  "vscode": {
   "interpreter": {
    "hash": "bc204a9723bb08316d50099ac13d40ce960bbd8b2366046bd948bed845217909"
   }
  }
 },
 "nbformat": 4,
 "nbformat_minor": 2
}
