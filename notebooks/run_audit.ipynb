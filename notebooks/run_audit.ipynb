{
 "cells": [
  {
   "cell_type": "code",
   "execution_count": 1,
   "metadata": {},
   "outputs": [],
   "source": [
    "import sys\n",
    "sys.path.insert(0, '..')\n",
    "from selenium import webdriver\n",
    "from bs4 import BeautifulSoup\n",
    "from selenium.webdriver.common.by import By\n",
    "import json\n",
    "import sys\n",
    "import pandas as pd\n",
    "import re\n",
    "import time"
   ]
  },
  {
   "cell_type": "code",
   "execution_count": 2,
   "metadata": {},
   "outputs": [],
   "source": [
    "from src.utils import get_full_url, AuditVideo"
   ]
  },
  {
   "cell_type": "code",
   "execution_count": 3,
   "metadata": {},
   "outputs": [],
   "source": [
    "class Audit(object):\n",
    "    \"\"\"\n",
    "    Static class that includes configuration for our Audit process\n",
    "    \"\"\"\n",
    "\n",
    "    #AUDIT VARIABLES\n",
    "    USER_AGE = 'young' #'young' or 'old'\n",
    "    FINANCE_VIDEO_TYPE = 'traditional' #'traditional', 'blockchain', 'mixed', 'unrelated'\n",
    "\n",
    "    SEED_AGE_VIDEO_PATH = '../data/raw/youtube/seed_age_videos.csv'\n",
    "    SEED_FINANCE_VIDEO_PATH = '../data/raw/youtube/seed_finance_videos.csv'\n",
    "\n",
    "    AUDIT_RESULTS_PATH = '../data/audit/youtube/'"
   ]
  },
  {
   "cell_type": "code",
   "execution_count": 4,
   "metadata": {},
   "outputs": [
    {
     "data": {
      "text/plain": [
       "['https://www.youtube.com/watch?v=W3CDMcWlPyM',\n",
       " 'https://www.youtube.com/watch?v=-RQdkW-em-g',\n",
       " 'https://www.youtube.com/watch?v=qN_GMtFhlo4',\n",
       " 'https://www.youtube.com/watch?v=5TQhslgMt0U',\n",
       " 'https://www.youtube.com/watch?v=N2EYdmYd4V8',\n",
       " 'https://www.youtube.com/watch?v=wm6Ld8XcdGc',\n",
       " 'https://www.youtube.com/watch?v=pWg6aUl0ldg',\n",
       " 'https://www.youtube.com/watch?v=W8lJMJNOiAI',\n",
       " 'https://www.youtube.com/watch?v=hSCBHRwFiqM',\n",
       " 'https://www.youtube.com/watch?v=0lJYviju6RY',\n",
       " 'https://www.youtube.com/watch?v=gTpogtMdtPU',\n",
       " 'https://www.youtube.com/watch?v=Muwc8eyxPJs',\n",
       " 'https://www.youtube.com/watch?v=nmkKo8QAeh4',\n",
       " 'https://www.youtube.com/watch?v=3ErErK1wRDM',\n",
       " 'https://www.youtube.com/watch?v=IPUInP53HO0',\n",
       " 'https://www.youtube.com/watch?v=ViXfbDN6oTI',\n",
       " 'https://www.youtube.com/watch?v=lUqIPo4DDHE',\n",
       " 'https://www.youtube.com/watch?v=IAwE4o6gdts',\n",
       " 'https://www.youtube.com/watch?v=sIxtOqJan2M',\n",
       " 'https://www.youtube.com/watch?v=3D-vUKVQqS4']"
      ]
     },
     "execution_count": 4,
     "metadata": {},
     "output_type": "execute_result"
    }
   ],
   "source": [
    "#from config import audit\n",
    "\n",
    "def get_age_seed_videos():\n",
    "    df = pd.read_csv(Audit.SEED_AGE_VIDEO_PATH, index_col=0)\n",
    "    df = df[df['label'] == Audit.USER_AGE]\n",
    "    video_ids = df['video_id'].values\n",
    "    video_urls = [get_full_url(video_id) for video_id in video_ids]\n",
    "    return video_urls\n",
    "\n",
    "def get_finance_seed_videos():\n",
    "    df = pd.read_csv(Audit.SEED_FINANCE_VIDEO_PATH, index_col=0)\n",
    "    df = df[df['label'] == Audit.FINANCE_VIDEO_TYPE]\n",
    "    video_ids = df['video_id'].values\n",
    "    video_urls = [get_full_url(video_id) for video_id in video_ids]\n",
    "    return video_urls\n",
    "\n",
    "get_age_seed_videos()"
   ]
  },
  {
   "cell_type": "code",
   "execution_count": 5,
   "metadata": {},
   "outputs": [],
   "source": [
    "from src.YTDriver import YTDriver"
   ]
  },
  {
   "cell_type": "code",
   "execution_count": 6,
   "metadata": {},
   "outputs": [
    {
     "name": "stdout",
     "output_type": "stream",
     "text": [
      "Message: TimedPromise timed out after 30000 ms\n",
      "Stacktrace:\n",
      "RemoteError@chrome://remote/content/shared/RemoteError.sys.mjs:8:8\n",
      "WebDriverError@chrome://remote/content/shared/webdriver/Errors.sys.mjs:180:5\n",
      "TimeoutError@chrome://remote/content/shared/webdriver/Errors.sys.mjs:469:5\n",
      "bail@chrome://remote/content/marionette/sync.sys.mjs:211:19\n",
      "\n",
      "Ad detected\n",
      "Skippable ad. Skipping after 3 seconds...\n",
      "Ad not detected\n",
      "Ad not detected\n",
      "Clicking homepage icon\n",
      "Getting homepage via URL\n",
      "Ad not detected\n",
      "Clicking homepage icon\n",
      "Getting homepage via URL\n"
     ]
    }
   ],
   "source": [
    "#Record start time\n",
    "start_time = time.time()\n",
    "driver = YTDriver(browser='firefox', verbose=True)\n",
    "\n",
    "#Watch age seed videos\n",
    "age_seed_videos = get_age_seed_videos()\n",
    "driver.play_list(age_seed_videos[5:7], homepage_interval=0)\n",
    "\n",
    "#Watch finance videos\n",
    "finance_seed_videos = get_finance_seed_videos()\n",
    "driver.play_list(finance_seed_videos[5:7], homepage_interval=1)\n",
    "\n",
    "driver.close()"
   ]
  },
  {
   "cell_type": "code",
   "execution_count": null,
   "metadata": {},
   "outputs": [],
   "source": [
    "def to_csv():\n",
    "    start_time_str = str(start_time).replace('.', '') #Remove period from start time for filenames\n",
    "\n",
    "    video_recs_df = pd.DataFrame(driver.video_recs)\n",
    "    video_recs_df['Start Time'] = start_time\n",
    "    video_recs_df['Age'] = Audit.USER_AGE\n",
    "    video_recs_df['Finance Video Type'] = Audit.FINANCE_VIDEO_TYPE\n",
    "    video_recs_df.to_csv(Audit.AUDIT_RESULTS_PATH + f'{start_time_str}-video_recs.csv', index=False)\n",
    "\n",
    "    homepage_recs_df = pd.DataFrame(driver.homepage_recs)\n",
    "    homepage_recs_df['Start Time'] = start_time\n",
    "    homepage_recs_df['Age'] = Audit.USER_AGE\n",
    "    homepage_recs_df['Finance Video Type'] = Audit.FINANCE_VIDEO_TYPE\n",
    "    homepage_recs_df.to_csv(Audit.AUDIT_RESULTS_PATH + f'{start_time_str}-homepage_recs.csv', index=False)"
   ]
  },
  {
   "cell_type": "code",
   "execution_count": 10,
   "metadata": {},
   "outputs": [],
   "source": []
  },
  {
   "cell_type": "code",
   "execution_count": null,
   "metadata": {},
   "outputs": [],
   "source": [
    "def scrape_video(url):\n",
    "    \"\"\"\n",
    "\n",
    "    Args:\n",
    "        url (str): Must be a url for a valid YouTube video\n",
    "    \"\"\"\n",
    "    assert('youtube.com' in url.lower())\n",
    "    \n",
    "    driver = webdriver.Chrome()\n",
    "    driver.get(url)\n",
    "    time.sleep(5)\n",
    "    driver.execute_script(\"window.scrollTo(0, document.body.scrollHeight);\")\n",
    "    \n",
    "    elements = driver.find_elements(By.ID, 'video-title')\n",
    "    out = []\n",
    "    for elem in elements[:-1]: #Last element is not actually a video\n",
    "        title = elem.get_attribute('innerHTML').strip()\n",
    "        link = elem.find_element(By.XPATH, \"./../..\").get_attribute('href') #Extracts link to video\n",
    "        \n",
    "        row = {'title': title, 'link': link, 'source': url}\n",
    "        out.append(row)\n",
    "        \n",
    "    print(out)\n",
    "    driver.close()\n",
    "    return out\n",
    "\n",
    "def scrape_ytdriver(filepath, recursions=5):\n",
    "    driver = YTDriver(browser='firefox', verbose=True)\n",
    "\n",
    "    videos = []\n",
    "    cur_videos = driver.get_homepage()\n",
    "    if not cur_videos:\n",
    "        cur_videos = driver.get_homepage()\n",
    "    videos += cur_videos\n",
    "    \n",
    "    for _ in range(recursions):\n",
    "        driver.play(cur_videos[0], 10)\n",
    "\n",
    "        cur_videos = driver.get_recommendations()\n",
    "        videos += cur_videos\n",
    "            \n",
    "    driver.close()\n",
    "\n",
    "    video_urls = [video.url for video in videos]\n",
    "    video_urls.insert(0, 'https://www.youtube.com') #Demark start of sessions\n",
    "    \n",
    "    list_to_csv(video_urls, filepath)\n",
    "    return video_urls"
   ]
  }
 ],
 "metadata": {
  "kernelspec": {
   "display_name": ".venv",
   "language": "python",
   "name": "python3"
  },
  "language_info": {
   "codemirror_mode": {
    "name": "ipython",
    "version": 3
   },
   "file_extension": ".py",
   "mimetype": "text/x-python",
   "name": "python",
   "nbconvert_exporter": "python",
   "pygments_lexer": "ipython3",
   "version": "3.9.6"
  },
  "orig_nbformat": 4,
  "vscode": {
   "interpreter": {
    "hash": "bc204a9723bb08316d50099ac13d40ce960bbd8b2366046bd948bed845217909"
   }
  }
 },
 "nbformat": 4,
 "nbformat_minor": 2
}
