{
 "cells": [
  {
   "cell_type": "code",
   "execution_count": null,
   "metadata": {},
   "outputs": [],
   "source": [
    "import sys\n",
    "sys.path.insert(0, '..')\n",
    "from selenium import webdriver\n",
    "from bs4 import BeautifulSoup\n",
    "from selenium.webdriver.common.by import By\n",
    "import json\n",
    "import sys\n",
    "import pandas as pd\n",
    "import re\n",
    "import time"
   ]
  },
  {
   "cell_type": "code",
   "execution_count": null,
   "metadata": {},
   "outputs": [],
   "source": [
    "from src.utils import get_full_url, AuditVideo"
   ]
  },
  {
   "cell_type": "code",
   "execution_count": null,
   "metadata": {},
   "outputs": [],
   "source": [
    "class Audit(object):\n",
    "    \"\"\"\n",
    "    Static class that includes configuration for our Audit process\n",
    "    \"\"\"\n",
    "\n",
    "    #AUDIT VARIABLES\n",
    "    USER_AGE = 'young' #'young' or 'old'\n",
    "    FINANCE_VIDEO_TYPE = 'traditional' #'traditional', 'blockchain', 'mixed', 'unrelated'\n",
    "\n",
    "    WATCH_BY_RATIO = False #If True, watch videos by ratio of video duration, else watch by number of seconds\n",
    "    WATCH_DURATION = 10 #Number of seconds to watch each video\n",
    "    WATCH_RATIO = 0.5 #Ratio of video duration to watch\n",
    "\n",
    "    NUM_RECOMMENDATIONS = 10 #Number of recommendations to collect, very large values may throw errors\n",
    "\n",
    "    YOUNG_SEED_AGE_VIDEO_PATH = '../data/seed/youtube/young_videos.csv'\n",
    "    OLD_SEED_AGE_VIDEO_PATH = '../data/seed/youtube/old_videos.csv'\n",
    "    SEED_FINANCE_VIDEO_PATH = '../data/seed/youtube/seed_videos.csv'\n",
    "    # SEED_AGE_VIDEO_PATH = '../data/raw/youtube/seed_age_videos.csv'\n",
    "    # SEED_FINANCE_VIDEO_PATH = '../data/raw/youtube/seed_finance_videos.csv'\n",
    "\n",
    "    VIDEO_ID_COLUMN = 'id'\n",
    "\n",
    "    AUDIT_RESULTS_PATH = '../data/audit/youtube/'"
   ]
  },
  {
   "cell_type": "code",
   "execution_count": null,
   "metadata": {},
   "outputs": [],
   "source": [
    "import datetime\n",
    "df = pd.read_csv(Audit.SEED_FINANCE_VIDEO_PATH, index_col=0)\n",
    "# Convert duration to seconds\n",
    "df['duration'] = df['duration'].apply(lambda x: datetime.datetime.strptime(x, '%H:%M:%S').time())\n",
    "df['duration'] = df['duration'].apply(lambda x: x.hour * 3600 + x.minute * 60 + x.second)\n",
    "df"
   ]
  },
  {
   "cell_type": "code",
   "execution_count": null,
   "metadata": {},
   "outputs": [],
   "source": [
    "#from config import audit\n",
    "\n",
    "def get_age_seed_videos():\n",
    "    if Audit.USER_AGE == 'young':\n",
    "        df = pd.read_csv(Audit.YOUNG_SEED_AGE_VIDEO_PATH, index_col=0)\n",
    "    elif Audit.USER_AGE == 'old':\n",
    "        df = pd.read_csv(Audit.OLD_SEED_AGE_VIDEO_PATH, index_col=0)\n",
    "    else:\n",
    "        raise ValueError('User age must be \"young\" or \"old\"')\n",
    "    \n",
    "    # Convert duration to seconds\n",
    "    df['duration'] = df['duration'].apply(lambda x: datetime.datetime.strptime(x, '%H:%M:%S').time())\n",
    "    df['duration'] = df['duration'].apply(lambda x: x.hour * 3600 + x.minute * 60 + x.second)\n",
    "    durations = df['duration'].values\n",
    "    \n",
    "    #df = df[df['label'] == Audit.USER_AGE]\n",
    "    video_ids = df[Audit.VIDEO_ID_COLUMN].values\n",
    "    video_urls = [get_full_url(video_id) for video_id in video_ids]\n",
    "    return video_urls, durations\n",
    "\n",
    "def get_finance_seed_videos():\n",
    "    df = pd.read_csv(Audit.SEED_FINANCE_VIDEO_PATH, index_col=0)\n",
    "    #df = df[df['label'] == Audit.FINANCE_VIDEO_TYPE]\n",
    "\n",
    "    # Convert duration to seconds\n",
    "    df['duration'] = df['duration'].apply(lambda x: datetime.datetime.strptime(x, '%H:%M:%S').time())\n",
    "    df['duration'] = df['duration'].apply(lambda x: x.hour * 3600 + x.minute * 60 + x.second)\n",
    "    durations = df['duration'].values\n",
    "\n",
    "    video_ids = df[Audit.VIDEO_ID_COLUMN].values\n",
    "    video_urls = [get_full_url(video_id) for video_id in video_ids]\n",
    "    return video_urls, durations\n",
    "\n",
    "def process_durations_list(durations):\n",
    "    if Audit.WATCH_BY_RATIO:\n",
    "        durations = [int(duration * Audit.WATCH_RATIO) for duration in durations]\n",
    "    else:\n",
    "        durations = [Audit.WATCH_DURATION for duration in durations]\n",
    "    return durations\n",
    "\n",
    "get_age_seed_videos()"
   ]
  },
  {
   "cell_type": "code",
   "execution_count": null,
   "metadata": {},
   "outputs": [],
   "source": [
    "from src.YTDriver import YTDriver"
   ]
  },
  {
   "cell_type": "code",
   "execution_count": null,
   "metadata": {},
   "outputs": [],
   "source": [
    "def run_audit():\n",
    "\n",
    "    #Record start time\n",
    "    start_time = time.time()\n",
    "    driver = YTDriver(browser='firefox', verbose=True)\n",
    "\n",
    "    #Watch age seed videos\n",
    "    age_seed_videos, age_seed_video_durations = get_age_seed_videos()\n",
    "    age_seed_video_durations = process_durations_list(age_seed_video_durations)\n",
    "    driver.play_list(age_seed_videos, age_seed_video_durations, homepage_interval=0, topn=Audit.NUM_RECOMMENDATIONS)\n",
    "    to_csv(driver, start_time)\n",
    "\n",
    "    #Watch finance videos\n",
    "    finance_seed_videos, finance_seed_video_durations = get_finance_seed_videos()\n",
    "    finance_seed_video_durations = process_durations_list(finance_seed_video_durations)\n",
    "    driver.play_list(finance_seed_videos, finance_seed_video_durations, homepage_interval=10, topn=Audit.NUM_RECOMMENDATIONS)\n",
    "\n",
    "    driver.close() #Only closes the browser, object and results are still available\n",
    "\n",
    "    #Save results to csv\n",
    "    to_csv(driver, start_time)\n",
    "run_audit()"
   ]
  },
  {
   "cell_type": "code",
   "execution_count": null,
   "metadata": {},
   "outputs": [],
   "source": [
    "def to_csv():\n",
    "    start_time_str = str(start_time).replace('.', '') #Remove period from start time for filenames\n",
    "\n",
    "    video_recs_df = pd.DataFrame(driver.video_recs)\n",
    "    video_recs_df['Start Time'] = start_time\n",
    "    video_recs_df['Age'] = Audit.USER_AGE\n",
    "    video_recs_df['Finance Video Type'] = Audit.FINANCE_VIDEO_TYPE\n",
    "    video_recs_df.to_csv(Audit.AUDIT_RESULTS_PATH + f'{start_time_str}-video_recs.csv', index=False)\n",
    "\n",
    "    homepage_recs_df = pd.DataFrame(driver.homepage_recs)\n",
    "    homepage_recs_df['Start Time'] = start_time\n",
    "    homepage_recs_df['Age'] = Audit.USER_AGE\n",
    "    homepage_recs_df['Finance Video Type'] = Audit.FINANCE_VIDEO_TYPE\n",
    "    homepage_recs_df.to_csv(Audit.AUDIT_RESULTS_PATH + f'{start_time_str}-homepage_recs.csv', index=False)"
   ]
  },
  {
   "cell_type": "code",
   "execution_count": null,
   "metadata": {},
   "outputs": [],
   "source": []
  },
  {
   "cell_type": "code",
   "execution_count": null,
   "metadata": {},
   "outputs": [],
   "source": [
    "def scrape_video(url):\n",
    "    \"\"\"\n",
    "\n",
    "    Args:\n",
    "        url (str): Must be a url for a valid YouTube video\n",
    "    \"\"\"\n",
    "    assert('youtube.com' in url.lower())\n",
    "    \n",
    "    driver = webdriver.Chrome()\n",
    "    driver.get(url)\n",
    "    time.sleep(5)\n",
    "    driver.execute_script(\"window.scrollTo(0, document.body.scrollHeight);\")\n",
    "    \n",
    "    elements = driver.find_elements(By.ID, 'video-title')\n",
    "    out = []\n",
    "    for elem in elements[:-1]: #Last element is not actually a video\n",
    "        title = elem.get_attribute('innerHTML').strip()\n",
    "        link = elem.find_element(By.XPATH, \"./../..\").get_attribute('href') #Extracts link to video\n",
    "        \n",
    "        row = {'title': title, 'link': link, 'source': url}\n",
    "        out.append(row)\n",
    "        \n",
    "    print(out)\n",
    "    driver.close()\n",
    "    return out\n",
    "\n",
    "def scrape_ytdriver(filepath, recursions=5):\n",
    "    driver = YTDriver(browser='firefox', verbose=True)\n",
    "\n",
    "    videos = []\n",
    "    cur_videos = driver.get_homepage()\n",
    "    if not cur_videos:\n",
    "        cur_videos = driver.get_homepage()\n",
    "    videos += cur_videos\n",
    "    \n",
    "    for _ in range(recursions):\n",
    "        driver.play(cur_videos[0], 10)\n",
    "\n",
    "        cur_videos = driver.get_recommendations()\n",
    "        videos += cur_videos\n",
    "            \n",
    "    driver.close()\n",
    "\n",
    "    video_urls = [video.url for video in videos]\n",
    "    video_urls.insert(0, 'https://www.youtube.com') #Demark start of sessions\n",
    "    \n",
    "    list_to_csv(video_urls, filepath)\n",
    "    return video_urls"
   ]
  }
 ],
 "metadata": {
  "kernelspec": {
   "display_name": ".venv",
   "language": "python",
   "name": "python3"
  },
  "language_info": {
   "codemirror_mode": {
    "name": "ipython",
    "version": 3
   },
   "file_extension": ".py",
   "mimetype": "text/x-python",
   "name": "python",
   "nbconvert_exporter": "python",
   "pygments_lexer": "ipython3",
   "version": "3.9.6"
  },
  "orig_nbformat": 4,
  "vscode": {
   "interpreter": {
    "hash": "bc204a9723bb08316d50099ac13d40ce960bbd8b2366046bd948bed845217909"
   }
  }
 },
 "nbformat": 4,
 "nbformat_minor": 2
}
