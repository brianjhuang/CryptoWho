{
 "cells": [
  {
   "cell_type": "code",
   "execution_count": 1,
   "metadata": {},
   "outputs": [],
   "source": [
    "from selenium import webdriver\n",
    "from bs4 import BeautifulSoup\n",
    "from selenium.webdriver.common.by import By\n",
    "import json\n",
    "import sys\n",
    "import pandas as pd\n",
    "import re"
   ]
  },
  {
   "cell_type": "code",
   "execution_count": 2,
   "metadata": {},
   "outputs": [],
   "source": [
    "from dataclasses import dataclass\n",
    "\n",
    "@dataclass\n",
    "class YoutubeLink:\n",
    "    url: str\n",
    "    subreddit: str\n",
    "    thread_url: str"
   ]
  },
  {
   "cell_type": "code",
   "execution_count": 3,
   "metadata": {},
   "outputs": [],
   "source": [
    "SUBREDDITS = ['investing', 'finance', 'cryptocurrency', 'wallstreetbets']\n",
    "YoutubeLinks = []\n",
    "\n",
    "driver = webdriver.Firefox()"
   ]
  },
  {
   "cell_type": "code",
   "execution_count": 4,
   "metadata": {},
   "outputs": [],
   "source": [
    "def process_thread(url):\n",
    "    # old.reddit.com is easier to scrape, doesn't have js lazy loading\n",
    "    driver.get(url)\n",
    "    soup = BeautifulSoup(driver.page_source)\n",
    "    \n",
    "    #Find all links in comments, keeping only youtube links\n",
    "    comments = soup.find_all('div', {\"data-type\": \"comment\"})\n",
    "    links = []\n",
    "    for comment in comments:\n",
    "        for link in comment.find('div', {'class': 'usertext-body'}).find_all('a', href=True):\n",
    "            if 'youtube.com' in link['href']:\n",
    "                links.append(link['href'])\n",
    "    \n",
    "    return links\n"
   ]
  },
  {
   "cell_type": "code",
   "execution_count": 5,
   "metadata": {},
   "outputs": [],
   "source": [
    "for SUBREDDIT in SUBREDDITS:\n",
    "    url = f\"https://reddit.com/r/{SUBREDDIT}/top/?sort=top&t=year\"\n",
    "    driver.get(url)\n",
    "    \n",
    "    # Get all thread links\n",
    "    soup = BeautifulSoup(driver.page_source)\n",
    "    links = soup.find_all('a', {\"data-click-id\": \"body\"})\n",
    "    threads = [link for link in links if link['href'].startswith('/r/')]\n",
    "    \n",
    "    for thread in threads:\n",
    "        thread_url = f\"https://old.reddit.com{thread['href']}\"\n",
    "        links = process_thread(thread_url)\n",
    "        \n",
    "        if len(links) > 0:\n",
    "            for link in links:\n",
    "                YoutubeLinks.append(YoutubeLink(link, SUBREDDIT, thread_url))\n",
    "                \n",
    "driver.close()"
   ]
  },
  {
   "cell_type": "code",
   "execution_count": 6,
   "metadata": {},
   "outputs": [],
   "source": [
    "pd.DataFrame(YoutubeLinks).to_csv('../data/raw/scraped_youtube_links.csv', index=False)"
   ]
  }
 ],
 "metadata": {
  "interpreter": {
   "hash": "a7f8db6aea59d1f10a9d3a436b54c50bfeaa0a65429587619fcd16b6d9d618cf"
  },
  "kernelspec": {
   "display_name": "Python 3.8.10 ('.venv': venv)",
   "language": "python",
   "name": "python3"
  },
  "language_info": {
   "codemirror_mode": {
    "name": "ipython",
    "version": 3
   },
   "file_extension": ".py",
   "mimetype": "text/x-python",
   "name": "python",
   "nbconvert_exporter": "python",
   "pygments_lexer": "ipython3",
   "version": "3.8.10"
  },
  "orig_nbformat": 4
 },
 "nbformat": 4,
 "nbformat_minor": 2
}
