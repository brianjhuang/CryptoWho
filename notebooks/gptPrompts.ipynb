{
 "cells": [
  {
   "cell_type": "code",
   "execution_count": 106,
   "metadata": {},
   "outputs": [],
   "source": [
    "import pandas as pd\n",
    "import numpy as np\n",
    "\n",
    "import openai\n",
    "import os\n",
    "from tqdm import tqdm\n",
    "import time\n",
    "\n",
    "import sys\n",
    "\n",
    "sys.path.insert(0, '..')\n",
    "\n",
    "from src.features.youtubeCleaner import Cleaner"
   ]
  },
  {
   "cell_type": "code",
   "execution_count": 172,
   "metadata": {
    "tags": []
   },
   "outputs": [],
   "source": [
    "def create_binary_blockchain_prompt(snippet):\n",
    "    \"\"\"Creates a binary prediction given a video snippet for a blockchain task.\n",
    "\n",
    "    Parameters\n",
    "    ----------\n",
    "    snippet : str\n",
    "        The title, summarized transcript, and tags of a video concatenated together\n",
    "\n",
    "    Returns\n",
    "    -------\n",
    "    str\n",
    "    \"\"\"\n",
    "    \n",
    "    prompt = \"I am a YouTube video classifier. Provide me with a video snippet (title + summarized transcript + tags) and I will analyze if the video recommends or teaches about blockchain investments(bitcoin, NFTs, Ethereum, etc). I respond only with Yes and No.\\n\\nExamples:\\nSnippet: Invest in Index Funds. You should invest in index funds. stocks investing\\nAnswer: No\\n\\nSnippet: Buy Crypto. You should invest in bitcoin. crypto invest\\nAnswer: Yes\\n\\nHere is the actual task:\\nSnippet: \"\n",
    "    \n",
    "    prompt += snippet.replace(\"\\n\", \" \").replace(\"  \", \" \") + \"\\nAnswer:\"\n",
    "    \n",
    "    return prompt\n",
    "        "
   ]
  },
  {
   "cell_type": "code",
   "execution_count": 219,
   "metadata": {
    "tags": []
   },
   "outputs": [],
   "source": [
    "def create_binary_traditional_prompt(snippet):\n",
    "    \"\"\"Creates a binary prediction given a video snippet for a traditional task.\n",
    "\n",
    "    Parameters\n",
    "    ----------\n",
    "    snippet : str\n",
    "        The title, summarized transcript, and tags of a video concatenated together\n",
    "\n",
    "    Returns\n",
    "    -------\n",
    "    str\n",
    "    \"\"\"\n",
    "    \n",
    "    prompt=\"I am a YouTube video classifier. Provide me with a video snippet (title + summarized transcript + tags) and I will analyze if the video recommends or teaches about traditional investments (stocks, bonds,  commodities, real estate, etc). I respond only with Yes and No.\\n\\nExamples:\\nSnippet: Invest in Index Funds. You should invest in index funds. stocks investing\\nAnswer: Yes\\n\\nSnippet: Buy Crypto. You should invest in bitcoin. crypto invest\\nAnswer: No\\n\\nHere is the actual task:\\nSnippet: \"\n",
    "    \n",
    "    prompt += snippet.replace(\"\\n\", \" \").replace(\"  \", \" \") + \"\\nAnswer:\"\n",
    "    \n",
    "    return prompt"
   ]
  },
  {
   "cell_type": "code",
   "execution_count": 168,
   "metadata": {},
   "outputs": [],
   "source": [
    "def create_prompt(snippet):\n",
    "    \"\"\"Creates a prompt given a video snippet.\n",
    "\n",
    "    Parameters\n",
    "    ----------\n",
    "    snippet : str\n",
    "        The title, summarized transcript, and tags of a video concatenated together\n",
    "\n",
    "    Returns\n",
    "    -------\n",
    "    str\n",
    "        The prompt\n",
    "    \"\"\"\n",
    "    \n",
    "    prompt=\"I am a YouTube video classifier that takes in video snippets (title + shortened transcript + tags) and outputs one of the following labels if the video recommends or teaches about:\\n\\n1. Blockchain: Cryptocurrency, NFTs, or anything related to the blockchain\\n2. Traditional: Stocks, Bonds, Real Estate, Commodities\\n3. Mixed: Both blockchain and traditional investments\\n4. None: Not related to the labels above.\\n\\nExamples:\\nSnippet: Invest in Index Funds. You should invest in index funds. stocks investing\\nAnswer: Traditional\\n\\nSnippet: Buy Crypto. Bitcoin is the best crypto to invest in. crypto invest\\nAnswer: Blockchain\\n\\nSnippet: Investing Tips: Balance your portfolio with stocks and bitcoin. investing finance\\nAnswer: Mixed\\n\\nSnippet: Cute Cat TikToks: Here are some of the cutest cat TikToks. tiktok cats\\nAnswer: None\\n\\nSnippet: \"\n",
    "    \n",
    "    # Clean off any additional new lines we don't need\n",
    "    prompt += snippet.replace(\"\\n\", \" \").replace(\"  \", \" \") + '\\nAnswer:'   \n",
    "    \n",
    "    return prompt"
   ]
  },
  {
   "cell_type": "code",
   "execution_count": 87,
   "metadata": {},
   "outputs": [],
   "source": [
    "# Function to make classification requests\n",
    "def classify(prompt, model_engine = \"text-davinci-003\", max_tokens = 1024, n = 1, temperature = 0.25):\n",
    "    \"\"\"Queries the OpenAI Davinci model using the prompt created.\n",
    "\n",
    "    Parameters\n",
    "    ----------\n",
    "    prompt: str\n",
    "        The prompt we want to feed to our model\n",
    "    model_engine : str\n",
    "        The model we want to query. Default text-davinci-003\n",
    "    max_tokens: str\n",
    "        The max amount of tokens the model will ingest/return\n",
    "    n : int\n",
    "        Number of completions we want generated. Default 1\n",
    "    temperature: float\n",
    "        The amount of risk the model will take. Lower temperature results in a more deterministic model. 0 temperature always outputs the same output. Default 0.25\n",
    "\n",
    "    Returns\n",
    "    -------\n",
    "    OpenAIObject text_completion\n",
    "        Our completion\n",
    "    \"\"\"\n",
    "    completions = openai.Completion.create(\n",
    "        engine=model_engine,\n",
    "        prompt=prompt,\n",
    "        max_tokens=max_tokens,\n",
    "        n=n,\n",
    "        stop=None,\n",
    "        temperature=temperature,\n",
    "    )\n",
    "    return completions"
   ]
  },
  {
   "cell_type": "code",
   "execution_count": 88,
   "metadata": {
    "tags": []
   },
   "outputs": [],
   "source": [
    "def extract_prediction(completion):\n",
    "    \"\"\"Removes the prediction from the completion object.\n",
    "\n",
    "    Parameters\n",
    "    ----------\n",
    "    OpenAIObject text_completion\n",
    "        Our completion\n",
    "\n",
    "    Returns\n",
    "    -------\n",
    "    str\n",
    "        Predicted label\n",
    "    \"\"\"\n",
    "    \n",
    "    return completion.choices[0].text.strip()"
   ]
  },
  {
   "cell_type": "code",
   "execution_count": 89,
   "metadata": {
    "tags": []
   },
   "outputs": [],
   "source": [
    "def token_cost(completion, model_cost):\n",
    "    \"\"\"Removes the prediction from the completion object.\n",
    "\n",
    "    Parameters\n",
    "    ----------\n",
    "    completion : OpenAIObject text_completion\n",
    "        Our completion\n",
    "    model_cost : float\n",
    "        Cost per token for selected model engine\n",
    "\n",
    "    Returns\n",
    "    -------\n",
    "    dict\n",
    "        Report on how many tokens we used\n",
    "    \"\"\"\n",
    "    \n",
    "    \n",
    "    tokens = dict(completion.usage)\n",
    "    tokens['cost'] = tokens['total_tokens'] * model_cost\n",
    "    \n",
    "    return tokens"
   ]
  },
  {
   "cell_type": "code",
   "execution_count": 90,
   "metadata": {
    "tags": []
   },
   "outputs": [],
   "source": [
    "def format_output(completion, model_cost):\n",
    "    \"\"\"Formats our output for analysis\n",
    "\n",
    "    Parameters\n",
    "    ----------\n",
    "    OpenAIObject text_completion\n",
    "        Our completion\n",
    "    model_cost : float\n",
    "        Cost per token for selected model engine\n",
    "\n",
    "    Returns\n",
    "    -------\n",
    "    dict\n",
    "        Report on the output\n",
    "    \"\"\"\n",
    "    \n",
    "    output = token_cost(completion, model_cost)\n",
    "    output['label'] = extract_prediction(completion)\n",
    "    \n",
    "    return output "
   ]
  },
  {
   "cell_type": "code",
   "execution_count": 91,
   "metadata": {
    "tags": []
   },
   "outputs": [],
   "source": [
    "DAVINCI_COST = 0.0200 / 1000"
   ]
  },
  {
   "cell_type": "code",
   "execution_count": 92,
   "metadata": {},
   "outputs": [],
   "source": [
    "df = pd.read_csv('../data/seed/youtube/seed_videos.csv')"
   ]
  },
  {
   "cell_type": "code",
   "execution_count": 93,
   "metadata": {},
   "outputs": [],
   "source": [
    "# Initialize the API client\n",
    "openai.api_key = os.environ.get(\"OPENAI_API_KEY\")"
   ]
  },
  {
   "cell_type": "code",
   "execution_count": 185,
   "metadata": {},
   "outputs": [],
   "source": [
    "completion_one = classify(createPrompt(df['snippet'][0]))"
   ]
  },
  {
   "cell_type": "code",
   "execution_count": 186,
   "metadata": {
    "tags": []
   },
   "outputs": [
    {
     "data": {
      "text/plain": [
       "{'prompt_tokens': 562,\n",
       " 'completion_tokens': 1,\n",
       " 'total_tokens': 563,\n",
       " 'cost': 0.011260000000000001,\n",
       " 'label': 'Traditional'}"
      ]
     },
     "execution_count": 186,
     "metadata": {},
     "output_type": "execute_result"
    }
   ],
   "source": [
    "format_output(completion_one, DAVINCI_COST)"
   ]
  },
  {
   "cell_type": "markdown",
   "metadata": {},
   "source": [
    "Open AI Rate Limits\n",
    "- 20 RPM\n",
    "- 150,000 TPM"
   ]
  },
  {
   "cell_type": "code",
   "execution_count": 169,
   "metadata": {
    "tags": []
   },
   "outputs": [],
   "source": [
    "def classify_snippets(df):\n",
    "    \n",
    "    outputs = []\n",
    "    predictions = []\n",
    "    \n",
    "    # Create progress bar to track classification process\n",
    "    pbar = tqdm(df.iterrows())\n",
    "    \n",
    "    for idx, entry in pbar:\n",
    "        pbar.set_description(\"Processing %s\" % entry['title'])\n",
    "        output = format_output(classify(create_prompt(entry['snippet'])), DAVINCI_COST)\n",
    "        \n",
    "        outputs.append(output)\n",
    "        predictions.append(output['label'])\n",
    "\n",
    "        \n",
    "        time.sleep(3.25) # We are limited to 20 requests per minute\n",
    "        \n",
    "    return outputs, predictions"
   ]
  },
  {
   "cell_type": "code",
   "execution_count": 139,
   "metadata": {
    "tags": []
   },
   "outputs": [
    {
     "name": "stderr",
     "output_type": "stream",
     "text": [
      "Processing NFTs, Explained: : 102it [06:36,  3.89s/it]                                                                                    \n"
     ]
    }
   ],
   "source": [
    "outputs, predictions = classify_snippets(df)"
   ]
  },
  {
   "cell_type": "code",
   "execution_count": 148,
   "metadata": {
    "tags": []
   },
   "outputs": [],
   "source": [
    "token_usage = pd.DataFrame(outputs)"
   ]
  },
  {
   "cell_type": "code",
   "execution_count": 152,
   "metadata": {
    "tags": []
   },
   "outputs": [
    {
     "data": {
      "text/plain": [
       "(1.2229400000000004, 61147)"
      ]
     },
     "execution_count": 152,
     "metadata": {},
     "output_type": "execute_result"
    }
   ],
   "source": [
    "token_usage['cost'].sum(), token_usage['total_tokens'].sum()"
   ]
  },
  {
   "cell_type": "code",
   "execution_count": 156,
   "metadata": {
    "tags": []
   },
   "outputs": [],
   "source": [
    "mapping = {'traditional' : 0, 'blockchain': 1, 'mixed': 2, 'unrelated': 3}"
   ]
  },
  {
   "cell_type": "code",
   "execution_count": 158,
   "metadata": {
    "tags": []
   },
   "outputs": [],
   "source": [
    "actual = df['label'].apply(lambda x: mapping[x])"
   ]
  },
  {
   "cell_type": "code",
   "execution_count": 160,
   "metadata": {
    "tags": []
   },
   "outputs": [],
   "source": [
    "mapping = {'Traditional' : 0, 'Blockchain': 1, 'Mixed': 2, 'None': 3}"
   ]
  },
  {
   "cell_type": "code",
   "execution_count": 162,
   "metadata": {
    "tags": []
   },
   "outputs": [],
   "source": [
    "predictions = token_usage['label'].apply(lambda x: mapping[x])"
   ]
  },
  {
   "cell_type": "code",
   "execution_count": 180,
   "metadata": {
    "tags": []
   },
   "outputs": [],
   "source": [
    "from sklearn.metrics import accuracy_score, classification_report"
   ]
  },
  {
   "cell_type": "code",
   "execution_count": 166,
   "metadata": {
    "tags": []
   },
   "outputs": [
    {
     "data": {
      "text/plain": [
       "0.5686274509803921"
      ]
     },
     "execution_count": 166,
     "metadata": {},
     "output_type": "execute_result"
    }
   ],
   "source": [
    "accuracy_score(actual, predictions)"
   ]
  },
  {
   "cell_type": "code",
   "execution_count": 182,
   "metadata": {
    "tags": []
   },
   "outputs": [
    {
     "name": "stdout",
     "output_type": "stream",
     "text": [
      "              precision    recall  f1-score   support\n",
      "\n",
      "           0       0.92      0.55      0.69        40\n",
      "           1       1.00      0.57      0.73        42\n",
      "           2       0.14      1.00      0.24         5\n",
      "           3       0.41      0.47      0.44        15\n",
      "\n",
      "    accuracy                           0.57       102\n",
      "   macro avg       0.62      0.65      0.52       102\n",
      "weighted avg       0.84      0.57      0.65       102\n",
      "\n"
     ]
    }
   ],
   "source": [
    "print(classification_report(actual, predictions))"
   ]
  },
  {
   "cell_type": "code",
   "execution_count": 167,
   "metadata": {
    "tags": []
   },
   "outputs": [],
   "source": [
    "token_usage.to_csv('baseline_classifier_results.csv')"
   ]
  },
  {
   "cell_type": "code",
   "execution_count": 187,
   "metadata": {
    "tags": []
   },
   "outputs": [],
   "source": [
    "def classify_binary_blockchain_snippets(df):\n",
    "    \n",
    "    outputs = []\n",
    "    predictions = []\n",
    "    \n",
    "    # Create progress bar to track classification process\n",
    "    pbar = tqdm(df.iterrows())\n",
    "    \n",
    "    for idx, entry in pbar:\n",
    "        pbar.set_description(\"Processing %s\" % entry['title'])\n",
    "        output = format_output(classify(create_binary_blockchain_prompt(entry['snippet'])), DAVINCI_COST)\n",
    "        \n",
    "        outputs.append(output)\n",
    "        predictions.append(output['label'])\n",
    "\n",
    "        \n",
    "        time.sleep(5) # We are limited to 20 requests per minute\n",
    "        \n",
    "    return outputs, predictions"
   ]
  },
  {
   "cell_type": "code",
   "execution_count": 188,
   "metadata": {
    "tags": []
   },
   "outputs": [],
   "source": [
    "def classify_binary_traditional_snippets(df):\n",
    "    \n",
    "    outputs = []\n",
    "    predictions = []\n",
    "    \n",
    "    # Create progress bar to track classification process\n",
    "    pbar = tqdm(df.iterrows())\n",
    "    \n",
    "    for idx, entry in pbar:\n",
    "        pbar.set_description(\"Processing %s\" % entry['title'])\n",
    "        output = format_output(classify(create_binary_traditional_prompt(entry['snippet'])), DAVINCI_COST)\n",
    "        \n",
    "        outputs.append(output)\n",
    "        predictions.append(output['label'])\n",
    "\n",
    "        \n",
    "        time.sleep(5) # We are limited to 20 requests per minute\n",
    "        \n",
    "    return outputs, predictions"
   ]
  },
  {
   "cell_type": "code",
   "execution_count": 189,
   "metadata": {
    "tags": []
   },
   "outputs": [
    {
     "name": "stderr",
     "output_type": "stream",
     "text": [
      "Processing NFTs, Explained: : 102it [09:19,  5.48s/it]                                                                                    \n"
     ]
    }
   ],
   "source": [
    "blockchain_outputs, blockchain_predictions = classify_binary_blockchain_snippets(df)"
   ]
  },
  {
   "cell_type": "code",
   "execution_count": 232,
   "metadata": {
    "tags": []
   },
   "outputs": [
    {
     "name": "stderr",
     "output_type": "stream",
     "text": [
      "Processing NFTs, Explained: : 102it [09:34,  5.63s/it]                                                                                    \n"
     ]
    }
   ],
   "source": [
    "traditional_outputs, traditional_predictions = classify_binary_traditional_snippets(df)"
   ]
  },
  {
   "cell_type": "code",
   "execution_count": 233,
   "metadata": {
    "tags": []
   },
   "outputs": [],
   "source": [
    "blockchain_results = pd.DataFrame(blockchain_outputs)"
   ]
  },
  {
   "cell_type": "code",
   "execution_count": 234,
   "metadata": {
    "tags": []
   },
   "outputs": [
    {
     "data": {
      "text/plain": [
       "1.03322"
      ]
     },
     "execution_count": 234,
     "metadata": {},
     "output_type": "execute_result"
    }
   ],
   "source": [
    "blockchain_results['cost'].sum()"
   ]
  },
  {
   "cell_type": "code",
   "execution_count": 235,
   "metadata": {
    "tags": []
   },
   "outputs": [],
   "source": [
    "traditional_results = pd.DataFrame(traditional_outputs)"
   ]
  },
  {
   "cell_type": "code",
   "execution_count": 236,
   "metadata": {
    "tags": []
   },
   "outputs": [
    {
     "data": {
      "text/plain": [
       "1.0372999999999999"
      ]
     },
     "execution_count": 236,
     "metadata": {},
     "output_type": "execute_result"
    }
   ],
   "source": [
    "traditional_results['cost'].sum()"
   ]
  },
  {
   "cell_type": "code",
   "execution_count": 237,
   "metadata": {
    "tags": []
   },
   "outputs": [],
   "source": [
    "traditional_results.to_csv(\"../data/external/baseline_binary_traditional_results.csv\")"
   ]
  },
  {
   "cell_type": "code",
   "execution_count": 238,
   "metadata": {
    "tags": []
   },
   "outputs": [],
   "source": [
    "blockchain_results.to_csv(\"../data/external/baseline_binary_blockchain_results.csv\")"
   ]
  },
  {
   "cell_type": "code",
   "execution_count": 257,
   "metadata": {
    "tags": []
   },
   "outputs": [],
   "source": [
    "traditional_preds = np.array(traditional_results['label'].apply(lambda x : 1 if x == 'Yes' else 0))"
   ]
  },
  {
   "cell_type": "code",
   "execution_count": 258,
   "metadata": {
    "tags": []
   },
   "outputs": [],
   "source": [
    "blockchain_preds = np.array(blockchain_results['label'].apply(lambda x : 2 if x == 'Yes' else 0))"
   ]
  },
  {
   "cell_type": "code",
   "execution_count": 263,
   "metadata": {
    "tags": []
   },
   "outputs": [],
   "source": [
    "mapping = {'unrelated' : 0, 'traditional': 1, 'blockchain': 2, 'mixed': 3}\n",
    "actual = np.array(df['label'].apply(lambda x: mapping[x]))"
   ]
  },
  {
   "cell_type": "code",
   "execution_count": 264,
   "metadata": {
    "tags": []
   },
   "outputs": [],
   "source": [
    "preds = traditional_preds + blockchain_preds"
   ]
  },
  {
   "cell_type": "code",
   "execution_count": 265,
   "metadata": {
    "tags": []
   },
   "outputs": [
    {
     "data": {
      "text/plain": [
       "0.7647058823529411"
      ]
     },
     "execution_count": 265,
     "metadata": {},
     "output_type": "execute_result"
    }
   ],
   "source": [
    "accuracy_score(actual, preds)"
   ]
  },
  {
   "cell_type": "code",
   "execution_count": 266,
   "metadata": {
    "tags": []
   },
   "outputs": [
    {
     "name": "stdout",
     "output_type": "stream",
     "text": [
      "              precision    recall  f1-score   support\n",
      "\n",
      "           0       0.50      0.60      0.55        15\n",
      "           1       0.85      0.97      0.91        40\n",
      "           2       0.93      0.67      0.78        42\n",
      "           3       0.25      0.40      0.31         5\n",
      "\n",
      "    accuracy                           0.76       102\n",
      "   macro avg       0.63      0.66      0.63       102\n",
      "weighted avg       0.80      0.76      0.77       102\n",
      "\n"
     ]
    }
   ],
   "source": [
    "print(classification_report(actual, preds))"
   ]
  }
 ],
 "metadata": {
  "kernelspec": {
   "display_name": "crypto",
   "language": "python",
   "name": "crypto"
  },
  "language_info": {
   "codemirror_mode": {
    "name": "ipython",
    "version": 3
   },
   "file_extension": ".py",
   "mimetype": "text/x-python",
   "name": "python",
   "nbconvert_exporter": "python",
   "pygments_lexer": "ipython3",
   "version": "3.8.5"
  }
 },
 "nbformat": 4,
 "nbformat_minor": 4
}
