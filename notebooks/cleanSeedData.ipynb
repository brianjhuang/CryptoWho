{
 "cells": [
  {
   "cell_type": "code",
   "execution_count": 2,
   "id": "65f07098-e670-46d5-b4d1-83b26d16d811",
   "metadata": {
    "tags": []
   },
   "outputs": [],
   "source": [
    "import pandas as pd\n",
    "import os"
   ]
  },
  {
   "cell_type": "code",
   "execution_count": 41,
   "id": "535685ce-a3fe-4c29-b2b9-af9f78dc5792",
   "metadata": {
    "tags": []
   },
   "outputs": [],
   "source": [
    "paths = ['data/seed/youtube/' + path for path in os.listdir('data/seed/youtube') if path != '.gitignore' and path != '.ipynb_checkpoints']"
   ]
  },
  {
   "cell_type": "code",
   "execution_count": 42,
   "id": "33aeca80-26f9-4efd-b7cd-35c873fc8fb4",
   "metadata": {
    "tags": []
   },
   "outputs": [],
   "source": [
    "def extract_id_and_label(path, label):\n",
    "    ids = []\n",
    "    with open(f'data/seed/youtube/{label}.txt', 'r+') as f:\n",
    "        for link in f.readlines():\n",
    "            ids.append(link.split('v=')[1].strip('\\n')+ f',{label}' + '\\n')\n",
    "    with open(f'data/seed/youtube/{label}.csv', 'w+') as f:\n",
    "        f.write('video_id,label' + '\\n')\n",
    "        f.writelines(ids)"
   ]
  },
  {
   "cell_type": "code",
   "execution_count": 43,
   "id": "9cd21dab-fdbb-4474-bc87-91cf243c6fa1",
   "metadata": {
    "tags": []
   },
   "outputs": [
    {
     "name": "stdout",
     "output_type": "stream",
     "text": [
      "unrelated\n",
      "blockchain\n",
      "traditional\n",
      "old\n",
      "mixed\n",
      "young\n"
     ]
    }
   ],
   "source": [
    "for path in paths:\n",
    "    print(path.split('youtube/')[1].split('.')[0])"
   ]
  },
  {
   "cell_type": "code",
   "execution_count": 44,
   "id": "815b1c58-e6f4-4d2f-ab08-04d17b1be447",
   "metadata": {
    "tags": []
   },
   "outputs": [],
   "source": [
    "for path in paths:\n",
    "    label = path.split('youtube/')[1].split('.')[0]\n",
    "    extract_id_and_label(path, label)"
   ]
  },
  {
   "cell_type": "code",
   "execution_count": 46,
   "id": "00723f9f-c3a0-45fe-b8f2-0b2a01298e79",
   "metadata": {
    "tags": []
   },
   "outputs": [],
   "source": [
    "paths = ['data/seed/youtube/' + path for path in os.listdir('data/seed/youtube') if path != '.gitignore' and path != '.ipynb_checkpoints' and '.csv' in path]"
   ]
  },
  {
   "cell_type": "code",
   "execution_count": 47,
   "id": "d8f3b155-cb5e-4145-9996-d4121a9a1f9e",
   "metadata": {
    "tags": []
   },
   "outputs": [
    {
     "data": {
      "text/plain": [
       "['data/seed/youtube/young.csv',\n",
       " 'data/seed/youtube/unrelated.csv',\n",
       " 'data/seed/youtube/old.csv',\n",
       " 'data/seed/youtube/traditional.csv',\n",
       " 'data/seed/youtube/mixed.csv',\n",
       " 'data/seed/youtube/blockchain.csv']"
      ]
     },
     "execution_count": 47,
     "metadata": {},
     "output_type": "execute_result"
    }
   ],
   "source": [
    "paths"
   ]
  },
  {
   "cell_type": "code",
   "execution_count": 48,
   "id": "ca1269a5-078a-4675-a78b-3ba3d6bd55e7",
   "metadata": {
    "tags": []
   },
   "outputs": [],
   "source": [
    "traditional = pd.read_csv('data/seed/youtube/traditional.csv')\n",
    "blockchain = pd.read_csv('data/seed/youtube/blockchain.csv')\n",
    "mixed = pd.read_csv('data/seed/youtube/mixed.csv')\n",
    "unrelated = pd.read_csv('data/seed/youtube/unrelated.csv')\n",
    "old = pd.read_csv('data/seed/youtube/old.csv')\n",
    "young = pd.read_csv('data/seed/youtube/young.csv')"
   ]
  },
  {
   "cell_type": "code",
   "execution_count": 49,
   "id": "98713a6c-6c53-40ec-b7c5-7c5b83dd6f62",
   "metadata": {
    "tags": []
   },
   "outputs": [],
   "source": [
    "seed_finance_videos = pd.concat([traditional, blockchain, mixed, unrelated])"
   ]
  },
  {
   "cell_type": "code",
   "execution_count": 51,
   "id": "6de21fac-6e4f-4c11-a5e3-e265d3660e94",
   "metadata": {
    "tags": []
   },
   "outputs": [],
   "source": [
    "seed_age_videos = pd.concat([young, old])"
   ]
  },
  {
   "cell_type": "code",
   "execution_count": 53,
   "id": "11e538bc-1cbf-4e57-b190-97c626f5a6ed",
   "metadata": {
    "tags": []
   },
   "outputs": [],
   "source": [
    "seed_finance_videos.to_csv('seed_finance_videos.csv')\n",
    "seed_age_videos.to_csv('seed_age_videos.csv')"
   ]
  }
 ],
 "metadata": {
  "kernelspec": {
   "display_name": "Python 3 (ipykernel)",
   "language": "python",
   "name": "python3"
  },
  "language_info": {
   "codemirror_mode": {
    "name": "ipython",
    "version": 3
   },
   "file_extension": ".py",
   "mimetype": "text/x-python",
   "name": "python",
   "nbconvert_exporter": "python",
   "pygments_lexer": "ipython3",
   "version": "3.10.6"
  }
 },
 "nbformat": 4,
 "nbformat_minor": 5
}
