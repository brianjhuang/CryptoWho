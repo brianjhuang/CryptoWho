{
 "cells": [
  {
   "cell_type": "code",
   "execution_count": 1,
   "id": "65f07098-e670-46d5-b4d1-83b26d16d811",
   "metadata": {
    "tags": []
   },
   "outputs": [],
   "source": [
    "import pandas as pd\n",
    "import os"
   ]
  },
  {
   "cell_type": "code",
   "execution_count": 41,
   "id": "535685ce-a3fe-4c29-b2b9-af9f78dc5792",
   "metadata": {
    "tags": []
   },
   "outputs": [],
   "source": [
    "paths = ['data/seed/youtube/' + path for path in os.listdir('data/seed/youtube') if path != '.gitignore' and path != '.ipynb_checkpoints']"
   ]
  },
  {
   "cell_type": "code",
   "execution_count": 42,
   "id": "33aeca80-26f9-4efd-b7cd-35c873fc8fb4",
   "metadata": {
    "tags": []
   },
   "outputs": [],
   "source": [
    "def extract_id_and_label(path, label):\n",
    "    ids = []\n",
    "    with open(f'data/seed/youtube/{label}.txt', 'r+') as f:\n",
    "        for link in f.readlines():\n",
    "            ids.append(link.split('v=')[1].strip('\\n')+ f',{label}' + '\\n')\n",
    "    with open(f'data/seed/youtube/{label}.csv', 'w+') as f:\n",
    "        f.write('video_id,label' + '\\n')\n",
    "        f.writelines(ids)"
   ]
  },
  {
   "cell_type": "code",
   "execution_count": 43,
   "id": "9cd21dab-fdbb-4474-bc87-91cf243c6fa1",
   "metadata": {
    "tags": []
   },
   "outputs": [
    {
     "name": "stdout",
     "output_type": "stream",
     "text": [
      "unrelated\n",
      "blockchain\n",
      "traditional\n",
      "old\n",
      "mixed\n",
      "young\n"
     ]
    }
   ],
   "source": [
    "for path in paths:\n",
    "    print(path.split('youtube/')[1].split('.')[0])"
   ]
  },
  {
   "cell_type": "code",
   "execution_count": 44,
   "id": "815b1c58-e6f4-4d2f-ab08-04d17b1be447",
   "metadata": {
    "tags": []
   },
   "outputs": [],
   "source": [
    "for path in paths:\n",
    "    label = path.split('youtube/')[1].split('.')[0]\n",
    "    extract_id_and_label(path, label)"
   ]
  },
  {
   "cell_type": "code",
   "execution_count": 46,
   "id": "00723f9f-c3a0-45fe-b8f2-0b2a01298e79",
   "metadata": {
    "tags": []
   },
   "outputs": [],
   "source": [
    "paths = ['data/seed/youtube/' + path for path in os.listdir('data/seed/youtube') if path != '.gitignore' and path != '.ipynb_checkpoints' and '.csv' in path]"
   ]
  },
  {
   "cell_type": "code",
   "execution_count": 47,
   "id": "d8f3b155-cb5e-4145-9996-d4121a9a1f9e",
   "metadata": {
    "tags": []
   },
   "outputs": [
    {
     "data": {
      "text/plain": [
       "['data/seed/youtube/young.csv',\n",
       " 'data/seed/youtube/unrelated.csv',\n",
       " 'data/seed/youtube/old.csv',\n",
       " 'data/seed/youtube/traditional.csv',\n",
       " 'data/seed/youtube/mixed.csv',\n",
       " 'data/seed/youtube/blockchain.csv']"
      ]
     },
     "execution_count": 47,
     "metadata": {},
     "output_type": "execute_result"
    }
   ],
   "source": [
    "paths"
   ]
  },
  {
   "cell_type": "code",
   "execution_count": 48,
   "id": "ca1269a5-078a-4675-a78b-3ba3d6bd55e7",
   "metadata": {
    "tags": []
   },
   "outputs": [],
   "source": [
    "traditional = pd.read_csv('data/seed/youtube/traditional.csv')\n",
    "blockchain = pd.read_csv('data/seed/youtube/blockchain.csv')\n",
    "mixed = pd.read_csv('data/seed/youtube/mixed.csv')\n",
    "unrelated = pd.read_csv('data/seed/youtube/unrelated.csv')\n",
    "old = pd.read_csv('data/seed/youtube/old.csv')\n",
    "young = pd.read_csv('data/seed/youtube/young.csv')"
   ]
  },
  {
   "cell_type": "code",
   "execution_count": 49,
   "id": "98713a6c-6c53-40ec-b7c5-7c5b83dd6f62",
   "metadata": {
    "tags": []
   },
   "outputs": [],
   "source": [
    "seed_finance_videos = pd.concat([traditional, blockchain, mixed, unrelated])"
   ]
  },
  {
   "cell_type": "code",
   "execution_count": 51,
   "id": "6de21fac-6e4f-4c11-a5e3-e265d3660e94",
   "metadata": {
    "tags": []
   },
   "outputs": [],
   "source": [
    "seed_age_videos = pd.concat([young, old])"
   ]
  },
  {
   "cell_type": "code",
   "execution_count": 53,
   "id": "11e538bc-1cbf-4e57-b190-97c626f5a6ed",
   "metadata": {
    "tags": []
   },
   "outputs": [],
   "source": [
    "seed_finance_videos.to_csv('seed_finance_videos.csv')\n",
    "seed_age_videos.to_csv('seed_age_videos.csv')"
   ]
  },
  {
   "cell_type": "code",
   "execution_count": 2,
   "id": "2a99c39c-7cdd-45f9-9390-0ce2801f364b",
   "metadata": {
    "tags": []
   },
   "outputs": [],
   "source": [
    "df = pd.read_csv('../data/raw/youtube/seed_finance_videos.csv')"
   ]
  },
  {
   "cell_type": "code",
   "execution_count": 4,
   "id": "c257a9f0-24c9-4d94-a859-57d6341b1d3f",
   "metadata": {
    "tags": []
   },
   "outputs": [],
   "source": [
    "df['label'] = df['label'].apply(lambda x : x[0].upper() + x[1:])"
   ]
  },
  {
   "cell_type": "code",
   "execution_count": 6,
   "id": "d9510aca-8186-4096-b7a5-2732c6ec59e0",
   "metadata": {
    "tags": []
   },
   "outputs": [],
   "source": [
    "df['label'] = df['label'].apply(lambda x: 'None' if x == 'Unrelated' else x)"
   ]
  },
  {
   "cell_type": "code",
   "execution_count": 9,
   "id": "b8959c37-d8e4-4ad8-987d-01ed1530a539",
   "metadata": {
    "tags": []
   },
   "outputs": [],
   "source": [
    "df.to_csv('../data/raw/youtube/seed_finance_videos.csv')"
   ]
  },
  {
   "cell_type": "code",
   "execution_count": 30,
   "id": "98bdceea-b75b-4e61-b63f-c0ea422c8a8b",
   "metadata": {
    "tags": []
   },
   "outputs": [],
   "source": [
    "pd.set_option('display.max_rows', None)"
   ]
  },
  {
   "cell_type": "code",
   "execution_count": 67,
   "id": "fe69ca42-cc4c-4efd-a6fd-ed9e65115eb9",
   "metadata": {
    "tags": []
   },
   "outputs": [],
   "source": [
    "raw_seed = pd.read_csv('../data/raw/youtube/seed_finance_videos.csv')"
   ]
  },
  {
   "cell_type": "code",
   "execution_count": 57,
   "id": "a4dd14a7-ae21-46e1-b8bd-5a884f3bb9f2",
   "metadata": {
    "tags": []
   },
   "outputs": [],
   "source": [
    "raw_seed = raw_seed[(raw_seed['video_id'] != \"HIf2ecpTQ0A\") & (raw_seed['video_id'] != \"YBTdDfRmcrI\")]"
   ]
  },
  {
   "cell_type": "code",
   "execution_count": 62,
   "id": "737e16d1-643a-47ab-b6dd-a722656801f5",
   "metadata": {
    "tags": []
   },
   "outputs": [
    {
     "data": {
      "text/plain": [
       "Index(['Unnamed: 0.1', 'Unnamed: 0', 'video_id', 'label'], dtype='object')"
      ]
     },
     "execution_count": 62,
     "metadata": {},
     "output_type": "execute_result"
    }
   ],
   "source": [
    "raw_seed.columns"
   ]
  },
  {
   "cell_type": "code",
   "execution_count": 64,
   "id": "4575cdb0-d2e6-4219-87ed-c31674eb06b6",
   "metadata": {
    "tags": []
   },
   "outputs": [],
   "source": [
    "raw_seed = raw_seed.drop(['Unnamed: 0.1', 'Unnamed: 0'], axis = 1)"
   ]
  },
  {
   "cell_type": "code",
   "execution_count": 66,
   "id": "7f572729-308e-47d0-85b8-2a3a65817e98",
   "metadata": {
    "tags": []
   },
   "outputs": [],
   "source": [
    "raw_seed.to_csv('../data/raw/youtube/seed_finance_videos.csv', index = False)"
   ]
  },
  {
   "cell_type": "code",
   "execution_count": 91,
   "id": "75249758-9579-4072-a719-9531bd7e53e8",
   "metadata": {
    "tags": []
   },
   "outputs": [],
   "source": [
    "seed = pd.read_csv('../data/seed/youtube/seed_videos.csv')\n",
    "young = pd.read_csv('../data/seed/youtube/young_videos.csv')\n",
    "old = pd.read_csv('../data/seed/youtube/old_videos.csv')"
   ]
  },
  {
   "cell_type": "code",
   "execution_count": 92,
   "id": "5ca47cef-633e-48f7-bae4-6d4e53d516de",
   "metadata": {
    "tags": []
   },
   "outputs": [
    {
     "data": {
      "text/plain": [
       "Traditional    40\n",
       "Blockchain     40\n",
       "None           15\n",
       "Mixed           5\n",
       "Name: label, dtype: int64"
      ]
     },
     "execution_count": 92,
     "metadata": {},
     "output_type": "execute_result"
    }
   ],
   "source": [
    "seed['label'].value_counts()"
   ]
  }
 ],
 "metadata": {
  "kernelspec": {
   "display_name": ".venv",
   "language": "python",
   "name": "python3"
  },
  "language_info": {
   "codemirror_mode": {
    "name": "ipython",
    "version": 3
   },
   "file_extension": ".py",
   "mimetype": "text/x-python",
   "name": "python",
   "nbconvert_exporter": "python",
   "pygments_lexer": "ipython3",
   "version": "3.8.5"
  }
 },
 "nbformat": 4,
 "nbformat_minor": 5
}
