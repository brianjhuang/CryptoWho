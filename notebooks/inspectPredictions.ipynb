{
 "cells": [
  {
   "cell_type": "code",
   "execution_count": null,
   "metadata": {},
   "outputs": [],
   "source": [
    "import pandas as pd\n",
    "import os\n",
    "from matplotlib import pyplot as plt\n",
    "import seaborn as sns\n",
    "import numpy as np"
   ]
  },
  {
   "cell_type": "code",
   "execution_count": null,
   "metadata": {},
   "outputs": [],
   "source": [
    "homepage_blockchain_old = pd.read_csv('../data/audit/youtube/results/homepage_blockchain_old_predictions.csv')\n",
    "homepage_blockchain_young = pd.read_csv('../data/audit/youtube/results/homepage_blockchain_young_predictions.csv')\n",
    "\n",
    "homepage_mixed_old = pd.read_csv('../data/audit/youtube/results/homepage_mixed_old_predictions.csv')\n",
    "homepage_mixed_young = pd.read_csv('../data/audit/youtube/results/homepage_mixed_young_predictions.csv')\n",
    "\n",
    "homepage_traditional_old = pd.read_csv('../data/audit/youtube/results/homepage_traditional_old_predictions.csv')\n",
    "homepage_traditional_young = pd.read_csv('../data/audit/youtube/results/homepage_traditional_young_predictions.csv')\n",
    "\n",
    "sidebar_blockchain_old = pd.read_csv('../data/audit/youtube/results/sidebar_blockchain_old_predictions.csv')\n",
    "sidebar_blockchain_young = pd.read_csv('../data/audit/youtube/results/sidebar_blockchain_young_predictions.csv')\n",
    "\n",
    "sidebar_mixed_old = pd.read_csv('../data/audit/youtube/results/sidebar_mixed_old_predictions.csv')\n",
    "sidebar_mixed_young = pd.read_csv('../data/audit/youtube/results/sidebar_mixed_young_predictions.csv')\n",
    "\n",
    "sidebar_traditional_old = pd.read_csv('../data/audit/youtube/results/sidebar_traditional_old_predictions.csv')\n",
    "sidebar_traditional_young = pd.read_csv('../data/audit/youtube/results/sidebar_traditional_young_predictions.csv')"
   ]
  },
  {
   "cell_type": "code",
   "execution_count": null,
   "metadata": {},
   "outputs": [],
   "source": [
    "home = {\"old\" : {\n",
    "    \"blockchain\" : homepage_blockchain_old,\n",
    "    \"traditional\" : homepage_traditional_old,\n",
    "    \"mixed\" : homepage_mixed_old,\n",
    "}, \n",
    "\"young\" : {\n",
    "    \"blockchain\" : homepage_blockchain_young,\n",
    "    \"traditional\" : homepage_traditional_young,\n",
    "    \"mixed\" : homepage_mixed_young,\n",
    "    }}"
   ]
  },
  {
   "cell_type": "code",
   "execution_count": null,
   "metadata": {},
   "outputs": [],
   "source": [
    "sidebar = {\"old\" : {\n",
    "    \"blockchain\" : sidebar_blockchain_old,\n",
    "    \"traditional\" : sidebar_traditional_old,\n",
    "    \"mixed\" : sidebar_mixed_old,\n",
    "}, \n",
    "\"young\" : {\n",
    "    \"blockchain\" : sidebar_blockchain_young,\n",
    "    \"traditional\" : sidebar_traditional_young,\n",
    "    \"mixed\" : sidebar_mixed_young,\n",
    "    }}"
   ]
  },
  {
   "cell_type": "code",
   "execution_count": null,
   "metadata": {},
   "outputs": [],
   "source": [
    "print(\"\\nOld Blockchain: \")\n",
    "print(home['old']['blockchain']['prediction'].value_counts())\n",
    "print(\"\\nOld Traditional: \")\n",
    "print(home['old']['traditional']['prediction'].value_counts())\n",
    "print(\"\\nOld Mixed: \")\n",
    "print(home['old']['mixed']['prediction'].value_counts())"
   ]
  },
  {
   "cell_type": "code",
   "execution_count": null,
   "metadata": {},
   "outputs": [],
   "source": [
    "print(\"\\nYoung Blockchain: \")\n",
    "print(home['young']['blockchain']['prediction'].value_counts())\n",
    "print(\"\\nYoung Traditional: \")\n",
    "print(home['young']['traditional']['prediction'].value_counts())\n",
    "print(\"\\nYoung Mixed: \")\n",
    "print(home['young']['mixed']['prediction'].value_counts())"
   ]
  },
  {
   "cell_type": "code",
   "execution_count": null,
   "metadata": {},
   "outputs": [],
   "source": [
    "print(\"\\nOld Blockchain: \")\n",
    "print(sidebar['old']['blockchain']['prediction'].value_counts())\n",
    "print(\"\\nOld Traditional: \")\n",
    "print(sidebar['old']['traditional']['prediction'].value_counts())\n",
    "print(\"\\nOld Mixed: \")\n",
    "print(sidebar['old']['mixed']['prediction'].value_counts())"
   ]
  },
  {
   "cell_type": "code",
   "execution_count": null,
   "metadata": {},
   "outputs": [],
   "source": [
    "print(\"\\nYoung Blockchain: \")\n",
    "print(sidebar['young']['blockchain']['prediction'].value_counts())\n",
    "print(\"\\nYoung Traditional: \")\n",
    "print(sidebar['young']['traditional']['prediction'].value_counts())\n",
    "print(\"\\nYoung Mixed: \")\n",
    "print(sidebar['young']['mixed']['prediction'].value_counts())"
   ]
  },
  {
   "cell_type": "code",
   "execution_count": null,
   "metadata": {},
   "outputs": [],
   "source": [
    "home['old']['blockchain'][home['old']['blockchain']['prediction'] == 'Label']"
   ]
  },
  {
   "cell_type": "code",
   "execution_count": null,
   "metadata": {},
   "outputs": [],
   "source": [
    "home['old']['traditional'][home['old']['traditional']['prediction'] == 'Label']"
   ]
  },
  {
   "cell_type": "code",
   "execution_count": null,
   "metadata": {},
   "outputs": [],
   "source": [
    "home['old']['mixed'][home['old']['mixed']['prediction'] == 'Label']"
   ]
  },
  {
   "cell_type": "code",
   "execution_count": null,
   "metadata": {},
   "outputs": [],
   "source": [
    "home['young']['blockchain'][home['young']['blockchain']['prediction'] == 'Label']"
   ]
  },
  {
   "cell_type": "code",
   "execution_count": null,
   "metadata": {},
   "outputs": [],
   "source": [
    "home['young']['traditional'][home['young']['traditional']['prediction'] == 'Label']"
   ]
  },
  {
   "cell_type": "code",
   "execution_count": null,
   "metadata": {},
   "outputs": [],
   "source": [
    "home['young']['mixed'][home['young']['mixed']['prediction'] == 'Label']"
   ]
  },
  {
   "cell_type": "code",
   "execution_count": null,
   "metadata": {},
   "outputs": [],
   "source": [
    "sidebar['old']['blockchain'][sidebar['old']['blockchain']['prediction'] == 'Label']"
   ]
  },
  {
   "cell_type": "code",
   "execution_count": null,
   "metadata": {},
   "outputs": [],
   "source": [
    "# Tough one, 8 hour video, is traditional but no possible way we could use GPT for this. Interesting prediction though\n",
    "sidebar['old']['blockchain'][sidebar['old']['blockchain']['prediction'] == 'snippet = \\\"Rich Dad\\'s Cashflow Quadrant Guide to Financial Freedom Robert T Kiyosaki full Audio Book.\"\\nkeywords = [\\'financial freedom\\', \\'cashflow\\', \\'Robert T Kiyosaki\\', \\'audio book\\']\\n\\ntraditional_keywords = [\\'stocks\\', \\'bonds\\', \\'real estate\\', \\'commodities\\', \\'retirement accounts\\']\\nblockchain_keywords = [\\'cryptocurrency\\', \\'NFTs\\', \\'Web3\\']\\nmixed_keywords = traditional_keywords + blockchain_keywords\\n\\nlabel = \\'Unrelated\\'\\nrationale = \\'No mention of traditional or blockchain investments.\\'\\n\\nfor word in mixed_keywords']"
   ]
  },
  {
   "cell_type": "code",
   "execution_count": null,
   "metadata": {},
   "outputs": [],
   "source": [
    "print(sidebar['old']['blockchain'][sidebar['old']['blockchain']['prediction'] == 'snippet = \\\"Rich Dad\\'s Cashflow Quadrant Guide to Financial Freedom Robert T Kiyosaki full Audio Book.\"\\nkeywords = [\\'financial freedom\\', \\'cashflow\\', \\'Robert T Kiyosaki\\', \\'audio book\\']\\n\\ntraditional_keywords = [\\'stocks\\', \\'bonds\\', \\'real estate\\', \\'commodities\\', \\'retirement accounts\\']\\nblockchain_keywords = [\\'cryptocurrency\\', \\'NFTs\\', \\'Web3\\']\\nmixed_keywords = traditional_keywords + blockchain_keywords\\n\\nlabel = \\'Unrelated\\'\\nrationale = \\'No mention of traditional or blockchain investments.\\'\\n\\nfor word in mixed_keywords']['prediction'][578])"
   ]
  },
  {
   "cell_type": "code",
   "execution_count": null,
   "metadata": {},
   "outputs": [],
   "source": [
    "sidebar['old']['traditional'][sidebar['old']['traditional']['prediction'] == 'Label']"
   ]
  },
  {
   "cell_type": "code",
   "execution_count": null,
   "metadata": {},
   "outputs": [],
   "source": [
    "sidebar['old']['traditional'][sidebar['old']['traditional']['prediction'] == '# Importing necessary libraries\\nimport re\\n\\n# Defining function to classify snippet\\ndef classify_snippet(snippet)']"
   ]
  },
  {
   "cell_type": "code",
   "execution_count": null,
   "metadata": {},
   "outputs": [],
   "source": [
    "sidebar['old']['mixed'][sidebar['old']['mixed']['prediction'] == 'Label']"
   ]
  },
  {
   "cell_type": "code",
   "execution_count": null,
   "metadata": {},
   "outputs": [],
   "source": [
    "sidebar['old']['mixed'][sidebar['old']['mixed']['prediction'] == 'Based on the provided snippet, I am unable to classify it as it does not contain any relevant information related to traditional or blockchain investments. Therefore, it falls under the label Unrelated. \\n\\nUnrelated']"
   ]
  },
  {
   "cell_type": "code",
   "execution_count": null,
   "metadata": {},
   "outputs": [],
   "source": [
    "sidebar['young']['blockchain'][sidebar['young']['blockchain']['prediction'] == 'Label']"
   ]
  },
  {
   "cell_type": "code",
   "execution_count": null,
   "metadata": {},
   "outputs": [],
   "source": [
    "sidebar['young']['traditional'][sidebar['young']['traditional']['prediction'] == 'Label']"
   ]
  },
  {
   "cell_type": "code",
   "execution_count": null,
   "metadata": {},
   "outputs": [],
   "source": [
    "sidebar['young']['mixed'][sidebar['young']['mixed']['prediction'] == 'Label']"
   ]
  },
  {
   "cell_type": "code",
   "execution_count": null,
   "metadata": {},
   "outputs": [],
   "source": [
    "def mark_unrelated(label):\n",
    "    if label.strip() in ['Traditional', 'Blockchain', 'Unrelated', 'Mixed']:\n",
    "        return label\n",
    "    return 'Unrelated'"
   ]
  },
  {
   "cell_type": "code",
   "execution_count": null,
   "metadata": {},
   "outputs": [],
   "source": [
    "sidebar['young']['mixed']['prediction'] = sidebar['young']['mixed']['prediction'].apply(mark_unrelated)\n",
    "sidebar['young']['traditional']['prediction'] = sidebar['young']['traditional']['prediction'].apply(mark_unrelated)\n",
    "sidebar['young']['blockchain']['prediction'] = sidebar['young']['blockchain']['prediction'].apply(mark_unrelated)\n",
    "\n",
    "sidebar['old']['mixed']['prediction'] = sidebar['old']['mixed']['prediction'].apply(mark_unrelated)\n",
    "sidebar['old']['traditional']['prediction'] = sidebar['old']['traditional']['prediction'].apply(mark_unrelated)\n",
    "sidebar['old']['blockchain']['prediction'] = sidebar['old']['blockchain']['prediction'].apply(mark_unrelated)"
   ]
  },
  {
   "cell_type": "code",
   "execution_count": null,
   "metadata": {},
   "outputs": [],
   "source": [
    "home['young']['mixed']['prediction'] = home['young']['mixed']['prediction'].apply(mark_unrelated)\n",
    "home['young']['traditional']['prediction'] = home['young']['traditional']['prediction'].apply(mark_unrelated)\n",
    "home['young']['blockchain']['prediction'] = home['young']['blockchain']['prediction'].apply(mark_unrelated)\n",
    "\n",
    "home['old']['mixed']['prediction'] = home['old']['mixed']['prediction'].apply(mark_unrelated)\n",
    "home['old']['traditional']['prediction'] = home['old']['traditional']['prediction'].apply(mark_unrelated)\n",
    "home['old']['blockchain']['prediction'] = home['old']['blockchain']['prediction'].apply(mark_unrelated)"
   ]
  },
  {
   "cell_type": "code",
   "execution_count": null,
   "metadata": {},
   "outputs": [],
   "source": [
    "print(\"\\nOld Blockchain: \")\n",
    "print(sidebar['old']['blockchain']['prediction'].value_counts())\n",
    "print(\"\\nOld Traditional: \")\n",
    "print(sidebar['old']['traditional']['prediction'].value_counts())\n",
    "print(\"\\nOld Mixed: \")\n",
    "print(sidebar['old']['mixed']['prediction'].value_counts())\n"
   ]
  },
  {
   "cell_type": "code",
   "execution_count": null,
   "metadata": {},
   "outputs": [],
   "source": [
    "print(\"\\nYoung Blockchain: \")\n",
    "print(sidebar['young']['blockchain']['prediction'].value_counts())\n",
    "print(\"\\nYoung Traditional: \")\n",
    "print(sidebar['young']['traditional']['prediction'].value_counts())\n",
    "print(\"\\nYoung Mixed: \")\n",
    "print(sidebar['young']['mixed']['prediction'].value_counts())"
   ]
  },
  {
   "cell_type": "code",
   "execution_count": null,
   "metadata": {},
   "outputs": [],
   "source": [
    "unrelated = [282, 232, 239, 264, 259, 291]\n",
    "mixed = [60, 43, 60, 62, 34, 34]\n",
    "traditional = [116, 296, 198, 106, 257, 164]\n",
    "blockchain = [129, 5, 68, 135, 1, 74]\n",
    "labels = ['Old Blockchain', 'Old Traditional', 'Old Mixed', 'Young Blockchain', 'Young Traditional', 'Young Mixed']"
   ]
  },
  {
   "cell_type": "code",
   "execution_count": null,
   "metadata": {},
   "outputs": [],
   "source": [
    "sidebar_plot = pd.DataFrame({'Mixed': mixed, 'Blockchain' : blockchain, 'Traditional' : traditional}, index = labels)\n",
    "# create stacked bar chart for monthly temperatures\n",
    "sidebar_plot.plot(kind='bar', stacked=True)\n",
    " \n",
    "# labels for x & y axis\n",
    "plt.xlabel('Type of User')\n",
    "plt.ylabel('Videos Seen')\n",
    " \n",
    "# title of plot\n",
    "plt.title('Recommendations Across Different User Sidebars')\n",
    "plt.savefig(\"sidebar_recommendations_distribution.png\", dpi = 300, bbox_inches ='tight')"
   ]
  },
  {
   "cell_type": "code",
   "execution_count": null,
   "metadata": {},
   "outputs": [],
   "source": [
    "print(\"\\nOld Blockchain: \")\n",
    "print(home['old']['blockchain']['prediction'].value_counts())\n",
    "print(\"\\nOld Traditional: \")\n",
    "print(home['old']['traditional']['prediction'].value_counts())\n",
    "print(\"\\nOld Mixed: \")\n",
    "print(home['old']['mixed']['prediction'].value_counts())"
   ]
  },
  {
   "cell_type": "code",
   "execution_count": null,
   "metadata": {},
   "outputs": [],
   "source": [
    "print(\"\\nYoung Blockchain: \")\n",
    "print(home['young']['blockchain']['prediction'].value_counts())\n",
    "print(\"\\nYoung Traditional: \")\n",
    "print(home['young']['traditional']['prediction'].value_counts())\n",
    "print(\"\\nYoung Mixed: \")\n",
    "print(home['young']['mixed']['prediction'].value_counts())"
   ]
  },
  {
   "cell_type": "code",
   "execution_count": null,
   "metadata": {},
   "outputs": [],
   "source": [
    "unrelated = [65, 77, 71, 56, 83, 84]\n",
    "mixed = [6, 6, 6, 2, 9, 10]\n",
    "traditional = [17, 21, 15, 4, 9, 4]\n",
    "blockchain = [4, 0, 1, 2, 0, 0]\n",
    "labels = ['Old Blockchain', 'Old Traditional', 'Old Mixed', 'Young Blockchain', 'Young Traditional', 'Young Mixed']"
   ]
  },
  {
   "cell_type": "code",
   "execution_count": null,
   "metadata": {},
   "outputs": [],
   "source": [
    "homepage_plot = pd.DataFrame({'Mixed': mixed, 'Blockchain' : blockchain, 'Traditional' : traditional}, index = labels)\n",
    "# create stacked bar chart for monthly temperatures\n",
    "homepage_plot.plot(kind='bar', stacked=True)\n",
    " \n",
    "# labels for x & y axis\n",
    "plt.xlabel('Type of User')\n",
    "plt.ylabel('Videos Seen')\n",
    " \n",
    "# title of plot\n",
    "plt.title('Recommendations Across Different User Homepages')\n",
    "plt.savefig(\"homepage_recommendations_distribution.png\", dpi = 300, bbox_inches ='tight')"
   ]
  },
  {
   "cell_type": "code",
   "execution_count": null,
   "metadata": {},
   "outputs": [],
   "source": [
    "from scipy.stats import chi2_contingency"
   ]
  },
  {
   "cell_type": "code",
   "execution_count": null,
   "metadata": {},
   "outputs": [],
   "source": [
    "# Create Pandas series with four labels\n",
    "young_home = home['young']['mixed']['prediction']\n",
    "old_home = home['old']['mixed']['prediction']\n",
    "\n",
    "# Count the number of occurrences for each label\n",
    "young_counts = young_home.value_counts()\n",
    "old_counts = old_home.value_counts()\n",
    "# Create a contingency table\n",
    "contingency_table = np.array([[84, 10, 4, 0], [71, 15, 6, 1]])\n",
    "\n",
    "# Perform the Chi-Squared test\n",
    "stat, p, dof, expected = chi2_contingency(contingency_table)\n",
    "\n",
    "# Print the results\n",
    "print('Chi-Squared test results:')\n",
    "print('Statistic = %.3f, p-value = %.3f, Degrees of freedom = %d' % (stat, p, dof))\n",
    "print('Expected frequencies: ', expected)"
   ]
  },
  {
   "cell_type": "code",
   "execution_count": null,
   "metadata": {},
   "outputs": [],
   "source": [
    "# Create Pandas series with four labels\n",
    "young_home = home['young']['mixed']['prediction']\n",
    "old_home = home['old']['mixed']['prediction']\n",
    "\n",
    "# Count the number of occurrences for each label\n",
    "young_counts = young_home.value_counts()\n",
    "old_counts = old_home.value_counts()\n",
    "# Create a contingency table\n",
    "contingency_table = np.array([[4, 0], [15, 1]])\n",
    "\n",
    "# Perform the Chi-Squared test\n",
    "stat, p, dof, expected = chi2_contingency(contingency_table)\n",
    "\n",
    "# Print the results\n",
    "print('Chi-Squared test results:')\n",
    "print('Statistic = %.3f, p-value = %.3f, Degrees of freedom = %d' % (stat, p, dof))\n",
    "print('Expected frequencies: ', expected)"
   ]
  },
  {
   "cell_type": "code",
   "execution_count": null,
   "metadata": {},
   "outputs": [],
   "source": [
    "# Create Pandas series with four labels\n",
    "young_home = home['young']['mixed']['prediction']\n",
    "old_home = home['old']['mixed']['prediction']\n",
    "\n",
    "# Count the number of occurrences for each label\n",
    "young_counts = young_home.value_counts()\n",
    "old_counts = old_home.value_counts()\n",
    "# Create a contingency table\n",
    "contingency_table = np.array([[239, 198, 68, 60], [291, 164, 74, 34]])\n",
    "\n",
    "# Perform the Chi-Squared test\n",
    "stat, p, dof, expected = chi2_contingency(contingency_table)\n",
    "\n",
    "# Print the results\n",
    "print('Chi-Squared test results:')\n",
    "print('Statistic = %.3f, p-value = %.3f, Degrees of freedom = %d' % (stat, p, dof))\n",
    "print('Expected frequencies: ', expected)"
   ]
  },
  {
   "cell_type": "code",
   "execution_count": null,
   "metadata": {},
   "outputs": [],
   "source": [
    "# Create Pandas series with four labels\n",
    "young_home = home['young']['mixed']['prediction']\n",
    "old_home = home['old']['mixed']['prediction']\n",
    "\n",
    "# Count the number of occurrences for each label\n",
    "young_counts = young_home.value_counts()\n",
    "old_counts = old_home.value_counts()\n",
    "# Create a contingency table\n",
    "contingency_table = np.array([[164, 74], [198, 68]])\n",
    "\n",
    "# Perform the Chi-Squared test\n",
    "stat, p, dof, expected = chi2_contingency(contingency_table)\n",
    "\n",
    "# Print the results\n",
    "print('Chi-Squared test results:')\n",
    "print('Statistic = %.3f, p-value = %.3f, Degrees of freedom = %d' % (stat, p, dof))\n",
    "print('Expected frequencies: ', expected)"
   ]
  },
  {
   "attachments": {},
   "cell_type": "markdown",
   "metadata": {},
   "source": [
    "### TO-DO\n",
    "- Plot the trend of recommendations over time by joining with the original dataframe and seeing for sidebar and homepage\n",
    "- Chi Squared Test"
   ]
  }
 ],
 "metadata": {
  "kernelspec": {
   "display_name": ".venv",
   "language": "python",
   "name": "python3"
  },
  "language_info": {
   "codemirror_mode": {
    "name": "ipython",
    "version": 3
   },
   "file_extension": ".py",
   "mimetype": "text/x-python",
   "name": "python",
   "nbconvert_exporter": "python",
   "pygments_lexer": "ipython3",
   "version": "3.8.5"
  },
  "orig_nbformat": 4
 },
 "nbformat": 4,
 "nbformat_minor": 2
}
