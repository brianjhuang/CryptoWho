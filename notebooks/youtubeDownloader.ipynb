{
 "cells": [
  {
   "cell_type": "code",
   "execution_count": 6,
   "metadata": {},
   "outputs": [],
   "source": [
    "from googleapiclient.discovery import build\n",
    "import pandas as pd\n",
    "import os\n",
    "import json\n",
    "import time\n",
    "import googleapiclient.errors\n",
    "\n",
    "import logging\n",
    "\n",
    "from tqdm.notebook import tqdm\n",
    "import random"
   ]
  },
  {
   "cell_type": "code",
   "execution_count": 7,
   "metadata": {},
   "outputs": [],
   "source": [
    "api_key = os.environ.get('YOUTUBE_DATA_API_KEY')"
   ]
  },
  {
   "cell_type": "code",
   "execution_count": 8,
   "metadata": {},
   "outputs": [],
   "source": [
    "youtube = build('youtube', 'v3', developerKey=api_key)"
   ]
  },
  {
   "cell_type": "code",
   "execution_count": 9,
   "metadata": {},
   "outputs": [],
   "source": [
    "try:\n",
    "    video_response=youtube.videos().list(\n",
    "        part = ['snippet'],\n",
    "        id= 'vLzYIiHwthA',\n",
    "        maxResults = 100\n",
    "    ).execute()\n",
    "except googleapiclient.errors.HttpError as e:\n",
    "    logging.info(f\"Encountered {e}\")\n"
   ]
  },
  {
   "cell_type": "code",
   "execution_count": 10,
   "metadata": {},
   "outputs": [
    {
     "data": {
      "text/plain": [
       "{'kind': 'youtube#videoListResponse',\n",
       " 'etag': 'DW1pFtm_83fqDbZPi4LVrQ8Nimk',\n",
       " 'items': [{'kind': 'youtube#video',\n",
       "   'etag': 'hMm5QPfrO5i48rH090LhJ0pt4aE',\n",
       "   'id': 'vLzYIiHwthA',\n",
       "   'snippet': {'publishedAt': '2022-05-20T18:11:21Z',\n",
       "    'channelId': 'UC9WTdcfYpSOXtGIR7Dp6-xg',\n",
       "    'title': 'Invest in Crypto? Remember these IMPORTANT words!  🙏 #shorts',\n",
       "    'description': \"Remember these important words if you invest money into crypto. \\n\\n✅ SUBSCRIBE ➕ LIKE ➕ 🔔\\n\\n🔥 Quality Tweets & Giveaways  — Twitter 👉 http://www.twitter.com/ourcryptolife\\n\\n▬▬▬▬▬▬▬▬▬▬▬▬▬▬▬▬▬▬▬▬▬▬▬▬▬▬▬▬▬\\n\\n✅ Welcome to Our Crypto Life! If you thought this video was interesting, please hit the thumbs up button and consider subscribing to our channel. It's FREE! \\n🌐 http://youtube.com/channel/UC9WTdcfYpSOXtGIR7Dp6-xg?sub_confirmation=1\\n\\nCheck out our OFFICIAL Linktr.ee! \\n🌐 https://linktr.ee/ourcryptolife\\n\\n** Not Financial Advice **\\n\\n❌ BEWARE OF SCAMMERS ❌\\nNo one will ever ask for your seed phrase, password, pins, etc. Make sure you keep this information private. I will never leave a comment in my videos or channel asking to message, email, call, or text you. These are scammers. Be safe.\\n\\nbitcoin, cosmos crypto, ethereum, cosmos, crypto, solana, solana crypto, cosmos atom coin, cosmos atom, cosmos atom crypto, bitcoin today, bitcoin news, cosmos coin, bitcoin price prediction, litecoin, atom cosmos, cosmos atom crypto coin, bitcoin hold, bitcoin price, cosmos cryptocurrency, cosmos atom vs solana, solana vs cosmos, cosmos vs solana, cosmos (atom) vs solana, airdrops, cosmos airdrops, get rich from airdrops, free airdrops, cryptocurrency explained, top 3 cryptocurrency, top cryptocurrency to invest in, buy cryptocurrency, ibcgang, amp crypto, amp token explained, crypto amp, amp crypto price, amp token news, flexa network\\n\\nCosmos (ATOM) Explained\\nLitecoin Review\\nLuna Coin\\nTerra Review\\nCryptocurrency News\\nEthereum Cryptocurrency \\nBitcoin Review\\nBreaking Crypto News\\nCrypto and Taxes\\nClaim Airdrops\\nCosmos Airdrops Release\\nHow To Buy Cryptocurrency\\nTop Cryptocurrency\\nCosmos Ecosystem Projects\\nCosmos Ecosystem Coins\\nMake Money From Airdrops\\n\\n▬▬▬▬▬▬▬▬▬▬▬▬▬▬▬▬▬▬▬▬▬▬▬▬▬▬▬▬▬\\n\\n💵 Want $10 for FREE? Sign up for Coinbase & get up to 4% crypto cash back rewards for every purchase!\\n🌐 https://www.coinbase.com/join/ay5j1k?src=ios-link\\n\\n💵 Do you also want $25 for FREE? Sign up for Crypto.com with my referral code 36AEGWQ5MJ & get a stylish metal prepaid debit card + earn crypto rewards on every purchase!\\n🌐 https://crypto.com/app/36aegwq5mj\\n\\n💵 Want FREE crypto rewards on KuCoin? Use my referral code!\\n🌐 https://www.kucoin.com/r/rf/rP4EQKG\\n\\n💵 I’ve been using Cash App to send money & spend using the Cash Card. Try it using my referral code MNGFGKD & you’ll get $5 for FREE!\\n🌐 https://cash.app/app/MNGFGKD\\n\\n▬▬▬▬▬▬▬▬▬▬▬▬▬▬▬▬▬▬▬▬▬▬▬▬▬▬▬▬▬\\n\\n📜 History 📜 \\n\\nA cryptocurrency, crypto-currency, or crypto is a digital currency designed to work as a medium of exchange through a computer network that is not reliant on any central authority, such as a government or bank, to uphold or maintain it.\\n\\nIn 2009, the first decentralized cryptocurrency, bitcoin, was created by presumably pseudonymous developer Satoshi Nakamoto. It used SHA-256, a cryptographic hash function, in its proof-of-work scheme. In April 2011, Namecoin was created as an attempt at forming a decentralized DNS, which would make internet censorship very difficult. Soon after, in October 2011, Litecoin was released. It used scrypt as its hash function instead of SHA-256. Another notable cryptocurrency, Peercoin, used a proof-of-work/proof-of-stake hybrid.\\n\\n⚛️ The BEST Cosmos Wallet -- Keplr Wallet ⚛️\\n\\nKeplr is an open-source browser extension wallet that supports the Cosmos interchain ecosystem. It provides functionalities for account and wallet management for all Cosmos-SDK based blockchains. The Keplr extension is supported only on Chrome. You can also use it on Brave, but some features may be unavailable.\\n\\n🌐 https://www.keplr.app\\n\\n▬▬▬▬▬▬▬▬▬▬▬▬▬▬▬▬▬▬▬▬▬▬▬▬▬▬▬▬▬\\n\\n💰 Donate Crypto - Thank You 💰\\n\\n$ATOM 👉 cosmos1kxngdafd6kwkk5mnhnqwhqp58xy5cfnuwz6yg6\\n$AMP 👉 0x61f8CdB8B43BBec582935089d3260e08A3Ad4Bc4\\n\\n▬▬▬▬▬▬▬▬▬▬▬▬▬▬▬▬▬▬▬▬▬▬▬▬▬▬▬▬▬\\n\\n🟢 SOCIAL MEDIA 🟢\\nTwitter 👉 http://www.twitter.com/ourcryptolife\\nYouTube 👉 https://www.youtube.com/channel/UC9WTdcfYpSOXtGIR7Dp6-xg\\nTwitch 👉 https://twitch.tv/ourcryptolife\\nTikTok 👉 https://www.tiktok.com/@ourcryptolife\\nReddit 👉 https://www.reddit.com/r/OurCryptoLife\\n\\n#shorts #cryptotips #cryptocurrency #investing #investincrypto #cryptomarkettips\",\n",
       "    'thumbnails': {'default': {'url': 'https://i.ytimg.com/vi/vLzYIiHwthA/default.jpg',\n",
       "      'width': 120,\n",
       "      'height': 90},\n",
       "     'medium': {'url': 'https://i.ytimg.com/vi/vLzYIiHwthA/mqdefault.jpg',\n",
       "      'width': 320,\n",
       "      'height': 180},\n",
       "     'high': {'url': 'https://i.ytimg.com/vi/vLzYIiHwthA/hqdefault.jpg',\n",
       "      'width': 480,\n",
       "      'height': 360},\n",
       "     'standard': {'url': 'https://i.ytimg.com/vi/vLzYIiHwthA/sddefault.jpg',\n",
       "      'width': 640,\n",
       "      'height': 480},\n",
       "     'maxres': {'url': 'https://i.ytimg.com/vi/vLzYIiHwthA/maxresdefault.jpg',\n",
       "      'width': 1280,\n",
       "      'height': 720}},\n",
       "    'channelTitle': 'Our Crypto Life | Cosmos, Crypto, NFTs ⚛️',\n",
       "    'tags': ['mental health',\n",
       "     'crypto mental health',\n",
       "     'crypto',\n",
       "     'mental health and crypto',\n",
       "     'crypto and mental health',\n",
       "     'crypto news',\n",
       "     'dream token mental health',\n",
       "     'mental health awareness',\n",
       "     'and mental health',\n",
       "     'mental health in nfts',\n",
       "     'mental health documentary',\n",
       "     'blockchain mental health',\n",
       "     'crypto mental illness',\n",
       "     'health',\n",
       "     'mental',\n",
       "     'crypto news today',\n",
       "     'dream token crypto',\n",
       "     'crypto currency',\n",
       "     'crypto alert news',\n",
       "     'crypto trading',\n",
       "     'documentary crypto',\n",
       "     'crypto exchange',\n",
       "     'crypto news update',\n",
       "     'full time crypto miner'],\n",
       "    'categoryId': '24',\n",
       "    'liveBroadcastContent': 'none',\n",
       "    'defaultLanguage': 'en',\n",
       "    'localized': {'title': 'Invest in Crypto? Remember these IMPORTANT words!  🙏 #shorts',\n",
       "     'description': \"Remember these important words if you invest money into crypto. \\n\\n✅ SUBSCRIBE ➕ LIKE ➕ 🔔\\n\\n🔥 Quality Tweets & Giveaways  — Twitter 👉 http://www.twitter.com/ourcryptolife\\n\\n▬▬▬▬▬▬▬▬▬▬▬▬▬▬▬▬▬▬▬▬▬▬▬▬▬▬▬▬▬\\n\\n✅ Welcome to Our Crypto Life! If you thought this video was interesting, please hit the thumbs up button and consider subscribing to our channel. It's FREE! \\n🌐 http://youtube.com/channel/UC9WTdcfYpSOXtGIR7Dp6-xg?sub_confirmation=1\\n\\nCheck out our OFFICIAL Linktr.ee! \\n🌐 https://linktr.ee/ourcryptolife\\n\\n** Not Financial Advice **\\n\\n❌ BEWARE OF SCAMMERS ❌\\nNo one will ever ask for your seed phrase, password, pins, etc. Make sure you keep this information private. I will never leave a comment in my videos or channel asking to message, email, call, or text you. These are scammers. Be safe.\\n\\nbitcoin, cosmos crypto, ethereum, cosmos, crypto, solana, solana crypto, cosmos atom coin, cosmos atom, cosmos atom crypto, bitcoin today, bitcoin news, cosmos coin, bitcoin price prediction, litecoin, atom cosmos, cosmos atom crypto coin, bitcoin hold, bitcoin price, cosmos cryptocurrency, cosmos atom vs solana, solana vs cosmos, cosmos vs solana, cosmos (atom) vs solana, airdrops, cosmos airdrops, get rich from airdrops, free airdrops, cryptocurrency explained, top 3 cryptocurrency, top cryptocurrency to invest in, buy cryptocurrency, ibcgang, amp crypto, amp token explained, crypto amp, amp crypto price, amp token news, flexa network\\n\\nCosmos (ATOM) Explained\\nLitecoin Review\\nLuna Coin\\nTerra Review\\nCryptocurrency News\\nEthereum Cryptocurrency \\nBitcoin Review\\nBreaking Crypto News\\nCrypto and Taxes\\nClaim Airdrops\\nCosmos Airdrops Release\\nHow To Buy Cryptocurrency\\nTop Cryptocurrency\\nCosmos Ecosystem Projects\\nCosmos Ecosystem Coins\\nMake Money From Airdrops\\n\\n▬▬▬▬▬▬▬▬▬▬▬▬▬▬▬▬▬▬▬▬▬▬▬▬▬▬▬▬▬\\n\\n💵 Want $10 for FREE? Sign up for Coinbase & get up to 4% crypto cash back rewards for every purchase!\\n🌐 https://www.coinbase.com/join/ay5j1k?src=ios-link\\n\\n💵 Do you also want $25 for FREE? Sign up for Crypto.com with my referral code 36AEGWQ5MJ & get a stylish metal prepaid debit card + earn crypto rewards on every purchase!\\n🌐 https://crypto.com/app/36aegwq5mj\\n\\n💵 Want FREE crypto rewards on KuCoin? Use my referral code!\\n🌐 https://www.kucoin.com/r/rf/rP4EQKG\\n\\n💵 I’ve been using Cash App to send money & spend using the Cash Card. Try it using my referral code MNGFGKD & you’ll get $5 for FREE!\\n🌐 https://cash.app/app/MNGFGKD\\n\\n▬▬▬▬▬▬▬▬▬▬▬▬▬▬▬▬▬▬▬▬▬▬▬▬▬▬▬▬▬\\n\\n📜 History 📜 \\n\\nA cryptocurrency, crypto-currency, or crypto is a digital currency designed to work as a medium of exchange through a computer network that is not reliant on any central authority, such as a government or bank, to uphold or maintain it.\\n\\nIn 2009, the first decentralized cryptocurrency, bitcoin, was created by presumably pseudonymous developer Satoshi Nakamoto. It used SHA-256, a cryptographic hash function, in its proof-of-work scheme. In April 2011, Namecoin was created as an attempt at forming a decentralized DNS, which would make internet censorship very difficult. Soon after, in October 2011, Litecoin was released. It used scrypt as its hash function instead of SHA-256. Another notable cryptocurrency, Peercoin, used a proof-of-work/proof-of-stake hybrid.\\n\\n⚛️ The BEST Cosmos Wallet -- Keplr Wallet ⚛️\\n\\nKeplr is an open-source browser extension wallet that supports the Cosmos interchain ecosystem. It provides functionalities for account and wallet management for all Cosmos-SDK based blockchains. The Keplr extension is supported only on Chrome. You can also use it on Brave, but some features may be unavailable.\\n\\n🌐 https://www.keplr.app\\n\\n▬▬▬▬▬▬▬▬▬▬▬▬▬▬▬▬▬▬▬▬▬▬▬▬▬▬▬▬▬\\n\\n💰 Donate Crypto - Thank You 💰\\n\\n$ATOM 👉 cosmos1kxngdafd6kwkk5mnhnqwhqp58xy5cfnuwz6yg6\\n$AMP 👉 0x61f8CdB8B43BBec582935089d3260e08A3Ad4Bc4\\n\\n▬▬▬▬▬▬▬▬▬▬▬▬▬▬▬▬▬▬▬▬▬▬▬▬▬▬▬▬▬\\n\\n🟢 SOCIAL MEDIA 🟢\\nTwitter 👉 http://www.twitter.com/ourcryptolife\\nYouTube 👉 https://www.youtube.com/channel/UC9WTdcfYpSOXtGIR7Dp6-xg\\nTwitch 👉 https://twitch.tv/ourcryptolife\\nTikTok 👉 https://www.tiktok.com/@ourcryptolife\\nReddit 👉 https://www.reddit.com/r/OurCryptoLife\\n\\n#shorts #cryptotips #cryptocurrency #investing #investincrypto #cryptomarkettips\"},\n",
       "    'defaultAudioLanguage': 'en'}}],\n",
       " 'pageInfo': {'totalResults': 1, 'resultsPerPage': 1}}"
      ]
     },
     "execution_count": 10,
     "metadata": {},
     "output_type": "execute_result"
    }
   ],
   "source": [
    "video_response"
   ]
  },
  {
   "cell_type": "code",
   "execution_count": null,
   "metadata": {},
   "outputs": [],
   "source": []
  }
 ],
 "metadata": {
  "kernelspec": {
   "display_name": ".venv",
   "language": "python",
   "name": "python3"
  },
  "language_info": {
   "codemirror_mode": {
    "name": "ipython",
    "version": 3
   },
   "file_extension": ".py",
   "mimetype": "text/x-python",
   "name": "python",
   "nbconvert_exporter": "python",
   "pygments_lexer": "ipython3",
   "version": "3.8.5 (default, Sep  4 2020, 02:22:02) \n[Clang 10.0.0 ]"
  },
  "orig_nbformat": 4,
  "vscode": {
   "interpreter": {
    "hash": "e15fbc2e57a0033bb92e9522375433548ce1633de444abc002a953b814346e4c"
   }
  }
 },
 "nbformat": 4,
 "nbformat_minor": 2
}
