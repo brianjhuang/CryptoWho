{
 "cells": [
  {
   "cell_type": "code",
   "execution_count": 1,
   "metadata": {},
   "outputs": [
    {
     "name": "stderr",
     "output_type": "stream",
     "text": [
      "/Users/brianhuang/opt/anaconda3/lib/python3.8/site-packages/pandas/core/computation/expressions.py:21: UserWarning: Pandas requires version '2.7.3' or newer of 'numexpr' (version '2.7.1' currently installed).\n",
      "  from pandas.core.computation.check import NUMEXPR_INSTALLED\n"
     ]
    },
    {
     "ename": "ModuleNotFoundError",
     "evalue": "No module named 'youtube_transcript_api'",
     "output_type": "error",
     "traceback": [
      "\u001b[0;31m---------------------------------------------------------------------------\u001b[0m",
      "\u001b[0;31mModuleNotFoundError\u001b[0m                       Traceback (most recent call last)",
      "\u001b[0;32m<ipython-input-1-d82faa7d2373>\u001b[0m in \u001b[0;36m<module>\u001b[0;34m\u001b[0m\n\u001b[1;32m     12\u001b[0m \u001b[0;34m\u001b[0m\u001b[0m\n\u001b[1;32m     13\u001b[0m \u001b[0;31m# YouTube API Libraries\u001b[0m\u001b[0;34m\u001b[0m\u001b[0;34m\u001b[0m\u001b[0;34m\u001b[0m\u001b[0m\n\u001b[0;32m---> 14\u001b[0;31m \u001b[0;32mfrom\u001b[0m \u001b[0myoutube_transcript_api\u001b[0m \u001b[0;32mimport\u001b[0m \u001b[0mYouTubeTranscriptApi\u001b[0m\u001b[0;34m\u001b[0m\u001b[0;34m\u001b[0m\u001b[0m\n\u001b[0m\u001b[1;32m     15\u001b[0m \u001b[0;32mfrom\u001b[0m \u001b[0mgoogleapiclient\u001b[0m\u001b[0;34m.\u001b[0m\u001b[0mdiscovery\u001b[0m \u001b[0;32mimport\u001b[0m \u001b[0mbuild\u001b[0m\u001b[0;34m\u001b[0m\u001b[0;34m\u001b[0m\u001b[0m\n\u001b[1;32m     16\u001b[0m \u001b[0;32mfrom\u001b[0m \u001b[0mgoogleapiclient\u001b[0m\u001b[0;34m.\u001b[0m\u001b[0merrors\u001b[0m \u001b[0;32mimport\u001b[0m \u001b[0mHttpError\u001b[0m\u001b[0;34m\u001b[0m\u001b[0;34m\u001b[0m\u001b[0m\n",
      "\u001b[0;31mModuleNotFoundError\u001b[0m: No module named 'youtube_transcript_api'"
     ]
    }
   ],
   "source": [
    "import sys\n",
    "sys.path.insert(0, '../') # so we can access our config files\n",
    "\n",
    "import os\n",
    "import logging\n",
    "import json\n",
    "import time\n",
    "\n",
    "from tqdm.notebook import tqdm\n",
    "import pandas as pd\n",
    "import random\n",
    "\n",
    "# YouTube API Libraries\n",
    "from youtube_transcript_api import YouTubeTranscriptApi\n",
    "from googleapiclient.discovery import build\n",
    "from googleapiclient.errors import HttpError\n",
    "from socket import error as SocketError\n",
    "\n",
    "# Config Imports\n",
    "from config import youtube"
   ]
  },
  {
   "cell_type": "code",
   "execution_count": null,
   "metadata": {},
   "outputs": [],
   "source": [
    "print(os.environ.get(\"default_output\"))"
   ]
  },
  {
   "cell_type": "code",
   "execution_count": null,
   "metadata": {},
   "outputs": [],
   "source": [
    "youtube_api = build(youtube.YOUTUBE_API_SERVICE_NAME, youtube.YOUTUBE_API_VERSION, developerKey=youtube.YOUTUBE_DATA_API_KEY)"
   ]
  },
  {
   "cell_type": "code",
   "execution_count": null,
   "metadata": {},
   "outputs": [],
   "source": [
    "def keyExists():\n",
    "    \"\"\" Check if we have a key in our environment\n",
    "\n",
    "    Returns\n",
    "    -------\n",
    "    bool\n",
    "        If we have a key stored in our environment return True \n",
    "    \"\"\"\n",
    "\n",
    "    return youtube.YOUTUBE_DATA_API_KEY != None"
   ]
  },
  {
   "cell_type": "code",
   "execution_count": null,
   "metadata": {},
   "outputs": [],
   "source": [
    "### Get Video Title, Desc, Tags\n",
    "def getVideoMetadata(video_id):\n",
    "    \"\"\"Download video meta data given an ID\n",
    "\n",
    "    Method queries the YouTube Data API and retrieves details of the video. These\n",
    "    details are used as the video desc, title and tags.\n",
    "\n",
    "    Parameters\n",
    "    ----------\n",
    "    video_id : str\n",
    "        The video_id for the YouTube video, usually found at the end of the URL.\n",
    "\n",
    "    Returns\n",
    "    -------\n",
    "    dict\n",
    "        A dictionary with the video desc, title and video tags\n",
    "    \"\"\"\n",
    "    try:\n",
    "        response = (\n",
    "            youtube_api.videos()\n",
    "            .list(part=\"id,snippet,contentDetails\", id=video_id)\n",
    "            .execute()\n",
    "        )\n",
    "\n",
    "        # Get Video Details\n",
    "        try:\n",
    "            videoContent = response[\"items\"][0]\n",
    "\n",
    "            if \"snippet\" in videoContent.keys():\n",
    "                videoSnippet = videoContent[\"snippet\"]\n",
    "\n",
    "                return {\n",
    "                    \"title\": videoSnippet[\"title\"],\n",
    "                    \"description\": videoSnippet[\"description\"],\n",
    "                    \"tags\": videoSnippet[\"tags\"],\n",
    "                }\n",
    "\n",
    "        except:\n",
    "            return {\"title\": \"\", \"description\": \"\", \"tags\": \"\"}\n",
    "\n",
    "    except (HttpError, SocketError) as error:\n",
    "        print(\n",
    "            \"--- HTTP Error occurred while retrieving information for VideoID: {0}. [ERROR]: {1}\".format(\n",
    "                video_id, error\n",
    "            )\n",
    "        )"
   ]
  },
  {
   "cell_type": "code",
   "execution_count": null,
   "metadata": {},
   "outputs": [],
   "source": [
    "# Top N comments\n",
    "def getVideoComments(video_id, num_comments):\n",
    "    \"\"\"Download video comments given an ID\n",
    "\n",
    "    Method queries the YouTube Data API and retrieves the top comments of a video.\n",
    "\n",
    "    Parameters\n",
    "    ----------\n",
    "    video_id : str\n",
    "        The video_id for the YouTube video, usually found at the end of the URL.\n",
    "    num_comments: int\n",
    "        The max number of comments we want from the video.\n",
    "\n",
    "    Returns\n",
    "    -------\n",
    "    dict\n",
    "        A dictionary with the comments\n",
    "    \"\"\"\n",
    "\n",
    "    counter = num_comments\n",
    "    nextPageToken = \"\"\n",
    "    comments = []\n",
    "\n",
    "    while counter > 0:\n",
    "        try:\n",
    "            # For the first page\n",
    "            if num_comments == counter:\n",
    "                response = (\n",
    "                    youtube_api.commentThreads()\n",
    "                    .list(part=\"snippet,replies\", videoId=video_id, maxResults=100)\n",
    "                    .execute()\n",
    "                )\n",
    "\n",
    "                # Grab the ID to the next page\n",
    "                if \"nextPageToken\" in response.keys():\n",
    "                    nextPageToken = response[\"nextPageToken\"]\n",
    "\n",
    "                try:\n",
    "                    pageComments = []\n",
    "\n",
    "                    # Get all the comments for the page\n",
    "                    for item in response[\"items\"]:\n",
    "                        # Start with the top comment\n",
    "                        pageComments.append(\n",
    "                            {\n",
    "                                item[\"snippet\"][\"topLevelComment\"][\"id\"]: item[\n",
    "                                    \"snippet\"\n",
    "                                ][\"topLevelComment\"][\"snippet\"][\"textOriginal\"]\n",
    "                            }\n",
    "                        )\n",
    "\n",
    "                        # If we have replies\n",
    "                        if \"replies\" in item.keys():\n",
    "                            # Get all the replies to the comment\n",
    "                            pageComments += [\n",
    "                                {reply[\"id\"]: reply[\"snippet\"][\"textOriginal\"]}\n",
    "                                for reply in item[\"replies\"][\"comments\"]\n",
    "                            ]\n",
    "\n",
    "                    # Each page grabs at max 100 comments\n",
    "                    counter -= 100\n",
    "                    comments += pageComments\n",
    "\n",
    "                except:\n",
    "                    return {\"comments\": []}\n",
    "\n",
    "            else:\n",
    "                # For all subsequent pages\n",
    "                response = (\n",
    "                    youtube_api.commentThreads()\n",
    "                    .list(\n",
    "                        part=\"snippet,replies\",\n",
    "                        pageToken=nextPageToken,\n",
    "                        videoId=video_id,\n",
    "                        maxResults=100,\n",
    "                    )\n",
    "                    .execute()\n",
    "                )\n",
    "\n",
    "                # Grab the ID to the next page\n",
    "                if \"nextPageToken\" in response.keys():\n",
    "                    nextPageToken = response[\"nextPageToken\"]\n",
    "\n",
    "                try:\n",
    "                    pageComments = []\n",
    "\n",
    "                    # Get all the comments for the page\n",
    "                    for item in response[\"items\"]:\n",
    "                        # Start with the top comment\n",
    "                        pageComments.append(\n",
    "                            {\n",
    "                                item[\"snippet\"][\"topLevelComment\"][\"id\"]: item[\n",
    "                                    \"snippet\"\n",
    "                                ][\"topLevelComment\"][\"snippet\"][\"textOriginal\"]\n",
    "                            }\n",
    "                        )\n",
    "\n",
    "                        # If we have replies\n",
    "                        if \"replies\" in item.keys():\n",
    "                            # Get all the replies to the comment\n",
    "                            pageComments += [\n",
    "                                {reply[\"id\"]: reply[\"snippet\"][\"textOriginal\"]}\n",
    "                                for reply in item[\"replies\"][\"comments\"]\n",
    "                            ]\n",
    "\n",
    "                    # Each page grabs at max 100 comments\n",
    "                    counter -= 100\n",
    "                    comments += pageComments\n",
    "\n",
    "                except:\n",
    "                    return {\"comments\": []}\n",
    "\n",
    "        except (HttpError, SocketError) as error:\n",
    "            print(\n",
    "                \"--- HTTP Error occurred while retrieving information for VideoID: {0}. [ERROR]: {1}\".format(\n",
    "                    video_id, error\n",
    "                )\n",
    "            )\n",
    "\n",
    "    return {\"comments\":comments}\n"
   ]
  },
  {
   "cell_type": "code",
   "execution_count": null,
   "metadata": {},
   "outputs": [],
   "source": [
    "### Get Video Transcript\n",
    "\n",
    "def getVideoTranscript(video_id, transcriber=None):\n",
    "    \"\"\"Download video transcript given an ID\n",
    "\n",
    "    Method uses the youtube-transcript library to query the API for a video_id. Method cleans \n",
    "    returned output and provides a text blob back.\n",
    "    \n",
    "    Parameters\n",
    "    ----------\n",
    "    video_id : str\n",
    "        The video_id for the YouTube video, usually found at the end of the URL.\n",
    "    transcriber : YouTubeTranscriptApi\n",
    "        Our transcription object. Passed in to prevent constant constructor calls.\n",
    "\n",
    "    Returns\n",
    "    -------\n",
    "    dict\n",
    "        A dictionary with the raw transcript, cleaned transcript, and pauses in the video.\n",
    "    \"\"\"\n",
    "\n",
    "    # If we did not pass in a transcriber\n",
    "    if transcriber == None:\n",
    "        transcriber = YouTubeTranscriptApi()\n",
    "\n",
    "    try:\n",
    "        raw_transcript = transcriber.get_transcript(video_id)\n",
    "    except:\n",
    "        return {\"cleaned_transcript\" : \"\", \"raw_transcript\" : {}}\n",
    "\n",
    "    cleaned_transcript = \" \".join([phrase['text'] for phrase in raw_transcript])\n",
    "\n",
    "    return {\"cleaned_transcript\" : cleaned_transcript, \"raw_transcript\" : raw_transcript}"
   ]
  },
  {
   "cell_type": "code",
   "execution_count": null,
   "metadata": {},
   "outputs": [],
   "source": [
    "transcriber = YouTubeTranscriptApi()\n",
    "video_id = 'dQw4w9WgXcQ'"
   ]
  },
  {
   "cell_type": "code",
   "execution_count": null,
   "metadata": {},
   "outputs": [],
   "source": [
    "videoMetaData = getVideoMetadata(video_id)\n",
    "time.sleep(1)\n",
    "videoComments = getVideoComments(video_id, 200)\n",
    "time.sleep(2)\n",
    "videoTranscript = getVideoTranscript(video_id, transcriber)"
   ]
  },
  {
   "cell_type": "code",
   "execution_count": null,
   "metadata": {},
   "outputs": [],
   "source": [
    "video = {\n",
    "    \"title\": videoMetaData[\"title\"],\n",
    "    \"description\": videoMetaData[\"description\"],\n",
    "    \"tags\": videoMetaData[\"tags\"],\n",
    "    \"cleaned_transcript\": videoTranscript[\"cleaned_transcript\"],\n",
    "    \"raw_transcript\": videoTranscript[\"raw_transcript\"], \n",
    "    \"comments\": [list(comment.values())[0] for comment in videoComments[\"comments\"]],\n",
    "    \"comment_ids\" : [list(comment.keys())[0] for comment in videoComments[\"comments\"]],\n",
    "}\n"
   ]
  },
  {
   "cell_type": "code",
   "execution_count": null,
   "metadata": {},
   "outputs": [],
   "source": [
    "pd.DataFrame(pd.Series(video)).T"
   ]
  },
  {
   "cell_type": "code",
   "execution_count": 2,
   "metadata": {},
   "outputs": [],
   "source": [
    "import pandas as pd"
   ]
  },
  {
   "cell_type": "code",
   "execution_count": 3,
   "metadata": {},
   "outputs": [],
   "source": [
    "df = pd.read_csv('../data/raw/youtube/videos_0.csv')"
   ]
  },
  {
   "cell_type": "code",
   "execution_count": 4,
   "metadata": {},
   "outputs": [
    {
     "data": {
      "text/html": [
       "<div>\n",
       "<style scoped>\n",
       "    .dataframe tbody tr th:only-of-type {\n",
       "        vertical-align: middle;\n",
       "    }\n",
       "\n",
       "    .dataframe tbody tr th {\n",
       "        vertical-align: top;\n",
       "    }\n",
       "\n",
       "    .dataframe thead th {\n",
       "        text-align: right;\n",
       "    }\n",
       "</style>\n",
       "<table border=\"1\" class=\"dataframe\">\n",
       "  <thead>\n",
       "    <tr style=\"text-align: right;\">\n",
       "      <th></th>\n",
       "      <th>title</th>\n",
       "      <th>description</th>\n",
       "      <th>tags</th>\n",
       "      <th>cleaned_transcript</th>\n",
       "      <th>raw_transcript</th>\n",
       "      <th>comments</th>\n",
       "      <th>comment_ids</th>\n",
       "    </tr>\n",
       "  </thead>\n",
       "  <tbody>\n",
       "    <tr>\n",
       "      <th>0</th>\n",
       "      <td>How TikTok Could Become a U.S. Company | WSJ</td>\n",
       "      <td>TikTok is at a crossroads, as U.S. concerns ab...</td>\n",
       "      <td>['tik tok china', 'tiktok china', 'tiktok owne...</td>\n",
       "      <td>- [Narrator] TikTok is at a crossroads. Concer...</td>\n",
       "      <td>[{'text': '- [Narrator] TikTok is at a crossro...</td>\n",
       "      <td>['I don’t trust oracle either but okay', 'It’s...</td>\n",
       "      <td>['UgwGZaDLpB4lHanki6V4AaABAg', 'Ugy5kzxqBohPn3...</td>\n",
       "    </tr>\n",
       "    <tr>\n",
       "      <th>1</th>\n",
       "      <td>Rick Astley - Never Gonna Give You Up (Officia...</td>\n",
       "      <td>The official video for “Never Gonna Give You U...</td>\n",
       "      <td>['rick astley', 'Never Gonna Give You Up', 'ng...</td>\n",
       "      <td>[Music] you know the rules [Music] gotta make ...</td>\n",
       "      <td>[{'text': '[Music]', 'start': 0.0, 'duration':...</td>\n",
       "      <td>['1 BILLION views for Never Gonna Give You Up!...</td>\n",
       "      <td>['UgzarqjaaPC7TbFINNx4AaABAg', 'UgzarqjaaPC7Tb...</td>\n",
       "    </tr>\n",
       "  </tbody>\n",
       "</table>\n",
       "</div>"
      ],
      "text/plain": [
       "                                               title  \\\n",
       "0       How TikTok Could Become a U.S. Company | WSJ   \n",
       "1  Rick Astley - Never Gonna Give You Up (Officia...   \n",
       "\n",
       "                                         description  \\\n",
       "0  TikTok is at a crossroads, as U.S. concerns ab...   \n",
       "1  The official video for “Never Gonna Give You U...   \n",
       "\n",
       "                                                tags  \\\n",
       "0  ['tik tok china', 'tiktok china', 'tiktok owne...   \n",
       "1  ['rick astley', 'Never Gonna Give You Up', 'ng...   \n",
       "\n",
       "                                  cleaned_transcript  \\\n",
       "0  - [Narrator] TikTok is at a crossroads. Concer...   \n",
       "1  [Music] you know the rules [Music] gotta make ...   \n",
       "\n",
       "                                      raw_transcript  \\\n",
       "0  [{'text': '- [Narrator] TikTok is at a crossro...   \n",
       "1  [{'text': '[Music]', 'start': 0.0, 'duration':...   \n",
       "\n",
       "                                            comments  \\\n",
       "0  ['I don’t trust oracle either but okay', 'It’s...   \n",
       "1  ['1 BILLION views for Never Gonna Give You Up!...   \n",
       "\n",
       "                                         comment_ids  \n",
       "0  ['UgwGZaDLpB4lHanki6V4AaABAg', 'Ugy5kzxqBohPn3...  \n",
       "1  ['UgzarqjaaPC7TbFINNx4AaABAg', 'UgzarqjaaPC7Tb...  "
      ]
     },
     "execution_count": 4,
     "metadata": {},
     "output_type": "execute_result"
    }
   ],
   "source": [
    "df.head()"
   ]
  },
  {
   "cell_type": "code",
   "execution_count": 5,
   "metadata": {},
   "outputs": [
    {
     "data": {
      "text/plain": [
       "'How TikTok Could Become a U.S. Company | WSJ'"
      ]
     },
     "execution_count": 5,
     "metadata": {},
     "output_type": "execute_result"
    }
   ],
   "source": [
    "df['title'][0]"
   ]
  },
  {
   "cell_type": "code",
   "execution_count": 7,
   "metadata": {},
   "outputs": [
    {
     "data": {
      "text/plain": [
       "\"['tik tok china', 'tiktok china', 'tiktok owned by china', 'tiktok security', 'cfius', 'tiktok cfius', 'tiktok ownership', 'tiktok data', 'bytedance', 'tiktok divestiture', 'divestiture', 'tiktok oracle', 'tiktok', 'china', 'china privacy', 'china security', 'data privacy', 'china social media', 'social media privacy', 'tiktok us deal', 'tiktok us security deal', 'tiktok deal', 'china us', 'tiktok in us', 'data', 'privacy', 'tik tok', 'tiktok data privacy', 'business news', 'tiktok ban', 'tiktok user data', 'china news', 'tiktok news', 'techy']\""
      ]
     },
     "execution_count": 7,
     "metadata": {},
     "output_type": "execute_result"
    }
   ],
   "source": [
    "df['tags'][0]"
   ]
  },
  {
   "cell_type": "code",
   "execution_count": 6,
   "metadata": {},
   "outputs": [
    {
     "data": {
      "text/plain": [
       "'- [Narrator] TikTok is at a crossroads. Concerns about its Chinese ownership have been building since 2020. - TikTok\\'s been in this\\nlimbo for two years, and who knows how many more months or years it could stay in this limbo. - [Narrator] And a panel of US officials is torn on how to address them. If they can\\'t come to an agreement, there\\'s another possible solution, forcing TikTok to become a US company. Here\\'s what it would\\ntake to make that happen, and why that move poses\\nsome big challenges. First, a brief review of how\\nTikTok\\'s data is managed, which is the main focus for US officials. - TikTok\\'s this huge\\ncompany, but it\\'s owned by a Chinese parent\\ncompany called ByteDance. They run several apps, but TikTok is probably their\\nbest known one in the world. - [Narrator] ByteDance itself\\nis headquartered in Beijing, and is owned by investors\\nfrom around the globe. A Chinese state controlled entity owns 1% of a Beijing based\\nsubsidiary of ByteDance. Those connections are what\\nsome are worried about, and for a couple of reasons. - The first concern is that the Chinese government could order TikTok to hand over data about\\nindividual American users. So what kind of videos they watch, and maybe even their IP addresses, which could identify their location. The second big thing is the video recommendation algorithm, and the idea is that\\nthe Chinese government could order TikTok to control what videos Americans could watch. - [Narrator] TikTok says\\nit has already started to address some of those concerns. The company recently said that all US user traffic is now being routed through cloud servers operated by the US based company Oracle. And TikTok says that only members of its US data security team\\nhave access to that data. But backups are still being saved to other non-Oracle servers in the US and Singapore, the company says, but it\\'s phasing those out. As for TikTok\\'s recommendation algorithm, that was created by its Chinese\\nparent company ByteDance. TikTok says changes to the\\nalgorithm are monitored by Oracle before they\\'re\\nimplemented in the US app. - So anytime there\\'s a change to the algorithm that influences what kind of videos Americans see, they see that Oracle will\\nhave full access to see, you know, what the algorithm does. - [Narrator] A spokesperson for the Chinese Foreign Ministry said in a press conference in November in regards to TikTok that \"Spreading disinformation and then using it to\\nhobble Chinese companies has become a go-to tool\\nfor the US government.\" But some US lawmakers still want TikTok to have more separation from China. One option is a divestiture\\norder or a forced sale, which could cut ties to Chinese ownership. - The Chinese government would theoretically have less power over TikTok, to force TikTok to do something like spy or control what videos Americans watch. - [Narrator] A divestiture\\norder is what happened to the dating app Grindr in 2019, after US officials determined that the app\\'s personal data could potentially be\\nexploited for blackmail, since the majority stakeholder\\nwas a Chinese company. Here\\'s how the process\\nhas worked in past cases. First, an executive body branch called the Committee on Foreign\\nInvestment in the United States, or CFIUS, opens a case with\\nthe involved companies. This is the panel that\\'s\\nbeen talking to TikTok. It\\'s made up of representatives of nine US departments and agencies, led by the Treasury, and reviews foreign transactions to see if they might be a national security risk. After CFIUS reviews a company or merger, it can make recommendations\\nto mitigate those risks, which can include asking foreign investors or owners to sell their\\nstake in the company. In extreme cases, it can\\nalso escalate the case to the president, who\\ncan order a forced sale. That owner then has to\\nfind a suitable buyer, usually one within the US. Then the buyer and seller\\nmight have to go back to CFIUS in order to\\nget the sale approved. Grindr took just over a year\\nafter the order was made to find a buyer and get approval. The president never issued an order. But TikTok is a much bigger name and forcing a sale could\\nbe more complicated. - There\\'s been nothing of\\nthis scale, this popularity. Usually, you know, CFIUS deals with a lot smaller cases here. So this is like the case of the century for CFIUS\\nlawyers in Washington in DC. - [Narrator] A treasury official said that CFIUS does not publicly comment on transactions that it may\\nor may not be reviewing. Officials are worried about a number of challenges\\nfacing a forced sale. One is that the Trump\\nadministration already tried it. - They have till September\\n15th to make a deal. After that, we closed\\nit up in this country. - [Narrator] In 2020, that administration issued an order that would\\'ve\\neffectively banned TikTok, unless it sold itself to a US buyer. But TikTok pushed back and took the order to a federal appeals court, arguing that the deal denied\\nthe company due process. It was still tied up in legal issues by the time Joe Biden got into office, and the order was shelved as his administration conducted\\nits own security review. But his administration\\ncould face similar pushback from TikTok if it tries to force a sale, and doing so could risk\\ndiluting CFIUS\\' authority. - Their power is based on having these vague broad powers, and if they go to court,\\neven if they win in court, a court might put parameters on that power, might define that power, \\'cause the more vague your power is, the more powerful it is. - [Narrator] Even without legal hurdles, a sale would also need cooperation from the Chinese government, which has the power to restrict the exports of technology, such as TikTok\\'s video\\nrecommendation algorithm. - If China does not allow\\nthe algorithm to be sold, then can TikTok continue\\noperating in the US? We don\\'t know. We\\'re in totally uncharted\\nwaters right now. - [Narrator] While CFIUS\\ndecides what to do, some lawmakers have taken\\nconcerns into their own hands. TikTok has been banned on government devices\\nin a majority of states. And in December, the federal government\\nimplemented a similar ban. - The only sensible next step is for this congress\\nto act to make that ban across the board for all federal devices. - [Narrator] At least one bill has been introduced to ban TikTok entirely in the United States. - That has legal problems too. That could potentially face\\na First Amendment problem. Can you actually stop, can you actually ban TikTok\\nfrom operating in the US? Especially when it has more than 100 million American users. - [Narrator] While TikTok\\nhas made concessions, including how its data is managed, to get to an agreement with CFIUS, talks are ongoing\\nwithout a clear deadline. (upbeat music)'"
      ]
     },
     "execution_count": 6,
     "metadata": {},
     "output_type": "execute_result"
    }
   ],
   "source": [
    "df['cleaned_transcript'][0]"
   ]
  },
  {
   "cell_type": "code",
   "execution_count": null,
   "metadata": {},
   "outputs": [],
   "source": []
  }
 ],
 "metadata": {
  "kernelspec": {
   "display_name": "Python 3",
   "language": "python",
   "name": "python3"
  },
  "language_info": {
   "codemirror_mode": {
    "name": "ipython",
    "version": 3
   },
   "file_extension": ".py",
   "mimetype": "text/x-python",
   "name": "python",
   "nbconvert_exporter": "python",
   "pygments_lexer": "ipython3",
   "version": "3.8.5"
  },
  "vscode": {
   "interpreter": {
    "hash": "a7f8db6aea59d1f10a9d3a436b54c50bfeaa0a65429587619fcd16b6d9d618cf"
   }
  }
 },
 "nbformat": 4,
 "nbformat_minor": 4
}
