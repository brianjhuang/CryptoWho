{
 "cells": [
  {
   "cell_type": "code",
   "execution_count": 1,
   "metadata": {},
   "outputs": [],
   "source": [
    "import sys\n",
    "sys.path.insert(0, '../') # so we can access our config files\n",
    "\n",
    "import os\n",
    "import logging\n",
    "import json\n",
    "import time\n",
    "\n",
    "from tqdm.notebook import tqdm\n",
    "import pandas as pd\n",
    "import random\n",
    "\n",
    "# YouTube API Libraries\n",
    "from youtube_transcript_api import YouTubeTranscriptApi\n",
    "from googleapiclient.discovery import build\n",
    "from googleapiclient.errors import HttpError\n",
    "from socket import error as SocketError\n",
    "\n",
    "# Config Imports\n",
    "from config import youtube"
   ]
  },
  {
   "cell_type": "code",
   "execution_count": 2,
   "metadata": {},
   "outputs": [
    {
     "name": "stdout",
     "output_type": "stream",
     "text": [
      "None\n"
     ]
    }
   ],
   "source": [
    "print(os.environ.get(\"default_output\"))"
   ]
  },
  {
   "cell_type": "code",
   "execution_count": 3,
   "metadata": {},
   "outputs": [],
   "source": [
    "youtube_api = build(youtube.YOUTUBE_API_SERVICE_NAME, youtube.YOUTUBE_API_VERSION, developerKey=youtube.YOUTUBE_DATA_API_KEY)"
   ]
  },
  {
   "cell_type": "code",
   "execution_count": 4,
   "metadata": {},
   "outputs": [],
   "source": [
    "def keyExists():\n",
    "    \"\"\" Check if we have a key in our environment\n",
    "\n",
    "    Returns\n",
    "    -------\n",
    "    bool\n",
    "        If we have a key stored in our environment return True \n",
    "    \"\"\"\n",
    "\n",
    "    return youtube.YOUTUBE_DATA_API_KEY != None"
   ]
  },
  {
   "cell_type": "code",
   "execution_count": 5,
   "metadata": {},
   "outputs": [],
   "source": [
    "### Get Video Title, Desc, Tags\n",
    "def getVideoMetadata(video_id):\n",
    "    \"\"\"Download video meta data given an ID\n",
    "\n",
    "    Method queries the YouTube Data API and retrieves details of the video. These\n",
    "    details are used as the video desc, title and tags.\n",
    "\n",
    "    Parameters\n",
    "    ----------\n",
    "    video_id : str\n",
    "        The video_id for the YouTube video, usually found at the end of the URL.\n",
    "\n",
    "    Returns\n",
    "    -------\n",
    "    dict\n",
    "        A dictionary with the video desc, title and video tags\n",
    "    \"\"\"\n",
    "    try:\n",
    "        response = (\n",
    "            youtube_api.videos()\n",
    "            .list(part=\"id,snippet,contentDetails\", id=video_id)\n",
    "            .execute()\n",
    "        )\n",
    "\n",
    "        # Get Video Details\n",
    "        try:\n",
    "            videoContent = response[\"items\"][0]\n",
    "\n",
    "            if \"snippet\" in videoContent.keys():\n",
    "                videoSnippet = videoContent[\"snippet\"]\n",
    "                print(videoSnippet[\"title\"])\n",
    "                print(videoSnippet[\"description\"])\n",
    "                print(videoSnippet[\"tags\"])\n",
    "\n",
    "                return {\n",
    "                    \"title\": videoSnippet[\"title\"],\n",
    "                    \"description\": videoSnippet[\"description\"],\n",
    "                    \"tags\": videoSnippet[\"tags\"],\n",
    "                }\n",
    "\n",
    "        except:\n",
    "            print(\"Failed to get title and video\")\n",
    "            return {\"title\": \"\", \"description\": \"\", \"tags\": \"\"}\n",
    "\n",
    "    except (HttpError, SocketError) as error:\n",
    "        print(\n",
    "            \"--- HTTP Error occurred while retrieving information for VideoID: {0}. [ERROR]: {1}\".format(\n",
    "                video_id, error\n",
    "            )\n",
    "        )"
   ]
  },
  {
   "cell_type": "code",
   "execution_count": 6,
   "metadata": {},
   "outputs": [],
   "source": [
    "# Top N comments\n",
    "def getVideoComments(video_id, num_comments):\n",
    "    \"\"\"Download video comments given an ID\n",
    "\n",
    "    Method queries the YouTube Data API and retrieves the top comments of a video.\n",
    "\n",
    "    Parameters\n",
    "    ----------\n",
    "    video_id : str\n",
    "        The video_id for the YouTube video, usually found at the end of the URL.\n",
    "    num_comments: int\n",
    "        The max number of comments we want from the video.\n",
    "\n",
    "    Returns\n",
    "    -------\n",
    "    dict\n",
    "        A dictionary with the comments\n",
    "    \"\"\"\n",
    "\n",
    "    counter = num_comments\n",
    "    nextPageToken = \"\"\n",
    "    comments = []\n",
    "\n",
    "    while counter > 0:\n",
    "        try:\n",
    "            # For the first page\n",
    "            if num_comments == counter:\n",
    "                response = (\n",
    "                    youtube_api.commentThreads()\n",
    "                    .list(part=\"snippet,replies\", videoId=video_id, maxResults=100)\n",
    "                    .execute()\n",
    "                )\n",
    "\n",
    "                # Grab the ID to the next page\n",
    "                if \"nextPageToken\" in response.keys():\n",
    "                    nextPageToken = response[\"nextPageToken\"]\n",
    "\n",
    "                try:\n",
    "                    pageComments = []\n",
    "\n",
    "                    # Get all the comments for the page\n",
    "                    for item in response[\"items\"]:\n",
    "                        # Start with the top comment\n",
    "                        pageComments.append(\n",
    "                            {\n",
    "                                item[\"snippet\"][\"topLevelComment\"][\"id\"]: item[\n",
    "                                    \"snippet\"\n",
    "                                ][\"topLevelComment\"][\"snippet\"][\"textOriginal\"]\n",
    "                            }\n",
    "                        )\n",
    "\n",
    "                        # If we have replies\n",
    "                        if \"replies\" in item.keys():\n",
    "                            # Get all the replies to the comment\n",
    "                            pageComments += [\n",
    "                                {reply[\"id\"]: reply[\"snippet\"][\"textOriginal\"]}\n",
    "                                for reply in item[\"replies\"][\"comments\"]\n",
    "                            ]\n",
    "\n",
    "                    # Each page grabs at max 100 comments\n",
    "                    counter -= 100\n",
    "                    comments += pageComments\n",
    "\n",
    "                except:\n",
    "                    return {\"comments\": []}\n",
    "\n",
    "            else:\n",
    "                # For all subsequent pages\n",
    "                response = (\n",
    "                    youtube_api.commentThreads()\n",
    "                    .list(\n",
    "                        part=\"snippet,replies\",\n",
    "                        pageToken=nextPageToken,\n",
    "                        videoId=video_id,\n",
    "                        maxResults=100,\n",
    "                    )\n",
    "                    .execute()\n",
    "                )\n",
    "\n",
    "                # Grab the ID to the next page\n",
    "                if \"nextPageToken\" in response.keys():\n",
    "                    nextPageToken = response[\"nextPageToken\"]\n",
    "\n",
    "                try:\n",
    "                    pageComments = []\n",
    "\n",
    "                    # Get all the comments for the page\n",
    "                    for item in response[\"items\"]:\n",
    "                        # Start with the top comment\n",
    "                        pageComments.append(\n",
    "                            {\n",
    "                                item[\"snippet\"][\"topLevelComment\"][\"id\"]: item[\n",
    "                                    \"snippet\"\n",
    "                                ][\"topLevelComment\"][\"snippet\"][\"textOriginal\"]\n",
    "                            }\n",
    "                        )\n",
    "\n",
    "                        # If we have replies\n",
    "                        if \"replies\" in item.keys():\n",
    "                            # Get all the replies to the comment\n",
    "                            pageComments += [\n",
    "                                {reply[\"id\"]: reply[\"snippet\"][\"textOriginal\"]}\n",
    "                                for reply in item[\"replies\"][\"comments\"]\n",
    "                            ]\n",
    "\n",
    "                    # Each page grabs at max 100 comments\n",
    "                    counter -= 100\n",
    "                    comments += pageComments\n",
    "\n",
    "                except:\n",
    "                    return {\"comments\": []}\n",
    "\n",
    "        except (HttpError, SocketError) as error:\n",
    "            print(\n",
    "                \"--- HTTP Error occurred while retrieving information for VideoID: {0}. [ERROR]: {1}\".format(\n",
    "                    video_id, error\n",
    "                )\n",
    "            )\n",
    "\n",
    "    return {\"comments\":comments}\n"
   ]
  },
  {
   "cell_type": "code",
   "execution_count": 7,
   "metadata": {},
   "outputs": [],
   "source": [
    "### Get Video Transcript\n",
    "\n",
    "def getVideoTranscript(video_id, transcriber=None):\n",
    "    \"\"\"Download video transcript given an ID\n",
    "\n",
    "    Method uses the youtube-transcript library to query the API for a video_id. Method cleans \n",
    "    returned output and provides a text blob back.\n",
    "    \n",
    "    Parameters\n",
    "    ----------\n",
    "    video_id : str\n",
    "        The video_id for the YouTube video, usually found at the end of the URL.\n",
    "    transcriber : YouTubeTranscriptApi\n",
    "        Our transcription object. Passed in to prevent constant constructor calls.\n",
    "\n",
    "    Returns\n",
    "    -------\n",
    "    dict\n",
    "        A dictionary with the raw transcript, cleaned transcript, and pauses in the video.\n",
    "    \"\"\"\n",
    "\n",
    "    # If we did not pass in a transcriber\n",
    "    if transcriber == None:\n",
    "        transcriber = YouTubeTranscriptApi()\n",
    "\n",
    "    try:\n",
    "        raw_transcript = transcriber.get_transcript(video_id)\n",
    "    except:\n",
    "        return {\"cleaned_transcript\" : \"\", \"raw_transcript\" : {}}\n",
    "\n",
    "    cleaned_transcript = \" \".join([phrase['text'] for phrase in raw_transcript])\n",
    "\n",
    "    return {\"cleaned_transcript\" : cleaned_transcript, \"raw_transcript\" : raw_transcript}"
   ]
  },
  {
   "cell_type": "code",
   "execution_count": 9,
   "metadata": {},
   "outputs": [],
   "source": [
    "transcriber = YouTubeTranscriptApi()\n",
    "video_id = '41hCQZAgVa0'"
   ]
  },
  {
   "cell_type": "code",
   "execution_count": 10,
   "metadata": {},
   "outputs": [
    {
     "name": "stdout",
     "output_type": "stream",
     "text": [
      "UFC 285: Post-Fight Press Conference\n",
      "Following UFC 285, tune in to the Post-Fight Press Conference to hear the athletes take questions from the media.\n",
      "\n",
      "Subscribe to get all the latest UFC content: http://bit.ly/2uJRzRR\n",
      "\n",
      "Experience UFC live with UFC FIGHT PASS, the digital subscription service of the UFC. Visit https://ufcfightpass.com/\n",
      "\n",
      "To order UFC Pay-Per-Views on ESPN+, visit https://bit.ly/2vNIBE8 (U.S. only)\n",
      "\n",
      "To order UFC Pay-Per-Views, visit http://welcome.ufcfightpass.com/#PPV (Non U.S.)\n",
      "\n",
      "Connect with UFC online and on Social:\n",
      "🔴 Website: http://www.ufc.com\n",
      "🔵 Twitter: http://www.twitter.com/ufc\n",
      "🔵 Facebook: http://www.facebook.com/ufc\n",
      "🔴 Instagram: http://www.instagram.com/ufc\n",
      "🟡 Snapchat: UFC\n",
      "🟣 Twitch: https://www.twitch.tv/ufc\n",
      "\n",
      "Connect with UFC FIGHT PASS on Social:\n",
      "🔵 Twitter: http://www.twitter.com/ufcfightpass\n",
      "🔵 Facebook: http://www.facebook.com/ufcfightpass\n",
      "🔴 Instagram: http://www.instagram.com/ufcfightpass\n",
      "\n",
      "#UFC #UFC285\n",
      "['UFC', 'Dana White', 'Post-fight Press Conference', 'Presser', 'Post-fight', 'Media', 'Scrum', 'Press', 'Conference', 'fight', 'night', 'fighter', 'bout', 'kick', 'punch', 'question', 'answer', 'interview', 'presser', 'main', 'event', 'card', 'best of', 'highlight', 'octagon', 'saturday', 'opponent', 'matchup', 'divison', 'co-main', 'reaction', 'post', 'press', 'conference', 'MARCH 4', 'dana', 'white', 'UFC 285', '2023', 'future', 'champion', 'champ', 'belt', 'title', 'jon', 'jones', 'ciryl', 'gane']\n"
     ]
    }
   ],
   "source": [
    "videoMetaData = getVideoMetadata(video_id)\n",
    "time.sleep(1)\n",
    "videoComments = getVideoComments(video_id, 200)\n",
    "time.sleep(2)\n",
    "videoTranscript = getVideoTranscript(video_id, transcriber)"
   ]
  },
  {
   "cell_type": "code",
   "execution_count": 18,
   "metadata": {},
   "outputs": [
    {
     "data": {
      "text/plain": [
       "{'title': 'UFC 285: Post-Fight Press Conference',\n",
       " 'description': 'Following UFC 285, tune in to the Post-Fight Press Conference to hear the athletes take questions from the media.\\n\\nSubscribe to get all the latest UFC content: http://bit.ly/2uJRzRR\\n\\nExperience UFC live with UFC FIGHT PASS, the digital subscription service of the UFC. Visit https://ufcfightpass.com/\\n\\nTo order UFC Pay-Per-Views on ESPN+, visit https://bit.ly/2vNIBE8 (U.S. only)\\n\\nTo order UFC Pay-Per-Views, visit http://welcome.ufcfightpass.com/#PPV (Non U.S.)\\n\\nConnect with UFC online and on Social:\\n🔴 Website: http://www.ufc.com\\n🔵 Twitter: http://www.twitter.com/ufc\\n🔵 Facebook: http://www.facebook.com/ufc\\n🔴 Instagram: http://www.instagram.com/ufc\\n🟡 Snapchat: UFC\\n🟣 Twitch: https://www.twitch.tv/ufc\\n\\nConnect with UFC FIGHT PASS on Social:\\n🔵 Twitter: http://www.twitter.com/ufcfightpass\\n🔵 Facebook: http://www.facebook.com/ufcfightpass\\n🔴 Instagram: http://www.instagram.com/ufcfightpass\\n\\n#UFC #UFC285',\n",
       " 'tags': ['UFC',\n",
       "  'Dana White',\n",
       "  'Post-fight Press Conference',\n",
       "  'Presser',\n",
       "  'Post-fight',\n",
       "  'Media',\n",
       "  'Scrum',\n",
       "  'Press',\n",
       "  'Conference',\n",
       "  'fight',\n",
       "  'night',\n",
       "  'fighter',\n",
       "  'bout',\n",
       "  'kick',\n",
       "  'punch',\n",
       "  'question',\n",
       "  'answer',\n",
       "  'interview',\n",
       "  'presser',\n",
       "  'main',\n",
       "  'event',\n",
       "  'card',\n",
       "  'best of',\n",
       "  'highlight',\n",
       "  'octagon',\n",
       "  'saturday',\n",
       "  'opponent',\n",
       "  'matchup',\n",
       "  'divison',\n",
       "  'co-main',\n",
       "  'reaction',\n",
       "  'post',\n",
       "  'press',\n",
       "  'conference',\n",
       "  'MARCH 4',\n",
       "  'dana',\n",
       "  'white',\n",
       "  'UFC 285',\n",
       "  '2023',\n",
       "  'future',\n",
       "  'champion',\n",
       "  'champ',\n",
       "  'belt',\n",
       "  'title',\n",
       "  'jon',\n",
       "  'jones',\n",
       "  'ciryl',\n",
       "  'gane']}"
      ]
     },
     "execution_count": 18,
     "metadata": {},
     "output_type": "execute_result"
    }
   ],
   "source": [
    "videoMetaData"
   ]
  },
  {
   "cell_type": "code",
   "execution_count": 69,
   "metadata": {},
   "outputs": [],
   "source": [
    "response = (\n",
    "    youtube_api.videos()\n",
    "    .list(part=\"id,snippet,contentDetails\", id='aUUO7Ajvs1Y')\n",
    "    .execute()\n",
    ")"
   ]
  },
  {
   "cell_type": "code",
   "execution_count": 71,
   "metadata": {},
   "outputs": [
    {
     "data": {
      "text/plain": [
       "[]"
      ]
     },
     "execution_count": 71,
     "metadata": {},
     "output_type": "execute_result"
    }
   ],
   "source": [
    "response[\"items\"]"
   ]
  },
  {
   "cell_type": "code",
   "execution_count": 61,
   "metadata": {},
   "outputs": [],
   "source": [
    "import re\n",
    "import datetime\n",
    "\n",
    "def parse_duration(duration_string):\n",
    "    # Define regular expression patterns for hours, minutes, and seconds\n",
    "    hours_pattern = r'(?P<hours>\\d+)H'\n",
    "    minutes_pattern = r'(?P<minutes>\\d+)M'\n",
    "    seconds_pattern = r'(?P<seconds>\\d+)S'\n",
    "\n",
    "    # Extract the components from the duration string using the regular expressions\n",
    "    hours = 0\n",
    "    minutes = 0\n",
    "    seconds = 0\n",
    "\n",
    "    hours_match = re.search(hours_pattern, duration_string)\n",
    "    if hours_match:\n",
    "        hours = int(hours_match.group('hours'))\n",
    "\n",
    "    minutes_match = re.search(minutes_pattern, duration_string)\n",
    "    if minutes_match:\n",
    "        minutes = int(minutes_match.group('minutes'))\n",
    "\n",
    "    seconds_match = re.search(seconds_pattern, duration_string)\n",
    "    if seconds_match:\n",
    "        seconds = int(seconds_match.group('seconds'))\n",
    "\n",
    "    # Create a time object with the parsed components\n",
    "    time_obj = datetime.time(hour=hours, minute=minutes, second=seconds)\n",
    "\n",
    "    return time_obj"
   ]
  },
  {
   "cell_type": "code",
   "execution_count": 35,
   "metadata": {},
   "outputs": [
    {
     "data": {
      "text/plain": [
       "{'kind': 'youtube#video',\n",
       " 'etag': 'Vb98YA1sdsKCZH24VCYKad4anaE',\n",
       " 'id': 'd07IMGz7Dkc',\n",
       " 'snippet': {'publishedAt': '2023-02-06T18:00:28Z',\n",
       "  'channelId': 'UCemIPVbnuBzOmuXza99eH_w',\n",
       "  'title': '5 Golden Rules of Real Estate Investing',\n",
       "  'description': 'Subscribe for more videos: https://www.youtube.com/c/ThachNguyen\\n\\nThank you for watching!\\n\\nStart your real estate investing journey with mentorship from me and my team: beacons.ai/thachnguyen\\n\\nFor business inquiries, partnerships, sponsorships, and collaborations: thach518@gmail.com\\n\\nThach Nguyen has come a long way since arriving in America at age 4 with his parents, four brothers, and sister in 1975. Focus, drive, determination, and great mentors paved the way for him to go from a homeless refugee to a multi-millionaire.  \\n\\nThach is the CEO & Founder of Thach Real Estate Group and principal of Springboard to Wealth. He is not only a seasoned realtor, investor, coach, author, and speaker, but also a proud ambassador of the American Dream. During his 30 years in the real estate industry, he has built more than 300 homes, townhouses, multifamily units and completed over 100 flips, and owns over 100 rental properties giving him over $100,000 a month in passive income. Thach and his team have assisted more than 1,500 families to create their own American Dream of home ownership, ranking him in the Top 1% of all real estate professionals nationwide.\\n\\nFollow on Instagram: https://www.instagram.com/thachnguyen/',\n",
       "  'thumbnails': {'default': {'url': 'https://i.ytimg.com/vi/d07IMGz7Dkc/default.jpg',\n",
       "    'width': 120,\n",
       "    'height': 90},\n",
       "   'medium': {'url': 'https://i.ytimg.com/vi/d07IMGz7Dkc/mqdefault.jpg',\n",
       "    'width': 320,\n",
       "    'height': 180},\n",
       "   'high': {'url': 'https://i.ytimg.com/vi/d07IMGz7Dkc/hqdefault.jpg',\n",
       "    'width': 480,\n",
       "    'height': 360},\n",
       "   'standard': {'url': 'https://i.ytimg.com/vi/d07IMGz7Dkc/sddefault.jpg',\n",
       "    'width': 640,\n",
       "    'height': 480},\n",
       "   'maxres': {'url': 'https://i.ytimg.com/vi/d07IMGz7Dkc/maxresdefault.jpg',\n",
       "    'width': 1280,\n",
       "    'height': 720}},\n",
       "  'channelTitle': 'Thach Nguyen',\n",
       "  'categoryId': '26',\n",
       "  'liveBroadcastContent': 'none',\n",
       "  'localized': {'title': '5 Golden Rules of Real Estate Investing',\n",
       "   'description': 'Subscribe for more videos: https://www.youtube.com/c/ThachNguyen\\n\\nThank you for watching!\\n\\nStart your real estate investing journey with mentorship from me and my team: beacons.ai/thachnguyen\\n\\nFor business inquiries, partnerships, sponsorships, and collaborations: thach518@gmail.com\\n\\nThach Nguyen has come a long way since arriving in America at age 4 with his parents, four brothers, and sister in 1975. Focus, drive, determination, and great mentors paved the way for him to go from a homeless refugee to a multi-millionaire.  \\n\\nThach is the CEO & Founder of Thach Real Estate Group and principal of Springboard to Wealth. He is not only a seasoned realtor, investor, coach, author, and speaker, but also a proud ambassador of the American Dream. During his 30 years in the real estate industry, he has built more than 300 homes, townhouses, multifamily units and completed over 100 flips, and owns over 100 rental properties giving him over $100,000 a month in passive income. Thach and his team have assisted more than 1,500 families to create their own American Dream of home ownership, ranking him in the Top 1% of all real estate professionals nationwide.\\n\\nFollow on Instagram: https://www.instagram.com/thachnguyen/'},\n",
       "  'defaultAudioLanguage': 'en'},\n",
       " 'contentDetails': {'duration': 'PT11M9S',\n",
       "  'dimension': '2d',\n",
       "  'definition': 'hd',\n",
       "  'caption': 'false',\n",
       "  'licensedContent': True,\n",
       "  'contentRating': {},\n",
       "  'projection': 'rectangular'}}"
      ]
     },
     "execution_count": 35,
     "metadata": {},
     "output_type": "execute_result"
    }
   ],
   "source": [
    "response[\"items\"][0]"
   ]
  },
  {
   "cell_type": "code",
   "execution_count": null,
   "metadata": {},
   "outputs": [],
   "source": [
    "video = {\n",
    "    \"title\": videoMetaData[\"title\"],\n",
    "    \"description\": videoMetaData[\"description\"],\n",
    "    \"tags\": videoMetaData[\"tags\"],\n",
    "    \"cleaned_transcript\": videoTranscript[\"cleaned_transcript\"],\n",
    "    \"raw_transcript\": videoTranscript[\"raw_transcript\"], \n",
    "    \"comments\": [list(comment.values())[0] for comment in videoComments[\"comments\"]],\n",
    "    \"comment_ids\" : [list(comment.keys())[0] for comment in videoComments[\"comments\"]],\n",
    "}\n"
   ]
  },
  {
   "cell_type": "code",
   "execution_count": null,
   "metadata": {},
   "outputs": [],
   "source": [
    "pd.DataFrame(pd.Series(video)).T"
   ]
  },
  {
   "cell_type": "code",
   "execution_count": 2,
   "metadata": {},
   "outputs": [],
   "source": [
    "import pandas as pd"
   ]
  },
  {
   "cell_type": "code",
   "execution_count": 3,
   "metadata": {},
   "outputs": [],
   "source": [
    "df = pd.read_csv('../data/raw/youtube/videos_0.csv')"
   ]
  },
  {
   "cell_type": "code",
   "execution_count": 4,
   "metadata": {},
   "outputs": [
    {
     "data": {
      "text/html": [
       "<div>\n",
       "<style scoped>\n",
       "    .dataframe tbody tr th:only-of-type {\n",
       "        vertical-align: middle;\n",
       "    }\n",
       "\n",
       "    .dataframe tbody tr th {\n",
       "        vertical-align: top;\n",
       "    }\n",
       "\n",
       "    .dataframe thead th {\n",
       "        text-align: right;\n",
       "    }\n",
       "</style>\n",
       "<table border=\"1\" class=\"dataframe\">\n",
       "  <thead>\n",
       "    <tr style=\"text-align: right;\">\n",
       "      <th></th>\n",
       "      <th>title</th>\n",
       "      <th>description</th>\n",
       "      <th>tags</th>\n",
       "      <th>cleaned_transcript</th>\n",
       "      <th>raw_transcript</th>\n",
       "      <th>comments</th>\n",
       "      <th>comment_ids</th>\n",
       "    </tr>\n",
       "  </thead>\n",
       "  <tbody>\n",
       "    <tr>\n",
       "      <th>0</th>\n",
       "      <td>How TikTok Could Become a U.S. Company | WSJ</td>\n",
       "      <td>TikTok is at a crossroads, as U.S. concerns ab...</td>\n",
       "      <td>['tik tok china', 'tiktok china', 'tiktok owne...</td>\n",
       "      <td>- [Narrator] TikTok is at a crossroads. Concer...</td>\n",
       "      <td>[{'text': '- [Narrator] TikTok is at a crossro...</td>\n",
       "      <td>['I don’t trust oracle either but okay', 'It’s...</td>\n",
       "      <td>['UgwGZaDLpB4lHanki6V4AaABAg', 'Ugy5kzxqBohPn3...</td>\n",
       "    </tr>\n",
       "    <tr>\n",
       "      <th>1</th>\n",
       "      <td>Rick Astley - Never Gonna Give You Up (Officia...</td>\n",
       "      <td>The official video for “Never Gonna Give You U...</td>\n",
       "      <td>['rick astley', 'Never Gonna Give You Up', 'ng...</td>\n",
       "      <td>[Music] you know the rules [Music] gotta make ...</td>\n",
       "      <td>[{'text': '[Music]', 'start': 0.0, 'duration':...</td>\n",
       "      <td>['1 BILLION views for Never Gonna Give You Up!...</td>\n",
       "      <td>['UgzarqjaaPC7TbFINNx4AaABAg', 'UgzarqjaaPC7Tb...</td>\n",
       "    </tr>\n",
       "  </tbody>\n",
       "</table>\n",
       "</div>"
      ],
      "text/plain": [
       "                                               title  \\\n",
       "0       How TikTok Could Become a U.S. Company | WSJ   \n",
       "1  Rick Astley - Never Gonna Give You Up (Officia...   \n",
       "\n",
       "                                         description  \\\n",
       "0  TikTok is at a crossroads, as U.S. concerns ab...   \n",
       "1  The official video for “Never Gonna Give You U...   \n",
       "\n",
       "                                                tags  \\\n",
       "0  ['tik tok china', 'tiktok china', 'tiktok owne...   \n",
       "1  ['rick astley', 'Never Gonna Give You Up', 'ng...   \n",
       "\n",
       "                                  cleaned_transcript  \\\n",
       "0  - [Narrator] TikTok is at a crossroads. Concer...   \n",
       "1  [Music] you know the rules [Music] gotta make ...   \n",
       "\n",
       "                                      raw_transcript  \\\n",
       "0  [{'text': '- [Narrator] TikTok is at a crossro...   \n",
       "1  [{'text': '[Music]', 'start': 0.0, 'duration':...   \n",
       "\n",
       "                                            comments  \\\n",
       "0  ['I don’t trust oracle either but okay', 'It’s...   \n",
       "1  ['1 BILLION views for Never Gonna Give You Up!...   \n",
       "\n",
       "                                         comment_ids  \n",
       "0  ['UgwGZaDLpB4lHanki6V4AaABAg', 'Ugy5kzxqBohPn3...  \n",
       "1  ['UgzarqjaaPC7TbFINNx4AaABAg', 'UgzarqjaaPC7Tb...  "
      ]
     },
     "execution_count": 4,
     "metadata": {},
     "output_type": "execute_result"
    }
   ],
   "source": [
    "df.head()"
   ]
  },
  {
   "cell_type": "code",
   "execution_count": 5,
   "metadata": {},
   "outputs": [
    {
     "data": {
      "text/plain": [
       "'How TikTok Could Become a U.S. Company | WSJ'"
      ]
     },
     "execution_count": 5,
     "metadata": {},
     "output_type": "execute_result"
    }
   ],
   "source": [
    "df['title'][0]"
   ]
  },
  {
   "cell_type": "code",
   "execution_count": 7,
   "metadata": {},
   "outputs": [
    {
     "data": {
      "text/plain": [
       "\"['tik tok china', 'tiktok china', 'tiktok owned by china', 'tiktok security', 'cfius', 'tiktok cfius', 'tiktok ownership', 'tiktok data', 'bytedance', 'tiktok divestiture', 'divestiture', 'tiktok oracle', 'tiktok', 'china', 'china privacy', 'china security', 'data privacy', 'china social media', 'social media privacy', 'tiktok us deal', 'tiktok us security deal', 'tiktok deal', 'china us', 'tiktok in us', 'data', 'privacy', 'tik tok', 'tiktok data privacy', 'business news', 'tiktok ban', 'tiktok user data', 'china news', 'tiktok news', 'techy']\""
      ]
     },
     "execution_count": 7,
     "metadata": {},
     "output_type": "execute_result"
    }
   ],
   "source": [
    "df['tags'][0]"
   ]
  },
  {
   "cell_type": "code",
   "execution_count": 6,
   "metadata": {},
   "outputs": [
    {
     "data": {
      "text/plain": [
       "'- [Narrator] TikTok is at a crossroads. Concerns about its Chinese ownership have been building since 2020. - TikTok\\'s been in this\\nlimbo for two years, and who knows how many more months or years it could stay in this limbo. - [Narrator] And a panel of US officials is torn on how to address them. If they can\\'t come to an agreement, there\\'s another possible solution, forcing TikTok to become a US company. Here\\'s what it would\\ntake to make that happen, and why that move poses\\nsome big challenges. First, a brief review of how\\nTikTok\\'s data is managed, which is the main focus for US officials. - TikTok\\'s this huge\\ncompany, but it\\'s owned by a Chinese parent\\ncompany called ByteDance. They run several apps, but TikTok is probably their\\nbest known one in the world. - [Narrator] ByteDance itself\\nis headquartered in Beijing, and is owned by investors\\nfrom around the globe. A Chinese state controlled entity owns 1% of a Beijing based\\nsubsidiary of ByteDance. Those connections are what\\nsome are worried about, and for a couple of reasons. - The first concern is that the Chinese government could order TikTok to hand over data about\\nindividual American users. So what kind of videos they watch, and maybe even their IP addresses, which could identify their location. The second big thing is the video recommendation algorithm, and the idea is that\\nthe Chinese government could order TikTok to control what videos Americans could watch. - [Narrator] TikTok says\\nit has already started to address some of those concerns. The company recently said that all US user traffic is now being routed through cloud servers operated by the US based company Oracle. And TikTok says that only members of its US data security team\\nhave access to that data. But backups are still being saved to other non-Oracle servers in the US and Singapore, the company says, but it\\'s phasing those out. As for TikTok\\'s recommendation algorithm, that was created by its Chinese\\nparent company ByteDance. TikTok says changes to the\\nalgorithm are monitored by Oracle before they\\'re\\nimplemented in the US app. - So anytime there\\'s a change to the algorithm that influences what kind of videos Americans see, they see that Oracle will\\nhave full access to see, you know, what the algorithm does. - [Narrator] A spokesperson for the Chinese Foreign Ministry said in a press conference in November in regards to TikTok that \"Spreading disinformation and then using it to\\nhobble Chinese companies has become a go-to tool\\nfor the US government.\" But some US lawmakers still want TikTok to have more separation from China. One option is a divestiture\\norder or a forced sale, which could cut ties to Chinese ownership. - The Chinese government would theoretically have less power over TikTok, to force TikTok to do something like spy or control what videos Americans watch. - [Narrator] A divestiture\\norder is what happened to the dating app Grindr in 2019, after US officials determined that the app\\'s personal data could potentially be\\nexploited for blackmail, since the majority stakeholder\\nwas a Chinese company. Here\\'s how the process\\nhas worked in past cases. First, an executive body branch called the Committee on Foreign\\nInvestment in the United States, or CFIUS, opens a case with\\nthe involved companies. This is the panel that\\'s\\nbeen talking to TikTok. It\\'s made up of representatives of nine US departments and agencies, led by the Treasury, and reviews foreign transactions to see if they might be a national security risk. After CFIUS reviews a company or merger, it can make recommendations\\nto mitigate those risks, which can include asking foreign investors or owners to sell their\\nstake in the company. In extreme cases, it can\\nalso escalate the case to the president, who\\ncan order a forced sale. That owner then has to\\nfind a suitable buyer, usually one within the US. Then the buyer and seller\\nmight have to go back to CFIUS in order to\\nget the sale approved. Grindr took just over a year\\nafter the order was made to find a buyer and get approval. The president never issued an order. But TikTok is a much bigger name and forcing a sale could\\nbe more complicated. - There\\'s been nothing of\\nthis scale, this popularity. Usually, you know, CFIUS deals with a lot smaller cases here. So this is like the case of the century for CFIUS\\nlawyers in Washington in DC. - [Narrator] A treasury official said that CFIUS does not publicly comment on transactions that it may\\nor may not be reviewing. Officials are worried about a number of challenges\\nfacing a forced sale. One is that the Trump\\nadministration already tried it. - They have till September\\n15th to make a deal. After that, we closed\\nit up in this country. - [Narrator] In 2020, that administration issued an order that would\\'ve\\neffectively banned TikTok, unless it sold itself to a US buyer. But TikTok pushed back and took the order to a federal appeals court, arguing that the deal denied\\nthe company due process. It was still tied up in legal issues by the time Joe Biden got into office, and the order was shelved as his administration conducted\\nits own security review. But his administration\\ncould face similar pushback from TikTok if it tries to force a sale, and doing so could risk\\ndiluting CFIUS\\' authority. - Their power is based on having these vague broad powers, and if they go to court,\\neven if they win in court, a court might put parameters on that power, might define that power, \\'cause the more vague your power is, the more powerful it is. - [Narrator] Even without legal hurdles, a sale would also need cooperation from the Chinese government, which has the power to restrict the exports of technology, such as TikTok\\'s video\\nrecommendation algorithm. - If China does not allow\\nthe algorithm to be sold, then can TikTok continue\\noperating in the US? We don\\'t know. We\\'re in totally uncharted\\nwaters right now. - [Narrator] While CFIUS\\ndecides what to do, some lawmakers have taken\\nconcerns into their own hands. TikTok has been banned on government devices\\nin a majority of states. And in December, the federal government\\nimplemented a similar ban. - The only sensible next step is for this congress\\nto act to make that ban across the board for all federal devices. - [Narrator] At least one bill has been introduced to ban TikTok entirely in the United States. - That has legal problems too. That could potentially face\\na First Amendment problem. Can you actually stop, can you actually ban TikTok\\nfrom operating in the US? Especially when it has more than 100 million American users. - [Narrator] While TikTok\\nhas made concessions, including how its data is managed, to get to an agreement with CFIUS, talks are ongoing\\nwithout a clear deadline. (upbeat music)'"
      ]
     },
     "execution_count": 6,
     "metadata": {},
     "output_type": "execute_result"
    }
   ],
   "source": [
    "df['cleaned_transcript'][0]"
   ]
  },
  {
   "cell_type": "code",
   "execution_count": null,
   "metadata": {},
   "outputs": [],
   "source": []
  }
 ],
 "metadata": {
  "kernelspec": {
   "display_name": "crypto",
   "language": "python",
   "name": "crypto"
  },
  "language_info": {
   "codemirror_mode": {
    "name": "ipython",
    "version": 3
   },
   "file_extension": ".py",
   "mimetype": "text/x-python",
   "name": "python",
   "nbconvert_exporter": "python",
   "pygments_lexer": "ipython3",
   "version": "3.8.5"
  }
 },
 "nbformat": 4,
 "nbformat_minor": 4
}
