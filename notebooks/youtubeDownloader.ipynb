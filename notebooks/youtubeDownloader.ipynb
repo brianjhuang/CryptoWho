{
 "cells": [
  {
   "cell_type": "code",
   "execution_count": null,
   "metadata": {},
   "outputs": [],
   "source": [
    "import sys\n",
    "sys.path.insert(0, '../') # so we can access our config files\n",
    "\n",
    "import os\n",
    "import logging\n",
    "import json\n",
    "import time\n",
    "\n",
    "from tqdm.notebook import tqdm\n",
    "import pandas as pd\n",
    "import random\n",
    "\n",
    "# YouTube API Libraries\n",
    "from youtube_transcript_api import YouTubeTranscriptApi\n",
    "from googleapiclient.discovery import build\n",
    "from googleapiclient.errors import HttpError\n",
    "from socket import error as SocketError\n",
    "\n",
    "# Config Imports\n",
    "from config import youtube"
   ]
  },
  {
   "cell_type": "code",
   "execution_count": null,
   "metadata": {},
   "outputs": [],
   "source": [
    "print(os.environ.get(\"default_output\"))"
   ]
  },
  {
   "cell_type": "code",
   "execution_count": null,
   "metadata": {},
   "outputs": [],
   "source": [
    "youtube_api = build(youtube.YOUTUBE_API_SERVICE_NAME, youtube.YOUTUBE_API_VERSION, developerKey=youtube.YOUTUBE_DATA_API_KEY)"
   ]
  },
  {
   "cell_type": "code",
   "execution_count": null,
   "metadata": {},
   "outputs": [],
   "source": [
    "def keyExists():\n",
    "    \"\"\" Check if we have a key in our environment\n",
    "\n",
    "    Returns\n",
    "    -------\n",
    "    bool\n",
    "        If we have a key stored in our environment return True \n",
    "    \"\"\"\n",
    "\n",
    "    return youtube.YOUTUBE_DATA_API_KEY != None"
   ]
  },
  {
   "cell_type": "code",
   "execution_count": null,
   "metadata": {},
   "outputs": [],
   "source": [
    "### Get Video Title, Desc, Tags\n",
    "def getVideoMetadata(video_id):\n",
    "    \"\"\"Download video meta data given an ID\n",
    "\n",
    "    Method queries the YouTube Data API and retrieves details of the video. These\n",
    "    details are used as the video desc, title and tags.\n",
    "\n",
    "    Parameters\n",
    "    ----------\n",
    "    video_id : str\n",
    "        The video_id for the YouTube video, usually found at the end of the URL.\n",
    "\n",
    "    Returns\n",
    "    -------\n",
    "    dict\n",
    "        A dictionary with the video desc, title and video tags\n",
    "    \"\"\"\n",
    "    try:\n",
    "        response = (\n",
    "            youtube_api.videos()\n",
    "            .list(part=\"id,snippet,contentDetails\", id=video_id)\n",
    "            .execute()\n",
    "        )\n",
    "\n",
    "        # Get Video Details\n",
    "        try:\n",
    "            videoContent = response[\"items\"][0]\n",
    "\n",
    "            if \"snippet\" in videoContent.keys():\n",
    "                videoSnippet = videoContent[\"snippet\"]\n",
    "                print(videoSnippet[\"title\"])\n",
    "                print(videoSnippet[\"description\"])\n",
    "                print(videoSnippet[\"tags\"])\n",
    "\n",
    "                return {\n",
    "                    \"title\": videoSnippet[\"title\"],\n",
    "                    \"description\": videoSnippet[\"description\"],\n",
    "                    \"tags\": videoSnippet[\"tags\"],\n",
    "                }\n",
    "\n",
    "        except:\n",
    "            print(\"Failed to get title and video\")\n",
    "            return {\"title\": \"\", \"description\": \"\", \"tags\": \"\"}\n",
    "\n",
    "    except (HttpError, SocketError) as error:\n",
    "        print(\n",
    "            \"--- HTTP Error occurred while retrieving information for VideoID: {0}. [ERROR]: {1}\".format(\n",
    "                video_id, error\n",
    "            )\n",
    "        )"
   ]
  },
  {
   "cell_type": "code",
   "execution_count": null,
   "metadata": {},
   "outputs": [],
   "source": [
    "# Top N comments\n",
    "def getVideoComments(video_id, num_comments):\n",
    "    \"\"\"Download video comments given an ID\n",
    "\n",
    "    Method queries the YouTube Data API and retrieves the top comments of a video.\n",
    "\n",
    "    Parameters\n",
    "    ----------\n",
    "    video_id : str\n",
    "        The video_id for the YouTube video, usually found at the end of the URL.\n",
    "    num_comments: int\n",
    "        The max number of comments we want from the video.\n",
    "\n",
    "    Returns\n",
    "    -------\n",
    "    dict\n",
    "        A dictionary with the comments\n",
    "    \"\"\"\n",
    "\n",
    "    counter = num_comments\n",
    "    nextPageToken = \"\"\n",
    "    comments = []\n",
    "\n",
    "    while counter > 0:\n",
    "        try:\n",
    "            # For the first page\n",
    "            if num_comments == counter:\n",
    "                response = (\n",
    "                    youtube_api.commentThreads()\n",
    "                    .list(part=\"snippet,replies\", videoId=video_id, maxResults=100)\n",
    "                    .execute()\n",
    "                )\n",
    "\n",
    "                # Grab the ID to the next page\n",
    "                if \"nextPageToken\" in response.keys():\n",
    "                    nextPageToken = response[\"nextPageToken\"]\n",
    "\n",
    "                try:\n",
    "                    pageComments = []\n",
    "\n",
    "                    # Get all the comments for the page\n",
    "                    for item in response[\"items\"]:\n",
    "                        # Start with the top comment\n",
    "                        pageComments.append(\n",
    "                            {\n",
    "                                item[\"snippet\"][\"topLevelComment\"][\"id\"]: item[\n",
    "                                    \"snippet\"\n",
    "                                ][\"topLevelComment\"][\"snippet\"][\"textOriginal\"]\n",
    "                            }\n",
    "                        )\n",
    "\n",
    "                        # If we have replies\n",
    "                        if \"replies\" in item.keys():\n",
    "                            # Get all the replies to the comment\n",
    "                            pageComments += [\n",
    "                                {reply[\"id\"]: reply[\"snippet\"][\"textOriginal\"]}\n",
    "                                for reply in item[\"replies\"][\"comments\"]\n",
    "                            ]\n",
    "\n",
    "                    # Each page grabs at max 100 comments\n",
    "                    counter -= 100\n",
    "                    comments += pageComments\n",
    "\n",
    "                except:\n",
    "                    return {\"comments\": []}\n",
    "\n",
    "            else:\n",
    "                # For all subsequent pages\n",
    "                response = (\n",
    "                    youtube_api.commentThreads()\n",
    "                    .list(\n",
    "                        part=\"snippet,replies\",\n",
    "                        pageToken=nextPageToken,\n",
    "                        videoId=video_id,\n",
    "                        maxResults=100,\n",
    "                    )\n",
    "                    .execute()\n",
    "                )\n",
    "\n",
    "                # Grab the ID to the next page\n",
    "                if \"nextPageToken\" in response.keys():\n",
    "                    nextPageToken = response[\"nextPageToken\"]\n",
    "\n",
    "                try:\n",
    "                    pageComments = []\n",
    "\n",
    "                    # Get all the comments for the page\n",
    "                    for item in response[\"items\"]:\n",
    "                        # Start with the top comment\n",
    "                        pageComments.append(\n",
    "                            {\n",
    "                                item[\"snippet\"][\"topLevelComment\"][\"id\"]: item[\n",
    "                                    \"snippet\"\n",
    "                                ][\"topLevelComment\"][\"snippet\"][\"textOriginal\"]\n",
    "                            }\n",
    "                        )\n",
    "\n",
    "                        # If we have replies\n",
    "                        if \"replies\" in item.keys():\n",
    "                            # Get all the replies to the comment\n",
    "                            pageComments += [\n",
    "                                {reply[\"id\"]: reply[\"snippet\"][\"textOriginal\"]}\n",
    "                                for reply in item[\"replies\"][\"comments\"]\n",
    "                            ]\n",
    "\n",
    "                    # Each page grabs at max 100 comments\n",
    "                    counter -= 100\n",
    "                    comments += pageComments\n",
    "\n",
    "                except:\n",
    "                    return {\"comments\": []}\n",
    "\n",
    "        except (HttpError, SocketError) as error:\n",
    "            print(\n",
    "                \"--- HTTP Error occurred while retrieving information for VideoID: {0}. [ERROR]: {1}\".format(\n",
    "                    video_id, error\n",
    "                )\n",
    "            )\n",
    "\n",
    "    return {\"comments\":comments}\n"
   ]
  },
  {
   "cell_type": "code",
   "execution_count": null,
   "metadata": {},
   "outputs": [],
   "source": [
    "### Get Video Transcript\n",
    "\n",
    "def getVideoTranscript(video_id, transcriber=None):\n",
    "    \"\"\"Download video transcript given an ID\n",
    "\n",
    "    Method uses the youtube-transcript library to query the API for a video_id. Method cleans \n",
    "    returned output and provides a text blob back.\n",
    "    \n",
    "    Parameters\n",
    "    ----------\n",
    "    video_id : str\n",
    "        The video_id for the YouTube video, usually found at the end of the URL.\n",
    "    transcriber : YouTubeTranscriptApi\n",
    "        Our transcription object. Passed in to prevent constant constructor calls.\n",
    "\n",
    "    Returns\n",
    "    -------\n",
    "    dict\n",
    "        A dictionary with the raw transcript, cleaned transcript, and pauses in the video.\n",
    "    \"\"\"\n",
    "\n",
    "    # If we did not pass in a transcriber\n",
    "    if transcriber == None:\n",
    "        transcriber = YouTubeTranscriptApi()\n",
    "\n",
    "    try:\n",
    "        raw_transcript = transcriber.get_transcript(video_id)\n",
    "    except:\n",
    "        return {\"cleaned_transcript\" : \"\", \"raw_transcript\" : {}}\n",
    "\n",
    "    cleaned_transcript = \" \".join([phrase['text'] for phrase in raw_transcript])\n",
    "\n",
    "    return {\"cleaned_transcript\" : cleaned_transcript, \"raw_transcript\" : raw_transcript}"
   ]
  },
  {
   "cell_type": "code",
   "execution_count": null,
   "metadata": {},
   "outputs": [],
   "source": [
    "transcriber = YouTubeTranscriptApi()\n",
    "video_id = '41hCQZAgVa0'"
   ]
  },
  {
   "cell_type": "code",
   "execution_count": null,
   "metadata": {},
   "outputs": [],
   "source": [
    "videoMetaData = getVideoMetadata(video_id)\n",
    "time.sleep(1)\n",
    "videoComments = getVideoComments(video_id, 200)\n",
    "time.sleep(2)\n",
    "videoTranscript = getVideoTranscript(video_id, transcriber)"
   ]
  },
  {
   "cell_type": "code",
   "execution_count": null,
   "metadata": {},
   "outputs": [],
   "source": [
    "videoMetaData"
   ]
  },
  {
   "cell_type": "code",
   "execution_count": null,
   "metadata": {},
   "outputs": [],
   "source": [
    "response = (\n",
    "    youtube_api.videos()\n",
    "    .list(part=\"id,snippet,contentDetails\", id='aUUO7Ajvs1Y')\n",
    "    .execute()\n",
    ")"
   ]
  },
  {
   "cell_type": "code",
   "execution_count": null,
   "metadata": {},
   "outputs": [],
   "source": [
    "response[\"items\"]"
   ]
  },
  {
   "cell_type": "code",
   "execution_count": null,
   "metadata": {},
   "outputs": [],
   "source": [
    "import re\n",
    "import datetime\n",
    "\n",
    "def parse_duration(duration_string):\n",
    "    # Define regular expression patterns for hours, minutes, and seconds\n",
    "    hours_pattern = r'(?P<hours>\\d+)H'\n",
    "    minutes_pattern = r'(?P<minutes>\\d+)M'\n",
    "    seconds_pattern = r'(?P<seconds>\\d+)S'\n",
    "\n",
    "    # Extract the components from the duration string using the regular expressions\n",
    "    hours = 0\n",
    "    minutes = 0\n",
    "    seconds = 0\n",
    "\n",
    "    hours_match = re.search(hours_pattern, duration_string)\n",
    "    if hours_match:\n",
    "        hours = int(hours_match.group('hours'))\n",
    "\n",
    "    minutes_match = re.search(minutes_pattern, duration_string)\n",
    "    if minutes_match:\n",
    "        minutes = int(minutes_match.group('minutes'))\n",
    "\n",
    "    seconds_match = re.search(seconds_pattern, duration_string)\n",
    "    if seconds_match:\n",
    "        seconds = int(seconds_match.group('seconds'))\n",
    "\n",
    "    # Create a time object with the parsed components\n",
    "    time_obj = datetime.time(hour=hours, minute=minutes, second=seconds)\n",
    "\n",
    "    return time_obj"
   ]
  },
  {
   "cell_type": "code",
   "execution_count": null,
   "metadata": {},
   "outputs": [],
   "source": [
    "response[\"items\"][0]"
   ]
  },
  {
   "cell_type": "code",
   "execution_count": null,
   "metadata": {},
   "outputs": [],
   "source": [
    "video = {\n",
    "    \"title\": videoMetaData[\"title\"],\n",
    "    \"description\": videoMetaData[\"description\"],\n",
    "    \"tags\": videoMetaData[\"tags\"],\n",
    "    \"cleaned_transcript\": videoTranscript[\"cleaned_transcript\"],\n",
    "    \"raw_transcript\": videoTranscript[\"raw_transcript\"], \n",
    "    \"comments\": [list(comment.values())[0] for comment in videoComments[\"comments\"]],\n",
    "    \"comment_ids\" : [list(comment.keys())[0] for comment in videoComments[\"comments\"]],\n",
    "}\n"
   ]
  },
  {
   "cell_type": "code",
   "execution_count": null,
   "metadata": {},
   "outputs": [],
   "source": [
    "pd.DataFrame(pd.Series(video)).T"
   ]
  },
  {
   "cell_type": "code",
   "execution_count": null,
   "metadata": {},
   "outputs": [],
   "source": [
    "import pandas as pd"
   ]
  },
  {
   "cell_type": "code",
   "execution_count": null,
   "metadata": {},
   "outputs": [],
   "source": [
    "df = pd.read_csv('../data/raw/youtube/videos_0.csv')"
   ]
  },
  {
   "cell_type": "code",
   "execution_count": null,
   "metadata": {},
   "outputs": [],
   "source": [
    "df.head()"
   ]
  },
  {
   "cell_type": "code",
   "execution_count": null,
   "metadata": {},
   "outputs": [],
   "source": [
    "df['title'][0]"
   ]
  },
  {
   "cell_type": "code",
   "execution_count": null,
   "metadata": {},
   "outputs": [],
   "source": [
    "df['tags'][0]"
   ]
  },
  {
   "cell_type": "code",
   "execution_count": null,
   "metadata": {},
   "outputs": [],
   "source": [
    "df['cleaned_transcript'][0]"
   ]
  },
  {
   "cell_type": "code",
   "execution_count": null,
   "metadata": {},
   "outputs": [],
   "source": []
  }
 ],
 "metadata": {
  "kernelspec": {
   "display_name": "crypto",
   "language": "python",
   "name": "crypto"
  },
  "language_info": {
   "codemirror_mode": {
    "name": "ipython",
    "version": 3
   },
   "file_extension": ".py",
   "mimetype": "text/x-python",
   "name": "python",
   "nbconvert_exporter": "python",
   "pygments_lexer": "ipython3",
   "version": "3.8.5"
  }
 },
 "nbformat": 4,
 "nbformat_minor": 4
}
