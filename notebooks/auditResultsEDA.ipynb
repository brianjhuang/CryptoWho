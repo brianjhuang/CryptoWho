{
 "cells": [
  {
   "cell_type": "code",
   "execution_count": 5,
   "id": "50aaabda-d178-4223-8083-de0b3adedf98",
   "metadata": {
    "tags": []
   },
   "outputs": [],
   "source": [
    "import os\n",
    "import pandas as pd\n",
    "import numpy as np"
   ]
  },
  {
   "cell_type": "code",
   "execution_count": 6,
   "id": "73526278-e486-49fa-a87d-314fbfbf8bb3",
   "metadata": {
    "tags": []
   },
   "outputs": [],
   "source": [
    "homepage = pd.read_csv('../data/audit/youtube/raw/1678002204369677-traditional-young-watch_time1-homepage_recs.csv')\n",
    "side = pd.read_csv('../data/audit/youtube/raw/1678002204369677-traditional-young-watch_time1-video_recs.csv')"
   ]
  },
  {
   "cell_type": "code",
   "execution_count": 7,
   "id": "a137de38-b71e-4032-88b3-e66396b4d581",
   "metadata": {
    "tags": []
   },
   "outputs": [
    {
     "data": {
      "text/html": [
       "<div>\n",
       "<style scoped>\n",
       "    .dataframe tbody tr th:only-of-type {\n",
       "        vertical-align: middle;\n",
       "    }\n",
       "\n",
       "    .dataframe tbody tr th {\n",
       "        vertical-align: top;\n",
       "    }\n",
       "\n",
       "    .dataframe thead th {\n",
       "        text-align: right;\n",
       "    }\n",
       "</style>\n",
       "<table border=\"1\" class=\"dataframe\">\n",
       "  <thead>\n",
       "    <tr style=\"text-align: right;\">\n",
       "      <th></th>\n",
       "      <th>url</th>\n",
       "      <th>reccommendation_source</th>\n",
       "      <th>videos_watched</th>\n",
       "      <th>Start Time</th>\n",
       "      <th>Age</th>\n",
       "      <th>Finance Video Type</th>\n",
       "    </tr>\n",
       "  </thead>\n",
       "  <tbody>\n",
       "    <tr>\n",
       "      <th>0</th>\n",
       "      <td>https://www.youtube.com/watch?v=Vus3x9fQDKE</td>\n",
       "      <td>homepage</td>\n",
       "      <td>21</td>\n",
       "      <td>1.678002e+09</td>\n",
       "      <td>young</td>\n",
       "      <td>traditional</td>\n",
       "    </tr>\n",
       "    <tr>\n",
       "      <th>1</th>\n",
       "      <td>https://www.youtube.com/watch?v=9be3UJvjpZw</td>\n",
       "      <td>homepage</td>\n",
       "      <td>21</td>\n",
       "      <td>1.678002e+09</td>\n",
       "      <td>young</td>\n",
       "      <td>traditional</td>\n",
       "    </tr>\n",
       "    <tr>\n",
       "      <th>2</th>\n",
       "      <td>https://www.youtube.com/watch?v=eY8lhv-Uzdc</td>\n",
       "      <td>homepage</td>\n",
       "      <td>21</td>\n",
       "      <td>1.678002e+09</td>\n",
       "      <td>young</td>\n",
       "      <td>traditional</td>\n",
       "    </tr>\n",
       "    <tr>\n",
       "      <th>3</th>\n",
       "      <td>https://www.youtube.com/watch?v=TwvJGHI8EO0</td>\n",
       "      <td>homepage</td>\n",
       "      <td>21</td>\n",
       "      <td>1.678002e+09</td>\n",
       "      <td>young</td>\n",
       "      <td>traditional</td>\n",
       "    </tr>\n",
       "    <tr>\n",
       "      <th>4</th>\n",
       "      <td>https://www.youtube.com/watch?v=7A7lGm9-kZc</td>\n",
       "      <td>homepage</td>\n",
       "      <td>21</td>\n",
       "      <td>1.678002e+09</td>\n",
       "      <td>young</td>\n",
       "      <td>traditional</td>\n",
       "    </tr>\n",
       "  </tbody>\n",
       "</table>\n",
       "</div>"
      ],
      "text/plain": [
       "                                           url reccommendation_source  \\\n",
       "0  https://www.youtube.com/watch?v=Vus3x9fQDKE               homepage   \n",
       "1  https://www.youtube.com/watch?v=9be3UJvjpZw               homepage   \n",
       "2  https://www.youtube.com/watch?v=eY8lhv-Uzdc               homepage   \n",
       "3  https://www.youtube.com/watch?v=TwvJGHI8EO0               homepage   \n",
       "4  https://www.youtube.com/watch?v=7A7lGm9-kZc               homepage   \n",
       "\n",
       "   videos_watched    Start Time    Age Finance Video Type  \n",
       "0              21  1.678002e+09  young        traditional  \n",
       "1              21  1.678002e+09  young        traditional  \n",
       "2              21  1.678002e+09  young        traditional  \n",
       "3              21  1.678002e+09  young        traditional  \n",
       "4              21  1.678002e+09  young        traditional  "
      ]
     },
     "execution_count": 7,
     "metadata": {},
     "output_type": "execute_result"
    }
   ],
   "source": [
    "homepage.head()"
   ]
  },
  {
   "cell_type": "code",
   "execution_count": 8,
   "id": "a769c489-766c-4331-825d-ba6df2917ef0",
   "metadata": {
    "tags": []
   },
   "outputs": [
    {
     "data": {
      "text/html": [
       "<div>\n",
       "<style scoped>\n",
       "    .dataframe tbody tr th:only-of-type {\n",
       "        vertical-align: middle;\n",
       "    }\n",
       "\n",
       "    .dataframe tbody tr th {\n",
       "        vertical-align: top;\n",
       "    }\n",
       "\n",
       "    .dataframe thead th {\n",
       "        text-align: right;\n",
       "    }\n",
       "</style>\n",
       "<table border=\"1\" class=\"dataframe\">\n",
       "  <thead>\n",
       "    <tr style=\"text-align: right;\">\n",
       "      <th></th>\n",
       "      <th>url</th>\n",
       "      <th>reccommendation_source</th>\n",
       "      <th>videos_watched</th>\n",
       "      <th>Start Time</th>\n",
       "      <th>Age</th>\n",
       "      <th>Finance Video Type</th>\n",
       "    </tr>\n",
       "  </thead>\n",
       "  <tbody>\n",
       "    <tr>\n",
       "      <th>0</th>\n",
       "      <td>https://www.youtube.com/watch?v=gFQNPmLKj1k</td>\n",
       "      <td>https://www.youtube.com/watch?v=W3CDMcWlPyM</td>\n",
       "      <td>1</td>\n",
       "      <td>1.678002e+09</td>\n",
       "      <td>young</td>\n",
       "      <td>traditional</td>\n",
       "    </tr>\n",
       "    <tr>\n",
       "      <th>1</th>\n",
       "      <td>https://www.youtube.com/watch?v=qc4GU_wHdqw</td>\n",
       "      <td>https://www.youtube.com/watch?v=W3CDMcWlPyM</td>\n",
       "      <td>1</td>\n",
       "      <td>1.678002e+09</td>\n",
       "      <td>young</td>\n",
       "      <td>traditional</td>\n",
       "    </tr>\n",
       "    <tr>\n",
       "      <th>2</th>\n",
       "      <td>https://www.youtube.com/watch?v=qlf9-573MhI</td>\n",
       "      <td>https://www.youtube.com/watch?v=W3CDMcWlPyM</td>\n",
       "      <td>1</td>\n",
       "      <td>1.678002e+09</td>\n",
       "      <td>young</td>\n",
       "      <td>traditional</td>\n",
       "    </tr>\n",
       "    <tr>\n",
       "      <th>3</th>\n",
       "      <td>https://www.youtube.com/watch?v=9AThycGCakk</td>\n",
       "      <td>https://www.youtube.com/watch?v=W3CDMcWlPyM</td>\n",
       "      <td>1</td>\n",
       "      <td>1.678002e+09</td>\n",
       "      <td>young</td>\n",
       "      <td>traditional</td>\n",
       "    </tr>\n",
       "    <tr>\n",
       "      <th>4</th>\n",
       "      <td>https://www.youtube.com/watch?v=iONDebHX9qk</td>\n",
       "      <td>https://www.youtube.com/watch?v=W3CDMcWlPyM</td>\n",
       "      <td>1</td>\n",
       "      <td>1.678002e+09</td>\n",
       "      <td>young</td>\n",
       "      <td>traditional</td>\n",
       "    </tr>\n",
       "  </tbody>\n",
       "</table>\n",
       "</div>"
      ],
      "text/plain": [
       "                                           url  \\\n",
       "0  https://www.youtube.com/watch?v=gFQNPmLKj1k   \n",
       "1  https://www.youtube.com/watch?v=qc4GU_wHdqw   \n",
       "2  https://www.youtube.com/watch?v=qlf9-573MhI   \n",
       "3  https://www.youtube.com/watch?v=9AThycGCakk   \n",
       "4  https://www.youtube.com/watch?v=iONDebHX9qk   \n",
       "\n",
       "                        reccommendation_source  videos_watched    Start Time  \\\n",
       "0  https://www.youtube.com/watch?v=W3CDMcWlPyM               1  1.678002e+09   \n",
       "1  https://www.youtube.com/watch?v=W3CDMcWlPyM               1  1.678002e+09   \n",
       "2  https://www.youtube.com/watch?v=W3CDMcWlPyM               1  1.678002e+09   \n",
       "3  https://www.youtube.com/watch?v=W3CDMcWlPyM               1  1.678002e+09   \n",
       "4  https://www.youtube.com/watch?v=W3CDMcWlPyM               1  1.678002e+09   \n",
       "\n",
       "     Age Finance Video Type  \n",
       "0  young        traditional  \n",
       "1  young        traditional  \n",
       "2  young        traditional  \n",
       "3  young        traditional  \n",
       "4  young        traditional  "
      ]
     },
     "execution_count": 8,
     "metadata": {},
     "output_type": "execute_result"
    }
   ],
   "source": [
    "side.head()"
   ]
  },
  {
   "cell_type": "code",
   "execution_count": 9,
   "id": "23d8ee5f-81aa-4b14-a6b8-aa8db5d6f563",
   "metadata": {
    "tags": []
   },
   "outputs": [
    {
     "name": "stdout",
     "output_type": "stream",
     "text": [
      "<class 'pandas.core.frame.DataFrame'>\n",
      "RangeIndex: 80 entries, 0 to 79\n",
      "Data columns (total 6 columns):\n",
      " #   Column                  Non-Null Count  Dtype  \n",
      "---  ------                  --------------  -----  \n",
      " 0   url                     80 non-null     object \n",
      " 1   reccommendation_source  80 non-null     object \n",
      " 2   videos_watched          80 non-null     int64  \n",
      " 3   Start Time              80 non-null     float64\n",
      " 4   Age                     80 non-null     object \n",
      " 5   Finance Video Type      80 non-null     object \n",
      "dtypes: float64(1), int64(1), object(4)\n",
      "memory usage: 3.9+ KB\n"
     ]
    }
   ],
   "source": [
    "homepage.info()"
   ]
  },
  {
   "cell_type": "code",
   "execution_count": 10,
   "id": "f3356271-82a8-4230-abf0-04334865a23b",
   "metadata": {
    "tags": []
   },
   "outputs": [
    {
     "name": "stdout",
     "output_type": "stream",
     "text": [
      "<class 'pandas.core.frame.DataFrame'>\n",
      "RangeIndex: 600 entries, 0 to 599\n",
      "Data columns (total 6 columns):\n",
      " #   Column                  Non-Null Count  Dtype  \n",
      "---  ------                  --------------  -----  \n",
      " 0   url                     598 non-null    object \n",
      " 1   reccommendation_source  600 non-null    object \n",
      " 2   videos_watched          600 non-null    int64  \n",
      " 3   Start Time              600 non-null    float64\n",
      " 4   Age                     600 non-null    object \n",
      " 5   Finance Video Type      600 non-null    object \n",
      "dtypes: float64(1), int64(1), object(4)\n",
      "memory usage: 28.2+ KB\n"
     ]
    }
   ],
   "source": [
    "side.info()"
   ]
  },
  {
   "cell_type": "code",
   "execution_count": 15,
   "id": "26c73495-ce0a-4ab6-a202-b0b2727aa273",
   "metadata": {
    "tags": []
   },
   "outputs": [
    {
     "data": {
      "text/plain": [
       "5.0"
      ]
     },
     "execution_count": 15,
     "metadata": {},
     "output_type": "execute_result"
    }
   ],
   "source": [
    "# Audit Time\n",
    "((6 * (10 * 60) * 2)/60)/24"
   ]
  },
  {
   "cell_type": "code",
   "execution_count": 16,
   "id": "8e235960-b6a5-4549-9270-6a639fa380e7",
   "metadata": {
    "tags": []
   },
   "outputs": [
    {
     "data": {
      "text/plain": [
       "28.333333333333332"
      ]
     },
     "execution_count": 16,
     "metadata": {},
     "output_type": "execute_result"
    }
   ],
   "source": [
    "# Download Time\n",
    "((((6 * (680)) * 2) * 5)/60)/24"
   ]
  },
  {
   "cell_type": "code",
   "execution_count": 17,
   "id": "8c6d9426-7cfb-4bf3-b87a-83a54a9b9877",
   "metadata": {
    "tags": []
   },
   "outputs": [
    {
     "data": {
      "text/plain": [
       "56.666666666666664"
      ]
     },
     "execution_count": 17,
     "metadata": {},
     "output_type": "execute_result"
    }
   ],
   "source": [
    "# Classification Time\n",
    "((((6 * (680)) * 2) * 10)/60)/24"
   ]
  }
 ],
 "metadata": {
  "kernelspec": {
   "display_name": "crypto",
   "language": "python",
   "name": "crypto"
  },
  "language_info": {
   "codemirror_mode": {
    "name": "ipython",
    "version": 3
   },
   "file_extension": ".py",
   "mimetype": "text/x-python",
   "name": "python",
   "nbconvert_exporter": "python",
   "pygments_lexer": "ipython3",
   "version": "3.8.5"
  }
 },
 "nbformat": 4,
 "nbformat_minor": 5
}
