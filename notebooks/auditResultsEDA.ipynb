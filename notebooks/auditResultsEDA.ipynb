{
 "cells": [
  {
   "cell_type": "code",
   "execution_count": 1,
   "metadata": {
    "tags": []
   },
   "outputs": [],
   "source": [
    "import os\n",
    "import pandas as pd\n",
    "import numpy as np\n",
    "import re\n",
    "import math\n",
    "import sys\n",
    "\n",
    "import sys\n",
    "sys.path.insert(0, '../') # so we can access our config files\n",
    "from src.data.youtubeDownloader import Downloader"
   ]
  },
  {
   "cell_type": "code",
   "execution_count": 11,
   "id": "6d05ee97",
   "metadata": {},
   "outputs": [
    {
     "data": {
      "text/plain": [
       "6"
      ]
     },
     "execution_count": 11,
     "metadata": {},
     "output_type": "execute_result"
    }
   ],
   "source": [
    "results = os.listdir('../data/audit/youtube/raw')\n",
    "homepage = [result for result in results if 'homepage' in result]\n",
    "sidebar = [result for result in results if 'video_recs' in result]"
   ]
  },
  {
   "cell_type": "code",
   "execution_count": 90,
   "metadata": {
    "tags": []
   },
   "outputs": [],
   "source": [
    "homepage = pd.read_csv('../data/audit/youtube/raw/16780532672002707-traditional-young-watch_ratio0.5-homepage_recs.csv')\n",
    "side = pd.read_csv('../data/audit/youtube/raw/1678002204369677-traditional-young-watch_time1-video_recs.csv')"
   ]
  },
  {
   "cell_type": "code",
   "execution_count": 91,
   "metadata": {
    "tags": []
   },
   "outputs": [
    {
     "data": {
      "text/html": [
       "<div>\n",
       "<style scoped>\n",
       "    .dataframe tbody tr th:only-of-type {\n",
       "        vertical-align: middle;\n",
       "    }\n",
       "\n",
       "    .dataframe tbody tr th {\n",
       "        vertical-align: top;\n",
       "    }\n",
       "\n",
       "    .dataframe thead th {\n",
       "        text-align: right;\n",
       "    }\n",
       "</style>\n",
       "<table border=\"1\" class=\"dataframe\">\n",
       "  <thead>\n",
       "    <tr style=\"text-align: right;\">\n",
       "      <th></th>\n",
       "      <th>url</th>\n",
       "      <th>recommendation_source</th>\n",
       "      <th>videos_watched</th>\n",
       "      <th>Start Time</th>\n",
       "      <th>Age</th>\n",
       "      <th>Finance Video Type</th>\n",
       "    </tr>\n",
       "  </thead>\n",
       "  <tbody>\n",
       "    <tr>\n",
       "      <th>0</th>\n",
       "      <td>https://www.youtube.com/watch?v=KkEuUQN5t58</td>\n",
       "      <td>homepage</td>\n",
       "      <td>18</td>\n",
       "      <td>1.678053e+09</td>\n",
       "      <td>young</td>\n",
       "      <td>traditional</td>\n",
       "    </tr>\n",
       "    <tr>\n",
       "      <th>1</th>\n",
       "      <td>https://www.youtube.com/watch?v=Plq6DtKYrk4</td>\n",
       "      <td>homepage</td>\n",
       "      <td>18</td>\n",
       "      <td>1.678053e+09</td>\n",
       "      <td>young</td>\n",
       "      <td>traditional</td>\n",
       "    </tr>\n",
       "    <tr>\n",
       "      <th>2</th>\n",
       "      <td>https://www.youtube.com/watch?v=pEqITNKwO04</td>\n",
       "      <td>homepage</td>\n",
       "      <td>18</td>\n",
       "      <td>1.678053e+09</td>\n",
       "      <td>young</td>\n",
       "      <td>traditional</td>\n",
       "    </tr>\n",
       "    <tr>\n",
       "      <th>3</th>\n",
       "      <td>https://www.youtube.com/watch?v=LjJGpdaWbD4</td>\n",
       "      <td>homepage</td>\n",
       "      <td>18</td>\n",
       "      <td>1.678053e+09</td>\n",
       "      <td>young</td>\n",
       "      <td>traditional</td>\n",
       "    </tr>\n",
       "    <tr>\n",
       "      <th>4</th>\n",
       "      <td>https://www.youtube.com/watch?v=cOoSQT4i0yI</td>\n",
       "      <td>homepage</td>\n",
       "      <td>18</td>\n",
       "      <td>1.678053e+09</td>\n",
       "      <td>young</td>\n",
       "      <td>traditional</td>\n",
       "    </tr>\n",
       "  </tbody>\n",
       "</table>\n",
       "</div>"
      ],
      "text/plain": [
       "                                           url recommendation_source  \\\n",
       "0  https://www.youtube.com/watch?v=KkEuUQN5t58              homepage   \n",
       "1  https://www.youtube.com/watch?v=Plq6DtKYrk4              homepage   \n",
       "2  https://www.youtube.com/watch?v=pEqITNKwO04              homepage   \n",
       "3  https://www.youtube.com/watch?v=LjJGpdaWbD4              homepage   \n",
       "4  https://www.youtube.com/watch?v=cOoSQT4i0yI              homepage   \n",
       "\n",
       "   videos_watched    Start Time    Age Finance Video Type  \n",
       "0              18  1.678053e+09  young        traditional  \n",
       "1              18  1.678053e+09  young        traditional  \n",
       "2              18  1.678053e+09  young        traditional  \n",
       "3              18  1.678053e+09  young        traditional  \n",
       "4              18  1.678053e+09  young        traditional  "
      ]
     },
     "execution_count": 91,
     "metadata": {},
     "output_type": "execute_result"
    }
   ],
   "source": [
    "homepage.head()"
   ]
  },
  {
   "cell_type": "code",
   "execution_count": 98,
   "metadata": {},
   "outputs": [
    {
     "data": {
      "text/plain": [
       "url                      https://www.youtube.com/watch?v=87qL_bZnAMk\n",
       "recommendation_source                                       homepage\n",
       "videos_watched                                                    44\n",
       "Start Time                                         1678053267.200271\n",
       "Age                                                            young\n",
       "Finance Video Type                                       traditional\n",
       "Name: 90, dtype: object"
      ]
     },
     "execution_count": 98,
     "metadata": {},
     "output_type": "execute_result"
    }
   ],
   "source": [
    "homepage.iloc[90]"
   ]
  },
  {
   "cell_type": "code",
   "execution_count": 4,
   "metadata": {
    "tags": []
   },
   "outputs": [
    {
     "data": {
      "text/html": [
       "<div>\n",
       "<style scoped>\n",
       "    .dataframe tbody tr th:only-of-type {\n",
       "        vertical-align: middle;\n",
       "    }\n",
       "\n",
       "    .dataframe tbody tr th {\n",
       "        vertical-align: top;\n",
       "    }\n",
       "\n",
       "    .dataframe thead th {\n",
       "        text-align: right;\n",
       "    }\n",
       "</style>\n",
       "<table border=\"1\" class=\"dataframe\">\n",
       "  <thead>\n",
       "    <tr style=\"text-align: right;\">\n",
       "      <th></th>\n",
       "      <th>url</th>\n",
       "      <th>reccommendation_source</th>\n",
       "      <th>videos_watched</th>\n",
       "      <th>Start Time</th>\n",
       "      <th>Age</th>\n",
       "      <th>Finance Video Type</th>\n",
       "    </tr>\n",
       "  </thead>\n",
       "  <tbody>\n",
       "    <tr>\n",
       "      <th>0</th>\n",
       "      <td>https://www.youtube.com/watch?v=gFQNPmLKj1k</td>\n",
       "      <td>https://www.youtube.com/watch?v=W3CDMcWlPyM</td>\n",
       "      <td>1</td>\n",
       "      <td>1.678002e+09</td>\n",
       "      <td>young</td>\n",
       "      <td>traditional</td>\n",
       "    </tr>\n",
       "    <tr>\n",
       "      <th>1</th>\n",
       "      <td>https://www.youtube.com/watch?v=qc4GU_wHdqw</td>\n",
       "      <td>https://www.youtube.com/watch?v=W3CDMcWlPyM</td>\n",
       "      <td>1</td>\n",
       "      <td>1.678002e+09</td>\n",
       "      <td>young</td>\n",
       "      <td>traditional</td>\n",
       "    </tr>\n",
       "    <tr>\n",
       "      <th>2</th>\n",
       "      <td>https://www.youtube.com/watch?v=qlf9-573MhI</td>\n",
       "      <td>https://www.youtube.com/watch?v=W3CDMcWlPyM</td>\n",
       "      <td>1</td>\n",
       "      <td>1.678002e+09</td>\n",
       "      <td>young</td>\n",
       "      <td>traditional</td>\n",
       "    </tr>\n",
       "    <tr>\n",
       "      <th>3</th>\n",
       "      <td>https://www.youtube.com/watch?v=9AThycGCakk</td>\n",
       "      <td>https://www.youtube.com/watch?v=W3CDMcWlPyM</td>\n",
       "      <td>1</td>\n",
       "      <td>1.678002e+09</td>\n",
       "      <td>young</td>\n",
       "      <td>traditional</td>\n",
       "    </tr>\n",
       "    <tr>\n",
       "      <th>4</th>\n",
       "      <td>https://www.youtube.com/watch?v=iONDebHX9qk</td>\n",
       "      <td>https://www.youtube.com/watch?v=W3CDMcWlPyM</td>\n",
       "      <td>1</td>\n",
       "      <td>1.678002e+09</td>\n",
       "      <td>young</td>\n",
       "      <td>traditional</td>\n",
       "    </tr>\n",
       "  </tbody>\n",
       "</table>\n",
       "</div>"
      ],
      "text/plain": [
       "                                           url  \\\n",
       "0  https://www.youtube.com/watch?v=gFQNPmLKj1k   \n",
       "1  https://www.youtube.com/watch?v=qc4GU_wHdqw   \n",
       "2  https://www.youtube.com/watch?v=qlf9-573MhI   \n",
       "3  https://www.youtube.com/watch?v=9AThycGCakk   \n",
       "4  https://www.youtube.com/watch?v=iONDebHX9qk   \n",
       "\n",
       "                        reccommendation_source  videos_watched    Start Time  \\\n",
       "0  https://www.youtube.com/watch?v=W3CDMcWlPyM               1  1.678002e+09   \n",
       "1  https://www.youtube.com/watch?v=W3CDMcWlPyM               1  1.678002e+09   \n",
       "2  https://www.youtube.com/watch?v=W3CDMcWlPyM               1  1.678002e+09   \n",
       "3  https://www.youtube.com/watch?v=W3CDMcWlPyM               1  1.678002e+09   \n",
       "4  https://www.youtube.com/watch?v=W3CDMcWlPyM               1  1.678002e+09   \n",
       "\n",
       "     Age Finance Video Type  \n",
       "0  young        traditional  \n",
       "1  young        traditional  \n",
       "2  young        traditional  \n",
       "3  young        traditional  \n",
       "4  young        traditional  "
      ]
     },
     "execution_count": 4,
     "metadata": {},
     "output_type": "execute_result"
    }
   ],
   "source": [
    "side.head()"
   ]
  },
  {
   "cell_type": "code",
   "execution_count": 85,
   "metadata": {},
   "outputs": [
    {
     "data": {
      "text/plain": [
       "0     Vus3x9fQDKE\n",
       "1     9be3UJvjpZw\n",
       "2     eY8lhv-Uzdc\n",
       "3     TwvJGHI8EO0\n",
       "4     7A7lGm9-kZc\n",
       "         ...     \n",
       "75    RlKxgwMzVdA\n",
       "76    vfaa_nonqb8\n",
       "77    pgS0EhJDri0\n",
       "78    v96lDsnJIxY\n",
       "79    dP95z1QgnXk\n",
       "Name: url, Length: 80, dtype: object"
      ]
     },
     "execution_count": 85,
     "metadata": {},
     "output_type": "execute_result"
    }
   ],
   "source": [
    "homepage['url'].apply(extract_video_id)"
   ]
  },
  {
   "cell_type": "code",
   "execution_count": 80,
   "metadata": {},
   "outputs": [
    {
     "data": {
      "text/plain": [
       "40.0"
      ]
     },
     "execution_count": 80,
     "metadata": {},
     "output_type": "execute_result"
    }
   ],
   "source": [
    "(480 * 5) / 60"
   ]
  },
  {
   "cell_type": "code",
   "execution_count": 30,
   "metadata": {},
   "outputs": [],
   "source": [
    "def extract_video_id(url):\n",
    "    try: \n",
    "        # Search for the video id\n",
    "        match = re.search(r'[?&]v=([^&]*)?', url)\n",
    "\n",
    "        # If we don't find the video id, try and use a normal split\n",
    "        if match:\n",
    "            videoId = match.group(1).split('&')[0]\n",
    "        else:\n",
    "            if 'v=' in url:\n",
    "                videoId = url.split('v=')\n",
    "                if len(videoId) > 1:\n",
    "                    videoId = url.split('v=')[1]\n",
    "                else:\n",
    "                    videoId = None\n",
    "            elif 'shorts/' in url:\n",
    "                videoId = url.split('shorts/')\n",
    "                if len(videoId) > 1:\n",
    "                    videoId = url.split('shorts/')[1]\n",
    "                else:\n",
    "                    videoId = None\n",
    "            else:\n",
    "                videoId = None\n",
    "    except:\n",
    "        return None\n",
    "    return videoId"
   ]
  },
  {
   "cell_type": "code",
   "execution_count": 83,
   "metadata": {},
   "outputs": [
    {
     "data": {
      "text/plain": [
       "0     Vus3x9fQDKE\n",
       "1     9be3UJvjpZw\n",
       "2     eY8lhv-Uzdc\n",
       "3     TwvJGHI8EO0\n",
       "4     7A7lGm9-kZc\n",
       "         ...     \n",
       "75    RlKxgwMzVdA\n",
       "76    vfaa_nonqb8\n",
       "77    pgS0EhJDri0\n",
       "78    v96lDsnJIxY\n",
       "79    dP95z1QgnXk\n",
       "Name: url, Length: 80, dtype: object"
      ]
     },
     "execution_count": 83,
     "metadata": {},
     "output_type": "execute_result"
    }
   ],
   "source": [
    "homepage['url'].apply(extract_video_id)"
   ]
  },
  {
   "cell_type": "code",
   "execution_count": 75,
   "metadata": {},
   "outputs": [],
   "source": [
    "def download_audit_videos(self, video_ids, load_path, save_path):\n",
    "        \n",
    "    # store our downloaded videos\n",
    "    videos = []\n",
    "    df = pd.DataFrame()\n",
    "    \n",
    "    # check for progress\n",
    "    saved_files = os.listdir('../data/audit/youtube/processed/')\n",
    "    downloader = Downloader()b\n",
    "    \n",
    "    print(\"Starting download...\")\n",
    "    logging.info(\"Starting download...\")\n",
    "    start = time.time()\n",
    "\n",
    "    if not downloader.apiObjectExists():\n",
    "        print(\"API object not found\")\n",
    "        logging.info(\"API object not found\")\n",
    "        return pd.DataFrame()\n",
    "    \n",
    "    if 'audit_progress.csv' in saved_files:\n",
    "        \n",
    "        print('Progress found, starting from where we left off.')\n",
    "        logging.info('Progress found, starting from where we left off.')\n",
    "        progress = pd.read_csv('../data/audit/youtube/processed/' + 'audit_progress.csv')\n",
    "        \n",
    "        progress_video_ids = list(progress['video_id'])\n",
    "        \n",
    "        video_ids = [video_id for video_id in video_ids if video_id not in progress_video_ids]\n",
    "        \n",
    "        df = pd.concat([df, progress])\n",
    "        \n",
    "    # Collect our data, Added TQDM progress bar\n",
    "    for i in tqdm(range(len(video_ids))):\n",
    "\n",
    "        try:\n",
    "            video_id = video_ids[i]\n",
    "            label = labels[i]\n",
    "\n",
    "            logging.info(\"Downloading \" + video_id)\n",
    "\n",
    "            downloader.setVideoId(video_id)\n",
    "\n",
    "            videoMetaData = downloader.getVideoMetadata()\n",
    "            time.sleep(random.randint(1, 5))\n",
    "            videoTranscript = downloader.getVideoTranscript()\n",
    "\n",
    "            video = {\n",
    "                \"video_id\": video_id,\n",
    "                \"title\": videoMetaData[\"title\"],\n",
    "                \"description\": videoMetaData[\"description\"],\n",
    "                \"tags\": videoMetaData[\"tags\"],\n",
    "                \"raw_duration\": videoMetaData[\"raw_duration\"],\n",
    "                \"duration\": videoMetaData[\"duration\"],\n",
    "                \"cleaned_transcript\": videoTranscript[\"cleaned_transcript\"],\n",
    "                \"raw_transcript\": videoTranscript[\"raw_transcript\"], \n",
    "                \"link\": \"www.youtube.com/watch?v=\" + video_id,\n",
    "            }\n",
    "\n",
    "            videos.append(video)\n",
    "\n",
    "            logging.info(\"Finished downloading \" + video_id)\n",
    "        except:\n",
    "            # If we run into any error\n",
    "            print(\"Ran into exception, saving progress and stopping.\")\n",
    "            logging.info(\"Ran into exception, saving progress and stopping.\")\n",
    "\n",
    "            df = pd.concat([df, pd.DataFrame(videos)])\n",
    "\n",
    "            df.to_csv('../data/audit/youtube/processed/' + 'audit_progress.csv', index_label=False)\n",
    "\n",
    "            print(\"Saved file to:  {0}\".format('../data/audit/youtube/processed/' + 'audit_progress.csv'))\n",
    "            logging.info(\"Saved file to:  {0}\".format('../data/audit/youtube/processed/' + 'audit_progress.csv'))\n",
    "\n",
    "            return df\n",
    "\n",
    "    # If we complete the download.\n",
    "    print(\"Downloaded {0} in {1} seconds.\".format(len(targets), time.time() - start))\n",
    "    logging.info(\"Downloaded {0} in {1} seconds.\".format(len(targets), time.time() - start))\n",
    "\n",
    "    df = pd.concat([df, pd.DataFrame(videos)])\n",
    "\n",
    "    df.to_csv('../data/audit/youtube/processed/' + 'audit_progress.csv', index_label=False)\n",
    "\n",
    "    print(\"Saved file to:  {0}\".format('../data/audit/youtube/processed/' + 'audit_progress.csv'))\n",
    "    logging.info(\"Saved file to:  {0}\".format('../data/audit/youtube/processed/' + 'audit_progress.csv'))\n",
    "\n",
    "    return df"
   ]
  },
  {
   "cell_type": "code",
   "execution_count": 40,
   "metadata": {},
   "outputs": [
    {
     "name": "stdout",
     "output_type": "stream",
     "text": [
      "Successfully built YouTube API object\n"
     ]
    }
   ],
   "source": [
    "downloader = Downloader()"
   ]
  },
  {
   "cell_type": "code",
   "execution_count": 104,
   "metadata": {},
   "outputs": [],
   "source": [
    "pd.set_option('display.max_rows', 500)"
   ]
  },
  {
   "cell_type": "code",
   "execution_count": 105,
   "metadata": {},
   "outputs": [],
   "source": [
    "homepage_downloads = pd.read_csv('../data/audit/youtube/processed/downloaded_homepage_traditional_young.csv')"
   ]
  },
  {
   "cell_type": "code",
   "execution_count": 106,
   "metadata": {},
   "outputs": [],
   "source": [
    "sidebar_downloads = pd.read_csv('../data/audit/youtube/processed/downloaded_sidebar_traditional_young.csv')"
   ]
  }
 ],
 "metadata": {
  "kernelspec": {
   "display_name": ".venv",
   "language": "python",
   "name": "python3"
  },
  "language_info": {
   "codemirror_mode": {
    "name": "ipython",
    "version": 3
   },
   "file_extension": ".py",
   "mimetype": "text/x-python",
   "name": "python",
   "nbconvert_exporter": "python",
   "pygments_lexer": "ipython3",
   "version": "3.8.5"
  }
 },
 "nbformat": 4,
 "nbformat_minor": 5
}
