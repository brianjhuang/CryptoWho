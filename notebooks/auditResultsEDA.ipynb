{
 "cells": [
  {
   "cell_type": "code",
   "execution_count": null,
   "metadata": {
    "tags": []
   },
   "outputs": [],
   "source": [
    "import os\n",
    "import pandas as pd\n",
    "import numpy as np\n",
    "import re\n",
    "import math\n",
    "import sys\n",
    "\n",
    "import sys\n",
    "sys.path.insert(0, '../') # so we can access our config files\n",
    "from src.data.youtubeDownloader import Downloader"
   ]
  },
  {
   "cell_type": "code",
   "execution_count": null,
   "id": "6d05ee97",
   "metadata": {},
   "outputs": [],
   "source": [
    "results = os.listdir('../data/audit/youtube/raw')\n",
    "homepage = [result for result in results if 'homepage' in result]\n",
    "sidebar = [result for result in results if 'video_recs' in result]"
   ]
  },
  {
   "cell_type": "code",
   "execution_count": null,
   "metadata": {
    "tags": []
   },
   "outputs": [],
   "source": [
    "homepage = pd.read_csv('../data/audit/youtube/raw/16780532672002707-traditional-young-watch_ratio0.5-homepage_recs.csv')\n",
    "side = pd.read_csv('../data/audit/youtube/raw/1678002204369677-traditional-young-watch_time1-video_recs.csv')"
   ]
  },
  {
   "cell_type": "code",
   "execution_count": null,
   "metadata": {
    "tags": []
   },
   "outputs": [],
   "source": [
    "homepage.head()"
   ]
  },
  {
   "cell_type": "code",
   "execution_count": null,
   "metadata": {},
   "outputs": [],
   "source": [
    "homepage.iloc[90]"
   ]
  },
  {
   "cell_type": "code",
   "execution_count": null,
   "metadata": {
    "tags": []
   },
   "outputs": [],
   "source": [
    "side.head()"
   ]
  },
  {
   "cell_type": "code",
   "execution_count": null,
   "metadata": {},
   "outputs": [],
   "source": [
    "homepage['url'].apply(extract_video_id)"
   ]
  },
  {
   "cell_type": "code",
   "execution_count": null,
   "metadata": {},
   "outputs": [],
   "source": [
    "(480 * 5) / 60"
   ]
  },
  {
   "cell_type": "code",
   "execution_count": null,
   "metadata": {},
   "outputs": [],
   "source": [
    "def extract_video_id(url):\n",
    "    try: \n",
    "        # Search for the video id\n",
    "        match = re.search(r'[?&]v=([^&]*)?', url)\n",
    "\n",
    "        # If we don't find the video id, try and use a normal split\n",
    "        if match:\n",
    "            videoId = match.group(1).split('&')[0]\n",
    "        else:\n",
    "            if 'v=' in url:\n",
    "                videoId = url.split('v=')\n",
    "                if len(videoId) > 1:\n",
    "                    videoId = url.split('v=')[1]\n",
    "                else:\n",
    "                    videoId = None\n",
    "            elif 'shorts/' in url:\n",
    "                videoId = url.split('shorts/')\n",
    "                if len(videoId) > 1:\n",
    "                    videoId = url.split('shorts/')[1]\n",
    "                else:\n",
    "                    videoId = None\n",
    "            else:\n",
    "                videoId = None\n",
    "    except:\n",
    "        return None\n",
    "    return videoId"
   ]
  },
  {
   "cell_type": "code",
   "execution_count": null,
   "metadata": {},
   "outputs": [],
   "source": [
    "homepage['url'].apply(extract_video_id)"
   ]
  },
  {
   "cell_type": "code",
   "execution_count": null,
   "metadata": {},
   "outputs": [],
   "source": [
    "def download_audit_videos(self, video_ids, load_path, save_path):\n",
    "        \n",
    "    # store our downloaded videos\n",
    "    videos = []\n",
    "    df = pd.DataFrame()\n",
    "    \n",
    "    # check for progress\n",
    "    saved_files = os.listdir('../data/audit/youtube/processed/')\n",
    "    downloader = Downloader()b\n",
    "    \n",
    "    print(\"Starting download...\")\n",
    "    logging.info(\"Starting download...\")\n",
    "    start = time.time()\n",
    "\n",
    "    if not downloader.apiObjectExists():\n",
    "        print(\"API object not found\")\n",
    "        logging.info(\"API object not found\")\n",
    "        return pd.DataFrame()\n",
    "    \n",
    "    if 'audit_progress.csv' in saved_files:\n",
    "        \n",
    "        print('Progress found, starting from where we left off.')\n",
    "        logging.info('Progress found, starting from where we left off.')\n",
    "        progress = pd.read_csv('../data/audit/youtube/processed/' + 'audit_progress.csv')\n",
    "        \n",
    "        progress_video_ids = list(progress['video_id'])\n",
    "        \n",
    "        video_ids = [video_id for video_id in video_ids if video_id not in progress_video_ids]\n",
    "        \n",
    "        df = pd.concat([df, progress])\n",
    "        \n",
    "    # Collect our data, Added TQDM progress bar\n",
    "    for i in tqdm(range(len(video_ids))):\n",
    "\n",
    "        try:\n",
    "            video_id = video_ids[i]\n",
    "            label = labels[i]\n",
    "\n",
    "            logging.info(\"Downloading \" + video_id)\n",
    "\n",
    "            downloader.setVideoId(video_id)\n",
    "\n",
    "            videoMetaData = downloader.getVideoMetadata()\n",
    "            time.sleep(random.randint(1, 5))\n",
    "            videoTranscript = downloader.getVideoTranscript()\n",
    "\n",
    "            video = {\n",
    "                \"video_id\": video_id,\n",
    "                \"title\": videoMetaData[\"title\"],\n",
    "                \"description\": videoMetaData[\"description\"],\n",
    "                \"tags\": videoMetaData[\"tags\"],\n",
    "                \"raw_duration\": videoMetaData[\"raw_duration\"],\n",
    "                \"duration\": videoMetaData[\"duration\"],\n",
    "                \"cleaned_transcript\": videoTranscript[\"cleaned_transcript\"],\n",
    "                \"raw_transcript\": videoTranscript[\"raw_transcript\"], \n",
    "                \"link\": \"www.youtube.com/watch?v=\" + video_id,\n",
    "            }\n",
    "\n",
    "            videos.append(video)\n",
    "\n",
    "            logging.info(\"Finished downloading \" + video_id)\n",
    "        except:\n",
    "            # If we run into any error\n",
    "            print(\"Ran into exception, saving progress and stopping.\")\n",
    "            logging.info(\"Ran into exception, saving progress and stopping.\")\n",
    "\n",
    "            df = pd.concat([df, pd.DataFrame(videos)])\n",
    "\n",
    "            df.to_csv('../data/audit/youtube/processed/' + 'audit_progress.csv', index_label=False)\n",
    "\n",
    "            print(\"Saved file to:  {0}\".format('../data/audit/youtube/processed/' + 'audit_progress.csv'))\n",
    "            logging.info(\"Saved file to:  {0}\".format('../data/audit/youtube/processed/' + 'audit_progress.csv'))\n",
    "\n",
    "            return df\n",
    "\n",
    "    # If we complete the download.\n",
    "    print(\"Downloaded {0} in {1} seconds.\".format(len(targets), time.time() - start))\n",
    "    logging.info(\"Downloaded {0} in {1} seconds.\".format(len(targets), time.time() - start))\n",
    "\n",
    "    df = pd.concat([df, pd.DataFrame(videos)])\n",
    "\n",
    "    df.to_csv('../data/audit/youtube/processed/' + 'audit_progress.csv', index_label=False)\n",
    "\n",
    "    print(\"Saved file to:  {0}\".format('../data/audit/youtube/processed/' + 'audit_progress.csv'))\n",
    "    logging.info(\"Saved file to:  {0}\".format('../data/audit/youtube/processed/' + 'audit_progress.csv'))\n",
    "\n",
    "    return df"
   ]
  },
  {
   "cell_type": "code",
   "execution_count": null,
   "metadata": {},
   "outputs": [],
   "source": [
    "downloader = Downloader()"
   ]
  },
  {
   "cell_type": "code",
   "execution_count": null,
   "metadata": {},
   "outputs": [],
   "source": [
    "pd.set_option('display.max_rows', 500)"
   ]
  },
  {
   "cell_type": "code",
   "execution_count": null,
   "metadata": {},
   "outputs": [],
   "source": [
    "homepage_downloads = pd.read_csv('../data/audit/youtube/processed/downloaded_homepage_traditional_young.csv')"
   ]
  },
  {
   "cell_type": "code",
   "execution_count": null,
   "metadata": {},
   "outputs": [],
   "source": [
    "sidebar_downloads = pd.read_csv('../data/audit/youtube/processed/downloaded_sidebar_traditional_young.csv')"
   ]
  }
 ],
 "metadata": {
  "kernelspec": {
   "display_name": ".venv",
   "language": "python",
   "name": "python3"
  },
  "language_info": {
   "codemirror_mode": {
    "name": "ipython",
    "version": 3
   },
   "file_extension": ".py",
   "mimetype": "text/x-python",
   "name": "python",
   "nbconvert_exporter": "python",
   "pygments_lexer": "ipython3",
   "version": "3.8.5"
  }
 },
 "nbformat": 4,
 "nbformat_minor": 5
}
