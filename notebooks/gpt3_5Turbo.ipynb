{
 "cells": [
  {
   "cell_type": "code",
   "execution_count": 19,
   "id": "2944ba9f-cfb0-49ec-ac16-9b55fa4f257b",
   "metadata": {
    "tags": []
   },
   "outputs": [],
   "source": [
    "import pandas as pd\n",
    "import numpy as np\n",
    "import random\n",
    "\n",
    "import openai\n",
    "import os\n",
    "from tqdm import tqdm\n",
    "import time\n",
    "\n",
    "import sys\n",
    "\n",
    "sys.path.insert(0, '..')"
   ]
  },
  {
   "cell_type": "code",
   "execution_count": 20,
   "id": "27874b00-88cb-4849-9b39-952898a442f0",
   "metadata": {
    "tags": []
   },
   "outputs": [],
   "source": [
    "# TURBO COST\n",
    "TURBO_COST = 0.00200 / 1000"
   ]
  },
  {
   "cell_type": "code",
   "execution_count": 21,
   "id": "cf429bab-bc58-4083-b855-d2f768be907a",
   "metadata": {
    "tags": []
   },
   "outputs": [],
   "source": [
    "# Initialize the API client\n",
    "openai.api_key = os.environ.get(\"OPENAI_API_KEY\")"
   ]
  },
  {
   "cell_type": "code",
   "execution_count": 98,
   "id": "050df362-34e5-4f7c-8870-035d78670449",
   "metadata": {
    "tags": []
   },
   "outputs": [],
   "source": [
    "df = pd.read_csv('../data/seed/youtube/seed_videos.csv')"
   ]
  },
  {
   "cell_type": "code",
   "execution_count": 128,
   "id": "3687ddb3-b7f0-4df5-b6ce-3c58774d21e9",
   "metadata": {
    "tags": []
   },
   "outputs": [
    {
     "data": {
      "text/html": [
       "<div>\n",
       "<style scoped>\n",
       "    .dataframe tbody tr th:only-of-type {\n",
       "        vertical-align: middle;\n",
       "    }\n",
       "\n",
       "    .dataframe tbody tr th {\n",
       "        vertical-align: top;\n",
       "    }\n",
       "\n",
       "    .dataframe thead th {\n",
       "        text-align: right;\n",
       "    }\n",
       "</style>\n",
       "<table border=\"1\" class=\"dataframe\">\n",
       "  <thead>\n",
       "    <tr style=\"text-align: right;\">\n",
       "      <th></th>\n",
       "      <th>Unnamed: 0</th>\n",
       "      <th>id</th>\n",
       "      <th>title</th>\n",
       "      <th>description</th>\n",
       "      <th>tags</th>\n",
       "      <th>raw_duration</th>\n",
       "      <th>duration</th>\n",
       "      <th>cleaned_transcript</th>\n",
       "      <th>raw_transcript</th>\n",
       "      <th>comments</th>\n",
       "      <th>comment_ids</th>\n",
       "      <th>label</th>\n",
       "      <th>link</th>\n",
       "      <th>snippet</th>\n",
       "      <th>messages</th>\n",
       "    </tr>\n",
       "  </thead>\n",
       "  <tbody>\n",
       "    <tr>\n",
       "      <th>0</th>\n",
       "      <td>0</td>\n",
       "      <td>gFQNPmLKj1k</td>\n",
       "      <td>How to Invest for Beginners</td>\n",
       "      <td>Hey friends, in this video I'll give you a com...</td>\n",
       "      <td>['Ali Abdaal', 'Ali abdal', 'how to get starte...</td>\n",
       "      <td>PT29M9S</td>\n",
       "      <td>00:29:09</td>\n",
       "      <td>Right, so let's say\\nyou want to get started w...</td>\n",
       "      <td>[{'text': \"Right, so let's say\\nyou want to ge...</td>\n",
       "      <td>['Interesting ❤ Thank You ❤', 'Question about ...</td>\n",
       "      <td>['UgzTvJTisgQ45X-c3Ft4AaABAg', 'UgySEPzwDA4HNs...</td>\n",
       "      <td>Traditional</td>\n",
       "      <td>www.youtube.com/watch?v=gFQNPmLKj1k</td>\n",
       "      <td>How to Invest for Beginners. Maybe youve heard...</td>\n",
       "      <td>[{'role': 'system', 'content': 'You are a clas...</td>\n",
       "    </tr>\n",
       "    <tr>\n",
       "      <th>1</th>\n",
       "      <td>1</td>\n",
       "      <td>GZ42PIi9bis</td>\n",
       "      <td>I asked a personal finance expert how to invest.</td>\n",
       "      <td>Go to https://squarespace.com/mattdavella to s...</td>\n",
       "      <td>[\"Matt D'Avella\", 'matt davella', 'self-develo...</td>\n",
       "      <td>PT15M48S</td>\n",
       "      <td>00:15:48</td>\n",
       "      <td>- Investing, when most people think of it, the...</td>\n",
       "      <td>[{'text': '- Investing, when most people think...</td>\n",
       "      <td>['Huge thanks to Ramit Sethi for joining me! S...</td>\n",
       "      <td>['Ugx7vuOGQxrEMVYfVyN4AaABAg', 'Ugx7vuOGQxrEMV...</td>\n",
       "      <td>Traditional</td>\n",
       "      <td>www.youtube.com/watch?v=GZ42PIi9bis</td>\n",
       "      <td>I asked a personal finance expert how to inves...</td>\n",
       "      <td>[{'role': 'system', 'content': 'You are a clas...</td>\n",
       "    </tr>\n",
       "    <tr>\n",
       "      <th>2</th>\n",
       "      <td>2</td>\n",
       "      <td>Z3I8TPYn4Z0</td>\n",
       "      <td>Traditional and Roth IRAs | Simple Steps for a...</td>\n",
       "      <td>Individual Retirement  Accounts (IRAs) can hel...</td>\n",
       "      <td>['tdameritrade', 'TD Ameritrade', 'What is an ...</td>\n",
       "      <td>PT4M35S</td>\n",
       "      <td>00:04:35</td>\n",
       "      <td>If you're saving for retirement, IRAs, also\\nk...</td>\n",
       "      <td>[{'text': \"If you're saving for retirement, IR...</td>\n",
       "      <td>['hmmmmm do I think taxes will be HIGHER or LO...</td>\n",
       "      <td>['UgxhIPwye-LL2ICHp594AaABAg', 'Ugw_poXl_sbpan...</td>\n",
       "      <td>Traditional</td>\n",
       "      <td>www.youtube.com/watch?v=Z3I8TPYn4Z0</td>\n",
       "      <td>Traditional and Roth IRAs | Simple Steps for a...</td>\n",
       "      <td>[{'role': 'system', 'content': 'You are a clas...</td>\n",
       "    </tr>\n",
       "    <tr>\n",
       "      <th>3</th>\n",
       "      <td>3</td>\n",
       "      <td>ss5yImerkhg</td>\n",
       "      <td>What is a 401(k)?</td>\n",
       "      <td>A 401(k) is an employer-sponsored retirement a...</td>\n",
       "      <td>['401k', '401(k) contributions', '401k limit',...</td>\n",
       "      <td>PT5M23S</td>\n",
       "      <td>00:05:23</td>\n",
       "      <td>One of the most common ways people save for\\nr...</td>\n",
       "      <td>[{'text': 'One of the most common ways people ...</td>\n",
       "      <td>['so if the market crashes what happens to you...</td>\n",
       "      <td>['UgxvZb1p0tmadP_Lrn94AaABAg', 'UgxvZb1p0tmadP...</td>\n",
       "      <td>Traditional</td>\n",
       "      <td>www.youtube.com/watch?v=ss5yImerkhg</td>\n",
       "      <td>What is a 401(k)?. One of the most common ways...</td>\n",
       "      <td>[{'role': 'system', 'content': 'You are a clas...</td>\n",
       "    </tr>\n",
       "    <tr>\n",
       "      <th>4</th>\n",
       "      <td>4</td>\n",
       "      <td>DPnXJpDOAHI</td>\n",
       "      <td>How IRAs Work And Why They Are More Popular Th...</td>\n",
       "      <td>Choosing the right retirement account that bes...</td>\n",
       "      <td>['CNBC', 'business', 'news', 'finance stock', ...</td>\n",
       "      <td>PT15M13S</td>\n",
       "      <td>00:15:13</td>\n",
       "      <td>are you one of the 60 million americans.  acti...</td>\n",
       "      <td>[{'text': 'are you one of the 60 million ameri...</td>\n",
       "      <td>['I honestly hope they don’t pass laws that au...</td>\n",
       "      <td>['UgyjWWVJM9zySO3L3oJ4AaABAg', 'Ugx-U2VntiMGdX...</td>\n",
       "      <td>Traditional</td>\n",
       "      <td>www.youtube.com/watch?v=DPnXJpDOAHI</td>\n",
       "      <td>How IRAs Work And Why They Are More Popular Th...</td>\n",
       "      <td>[{'role': 'system', 'content': 'You are a clas...</td>\n",
       "    </tr>\n",
       "  </tbody>\n",
       "</table>\n",
       "</div>"
      ],
      "text/plain": [
       "   Unnamed: 0           id                                              title  \\\n",
       "0           0  gFQNPmLKj1k                        How to Invest for Beginners   \n",
       "1           1  GZ42PIi9bis   I asked a personal finance expert how to invest.   \n",
       "2           2  Z3I8TPYn4Z0  Traditional and Roth IRAs | Simple Steps for a...   \n",
       "3           3  ss5yImerkhg                                  What is a 401(k)?   \n",
       "4           4  DPnXJpDOAHI  How IRAs Work And Why They Are More Popular Th...   \n",
       "\n",
       "                                         description  \\\n",
       "0  Hey friends, in this video I'll give you a com...   \n",
       "1  Go to https://squarespace.com/mattdavella to s...   \n",
       "2  Individual Retirement  Accounts (IRAs) can hel...   \n",
       "3  A 401(k) is an employer-sponsored retirement a...   \n",
       "4  Choosing the right retirement account that bes...   \n",
       "\n",
       "                                                tags raw_duration  duration  \\\n",
       "0  ['Ali Abdaal', 'Ali abdal', 'how to get starte...      PT29M9S  00:29:09   \n",
       "1  [\"Matt D'Avella\", 'matt davella', 'self-develo...     PT15M48S  00:15:48   \n",
       "2  ['tdameritrade', 'TD Ameritrade', 'What is an ...      PT4M35S  00:04:35   \n",
       "3  ['401k', '401(k) contributions', '401k limit',...      PT5M23S  00:05:23   \n",
       "4  ['CNBC', 'business', 'news', 'finance stock', ...     PT15M13S  00:15:13   \n",
       "\n",
       "                                  cleaned_transcript  \\\n",
       "0  Right, so let's say\\nyou want to get started w...   \n",
       "1  - Investing, when most people think of it, the...   \n",
       "2  If you're saving for retirement, IRAs, also\\nk...   \n",
       "3  One of the most common ways people save for\\nr...   \n",
       "4  are you one of the 60 million americans.  acti...   \n",
       "\n",
       "                                      raw_transcript  \\\n",
       "0  [{'text': \"Right, so let's say\\nyou want to ge...   \n",
       "1  [{'text': '- Investing, when most people think...   \n",
       "2  [{'text': \"If you're saving for retirement, IR...   \n",
       "3  [{'text': 'One of the most common ways people ...   \n",
       "4  [{'text': 'are you one of the 60 million ameri...   \n",
       "\n",
       "                                            comments  \\\n",
       "0  ['Interesting ❤ Thank You ❤', 'Question about ...   \n",
       "1  ['Huge thanks to Ramit Sethi for joining me! S...   \n",
       "2  ['hmmmmm do I think taxes will be HIGHER or LO...   \n",
       "3  ['so if the market crashes what happens to you...   \n",
       "4  ['I honestly hope they don’t pass laws that au...   \n",
       "\n",
       "                                         comment_ids        label  \\\n",
       "0  ['UgzTvJTisgQ45X-c3Ft4AaABAg', 'UgySEPzwDA4HNs...  Traditional   \n",
       "1  ['Ugx7vuOGQxrEMVYfVyN4AaABAg', 'Ugx7vuOGQxrEMV...  Traditional   \n",
       "2  ['UgxhIPwye-LL2ICHp594AaABAg', 'Ugw_poXl_sbpan...  Traditional   \n",
       "3  ['UgxvZb1p0tmadP_Lrn94AaABAg', 'UgxvZb1p0tmadP...  Traditional   \n",
       "4  ['UgyjWWVJM9zySO3L3oJ4AaABAg', 'Ugx-U2VntiMGdX...  Traditional   \n",
       "\n",
       "                                  link  \\\n",
       "0  www.youtube.com/watch?v=gFQNPmLKj1k   \n",
       "1  www.youtube.com/watch?v=GZ42PIi9bis   \n",
       "2  www.youtube.com/watch?v=Z3I8TPYn4Z0   \n",
       "3  www.youtube.com/watch?v=ss5yImerkhg   \n",
       "4  www.youtube.com/watch?v=DPnXJpDOAHI   \n",
       "\n",
       "                                             snippet  \\\n",
       "0  How to Invest for Beginners. Maybe youve heard...   \n",
       "1  I asked a personal finance expert how to inves...   \n",
       "2  Traditional and Roth IRAs | Simple Steps for a...   \n",
       "3  What is a 401(k)?. One of the most common ways...   \n",
       "4  How IRAs Work And Why They Are More Popular Th...   \n",
       "\n",
       "                                            messages  \n",
       "0  [{'role': 'system', 'content': 'You are a clas...  \n",
       "1  [{'role': 'system', 'content': 'You are a clas...  \n",
       "2  [{'role': 'system', 'content': 'You are a clas...  \n",
       "3  [{'role': 'system', 'content': 'You are a clas...  \n",
       "4  [{'role': 'system', 'content': 'You are a clas...  "
      ]
     },
     "execution_count": 128,
     "metadata": {},
     "output_type": "execute_result"
    }
   ],
   "source": [
    "df.head()"
   ]
  },
  {
   "cell_type": "code",
   "execution_count": 123,
   "id": "a2b7555d-9ee4-4fe5-a0ee-6a07d6247e0d",
   "metadata": {
    "tags": []
   },
   "outputs": [],
   "source": [
    "def create_messages(snippet):\n",
    "    messages = [\n",
    "        {\"role\": \"system\", \"content\" : \"You are a classifier that determines if a YouTube video snippet falls under a label. A snippet is a concatenation of the video title, summarized transcript, and video tags. The labels and additional instructions will be included in the first user message.\"},\n",
    "        {\"role\": \"user\", \"content\" : \"\"\"Labels:\n",
    "\n",
    "- Blockchain: Cryptocurrency, NFTs, or other Web3 investments\n",
    "- Traditional: Stocks, Bonds, Real Estate, Commodities, or other traditional investments\n",
    "- Mixed: Videos that recommend or educate about both blockchain and traditional investments\n",
    "- None: Videos that do not recommend or educate about either blockchain or traditional investments\n",
    "\n",
    "Instructions:\n",
    "\n",
    "- If a video snippet mentions keywords related to blockchain or traditional investments but does not recommend or educate about the label, it will be classified as None.\n",
    "- Please return predictions in the format\" {Label} : {50 word or shorter rationale}\"\"\"},\n",
    "        {\"role\": \"assistant\", \"content\": \"\"\"Understood. I will classify YouTube video snippets based on the provided labels and instructions. Here's how I will format the predictions:\n",
    "\n",
    "{Label} : {50-word or shorter rationale}\n",
    "\n",
    "Please provide me with the YouTube video snippet you would like me to classify.\"\"\"},\n",
    "    ]\n",
    "    \n",
    "    snippet_message = {\"role\" : \"user\", \"content\" : snippet.replace(\"\\n\", \" \").replace(\"  \", \" \")}\n",
    "    \n",
    "    messages.append(snippet_message)\n",
    "    \n",
    "    return messages"
   ]
  },
  {
   "cell_type": "code",
   "execution_count": 109,
   "id": "95b70014-c6b6-4f71-a12c-96f0018f96b2",
   "metadata": {
    "tags": []
   },
   "outputs": [],
   "source": [
    "def classify(messages):\n",
    "    chatCompletion = openai.ChatCompletion.create(\n",
    "      model=\"gpt-3.5-turbo\",\n",
    "      messages=messages,\n",
    "      temperature=0.25\n",
    "    )\n",
    "    return chatCompletion"
   ]
  },
  {
   "cell_type": "code",
   "execution_count": 110,
   "id": "ca595ca7-f99b-40b4-93c6-639ec9d8511e",
   "metadata": {
    "tags": []
   },
   "outputs": [],
   "source": [
    "df['messages'] = df['snippet'].apply(create_messages)"
   ]
  },
  {
   "cell_type": "code",
   "execution_count": 111,
   "id": "ee0d3e10-9224-4550-812e-0ac717b68ddb",
   "metadata": {
    "tags": []
   },
   "outputs": [
    {
     "name": "stderr",
     "output_type": "stream",
     "text": [
      "Processing Investing Basics: Bonds: : 8it [00:38,  4.76s/it]                                                   \n"
     ]
    },
    {
     "ename": "RateLimitError",
     "evalue": "Rate limit reached for default-gpt-3.5-turbo in organization org-YIcxNgcTtvdNQrKxaCXQIvbQ on requests per min. Limit: 20 / min. Current: 30 / min. Contact support@openai.com if you continue to have issues. Please add a payment method to your account to increase your rate limit. Visit https://platform.openai.com/account/billing to add a payment method.",
     "output_type": "error",
     "traceback": [
      "\u001b[0;31m---------------------------------------------------------------------------\u001b[0m",
      "\u001b[0;31mRateLimitError\u001b[0m                            Traceback (most recent call last)",
      "Cell \u001b[0;32mIn[111], line 10\u001b[0m\n\u001b[1;32m      7\u001b[0m \u001b[38;5;28;01mfor\u001b[39;00m idx, entry \u001b[38;5;129;01min\u001b[39;00m pbar:\n\u001b[1;32m      8\u001b[0m     pbar\u001b[38;5;241m.\u001b[39mset_description(\u001b[38;5;124m\"\u001b[39m\u001b[38;5;124mProcessing \u001b[39m\u001b[38;5;132;01m%s\u001b[39;00m\u001b[38;5;124m\"\u001b[39m \u001b[38;5;241m%\u001b[39m entry[\u001b[38;5;124m'\u001b[39m\u001b[38;5;124mtitle\u001b[39m\u001b[38;5;124m'\u001b[39m])\n\u001b[0;32m---> 10\u001b[0m     body \u001b[38;5;241m=\u001b[39m \u001b[43mclassify\u001b[49m\u001b[43m(\u001b[49m\u001b[43mentry\u001b[49m\u001b[43m[\u001b[49m\u001b[38;5;124;43m'\u001b[39;49m\u001b[38;5;124;43mmessages\u001b[39;49m\u001b[38;5;124;43m'\u001b[39;49m\u001b[43m]\u001b[49m\u001b[43m)\u001b[49m\n\u001b[1;32m     12\u001b[0m     \u001b[38;5;66;03m## Add error catching\u001b[39;00m\n\u001b[1;32m     13\u001b[0m     completion \u001b[38;5;241m=\u001b[39m \u001b[38;5;28mdict\u001b[39m(body[\u001b[38;5;124m'\u001b[39m\u001b[38;5;124mchoices\u001b[39m\u001b[38;5;124m'\u001b[39m][\u001b[38;5;241m0\u001b[39m][\u001b[38;5;124m'\u001b[39m\u001b[38;5;124mmessage\u001b[39m\u001b[38;5;124m'\u001b[39m])\n",
      "Cell \u001b[0;32mIn[109], line 2\u001b[0m, in \u001b[0;36mclassify\u001b[0;34m(messages)\u001b[0m\n\u001b[1;32m      1\u001b[0m \u001b[38;5;28;01mdef\u001b[39;00m \u001b[38;5;21mclassify\u001b[39m(messages):\n\u001b[0;32m----> 2\u001b[0m     chatCompletion \u001b[38;5;241m=\u001b[39m \u001b[43mopenai\u001b[49m\u001b[38;5;241;43m.\u001b[39;49m\u001b[43mChatCompletion\u001b[49m\u001b[38;5;241;43m.\u001b[39;49m\u001b[43mcreate\u001b[49m\u001b[43m(\u001b[49m\n\u001b[1;32m      3\u001b[0m \u001b[43m      \u001b[49m\u001b[43mmodel\u001b[49m\u001b[38;5;241;43m=\u001b[39;49m\u001b[38;5;124;43m\"\u001b[39;49m\u001b[38;5;124;43mgpt-3.5-turbo\u001b[39;49m\u001b[38;5;124;43m\"\u001b[39;49m\u001b[43m,\u001b[49m\n\u001b[1;32m      4\u001b[0m \u001b[43m      \u001b[49m\u001b[43mmessages\u001b[49m\u001b[38;5;241;43m=\u001b[39;49m\u001b[43mmessages\u001b[49m\u001b[43m,\u001b[49m\n\u001b[1;32m      5\u001b[0m \u001b[43m      \u001b[49m\u001b[43mtemperature\u001b[49m\u001b[38;5;241;43m=\u001b[39;49m\u001b[38;5;241;43m0.25\u001b[39;49m\n\u001b[1;32m      6\u001b[0m \u001b[43m    \u001b[49m\u001b[43m)\u001b[49m\n\u001b[1;32m      7\u001b[0m     \u001b[38;5;28;01mreturn\u001b[39;00m chatCompletion\n",
      "File \u001b[0;32m~/Projects/CryptoWho/.venv/lib/python3.8/site-packages/openai/api_resources/chat_completion.py:25\u001b[0m, in \u001b[0;36mChatCompletion.create\u001b[0;34m(cls, *args, **kwargs)\u001b[0m\n\u001b[1;32m     23\u001b[0m \u001b[38;5;28;01mwhile\u001b[39;00m \u001b[38;5;28;01mTrue\u001b[39;00m:\n\u001b[1;32m     24\u001b[0m     \u001b[38;5;28;01mtry\u001b[39;00m:\n\u001b[0;32m---> 25\u001b[0m         \u001b[38;5;28;01mreturn\u001b[39;00m \u001b[38;5;28;43msuper\u001b[39;49m\u001b[43m(\u001b[49m\u001b[43m)\u001b[49m\u001b[38;5;241;43m.\u001b[39;49m\u001b[43mcreate\u001b[49m\u001b[43m(\u001b[49m\u001b[38;5;241;43m*\u001b[39;49m\u001b[43margs\u001b[49m\u001b[43m,\u001b[49m\u001b[43m \u001b[49m\u001b[38;5;241;43m*\u001b[39;49m\u001b[38;5;241;43m*\u001b[39;49m\u001b[43mkwargs\u001b[49m\u001b[43m)\u001b[49m\n\u001b[1;32m     26\u001b[0m     \u001b[38;5;28;01mexcept\u001b[39;00m TryAgain \u001b[38;5;28;01mas\u001b[39;00m e:\n\u001b[1;32m     27\u001b[0m         \u001b[38;5;28;01mif\u001b[39;00m timeout \u001b[38;5;129;01mis\u001b[39;00m \u001b[38;5;129;01mnot\u001b[39;00m \u001b[38;5;28;01mNone\u001b[39;00m \u001b[38;5;129;01mand\u001b[39;00m time\u001b[38;5;241m.\u001b[39mtime() \u001b[38;5;241m>\u001b[39m start \u001b[38;5;241m+\u001b[39m timeout:\n",
      "File \u001b[0;32m~/Projects/CryptoWho/.venv/lib/python3.8/site-packages/openai/api_resources/abstract/engine_api_resource.py:153\u001b[0m, in \u001b[0;36mEngineAPIResource.create\u001b[0;34m(cls, api_key, api_base, api_type, request_id, api_version, organization, **params)\u001b[0m\n\u001b[1;32m    127\u001b[0m \u001b[38;5;129m@classmethod\u001b[39m\n\u001b[1;32m    128\u001b[0m \u001b[38;5;28;01mdef\u001b[39;00m \u001b[38;5;21mcreate\u001b[39m(\n\u001b[1;32m    129\u001b[0m     \u001b[38;5;28mcls\u001b[39m,\n\u001b[0;32m   (...)\u001b[0m\n\u001b[1;32m    136\u001b[0m     \u001b[38;5;241m*\u001b[39m\u001b[38;5;241m*\u001b[39mparams,\n\u001b[1;32m    137\u001b[0m ):\n\u001b[1;32m    138\u001b[0m     (\n\u001b[1;32m    139\u001b[0m         deployment_id,\n\u001b[1;32m    140\u001b[0m         engine,\n\u001b[0;32m   (...)\u001b[0m\n\u001b[1;32m    150\u001b[0m         api_key, api_base, api_type, api_version, organization, \u001b[38;5;241m*\u001b[39m\u001b[38;5;241m*\u001b[39mparams\n\u001b[1;32m    151\u001b[0m     )\n\u001b[0;32m--> 153\u001b[0m     response, _, api_key \u001b[38;5;241m=\u001b[39m \u001b[43mrequestor\u001b[49m\u001b[38;5;241;43m.\u001b[39;49m\u001b[43mrequest\u001b[49m\u001b[43m(\u001b[49m\n\u001b[1;32m    154\u001b[0m \u001b[43m        \u001b[49m\u001b[38;5;124;43m\"\u001b[39;49m\u001b[38;5;124;43mpost\u001b[39;49m\u001b[38;5;124;43m\"\u001b[39;49m\u001b[43m,\u001b[49m\n\u001b[1;32m    155\u001b[0m \u001b[43m        \u001b[49m\u001b[43murl\u001b[49m\u001b[43m,\u001b[49m\n\u001b[1;32m    156\u001b[0m \u001b[43m        \u001b[49m\u001b[43mparams\u001b[49m\u001b[38;5;241;43m=\u001b[39;49m\u001b[43mparams\u001b[49m\u001b[43m,\u001b[49m\n\u001b[1;32m    157\u001b[0m \u001b[43m        \u001b[49m\u001b[43mheaders\u001b[49m\u001b[38;5;241;43m=\u001b[39;49m\u001b[43mheaders\u001b[49m\u001b[43m,\u001b[49m\n\u001b[1;32m    158\u001b[0m \u001b[43m        \u001b[49m\u001b[43mstream\u001b[49m\u001b[38;5;241;43m=\u001b[39;49m\u001b[43mstream\u001b[49m\u001b[43m,\u001b[49m\n\u001b[1;32m    159\u001b[0m \u001b[43m        \u001b[49m\u001b[43mrequest_id\u001b[49m\u001b[38;5;241;43m=\u001b[39;49m\u001b[43mrequest_id\u001b[49m\u001b[43m,\u001b[49m\n\u001b[1;32m    160\u001b[0m \u001b[43m        \u001b[49m\u001b[43mrequest_timeout\u001b[49m\u001b[38;5;241;43m=\u001b[39;49m\u001b[43mrequest_timeout\u001b[49m\u001b[43m,\u001b[49m\n\u001b[1;32m    161\u001b[0m \u001b[43m    \u001b[49m\u001b[43m)\u001b[49m\n\u001b[1;32m    163\u001b[0m     \u001b[38;5;28;01mif\u001b[39;00m stream:\n\u001b[1;32m    164\u001b[0m         \u001b[38;5;66;03m# must be an iterator\u001b[39;00m\n\u001b[1;32m    165\u001b[0m         \u001b[38;5;28;01massert\u001b[39;00m \u001b[38;5;129;01mnot\u001b[39;00m \u001b[38;5;28misinstance\u001b[39m(response, OpenAIResponse)\n",
      "File \u001b[0;32m~/Projects/CryptoWho/.venv/lib/python3.8/site-packages/openai/api_requestor.py:226\u001b[0m, in \u001b[0;36mAPIRequestor.request\u001b[0;34m(self, method, url, params, headers, files, stream, request_id, request_timeout)\u001b[0m\n\u001b[1;32m    205\u001b[0m \u001b[38;5;28;01mdef\u001b[39;00m \u001b[38;5;21mrequest\u001b[39m(\n\u001b[1;32m    206\u001b[0m     \u001b[38;5;28mself\u001b[39m,\n\u001b[1;32m    207\u001b[0m     method,\n\u001b[0;32m   (...)\u001b[0m\n\u001b[1;32m    214\u001b[0m     request_timeout: Optional[Union[\u001b[38;5;28mfloat\u001b[39m, Tuple[\u001b[38;5;28mfloat\u001b[39m, \u001b[38;5;28mfloat\u001b[39m]]] \u001b[38;5;241m=\u001b[39m \u001b[38;5;28;01mNone\u001b[39;00m,\n\u001b[1;32m    215\u001b[0m ) \u001b[38;5;241m-\u001b[39m\u001b[38;5;241m>\u001b[39m Tuple[Union[OpenAIResponse, Iterator[OpenAIResponse]], \u001b[38;5;28mbool\u001b[39m, \u001b[38;5;28mstr\u001b[39m]:\n\u001b[1;32m    216\u001b[0m     result \u001b[38;5;241m=\u001b[39m \u001b[38;5;28mself\u001b[39m\u001b[38;5;241m.\u001b[39mrequest_raw(\n\u001b[1;32m    217\u001b[0m         method\u001b[38;5;241m.\u001b[39mlower(),\n\u001b[1;32m    218\u001b[0m         url,\n\u001b[0;32m   (...)\u001b[0m\n\u001b[1;32m    224\u001b[0m         request_timeout\u001b[38;5;241m=\u001b[39mrequest_timeout,\n\u001b[1;32m    225\u001b[0m     )\n\u001b[0;32m--> 226\u001b[0m     resp, got_stream \u001b[38;5;241m=\u001b[39m \u001b[38;5;28;43mself\u001b[39;49m\u001b[38;5;241;43m.\u001b[39;49m\u001b[43m_interpret_response\u001b[49m\u001b[43m(\u001b[49m\u001b[43mresult\u001b[49m\u001b[43m,\u001b[49m\u001b[43m \u001b[49m\u001b[43mstream\u001b[49m\u001b[43m)\u001b[49m\n\u001b[1;32m    227\u001b[0m     \u001b[38;5;28;01mreturn\u001b[39;00m resp, got_stream, \u001b[38;5;28mself\u001b[39m\u001b[38;5;241m.\u001b[39mapi_key\n",
      "File \u001b[0;32m~/Projects/CryptoWho/.venv/lib/python3.8/site-packages/openai/api_requestor.py:619\u001b[0m, in \u001b[0;36mAPIRequestor._interpret_response\u001b[0;34m(self, result, stream)\u001b[0m\n\u001b[1;32m    611\u001b[0m     \u001b[38;5;28;01mreturn\u001b[39;00m (\n\u001b[1;32m    612\u001b[0m         \u001b[38;5;28mself\u001b[39m\u001b[38;5;241m.\u001b[39m_interpret_response_line(\n\u001b[1;32m    613\u001b[0m             line, result\u001b[38;5;241m.\u001b[39mstatus_code, result\u001b[38;5;241m.\u001b[39mheaders, stream\u001b[38;5;241m=\u001b[39m\u001b[38;5;28;01mTrue\u001b[39;00m\n\u001b[1;32m    614\u001b[0m         )\n\u001b[1;32m    615\u001b[0m         \u001b[38;5;28;01mfor\u001b[39;00m line \u001b[38;5;129;01min\u001b[39;00m parse_stream(result\u001b[38;5;241m.\u001b[39miter_lines())\n\u001b[1;32m    616\u001b[0m     ), \u001b[38;5;28;01mTrue\u001b[39;00m\n\u001b[1;32m    617\u001b[0m \u001b[38;5;28;01melse\u001b[39;00m:\n\u001b[1;32m    618\u001b[0m     \u001b[38;5;28;01mreturn\u001b[39;00m (\n\u001b[0;32m--> 619\u001b[0m         \u001b[38;5;28;43mself\u001b[39;49m\u001b[38;5;241;43m.\u001b[39;49m\u001b[43m_interpret_response_line\u001b[49m\u001b[43m(\u001b[49m\n\u001b[1;32m    620\u001b[0m \u001b[43m            \u001b[49m\u001b[43mresult\u001b[49m\u001b[38;5;241;43m.\u001b[39;49m\u001b[43mcontent\u001b[49m\u001b[38;5;241;43m.\u001b[39;49m\u001b[43mdecode\u001b[49m\u001b[43m(\u001b[49m\u001b[38;5;124;43m\"\u001b[39;49m\u001b[38;5;124;43mutf-8\u001b[39;49m\u001b[38;5;124;43m\"\u001b[39;49m\u001b[43m)\u001b[49m\u001b[43m,\u001b[49m\n\u001b[1;32m    621\u001b[0m \u001b[43m            \u001b[49m\u001b[43mresult\u001b[49m\u001b[38;5;241;43m.\u001b[39;49m\u001b[43mstatus_code\u001b[49m\u001b[43m,\u001b[49m\n\u001b[1;32m    622\u001b[0m \u001b[43m            \u001b[49m\u001b[43mresult\u001b[49m\u001b[38;5;241;43m.\u001b[39;49m\u001b[43mheaders\u001b[49m\u001b[43m,\u001b[49m\n\u001b[1;32m    623\u001b[0m \u001b[43m            \u001b[49m\u001b[43mstream\u001b[49m\u001b[38;5;241;43m=\u001b[39;49m\u001b[38;5;28;43;01mFalse\u001b[39;49;00m\u001b[43m,\u001b[49m\n\u001b[1;32m    624\u001b[0m \u001b[43m        \u001b[49m\u001b[43m)\u001b[49m,\n\u001b[1;32m    625\u001b[0m         \u001b[38;5;28;01mFalse\u001b[39;00m,\n\u001b[1;32m    626\u001b[0m     )\n",
      "File \u001b[0;32m~/Projects/CryptoWho/.venv/lib/python3.8/site-packages/openai/api_requestor.py:679\u001b[0m, in \u001b[0;36mAPIRequestor._interpret_response_line\u001b[0;34m(self, rbody, rcode, rheaders, stream)\u001b[0m\n\u001b[1;32m    677\u001b[0m stream_error \u001b[38;5;241m=\u001b[39m stream \u001b[38;5;129;01mand\u001b[39;00m \u001b[38;5;124m\"\u001b[39m\u001b[38;5;124merror\u001b[39m\u001b[38;5;124m\"\u001b[39m \u001b[38;5;129;01min\u001b[39;00m resp\u001b[38;5;241m.\u001b[39mdata\n\u001b[1;32m    678\u001b[0m \u001b[38;5;28;01mif\u001b[39;00m stream_error \u001b[38;5;129;01mor\u001b[39;00m \u001b[38;5;129;01mnot\u001b[39;00m \u001b[38;5;241m200\u001b[39m \u001b[38;5;241m<\u001b[39m\u001b[38;5;241m=\u001b[39m rcode \u001b[38;5;241m<\u001b[39m \u001b[38;5;241m300\u001b[39m:\n\u001b[0;32m--> 679\u001b[0m     \u001b[38;5;28;01mraise\u001b[39;00m \u001b[38;5;28mself\u001b[39m\u001b[38;5;241m.\u001b[39mhandle_error_response(\n\u001b[1;32m    680\u001b[0m         rbody, rcode, resp\u001b[38;5;241m.\u001b[39mdata, rheaders, stream_error\u001b[38;5;241m=\u001b[39mstream_error\n\u001b[1;32m    681\u001b[0m     )\n\u001b[1;32m    682\u001b[0m \u001b[38;5;28;01mreturn\u001b[39;00m resp\n",
      "\u001b[0;31mRateLimitError\u001b[0m: Rate limit reached for default-gpt-3.5-turbo in organization org-YIcxNgcTtvdNQrKxaCXQIvbQ on requests per min. Limit: 20 / min. Current: 30 / min. Contact support@openai.com if you continue to have issues. Please add a payment method to your account to increase your rate limit. Visit https://platform.openai.com/account/billing to add a payment method."
     ]
    }
   ],
   "source": [
    "completions = []\n",
    "completion_df = []\n",
    "\n",
    "\n",
    "pbar = tqdm(df.iterrows())  \n",
    "\n",
    "for idx, entry in pbar:\n",
    "    pbar.set_description(\"Processing %s\" % entry['title'])\n",
    "    \n",
    "    body = classify(entry['messages'])\n",
    "    \n",
    "    ## Add error catching\n",
    "    completion = dict(body['choices'][0]['message'])\n",
    "    completion['prediction']  = completion['content'].split(':')[0].strip()\n",
    "    completion['reason'] = completion['content'].split(':')[1].strip()\n",
    "    \n",
    "    ## Grab meta data\n",
    "    completion.update({key: body[key] for key in ['created', 'id', 'model', 'object']})\n",
    "    \n",
    "    ## Grab token usage\n",
    "    completion.update(dict(chatCompletion['usage']))\n",
    "\n",
    "    completions.append(completion)\n",
    "    \n",
    "    pd.DataFrame(completions).to_csv('seed_predictions.csv', index_label = False)\n",
    "    \n",
    "    \n",
    "    time.sleep(10)"
   ]
  },
  {
   "cell_type": "code",
   "execution_count": 112,
   "id": "f35aa627-2b55-473c-8e73-fb6f2dc4fcd0",
   "metadata": {
    "tags": []
   },
   "outputs": [],
   "source": [
    "predictions = pd.read_csv('seed_predictions.csv')"
   ]
  },
  {
   "cell_type": "code",
   "execution_count": 124,
   "id": "d1d5cabc-6b41-4ca0-ad85-904d22107685",
   "metadata": {
    "tags": []
   },
   "outputs": [
    {
     "name": "stdout",
     "output_type": "stream",
     "text": [
      "Traditional and Roth IRAs | Simple Steps for a Retirement Portfolio Course. A benefit of both traditional and Roth IRAs is that your earnings arent taxed while theyre in the account, which can help your investments compound. Where traditional and Roth IRAs differ is when you get tax breaks. With a traditional IRA, your contributions may be tax deductible. This means you may get a tax break in the years you contribute to the account. With a traditional IRA, you pay taxes on money you withdraw from the account during retirement. Essentially, choosing a traditional IRA means youll pay taxes in retirement, but you may get a tax deduction now. Once you contribute money to a Roth IRA, you wont have to pay taxes on your withdrawals during retirement. So choosing a Roth account means getting a tax break later. The biggest factor is whether you think your tax rate during retirement will be higher or lower than your tax rate during the years youre contributing. If you think your taxes are higher now than theyll be when you retire, a traditional IRA might be better. On the other hand, a Roth IRA may be the best choice if you think your tax rate could be higher during retirement. For example, if youre a young investor whos just starting a career, you may expect to pay higher taxes later in your career and into retirement. As a result, many experts recommend contributing to both a traditional and a Roth account as a way to diversify your tax savings. For example, if you already have a retirement plan through your employer, traditional IRA contributions may not be tax deductible. While it can be hard to predict your future tax rate, both traditional and Roth retirement accounts can help you maximize your retirement savings with tax benefits. td ira for cons explained is to traditional roth account.\n"
     ]
    }
   ],
   "source": [
    "print(df['snippet'][2].replace(\"\\n\", \" \").replace(\"  \", \" \"))"
   ]
  },
  {
   "cell_type": "code",
   "execution_count": null,
   "id": "7c972854-59b9-4ecb-875c-a9c874e2f7df",
   "metadata": {},
   "outputs": [],
   "source": [
    "# Try using numerical labels as opposed to normal labels"
   ]
  },
  {
   "cell_type": "code",
   "execution_count": 119,
   "id": "6b6193c3-97ff-49ed-836c-243918b3a2b6",
   "metadata": {
    "tags": []
   },
   "outputs": [
    {
     "name": "stdout",
     "output_type": "stream",
     "text": [
      "The video snippet discusses investing in stocks, shares, and dividends, which are all traditional investments. The video does not mention blockchain or any other Web3 investments. The video also provides information on how much money is needed to get started and how risky buying shares in a company can be. Therefore, this video snippet falls under the Traditional label.\n",
      "\n",
      "The video snippet focuses on educating viewers about traditional investments, specifically investing in the stock market through a 401k plan and a target retirement fund from Vanguard. The snippet does not mention blockchain or any other Web3 investments, and it does not recommend or educate about mixed investments. Therefore, it falls under the Traditional label.\n",
      "\n",
      "The video snippet discusses both traditional and Roth IRAs, which are traditional investments, and explains the tax benefits of each. It also recommends diversifying tax savings by contributing to both types of accounts. However, it does not recommend or educate about blockchain or any other Web3 investments.\n",
      "\n",
      "The video snippet discusses a retirement savings account offered by many employers called a 401(k), which is a traditional investment. It explains how it works, the tax advantages, and the potential employer match. The video does not mention blockchain or any other Web3 investments, making it a traditional investment.\n",
      "\n",
      "The video snippet mentions both traditional retirement accounts like 401(k)s and individual retirement accounts (IRAs), as well as the benefits and tax advantages of each. It also discusses the differences between traditional, Roth, SEP, and Simple IRAs and how they were designed to allow small employers to provide retirement benefits. The video emphasizes the importance of choosing the right retirement account and saving for retirement, regardless of whether it is a traditional or blockchain investment.\n",
      "\n",
      "The video snippet discusses index funds, which are a type of traditional investment that tracks a market index. The video does not mention blockchain or any other Web3 investments, and it does not recommend or educate about any other type of investment. Therefore, it falls under the Traditional label.\n",
      "\n",
      "The video snippet discusses mutual funds, portfolio managers, and the S&P 500 index, which are all traditional investment concepts. The video does not mention or recommend any blockchain or Web3 investments.\n",
      "\n",
      "The video snippet mentions both traditional investments (index funds, stocks, bonds) and blockchain investments (none mentioned specifically), but does not recommend or educate about either label. Therefore, it falls under the mixed label.\n",
      "\n"
     ]
    }
   ],
   "source": [
    "for reason in predictions['reason']:\n",
    "    print(reason + '\\n')"
   ]
  },
  {
   "cell_type": "code",
   "execution_count": 127,
   "id": "de6a3e3d-8ff8-4628-b7c9-d8d9af07ea44",
   "metadata": {
    "tags": []
   },
   "outputs": [
    {
     "data": {
      "text/plain": [
       "0.011392"
      ]
     },
     "execution_count": 127,
     "metadata": {},
     "output_type": "execute_result"
    }
   ],
   "source": [
    "sum(predictions['total_tokens']) * TURBO_COST"
   ]
  },
  {
   "cell_type": "code",
   "execution_count": 114,
   "id": "1a676fb0-cd77-487b-8e9a-e3d676bc8db7",
   "metadata": {
    "tags": []
   },
   "outputs": [
    {
     "data": {
      "text/plain": [
       "0    Traditional\n",
       "1    Traditional\n",
       "2          Mixed\n",
       "3    Traditional\n",
       "4          Mixed\n",
       "5    Traditional\n",
       "6    Traditional\n",
       "7          Mixed\n",
       "Name: prediction, dtype: object"
      ]
     },
     "execution_count": 114,
     "metadata": {},
     "output_type": "execute_result"
    }
   ],
   "source": [
    "predictions['prediction']"
   ]
  },
  {
   "cell_type": "code",
   "execution_count": 102,
   "id": "e6ac7025-bf89-4267-99b6-ce704bc8ca80",
   "metadata": {
    "tags": []
   },
   "outputs": [
    {
     "data": {
      "text/plain": [
       "0     Traditional\n",
       "1     Traditional\n",
       "2     Traditional\n",
       "3     Traditional\n",
       "4     Traditional\n",
       "5     Traditional\n",
       "6     Traditional\n",
       "7     Traditional\n",
       "8     Traditional\n",
       "9     Traditional\n",
       "10    Traditional\n",
       "11    Traditional\n",
       "12    Traditional\n",
       "13    Traditional\n",
       "Name: label, dtype: object"
      ]
     },
     "execution_count": 102,
     "metadata": {},
     "output_type": "execute_result"
    }
   ],
   "source": [
    "df['label'].head(14)"
   ]
  }
 ],
 "metadata": {
  "kernelspec": {
   "display_name": "crypto",
   "language": "python",
   "name": "crypto"
  },
  "language_info": {
   "codemirror_mode": {
    "name": "ipython",
    "version": 3
   },
   "file_extension": ".py",
   "mimetype": "text/x-python",
   "name": "python",
   "nbconvert_exporter": "python",
   "pygments_lexer": "ipython3",
   "version": "3.8.5"
  }
 },
 "nbformat": 4,
 "nbformat_minor": 5
}
