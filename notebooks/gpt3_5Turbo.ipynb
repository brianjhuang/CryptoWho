{
 "cells": [
  {
   "cell_type": "code",
   "execution_count": 1,
   "id": "2944ba9f-cfb0-49ec-ac16-9b55fa4f257b",
   "metadata": {
    "tags": []
   },
   "outputs": [],
   "source": [
    "import pandas as pd\n",
    "import numpy as np\n",
    "import random\n",
    "\n",
    "import openai\n",
    "import os\n",
    "from tqdm import tqdm\n",
    "import time\n",
    "\n",
    "import sys\n",
    "\n",
    "sys.path.insert(0, '..')"
   ]
  },
  {
   "cell_type": "code",
   "execution_count": 2,
   "id": "27874b00-88cb-4849-9b39-952898a442f0",
   "metadata": {
    "tags": []
   },
   "outputs": [],
   "source": [
    "# TURBO COST\n",
    "TURBO_COST = 0.00200 / 1000"
   ]
  },
  {
   "cell_type": "code",
   "execution_count": 3,
   "id": "cf429bab-bc58-4083-b855-d2f768be907a",
   "metadata": {
    "tags": []
   },
   "outputs": [],
   "source": [
    "# Initialize the API client\n",
    "openai.api_key = os.environ.get(\"OPENAI_API_KEY\")"
   ]
  },
  {
   "cell_type": "code",
   "execution_count": 4,
   "id": "050df362-34e5-4f7c-8870-035d78670449",
   "metadata": {
    "tags": []
   },
   "outputs": [],
   "source": [
    "df = pd.read_csv('../data/seed/youtube/seed_videos.csv')"
   ]
  },
  {
   "cell_type": "code",
   "execution_count": 5,
   "id": "a2b7555d-9ee4-4fe5-a0ee-6a07d6247e0d",
   "metadata": {
    "tags": []
   },
   "outputs": [],
   "source": [
    "def create_messages(snippet):\n",
    "    messages = [\n",
    "        {\"role\": \"system\", \"content\" : \"You are a classifier that determines if a YouTube video snippet falls under a label. A snippet is a concatenation of the video title, summarized transcript, and video tags. The labels and additional instructions will be included in the first user message.\"},\n",
    "        {\"role\": \"user\", \"content\" : \"\"\"Labels:\n",
    "\n",
    "- Blockchain: Cryptocurrency, NFTs, or other Web3 investments\n",
    "- Traditional: Stocks, Bonds, Real Estate, Commodities, or other traditional investments\n",
    "- Mixed: Videos that recommend or educate about both blockchain and traditional investments\n",
    "- None: Videos that do not recommend or educate about either blockchain or traditional investments\n",
    "\n",
    "Instructions:\n",
    "\n",
    "- If a video snippet mentions keywords related to blockchain or traditional investments but does not recommend or educate about the label, it will be classified as None.\n",
    "- Please return predictions in the format\" {Label} : {50 word or shorter rationale}\"\"\"},\n",
    "        {\"role\": \"assistant\", \"content\": \"\"\"Understood. I will classify YouTube video snippets based on the provided labels and instructions. Here's how I will format the predictions:\n",
    "\n",
    "{Label} : {50-word or shorter rationale}\n",
    "\n",
    "Please provide me with the YouTube video snippet you would like me to classify.\"\"\"},\n",
    "    ]\n",
    "    \n",
    "    snippet_message = {\"role\" : \"user\", \"content\" : snippet}\n",
    "    \n",
    "    messages.append(snippet_message)\n",
    "    \n",
    "    return messages"
   ]
  },
  {
   "cell_type": "code",
   "execution_count": 6,
   "id": "95b70014-c6b6-4f71-a12c-96f0018f96b2",
   "metadata": {
    "tags": []
   },
   "outputs": [],
   "source": [
    "def classify(messages):\n",
    "    chatCompletion = openai.ChatCompletion.create(\n",
    "      model=\"gpt-3.5-turbo\",\n",
    "      messages=messages,\n",
    "      temperature=0.25\n",
    "    )\n",
    "    return chatCompletion"
   ]
  },
  {
   "cell_type": "code",
   "execution_count": 7,
   "id": "36e6e874-88d8-4c1c-bdb8-f5936b8d44eb",
   "metadata": {
    "tags": []
   },
   "outputs": [],
   "source": [
    "messages = create_messages(df['snippet'][0])"
   ]
  },
  {
   "cell_type": "code",
   "execution_count": 8,
   "id": "9749627a-ce54-4588-9032-c2ec81759f45",
   "metadata": {
    "tags": []
   },
   "outputs": [],
   "source": [
    "chatCompletion = classify(messages)"
   ]
  },
  {
   "cell_type": "code",
   "execution_count": 9,
   "id": "6b169445-3b6f-428f-8d42-ed6773101b05",
   "metadata": {
    "tags": []
   },
   "outputs": [
    {
     "data": {
      "text/plain": [
       "<OpenAIObject chat.completion id=chatcmpl-6ppMdZMjb0Pjkf2ooBsYVd6ZSBPno at 0x7f9f21f0eb30> JSON: {\n",
       "  \"choices\": [\n",
       "    {\n",
       "      \"finish_reason\": \"stop\",\n",
       "      \"index\": 0,\n",
       "      \"message\": {\n",
       "        \"content\": \"Traditional: The video snippet discusses investing in stocks, shares, and the stock market, which are all traditional investments. The speaker also mentions the concept of capital gains, which is a traditional investment strategy. Although the video snippet does not explicitly recommend or educate about traditional investments, it provides information and insights that are relevant to traditional investments. Therefore, it falls under the Traditional label.\",\n",
       "        \"role\": \"assistant\"\n",
       "      }\n",
       "    }\n",
       "  ],\n",
       "  \"created\": 1677810191,\n",
       "  \"id\": \"chatcmpl-6ppMdZMjb0Pjkf2ooBsYVd6ZSBPno\",\n",
       "  \"model\": \"gpt-3.5-turbo-0301\",\n",
       "  \"object\": \"chat.completion\",\n",
       "  \"usage\": {\n",
       "    \"completion_tokens\": 77,\n",
       "    \"prompt_tokens\": 596,\n",
       "    \"total_tokens\": 673\n",
       "  }\n",
       "}"
      ]
     },
     "execution_count": 9,
     "metadata": {},
     "output_type": "execute_result"
    }
   ],
   "source": [
    "chatCompletion"
   ]
  },
  {
   "cell_type": "code",
   "execution_count": null,
   "id": "9470bc96-0101-4f9a-a622-73946ee1a6e2",
   "metadata": {},
   "outputs": [],
   "source": []
  }
 ],
 "metadata": {
  "kernelspec": {
   "display_name": "crypto",
   "language": "python",
   "name": "crypto"
  },
  "language_info": {
   "codemirror_mode": {
    "name": "ipython",
    "version": 3
   },
   "file_extension": ".py",
   "mimetype": "text/x-python",
   "name": "python",
   "nbconvert_exporter": "python",
   "pygments_lexer": "ipython3",
   "version": "3.8.5"
  }
 },
 "nbformat": 4,
 "nbformat_minor": 5
}
