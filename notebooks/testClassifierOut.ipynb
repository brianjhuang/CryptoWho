{
 "cells": [
  {
   "cell_type": "code",
   "execution_count": 1,
   "id": "43d2fb6d-0583-44e6-a64e-1e5f01413364",
   "metadata": {
    "tags": []
   },
   "outputs": [],
   "source": [
    "from src.model.gpt import ChatCompletionModel\n",
    "import pandas as pd"
   ]
  },
  {
   "cell_type": "code",
   "execution_count": 2,
   "id": "24563eb2-2381-4289-91ad-26fd03ef553b",
   "metadata": {
    "tags": []
   },
   "outputs": [],
   "source": [
    "df = pd.read_csv('data/seed/youtube/seed_videos.csv')"
   ]
  },
  {
   "cell_type": "code",
   "execution_count": 3,
   "id": "1dbb30f4-1b68-48a4-bdcf-b5d7e618b77e",
   "metadata": {
    "tags": []
   },
   "outputs": [],
   "source": [
    "model = ChatCompletionModel(df, 'test_run')"
   ]
  },
  {
   "cell_type": "code",
   "execution_count": 4,
   "id": "2e8b82b7-ec8f-4b97-a14c-eaf0bd486189",
   "metadata": {
    "tags": []
   },
   "outputs": [
    {
     "name": "stdout",
     "output_type": "stream",
     "text": [
      "Created messages.\n"
     ]
    },
    {
     "name": "stderr",
     "output_type": "stream",
     "text": [
      "Processing Traditional and Roth IRAs | Simple Steps for a Retirement Portfolio Course: : 0it [00:00, ?it/s]"
     ]
    },
    {
     "name": "stdout",
     "output_type": "stream",
     "text": [
      "Progress found, starting from where we left off.\n",
      "Video already classified, moving on...\n",
      "Video already classified, moving on...\n"
     ]
    },
    {
     "name": "stderr",
     "output_type": "stream",
     "text": [
      "Processing Traditional and Roth IRAs | Simple Steps for a Retirement Portfolio Course: : 2it [00:06,  3.23s/it]"
     ]
    },
    {
     "name": "stdout",
     "output_type": "stream",
     "text": [
      "Ran into exception, saving progress and stopping.\n",
      "Exception: This is a test.\n",
      "Saved file to:  data/audit/youtube/results/progress_test_run.csv\n"
     ]
    },
    {
     "name": "stderr",
     "output_type": "stream",
     "text": [
      "\n"
     ]
    },
    {
     "data": {
      "text/html": [
       "<div>\n",
       "<style scoped>\n",
       "    .dataframe tbody tr th:only-of-type {\n",
       "        vertical-align: middle;\n",
       "    }\n",
       "\n",
       "    .dataframe tbody tr th {\n",
       "        vertical-align: top;\n",
       "    }\n",
       "\n",
       "    .dataframe thead th {\n",
       "        text-align: right;\n",
       "    }\n",
       "</style>\n",
       "<table border=\"1\" class=\"dataframe\">\n",
       "  <thead>\n",
       "    <tr style=\"text-align: right;\">\n",
       "      <th></th>\n",
       "      <th>role</th>\n",
       "      <th>content</th>\n",
       "      <th>prediction</th>\n",
       "      <th>reason</th>\n",
       "      <th>message</th>\n",
       "      <th>video_id</th>\n",
       "      <th>title</th>\n",
       "      <th>transcript</th>\n",
       "      <th>snippet</th>\n",
       "      <th>link</th>\n",
       "      <th>created</th>\n",
       "      <th>id</th>\n",
       "      <th>model</th>\n",
       "      <th>object</th>\n",
       "      <th>prompt_tokens</th>\n",
       "      <th>completion_tokens</th>\n",
       "      <th>total_tokens</th>\n",
       "    </tr>\n",
       "  </thead>\n",
       "  <tbody>\n",
       "    <tr>\n",
       "      <th>0</th>\n",
       "      <td>assistant</td>\n",
       "      <td>Traditional: The video snippet provides specif...</td>\n",
       "      <td>Traditional</td>\n",
       "      <td>The video snippet provides specific advice on ...</td>\n",
       "      <td>[{'role': 'system', 'content': 'You are a clas...</td>\n",
       "      <td>GZ42PIi9bis</td>\n",
       "      <td>I asked a personal finance expert how to invest.</td>\n",
       "      <td>- Investing, when most people think of it, the...</td>\n",
       "      <td>I asked a personal finance expert how to inves...</td>\n",
       "      <td>www.youtube.com/watch?v=GZ42PIi9bis</td>\n",
       "      <td>1678326510</td>\n",
       "      <td>chatcmpl-6rzgMTYiMPvNEb8GsQCypqVlKiJEU</td>\n",
       "      <td>gpt-3.5-turbo-0301</td>\n",
       "      <td>chat.completion</td>\n",
       "      <td>696</td>\n",
       "      <td>56</td>\n",
       "      <td>752</td>\n",
       "    </tr>\n",
       "    <tr>\n",
       "      <th>0</th>\n",
       "      <td>assistant</td>\n",
       "      <td>Traditional: The video snippet discusses inves...</td>\n",
       "      <td>Traditional</td>\n",
       "      <td>The video snippet discusses investing in stock...</td>\n",
       "      <td>[{'role': 'system', 'content': 'You are a clas...</td>\n",
       "      <td>gFQNPmLKj1k</td>\n",
       "      <td>How to Invest for Beginners</td>\n",
       "      <td>Right, so let's say\\nyou want to get started w...</td>\n",
       "      <td>How to Invest for Beginners. Maybe youve heard...</td>\n",
       "      <td>www.youtube.com/watch?v=gFQNPmLKj1k</td>\n",
       "      <td>1678326602</td>\n",
       "      <td>chatcmpl-6rzhqTFrIyllnqYI4w98baUd1yQFV</td>\n",
       "      <td>gpt-3.5-turbo-0301</td>\n",
       "      <td>chat.completion</td>\n",
       "      <td>697</td>\n",
       "      <td>41</td>\n",
       "      <td>738</td>\n",
       "    </tr>\n",
       "    <tr>\n",
       "      <th>0</th>\n",
       "      <td>assistant</td>\n",
       "      <td>Traditional : The video snippet discusses the ...</td>\n",
       "      <td>Traditional</td>\n",
       "      <td>The video snippet discusses the benefits and t...</td>\n",
       "      <td>[{'role': 'system', 'content': 'You are a clas...</td>\n",
       "      <td>Z3I8TPYn4Z0</td>\n",
       "      <td>Traditional and Roth IRAs | Simple Steps for a...</td>\n",
       "      <td>If you're saving for retirement, IRAs, also\\nk...</td>\n",
       "      <td>Traditional and Roth IRAs | Simple Steps for a...</td>\n",
       "      <td>www.youtube.com/watch?v=Z3I8TPYn4Z0</td>\n",
       "      <td>1678326650</td>\n",
       "      <td>chatcmpl-6rzicgPSzOqy4d4QiwJ4FfsSyYeVP</td>\n",
       "      <td>gpt-3.5-turbo-0301</td>\n",
       "      <td>chat.completion</td>\n",
       "      <td>699</td>\n",
       "      <td>32</td>\n",
       "      <td>731</td>\n",
       "    </tr>\n",
       "  </tbody>\n",
       "</table>\n",
       "</div>"
      ],
      "text/plain": [
       "        role                                            content   prediction  \\\n",
       "0  assistant  Traditional: The video snippet provides specif...  Traditional   \n",
       "0  assistant  Traditional: The video snippet discusses inves...  Traditional   \n",
       "0  assistant  Traditional : The video snippet discusses the ...  Traditional   \n",
       "\n",
       "                                              reason  \\\n",
       "0  The video snippet provides specific advice on ...   \n",
       "0  The video snippet discusses investing in stock...   \n",
       "0  The video snippet discusses the benefits and t...   \n",
       "\n",
       "                                             message     video_id  \\\n",
       "0  [{'role': 'system', 'content': 'You are a clas...  GZ42PIi9bis   \n",
       "0  [{'role': 'system', 'content': 'You are a clas...  gFQNPmLKj1k   \n",
       "0  [{'role': 'system', 'content': 'You are a clas...  Z3I8TPYn4Z0   \n",
       "\n",
       "                                               title  \\\n",
       "0   I asked a personal finance expert how to invest.   \n",
       "0                        How to Invest for Beginners   \n",
       "0  Traditional and Roth IRAs | Simple Steps for a...   \n",
       "\n",
       "                                          transcript  \\\n",
       "0  - Investing, when most people think of it, the...   \n",
       "0  Right, so let's say\\nyou want to get started w...   \n",
       "0  If you're saving for retirement, IRAs, also\\nk...   \n",
       "\n",
       "                                             snippet  \\\n",
       "0  I asked a personal finance expert how to inves...   \n",
       "0  How to Invest for Beginners. Maybe youve heard...   \n",
       "0  Traditional and Roth IRAs | Simple Steps for a...   \n",
       "\n",
       "                                  link     created  \\\n",
       "0  www.youtube.com/watch?v=GZ42PIi9bis  1678326510   \n",
       "0  www.youtube.com/watch?v=gFQNPmLKj1k  1678326602   \n",
       "0  www.youtube.com/watch?v=Z3I8TPYn4Z0  1678326650   \n",
       "\n",
       "                                       id               model  \\\n",
       "0  chatcmpl-6rzgMTYiMPvNEb8GsQCypqVlKiJEU  gpt-3.5-turbo-0301   \n",
       "0  chatcmpl-6rzhqTFrIyllnqYI4w98baUd1yQFV  gpt-3.5-turbo-0301   \n",
       "0  chatcmpl-6rzicgPSzOqy4d4QiwJ4FfsSyYeVP  gpt-3.5-turbo-0301   \n",
       "\n",
       "            object  prompt_tokens  completion_tokens  total_tokens  \n",
       "0  chat.completion            696                 56           752  \n",
       "0  chat.completion            697                 41           738  \n",
       "0  chat.completion            699                 32           731  "
      ]
     },
     "execution_count": 4,
     "metadata": {},
     "output_type": "execute_result"
    }
   ],
   "source": [
    "model.classify()"
   ]
  }
 ],
 "metadata": {
  "kernelspec": {
   "display_name": "Python 3 (ipykernel)",
   "language": "python",
   "name": "python3"
  },
  "language_info": {
   "codemirror_mode": {
    "name": "ipython",
    "version": 3
   },
   "file_extension": ".py",
   "mimetype": "text/x-python",
   "name": "python",
   "nbconvert_exporter": "python",
   "pygments_lexer": "ipython3",
   "version": "3.8.5"
  }
 },
 "nbformat": 4,
 "nbformat_minor": 5
}
