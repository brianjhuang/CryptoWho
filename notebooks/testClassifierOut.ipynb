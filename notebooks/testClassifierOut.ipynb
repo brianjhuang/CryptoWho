{
 "cells": [
  {
   "cell_type": "code",
   "execution_count": null,
   "id": "43d2fb6d-0583-44e6-a64e-1e5f01413364",
   "metadata": {
    "tags": []
   },
   "outputs": [],
   "source": [
    "from src.model.gpt import ChatCompletionModel\n",
    "import pandas as pd"
   ]
  },
  {
   "cell_type": "code",
   "execution_count": null,
   "id": "24563eb2-2381-4289-91ad-26fd03ef553b",
   "metadata": {
    "tags": []
   },
   "outputs": [],
   "source": [
    "df = pd.read_csv('data/seed/youtube/seed_videos.csv')"
   ]
  },
  {
   "cell_type": "code",
   "execution_count": null,
   "id": "1dbb30f4-1b68-48a4-bdcf-b5d7e618b77e",
   "metadata": {
    "tags": []
   },
   "outputs": [],
   "source": [
    "model = ChatCompletionModel(df, 'test_run')"
   ]
  },
  {
   "cell_type": "code",
   "execution_count": null,
   "id": "2e8b82b7-ec8f-4b97-a14c-eaf0bd486189",
   "metadata": {
    "tags": []
   },
   "outputs": [],
   "source": [
    "model.classify()"
   ]
  }
 ],
 "metadata": {
  "kernelspec": {
   "display_name": "Python 3 (ipykernel)",
   "language": "python",
   "name": "python3"
  },
  "language_info": {
   "codemirror_mode": {
    "name": "ipython",
    "version": 3
   },
   "file_extension": ".py",
   "mimetype": "text/x-python",
   "name": "python",
   "nbconvert_exporter": "python",
   "pygments_lexer": "ipython3",
   "version": "3.8.5"
  }
 },
 "nbformat": 4,
 "nbformat_minor": 5
}
