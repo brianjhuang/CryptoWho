{
 "cells": [
  {
   "cell_type": "code",
   "execution_count": null,
   "metadata": {},
   "outputs": [],
   "source": [
    "import pandas as pd\n",
    "import numpy as np\n",
    "from datetime import datetime"
   ]
  },
  {
   "cell_type": "code",
   "execution_count": null,
   "metadata": {},
   "outputs": [],
   "source": [
    "df = pd.read_csv('../data/seed/youtube/seed_videos.csv')\n",
    "young = pd.read_csv(\"../data/seed/youtube/young_videos.csv\")\n",
    "old = pd.read_csv(\"../data/seed/youtube/old_videos.csv\")"
   ]
  },
  {
   "cell_type": "code",
   "execution_count": null,
   "metadata": {},
   "outputs": [],
   "source": [
    "df.head()"
   ]
  },
  {
   "cell_type": "code",
   "execution_count": null,
   "metadata": {},
   "outputs": [],
   "source": [
    "# Checking for any snippets that are less than a certain size"
   ]
  },
  {
   "cell_type": "code",
   "execution_count": null,
   "metadata": {},
   "outputs": [],
   "source": [
    "df['snippet_length'] = df['snippet'].apply(lambda x : len(x))"
   ]
  },
  {
   "cell_type": "code",
   "execution_count": null,
   "metadata": {},
   "outputs": [],
   "source": [
    "df[df['snippet_length'] < 500]['cleaned_transcript'].apply(lambda x: len(x.split('. ')))"
   ]
  },
  {
   "cell_type": "code",
   "execution_count": null,
   "metadata": {},
   "outputs": [],
   "source": [
    "# Example list of datetime strings\n",
    "datetime_strings = df['duration']\n",
    "\n",
    "# Convert datetime strings to datetime objects\n",
    "datetime_objects = [datetime.strptime(dt_str, '%H:%M:%S') for dt_str in datetime_strings]\n",
    "\n",
    "# Get earliest and latest datetime objects\n",
    "earliest_datetime = min(datetime_objects)\n",
    "latest_datetime = max(datetime_objects)\n",
    "\n",
    "# Calculate total duration in seconds\n",
    "total_duration = (latest_datetime - earliest_datetime).total_seconds()\n",
    "\n",
    "# Calculate average duration in seconds\n",
    "average_duration = total_duration / len(datetime_objects)\n",
    "\n",
    "# Print average duration in minutes and seconds\n",
    "print(f'Average duration: {int(average_duration // 60)}:{int(average_duration % 60):02d}')\n",
    "print(f\"Max duration: {latest_datetime}\")\n",
    "print(f\"Min duration: {earliest_datetime}\")"
   ]
  },
  {
   "cell_type": "code",
   "execution_count": null,
   "metadata": {},
   "outputs": [],
   "source": [
    "old['duration'], young['duration']"
   ]
  },
  {
   "cell_type": "code",
   "execution_count": null,
   "metadata": {},
   "outputs": [],
   "source": [
    "print(df['snippet'][97])"
   ]
  }
 ],
 "metadata": {
  "kernelspec": {
   "display_name": "crypto",
   "language": "python",
   "name": "crypto"
  },
  "language_info": {
   "codemirror_mode": {
    "name": "ipython",
    "version": 3
   },
   "file_extension": ".py",
   "mimetype": "text/x-python",
   "name": "python",
   "nbconvert_exporter": "python",
   "pygments_lexer": "ipython3",
   "version": "3.8.5"
  }
 },
 "nbformat": 4,
 "nbformat_minor": 4
}
