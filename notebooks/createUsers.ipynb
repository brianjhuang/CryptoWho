{
 "cells": [
  {
   "cell_type": "code",
   "execution_count": 1,
   "metadata": {
    "tags": []
   },
   "outputs": [],
   "source": [
    "import pandas as pd\n",
    "import os"
   ]
  },
  {
   "cell_type": "code",
   "execution_count": 9,
   "metadata": {
    "tags": []
   },
   "outputs": [],
   "source": [
    "seed = pd.read_csv('../data/seed/youtube/seed_videos.csv')\n",
    "young = pd.read_csv('../data/seed/youtube/young_videos.csv')\n",
    "old = pd.read_csv('../data/seed/youtube/old_videos.csv')"
   ]
  },
  {
   "cell_type": "code",
   "execution_count": 10,
   "metadata": {
    "tags": []
   },
   "outputs": [
    {
     "data": {
      "text/html": [
       "<div>\n",
       "<style scoped>\n",
       "    .dataframe tbody tr th:only-of-type {\n",
       "        vertical-align: middle;\n",
       "    }\n",
       "\n",
       "    .dataframe tbody tr th {\n",
       "        vertical-align: top;\n",
       "    }\n",
       "\n",
       "    .dataframe thead th {\n",
       "        text-align: right;\n",
       "    }\n",
       "</style>\n",
       "<table border=\"1\" class=\"dataframe\">\n",
       "  <thead>\n",
       "    <tr style=\"text-align: right;\">\n",
       "      <th></th>\n",
       "      <th>video_id</th>\n",
       "      <th>title</th>\n",
       "      <th>description</th>\n",
       "      <th>tags</th>\n",
       "      <th>raw_duration</th>\n",
       "      <th>duration</th>\n",
       "      <th>cleaned_transcript</th>\n",
       "      <th>raw_transcript</th>\n",
       "      <th>comments</th>\n",
       "      <th>comment_ids</th>\n",
       "      <th>label</th>\n",
       "      <th>link</th>\n",
       "      <th>snippet</th>\n",
       "    </tr>\n",
       "  </thead>\n",
       "  <tbody>\n",
       "    <tr>\n",
       "      <th>0</th>\n",
       "      <td>W3CDMcWlPyM</td>\n",
       "      <td>21 Life Lessons for Teenagers</td>\n",
       "      <td>The first 1000 people to use the link in my de...</td>\n",
       "      <td>['Ali Abdaal', 'Ali abdal', 'tips for my young...</td>\n",
       "      <td>PT15M2S</td>\n",
       "      <td>00:15:02</td>\n",
       "      <td>- Hey friends, welcome\\nback to the channel. I...</td>\n",
       "      <td>[{'text': '- Hey friends, welcome\\nback to the...</td>\n",
       "      <td>['If you enjoyed this video, you might like my...</td>\n",
       "      <td>['Ugx8mCJ3CpDpTWgO68F4AaABAg', 'Ugx8mCJ3CpDpTW...</td>\n",
       "      <td>young</td>\n",
       "      <td>www.youtube.com/watch?v=W3CDMcWlPyM</td>\n",
       "      <td>21 Life Lessons for Teenagers. But its also go...</td>\n",
       "    </tr>\n",
       "    <tr>\n",
       "      <th>1</th>\n",
       "      <td>-RQdkW-em-g</td>\n",
       "      <td>How to Transfer Colleges | Crash Course | How ...</td>\n",
       "      <td>Check out our new Study Hall Channel: https://...</td>\n",
       "      <td>['John Green', 'Hank Green', 'vlogbrothers', '...</td>\n",
       "      <td>PT8M40S</td>\n",
       "      <td>00:08:40</td>\n",
       "      <td>from little things like the color of our.  hai...</td>\n",
       "      <td>[{'text': 'from little things like the color o...</td>\n",
       "      <td>['can I apply freshman student as a transfer s...</td>\n",
       "      <td>['UgxBTJqivTpGDgYl8jZ4AaABAg', 'UgyNpiThLCTMoM...</td>\n",
       "      <td>young</td>\n",
       "      <td>www.youtube.com/watch?v=-RQdkW-em-g</td>\n",
       "      <td>How to Transfer Colleges | Crash Course | How ...</td>\n",
       "    </tr>\n",
       "    <tr>\n",
       "      <th>2</th>\n",
       "      <td>qN_GMtFhlo4</td>\n",
       "      <td>How to Transfer Colleges: Tips + Advice</td>\n",
       "      <td>MY UC BERKELEY APARTMENT TOUR: https://www.you...</td>\n",
       "      <td>['aninabaker', 'anina', 'baker', 'college', 't...</td>\n",
       "      <td>PT11M10S</td>\n",
       "      <td>00:11:10</td>\n",
       "      <td>hi I'm Vanina and this is going to be a.  vide...</td>\n",
       "      <td>[{'text': \"hi I'm Vanina and this is going to ...</td>\n",
       "      <td>['Hi, I plan on applying to transfer as soon a...</td>\n",
       "      <td>['Ugx8JN50IY9AJePNbG94AaABAg', 'Ugy1JtaBYv6Lwq...</td>\n",
       "      <td>young</td>\n",
       "      <td>www.youtube.com/watch?v=qN_GMtFhlo4</td>\n",
       "      <td>How to Transfer Colleges: Tips + Advice. kind ...</td>\n",
       "    </tr>\n",
       "    <tr>\n",
       "      <th>3</th>\n",
       "      <td>5TQhslgMt0U</td>\n",
       "      <td>MY FIRST DAY OF COLLEGE</td>\n",
       "      <td>It was my first day of college ~ going back to...</td>\n",
       "      <td>['elliot choy', 'college', 'college life', 'co...</td>\n",
       "      <td>PT12M32S</td>\n",
       "      <td>00:12:32</td>\n",
       "      <td>[Music].  [Applause].  [Music].  [Music].  a G...</td>\n",
       "      <td>[{'text': '[Music]', 'start': 1.79, 'duration'...</td>\n",
       "      <td>['Ya ru shi ka nai', \"I remember one first day...</td>\n",
       "      <td>['UgzQqzKomDHsKW80y8R4AaABAg', 'Ugx_gFjttMZeJS...</td>\n",
       "      <td>young</td>\n",
       "      <td>www.youtube.com/watch?v=5TQhslgMt0U</td>\n",
       "      <td>MY FIRST DAY OF COLLEGE. headed to my first cl...</td>\n",
       "    </tr>\n",
       "    <tr>\n",
       "      <th>4</th>\n",
       "      <td>N2EYdmYd4V8</td>\n",
       "      <td>first EVER day of college vlog!! *freshman year*</td>\n",
       "      <td>#freshman #college #firstday\\n\\nHAPPY SUNDAY! ...</td>\n",
       "      <td>['college', 'first day of college', 'first day...</td>\n",
       "      <td>PT10M1S</td>\n",
       "      <td>00:10:01</td>\n",
       "      <td>i woke up at 11 o'clock i ain't got no.  job w...</td>\n",
       "      <td>[{'text': \"i woke up at 11 o'clock i ain't got...</td>\n",
       "      <td>['I cant believe this is over 3 years ago.. i ...</td>\n",
       "      <td>['UgyDQAUo4wARs_OpYbV4AaABAg', 'Ugwst34Grgt47v...</td>\n",
       "      <td>young</td>\n",
       "      <td>www.youtube.com/watch?v=N2EYdmYd4V8</td>\n",
       "      <td>first EVER day of college vlog!! *freshman yea...</td>\n",
       "    </tr>\n",
       "  </tbody>\n",
       "</table>\n",
       "</div>"
      ],
      "text/plain": [
       "      video_id                                              title  \\\n",
       "0  W3CDMcWlPyM                      21 Life Lessons for Teenagers   \n",
       "1  -RQdkW-em-g  How to Transfer Colleges | Crash Course | How ...   \n",
       "2  qN_GMtFhlo4            How to Transfer Colleges: Tips + Advice   \n",
       "3  5TQhslgMt0U                            MY FIRST DAY OF COLLEGE   \n",
       "4  N2EYdmYd4V8   first EVER day of college vlog!! *freshman year*   \n",
       "\n",
       "                                         description  \\\n",
       "0  The first 1000 people to use the link in my de...   \n",
       "1  Check out our new Study Hall Channel: https://...   \n",
       "2  MY UC BERKELEY APARTMENT TOUR: https://www.you...   \n",
       "3  It was my first day of college ~ going back to...   \n",
       "4  #freshman #college #firstday\\n\\nHAPPY SUNDAY! ...   \n",
       "\n",
       "                                                tags raw_duration  duration  \\\n",
       "0  ['Ali Abdaal', 'Ali abdal', 'tips for my young...      PT15M2S  00:15:02   \n",
       "1  ['John Green', 'Hank Green', 'vlogbrothers', '...      PT8M40S  00:08:40   \n",
       "2  ['aninabaker', 'anina', 'baker', 'college', 't...     PT11M10S  00:11:10   \n",
       "3  ['elliot choy', 'college', 'college life', 'co...     PT12M32S  00:12:32   \n",
       "4  ['college', 'first day of college', 'first day...      PT10M1S  00:10:01   \n",
       "\n",
       "                                  cleaned_transcript  \\\n",
       "0  - Hey friends, welcome\\nback to the channel. I...   \n",
       "1  from little things like the color of our.  hai...   \n",
       "2  hi I'm Vanina and this is going to be a.  vide...   \n",
       "3  [Music].  [Applause].  [Music].  [Music].  a G...   \n",
       "4  i woke up at 11 o'clock i ain't got no.  job w...   \n",
       "\n",
       "                                      raw_transcript  \\\n",
       "0  [{'text': '- Hey friends, welcome\\nback to the...   \n",
       "1  [{'text': 'from little things like the color o...   \n",
       "2  [{'text': \"hi I'm Vanina and this is going to ...   \n",
       "3  [{'text': '[Music]', 'start': 1.79, 'duration'...   \n",
       "4  [{'text': \"i woke up at 11 o'clock i ain't got...   \n",
       "\n",
       "                                            comments  \\\n",
       "0  ['If you enjoyed this video, you might like my...   \n",
       "1  ['can I apply freshman student as a transfer s...   \n",
       "2  ['Hi, I plan on applying to transfer as soon a...   \n",
       "3  ['Ya ru shi ka nai', \"I remember one first day...   \n",
       "4  ['I cant believe this is over 3 years ago.. i ...   \n",
       "\n",
       "                                         comment_ids  label  \\\n",
       "0  ['Ugx8mCJ3CpDpTWgO68F4AaABAg', 'Ugx8mCJ3CpDpTW...  young   \n",
       "1  ['UgxBTJqivTpGDgYl8jZ4AaABAg', 'UgyNpiThLCTMoM...  young   \n",
       "2  ['Ugx8JN50IY9AJePNbG94AaABAg', 'Ugy1JtaBYv6Lwq...  young   \n",
       "3  ['UgzQqzKomDHsKW80y8R4AaABAg', 'Ugx_gFjttMZeJS...  young   \n",
       "4  ['UgyDQAUo4wARs_OpYbV4AaABAg', 'Ugwst34Grgt47v...  young   \n",
       "\n",
       "                                  link  \\\n",
       "0  www.youtube.com/watch?v=W3CDMcWlPyM   \n",
       "1  www.youtube.com/watch?v=-RQdkW-em-g   \n",
       "2  www.youtube.com/watch?v=qN_GMtFhlo4   \n",
       "3  www.youtube.com/watch?v=5TQhslgMt0U   \n",
       "4  www.youtube.com/watch?v=N2EYdmYd4V8   \n",
       "\n",
       "                                             snippet  \n",
       "0  21 Life Lessons for Teenagers. But its also go...  \n",
       "1  How to Transfer Colleges | Crash Course | How ...  \n",
       "2  How to Transfer Colleges: Tips + Advice. kind ...  \n",
       "3  MY FIRST DAY OF COLLEGE. headed to my first cl...  \n",
       "4  first EVER day of college vlog!! *freshman yea...  "
      ]
     },
     "execution_count": 10,
     "metadata": {},
     "output_type": "execute_result"
    }
   ],
   "source": [
    "young.head()"
   ]
  },
  {
   "cell_type": "code",
   "execution_count": 11,
   "metadata": {
    "tags": []
   },
   "outputs": [
    {
     "data": {
      "text/html": [
       "<div>\n",
       "<style scoped>\n",
       "    .dataframe tbody tr th:only-of-type {\n",
       "        vertical-align: middle;\n",
       "    }\n",
       "\n",
       "    .dataframe tbody tr th {\n",
       "        vertical-align: top;\n",
       "    }\n",
       "\n",
       "    .dataframe thead th {\n",
       "        text-align: right;\n",
       "    }\n",
       "</style>\n",
       "<table border=\"1\" class=\"dataframe\">\n",
       "  <thead>\n",
       "    <tr style=\"text-align: right;\">\n",
       "      <th></th>\n",
       "      <th>video_id</th>\n",
       "      <th>title</th>\n",
       "      <th>description</th>\n",
       "      <th>tags</th>\n",
       "      <th>raw_duration</th>\n",
       "      <th>duration</th>\n",
       "      <th>cleaned_transcript</th>\n",
       "      <th>raw_transcript</th>\n",
       "      <th>comments</th>\n",
       "      <th>comment_ids</th>\n",
       "      <th>label</th>\n",
       "      <th>link</th>\n",
       "      <th>snippet</th>\n",
       "    </tr>\n",
       "  </thead>\n",
       "  <tbody>\n",
       "    <tr>\n",
       "      <th>0</th>\n",
       "      <td>os3WWbEruCU</td>\n",
       "      <td>9 Best things to do in your retirement</td>\n",
       "      <td>In this video, we will share with you some of ...</td>\n",
       "      <td>['Retirement', 'things to do in your retiremen...</td>\n",
       "      <td>PT10M16S</td>\n",
       "      <td>00:10:16</td>\n",
       "      <td>one find a hobby we're always so busy when we'...</td>\n",
       "      <td>[{'text': \"one find a hobby we're always so\", ...</td>\n",
       "      <td>[\"I retired 8 months ago people tell me I have...</td>\n",
       "      <td>['UgwrwZiSzAyo0xas1aV4AaABAg', 'UgxD20rNBYdXsA...</td>\n",
       "      <td>old</td>\n",
       "      <td>www.youtube.com/watch?v=os3WWbEruCU</td>\n",
       "      <td>9 Best things to do in your retirement. travel...</td>\n",
       "    </tr>\n",
       "    <tr>\n",
       "      <th>1</th>\n",
       "      <td>xd1N0WOcd5A</td>\n",
       "      <td>Preparing for a Colonoscopy</td>\n",
       "      <td>Prepare for your colonoscopy with these simple...</td>\n",
       "      <td>['colonoscopy', 'lynn butterly', 'dartmouth hi...</td>\n",
       "      <td>PT14M55S</td>\n",
       "      <td>00:14:55</td>\n",
       "      <td>(bouncy strumming music) - Hello, I'm Dr. Lynn...</td>\n",
       "      <td>[{'text': '(bouncy strumming music)', 'start':...</td>\n",
       "      <td>[\"I've only had this done once, but after taki...</td>\n",
       "      <td>['UgwCHdJrfu3Jwfn2YlZ4AaABAg', 'UgxhG6HnMa3Gq0...</td>\n",
       "      <td>old</td>\n",
       "      <td>www.youtube.com/watch?v=xd1N0WOcd5A</td>\n",
       "      <td>Preparing for a Colonoscopy. Therefore, were h...</td>\n",
       "    </tr>\n",
       "    <tr>\n",
       "      <th>2</th>\n",
       "      <td>L7YE78S6_Lk</td>\n",
       "      <td>Fit at 55!  Formula for Success | 5 Things You...</td>\n",
       "      <td>FOR MORE IDEAS, INSPIRATION AND STYLE TIPS CHE...</td>\n",
       "      <td>['the simple mindset youtube', 'over 50 fitnes...</td>\n",
       "      <td>PT17M43S</td>\n",
       "      <td>00:17:43</td>\n",
       "      <td>hello everyone today i'm talking about.  how i...</td>\n",
       "      <td>[{'text': \"hello everyone today i'm talking ab...</td>\n",
       "      <td>['Appreciate your honesty 🌷', 'I just found yo...</td>\n",
       "      <td>['UgyVFVqUoL7gSK4j9Hd4AaABAg', 'Ugy5_kz6X0-rjA...</td>\n",
       "      <td>old</td>\n",
       "      <td>www.youtube.com/watch?v=L7YE78S6_Lk</td>\n",
       "      <td>Fit at 55!  Formula for Success | 5 Things You...</td>\n",
       "    </tr>\n",
       "    <tr>\n",
       "      <th>3</th>\n",
       "      <td>HmF938irMVE</td>\n",
       "      <td>How To Look Wealthy On A Budget Over 50</td>\n",
       "      <td>How To Look Wealthy On A Budget Over 50\\nShari...</td>\n",
       "      <td>['50 and fabulous', 'budget friendly tips', 'c...</td>\n",
       "      <td>PT22M10S</td>\n",
       "      <td>00:22:10</td>\n",
       "      <td>so how do you look high-end and.  expensive lo...</td>\n",
       "      <td>[{'text': 'so how do you look high-end and', '...</td>\n",
       "      <td>['Hi lovely ladies! Which is your favourite ti...</td>\n",
       "      <td>['UgwQw4zqHSlbovjZ6ix4AaABAg', 'UgwQw4zqHSlbov...</td>\n",
       "      <td>old</td>\n",
       "      <td>www.youtube.com/watch?v=HmF938irMVE</td>\n",
       "      <td>How To Look Wealthy On A Budget Over 50. expen...</td>\n",
       "    </tr>\n",
       "    <tr>\n",
       "      <th>4</th>\n",
       "      <td>uMPa1fmMJ3k</td>\n",
       "      <td>Life after 50: What to do when You Feel Like Y...</td>\n",
       "      <td>Are you over 50 and feel like you haven’t achi...</td>\n",
       "      <td>['life after 50', \"feel I haven't achieved eno...</td>\n",
       "      <td>PT8M24S</td>\n",
       "      <td>00:08:24</td>\n",
       "      <td>I look back at you know what I still\\nwant to ...</td>\n",
       "      <td>[{'text': \"I look back at you know what I stil...</td>\n",
       "      <td>[\"OK I'm 50 and worried about money like I'm 2...</td>\n",
       "      <td>['Ugy7Gjhi2hN5YpELwMN4AaABAg', 'Ugym0lnyUbPK6L...</td>\n",
       "      <td>old</td>\n",
       "      <td>www.youtube.com/watch?v=uMPa1fmMJ3k</td>\n",
       "      <td>Life after 50: What to do when You Feel Like Y...</td>\n",
       "    </tr>\n",
       "  </tbody>\n",
       "</table>\n",
       "</div>"
      ],
      "text/plain": [
       "      video_id                                              title  \\\n",
       "0  os3WWbEruCU             9 Best things to do in your retirement   \n",
       "1  xd1N0WOcd5A                        Preparing for a Colonoscopy   \n",
       "2  L7YE78S6_Lk  Fit at 55!  Formula for Success | 5 Things You...   \n",
       "3  HmF938irMVE            How To Look Wealthy On A Budget Over 50   \n",
       "4  uMPa1fmMJ3k  Life after 50: What to do when You Feel Like Y...   \n",
       "\n",
       "                                         description  \\\n",
       "0  In this video, we will share with you some of ...   \n",
       "1  Prepare for your colonoscopy with these simple...   \n",
       "2  FOR MORE IDEAS, INSPIRATION AND STYLE TIPS CHE...   \n",
       "3  How To Look Wealthy On A Budget Over 50\\nShari...   \n",
       "4  Are you over 50 and feel like you haven’t achi...   \n",
       "\n",
       "                                                tags raw_duration  duration  \\\n",
       "0  ['Retirement', 'things to do in your retiremen...     PT10M16S  00:10:16   \n",
       "1  ['colonoscopy', 'lynn butterly', 'dartmouth hi...     PT14M55S  00:14:55   \n",
       "2  ['the simple mindset youtube', 'over 50 fitnes...     PT17M43S  00:17:43   \n",
       "3  ['50 and fabulous', 'budget friendly tips', 'c...     PT22M10S  00:22:10   \n",
       "4  ['life after 50', \"feel I haven't achieved eno...      PT8M24S  00:08:24   \n",
       "\n",
       "                                  cleaned_transcript  \\\n",
       "0  one find a hobby we're always so busy when we'...   \n",
       "1  (bouncy strumming music) - Hello, I'm Dr. Lynn...   \n",
       "2  hello everyone today i'm talking about.  how i...   \n",
       "3  so how do you look high-end and.  expensive lo...   \n",
       "4  I look back at you know what I still\\nwant to ...   \n",
       "\n",
       "                                      raw_transcript  \\\n",
       "0  [{'text': \"one find a hobby we're always so\", ...   \n",
       "1  [{'text': '(bouncy strumming music)', 'start':...   \n",
       "2  [{'text': \"hello everyone today i'm talking ab...   \n",
       "3  [{'text': 'so how do you look high-end and', '...   \n",
       "4  [{'text': \"I look back at you know what I stil...   \n",
       "\n",
       "                                            comments  \\\n",
       "0  [\"I retired 8 months ago people tell me I have...   \n",
       "1  [\"I've only had this done once, but after taki...   \n",
       "2  ['Appreciate your honesty 🌷', 'I just found yo...   \n",
       "3  ['Hi lovely ladies! Which is your favourite ti...   \n",
       "4  [\"OK I'm 50 and worried about money like I'm 2...   \n",
       "\n",
       "                                         comment_ids label  \\\n",
       "0  ['UgwrwZiSzAyo0xas1aV4AaABAg', 'UgxD20rNBYdXsA...   old   \n",
       "1  ['UgwCHdJrfu3Jwfn2YlZ4AaABAg', 'UgxhG6HnMa3Gq0...   old   \n",
       "2  ['UgyVFVqUoL7gSK4j9Hd4AaABAg', 'Ugy5_kz6X0-rjA...   old   \n",
       "3  ['UgwQw4zqHSlbovjZ6ix4AaABAg', 'UgwQw4zqHSlbov...   old   \n",
       "4  ['Ugy7Gjhi2hN5YpELwMN4AaABAg', 'Ugym0lnyUbPK6L...   old   \n",
       "\n",
       "                                  link  \\\n",
       "0  www.youtube.com/watch?v=os3WWbEruCU   \n",
       "1  www.youtube.com/watch?v=xd1N0WOcd5A   \n",
       "2  www.youtube.com/watch?v=L7YE78S6_Lk   \n",
       "3  www.youtube.com/watch?v=HmF938irMVE   \n",
       "4  www.youtube.com/watch?v=uMPa1fmMJ3k   \n",
       "\n",
       "                                             snippet  \n",
       "0  9 Best things to do in your retirement. travel...  \n",
       "1  Preparing for a Colonoscopy. Therefore, were h...  \n",
       "2  Fit at 55!  Formula for Success | 5 Things You...  \n",
       "3  How To Look Wealthy On A Budget Over 50. expen...  \n",
       "4  Life after 50: What to do when You Feel Like Y...  "
      ]
     },
     "execution_count": 11,
     "metadata": {},
     "output_type": "execute_result"
    }
   ],
   "source": [
    "old.head()"
   ]
  },
  {
   "cell_type": "code",
   "execution_count": 32,
   "metadata": {
    "tags": []
   },
   "outputs": [],
   "source": [
    "traditional = seed[seed['label'] == 'Traditional']\n",
    "blockchain = seed[seed['label'] == 'Blockchain']"
   ]
  },
  {
   "cell_type": "code",
   "execution_count": 33,
   "metadata": {
    "tags": []
   },
   "outputs": [],
   "source": [
    "mixed = pd.concat([seed[seed['label'] == 'Traditional'].sort_values(by = 'duration')[:20], seed[seed['label'] == 'Blockchain'].sort_values(by = 'duration')[:20]])"
   ]
  },
  {
   "cell_type": "code",
   "execution_count": 39,
   "metadata": {
    "tags": []
   },
   "outputs": [],
   "source": [
    "### Young\n",
    "young_traditional = pd.concat([young, traditional]).reset_index(drop = True)\n",
    "young_blockchain = pd.concat([young, blockchain]).reset_index(drop = True)\n",
    "young_mixed = pd.concat([young, mixed]).reset_index(drop = True)"
   ]
  },
  {
   "cell_type": "code",
   "execution_count": 40,
   "metadata": {
    "tags": []
   },
   "outputs": [],
   "source": [
    "### Old\n",
    "old_traditional = pd.concat([old, traditional]).reset_index(drop = True)\n",
    "old_blockchain = pd.concat([old, blockchain]).reset_index(drop = True)\n",
    "old_mixed = pd.concat([old, mixed]).reset_index(drop = True)"
   ]
  },
  {
   "cell_type": "code",
   "execution_count": 41,
   "metadata": {
    "tags": []
   },
   "outputs": [
    {
     "data": {
      "text/plain": [
       "(60, 60, 60, 60, 60, 60)"
      ]
     },
     "execution_count": 41,
     "metadata": {},
     "output_type": "execute_result"
    }
   ],
   "source": [
    "len(young_traditional), len(young_blockchain), len(young_mixed), len(old_traditional), len(old_blockchain), len(old_mixed)"
   ]
  },
  {
   "cell_type": "code",
   "execution_count": 42,
   "metadata": {
    "tags": []
   },
   "outputs": [],
   "source": [
    "young_traditional.to_csv('../data/seed/youtube/young_traditional.csv')\n",
    "young_blockchain.to_csv('../data/seed/youtube/young_blockchain.csv')\n",
    "young_mixed.to_csv('../data/seed/youtube/young_mixed.csv')"
   ]
  },
  {
   "cell_type": "code",
   "execution_count": 43,
   "metadata": {
    "tags": []
   },
   "outputs": [],
   "source": [
    "old_traditional.to_csv('../data/seed/youtube/old_traditional.csv')\n",
    "old_blockchain.to_csv('../data/seed/youtube/old_blockchain.csv')\n",
    "old_mixed.to_csv('../data/seed/youtube/old_mixed.csv')"
   ]
  },
  {
   "cell_type": "code",
   "execution_count": 2,
   "metadata": {},
   "outputs": [],
   "source": [
    "young_traditional = pd.read_csv('../data/seed/youtube/young_traditional.csv')\n",
    "young_blockchain = pd.read_csv('../data/seed/youtube/young_blockchain.csv')\n",
    "young_mixed = pd.read_csv('../data/seed/youtube/young_mixed.csv')"
   ]
  },
  {
   "cell_type": "code",
   "execution_count": 3,
   "metadata": {},
   "outputs": [],
   "source": [
    "old_traditional = pd.read_csv('../data/seed/youtube/old_traditional.csv')\n",
    "old_blockchain = pd.read_csv('../data/seed/youtube/old_blockchain.csv')\n",
    "old_mixed = pd.read_csv('../data/seed/youtube/old_mixed.csv')"
   ]
  },
  {
   "cell_type": "code",
   "execution_count": 14,
   "metadata": {},
   "outputs": [],
   "source": [
    "import datetime"
   ]
  },
  {
   "cell_type": "code",
   "execution_count": 30,
   "metadata": {},
   "outputs": [],
   "source": [
    "def calculate_time(times):\n",
    "    total_time = datetime.timedelta()\n",
    "    for i in times:\n",
    "        (h, m, s) = i.split(':')\n",
    "        d = datetime.timedelta(hours=int(h), minutes=int(m), seconds=int(s))\n",
    "        total_time += d\n",
    "    print(str(total_time/2))\n",
    "    return total_time"
   ]
  },
  {
   "cell_type": "code",
   "execution_count": 31,
   "metadata": {},
   "outputs": [
    {
     "name": "stdout",
     "output_type": "stream",
     "text": [
      "5:21:14.500000\n"
     ]
    },
    {
     "data": {
      "text/plain": [
       "datetime.timedelta(seconds=38549)"
      ]
     },
     "execution_count": 31,
     "metadata": {},
     "output_type": "execute_result"
    }
   ],
   "source": [
    "calculate_time(young_traditional['duration'])"
   ]
  },
  {
   "cell_type": "code",
   "execution_count": 32,
   "metadata": {},
   "outputs": [
    {
     "name": "stdout",
     "output_type": "stream",
     "text": [
      "5:35:32.500000\n"
     ]
    },
    {
     "data": {
      "text/plain": [
       "datetime.timedelta(seconds=40265)"
      ]
     },
     "execution_count": 32,
     "metadata": {},
     "output_type": "execute_result"
    }
   ],
   "source": [
    "calculate_time(young_blockchain['duration'])"
   ]
  },
  {
   "cell_type": "code",
   "execution_count": 33,
   "metadata": {},
   "outputs": [
    {
     "name": "stdout",
     "output_type": "stream",
     "text": [
      "4:05:55.500000\n"
     ]
    },
    {
     "data": {
      "text/plain": [
       "datetime.timedelta(seconds=29511)"
      ]
     },
     "execution_count": 33,
     "metadata": {},
     "output_type": "execute_result"
    }
   ],
   "source": [
    "calculate_time(young_mixed['duration'])"
   ]
  },
  {
   "cell_type": "code",
   "execution_count": 34,
   "metadata": {},
   "outputs": [
    {
     "name": "stdout",
     "output_type": "stream",
     "text": [
      "5:41:05.500000\n"
     ]
    },
    {
     "data": {
      "text/plain": [
       "datetime.timedelta(seconds=40931)"
      ]
     },
     "execution_count": 34,
     "metadata": {},
     "output_type": "execute_result"
    }
   ],
   "source": [
    "calculate_time(old_blockchain['duration'])"
   ]
  },
  {
   "cell_type": "code",
   "execution_count": 35,
   "metadata": {},
   "outputs": [
    {
     "name": "stdout",
     "output_type": "stream",
     "text": [
      "5:26:47.500000\n"
     ]
    },
    {
     "data": {
      "text/plain": [
       "datetime.timedelta(seconds=39215)"
      ]
     },
     "execution_count": 35,
     "metadata": {},
     "output_type": "execute_result"
    }
   ],
   "source": [
    "calculate_time(old_traditional['duration'])"
   ]
  },
  {
   "cell_type": "code",
   "execution_count": 36,
   "metadata": {},
   "outputs": [
    {
     "name": "stdout",
     "output_type": "stream",
     "text": [
      "4:11:28.500000\n"
     ]
    },
    {
     "data": {
      "text/plain": [
       "datetime.timedelta(seconds=30177)"
      ]
     },
     "execution_count": 36,
     "metadata": {},
     "output_type": "execute_result"
    }
   ],
   "source": [
    "calculate_time(old_mixed['duration'])"
   ]
  },
  {
   "cell_type": "code",
   "execution_count": 37,
   "metadata": {},
   "outputs": [
    {
     "name": "stdout",
     "output_type": "stream",
     "text": [
      "5:21:14.500000\n",
      "5:35:32.500000\n",
      "4:05:55.500000\n",
      "5:41:05.500000\n",
      "5:26:47.500000\n",
      "4:11:28.500000\n"
     ]
    }
   ],
   "source": [
    "total_time = calculate_time(young_traditional['duration']) + calculate_time(young_blockchain['duration']) + calculate_time(young_mixed['duration']) + calculate_time(old_blockchain['duration']) + calculate_time(old_traditional['duration']) +  calculate_time(old_mixed['duration'])"
   ]
  },
  {
   "cell_type": "code",
   "execution_count": 38,
   "metadata": {},
   "outputs": [
    {
     "data": {
      "text/plain": [
       "'2 days, 12:44:08'"
      ]
     },
     "execution_count": 38,
     "metadata": {},
     "output_type": "execute_result"
    }
   ],
   "source": [
    "str(total_time)"
   ]
  }
 ],
 "metadata": {
  "kernelspec": {
   "display_name": "crypto",
   "language": "python",
   "name": "crypto"
  },
  "language_info": {
   "codemirror_mode": {
    "name": "ipython",
    "version": 3
   },
   "file_extension": ".py",
   "mimetype": "text/x-python",
   "name": "python",
   "nbconvert_exporter": "python",
   "pygments_lexer": "ipython3",
   "version": "3.8.5"
  }
 },
 "nbformat": 4,
 "nbformat_minor": 5
}
