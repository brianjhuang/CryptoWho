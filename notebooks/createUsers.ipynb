{
 "cells": [
  {
   "cell_type": "code",
   "execution_count": null,
   "metadata": {
    "tags": []
   },
   "outputs": [],
   "source": [
    "import pandas as pd\n",
    "import os"
   ]
  },
  {
   "cell_type": "code",
   "execution_count": null,
   "metadata": {
    "tags": []
   },
   "outputs": [],
   "source": [
    "seed = pd.read_csv('../data/seed/youtube/seed_videos.csv')\n",
    "young = pd.read_csv('../data/seed/youtube/young_videos.csv')\n",
    "old = pd.read_csv('../data/seed/youtube/old_videos.csv')"
   ]
  },
  {
   "cell_type": "code",
   "execution_count": null,
   "metadata": {
    "tags": []
   },
   "outputs": [],
   "source": [
    "young.head()"
   ]
  },
  {
   "cell_type": "code",
   "execution_count": null,
   "metadata": {
    "tags": []
   },
   "outputs": [],
   "source": [
    "old.head()"
   ]
  },
  {
   "cell_type": "code",
   "execution_count": null,
   "metadata": {
    "tags": []
   },
   "outputs": [],
   "source": [
    "traditional = seed[seed['label'] == 'Traditional']\n",
    "blockchain = seed[seed['label'] == 'Blockchain']"
   ]
  },
  {
   "cell_type": "code",
   "execution_count": null,
   "metadata": {
    "tags": []
   },
   "outputs": [],
   "source": [
    "mixed = pd.concat([seed[seed['label'] == 'Traditional'].sort_values(by = 'duration')[:20], seed[seed['label'] == 'Blockchain'].sort_values(by = 'duration')[:20]])"
   ]
  },
  {
   "cell_type": "code",
   "execution_count": null,
   "metadata": {
    "tags": []
   },
   "outputs": [],
   "source": [
    "### Young\n",
    "young_traditional = pd.concat([young, traditional]).reset_index(drop = True)\n",
    "young_blockchain = pd.concat([young, blockchain]).reset_index(drop = True)\n",
    "young_mixed = pd.concat([young, mixed]).reset_index(drop = True)"
   ]
  },
  {
   "cell_type": "code",
   "execution_count": null,
   "metadata": {
    "tags": []
   },
   "outputs": [],
   "source": [
    "### Old\n",
    "old_traditional = pd.concat([old, traditional]).reset_index(drop = True)\n",
    "old_blockchain = pd.concat([old, blockchain]).reset_index(drop = True)\n",
    "old_mixed = pd.concat([old, mixed]).reset_index(drop = True)"
   ]
  },
  {
   "cell_type": "code",
   "execution_count": null,
   "metadata": {
    "tags": []
   },
   "outputs": [],
   "source": [
    "len(young_traditional), len(young_blockchain), len(young_mixed), len(old_traditional), len(old_blockchain), len(old_mixed)"
   ]
  },
  {
   "cell_type": "code",
   "execution_count": null,
   "metadata": {
    "tags": []
   },
   "outputs": [],
   "source": [
    "young_traditional.to_csv('../data/seed/youtube/young_traditional.csv')\n",
    "young_blockchain.to_csv('../data/seed/youtube/young_blockchain.csv')\n",
    "young_mixed.to_csv('../data/seed/youtube/young_mixed.csv')"
   ]
  },
  {
   "cell_type": "code",
   "execution_count": null,
   "metadata": {
    "tags": []
   },
   "outputs": [],
   "source": [
    "old_traditional.to_csv('../data/seed/youtube/old_traditional.csv')\n",
    "old_blockchain.to_csv('../data/seed/youtube/old_blockchain.csv')\n",
    "old_mixed.to_csv('../data/seed/youtube/old_mixed.csv')"
   ]
  },
  {
   "cell_type": "code",
   "execution_count": null,
   "metadata": {},
   "outputs": [],
   "source": [
    "young_traditional = pd.read_csv('../data/seed/youtube/young_traditional.csv')\n",
    "young_blockchain = pd.read_csv('../data/seed/youtube/young_blockchain.csv')\n",
    "young_mixed = pd.read_csv('../data/seed/youtube/young_mixed.csv')"
   ]
  },
  {
   "cell_type": "code",
   "execution_count": null,
   "metadata": {},
   "outputs": [],
   "source": [
    "old_traditional = pd.read_csv('../data/seed/youtube/old_traditional.csv')\n",
    "old_blockchain = pd.read_csv('../data/seed/youtube/old_blockchain.csv')\n",
    "old_mixed = pd.read_csv('../data/seed/youtube/old_mixed.csv')"
   ]
  },
  {
   "cell_type": "code",
   "execution_count": null,
   "metadata": {},
   "outputs": [],
   "source": [
    "import datetime"
   ]
  },
  {
   "cell_type": "code",
   "execution_count": null,
   "metadata": {},
   "outputs": [],
   "source": [
    "def calculate_time(times):\n",
    "    total_time = datetime.timedelta()\n",
    "    for i in times:\n",
    "        (h, m, s) = i.split(':')\n",
    "        d = datetime.timedelta(hours=int(h), minutes=int(m), seconds=int(s))\n",
    "        total_time += d\n",
    "    print(str(total_time/2))\n",
    "    return total_time"
   ]
  },
  {
   "cell_type": "code",
   "execution_count": null,
   "metadata": {},
   "outputs": [],
   "source": [
    "calculate_time(young_traditional['duration'])"
   ]
  },
  {
   "cell_type": "code",
   "execution_count": null,
   "metadata": {},
   "outputs": [],
   "source": [
    "calculate_time(young_blockchain['duration'])"
   ]
  },
  {
   "cell_type": "code",
   "execution_count": null,
   "metadata": {},
   "outputs": [],
   "source": [
    "calculate_time(young_mixed['duration'])"
   ]
  },
  {
   "cell_type": "code",
   "execution_count": null,
   "metadata": {},
   "outputs": [],
   "source": [
    "calculate_time(old_blockchain['duration'])"
   ]
  },
  {
   "cell_type": "code",
   "execution_count": null,
   "metadata": {},
   "outputs": [],
   "source": [
    "calculate_time(old_traditional['duration'])"
   ]
  },
  {
   "cell_type": "code",
   "execution_count": null,
   "metadata": {},
   "outputs": [],
   "source": [
    "calculate_time(old_mixed['duration'])"
   ]
  },
  {
   "cell_type": "code",
   "execution_count": null,
   "metadata": {},
   "outputs": [],
   "source": [
    "total_time = calculate_time(young_traditional['duration']) + calculate_time(young_blockchain['duration']) + calculate_time(young_mixed['duration']) + calculate_time(old_blockchain['duration']) + calculate_time(old_traditional['duration']) +  calculate_time(old_mixed['duration'])"
   ]
  },
  {
   "cell_type": "code",
   "execution_count": null,
   "metadata": {},
   "outputs": [],
   "source": [
    "str(total_time)"
   ]
  }
 ],
 "metadata": {
  "kernelspec": {
   "display_name": "crypto",
   "language": "python",
   "name": "crypto"
  },
  "language_info": {
   "codemirror_mode": {
    "name": "ipython",
    "version": 3
   },
   "file_extension": ".py",
   "mimetype": "text/x-python",
   "name": "python",
   "nbconvert_exporter": "python",
   "pygments_lexer": "ipython3",
   "version": "3.8.5"
  }
 },
 "nbformat": 4,
 "nbformat_minor": 5
}
