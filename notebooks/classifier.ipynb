{
 "cells": [
  {
   "cell_type": "code",
   "execution_count": null,
   "id": "548a6a05-463b-4469-957c-4f119b024cb6",
   "metadata": {
    "tags": []
   },
   "outputs": [],
   "source": [
    "import pandas as pd\n",
    "import numpy as np\n",
    "import random\n",
    "\n",
    "import openai\n",
    "import os\n",
    "from tqdm import tqdm\n",
    "import time\n",
    "\n",
    "import sys\n",
    "\n",
    "from sklearn.metrics import accuracy_score, classification_report\n",
    "\n",
    "sys.path.insert(0, '..')"
   ]
  },
  {
   "cell_type": "code",
   "execution_count": null,
   "id": "2ac7516d-f85a-4395-be2a-f540c741efdf",
   "metadata": {
    "tags": []
   },
   "outputs": [],
   "source": [
    "# TURBO COST\n",
    "TURBO_COST = 0.00200 / 1000"
   ]
  },
  {
   "cell_type": "code",
   "execution_count": null,
   "id": "986a0411-fa9c-494e-8c77-cea9162df14d",
   "metadata": {
    "tags": []
   },
   "outputs": [],
   "source": [
    "# Initialize the API client\n",
    "openai.api_key = os.environ.get(\"OPENAI_API_KEY\")"
   ]
  },
  {
   "cell_type": "code",
   "execution_count": null,
   "id": "0c20ffe2-bfd0-4a1f-92f8-a51c696305ad",
   "metadata": {
    "tags": []
   },
   "outputs": [],
   "source": [
    "finance = pd.read_csv('../data/seed/youtube/seed_videos.csv')\n",
    "young = pd.read_csv('../data/seed/youtube/young_videos.csv')\n",
    "old = pd.read_csv('../data/seed/youtube/old_videos.csv')"
   ]
  },
  {
   "cell_type": "code",
   "execution_count": null,
   "id": "c536a8ce-1ccc-4f1f-bd77-e46dcd2ba87f",
   "metadata": {
    "tags": []
   },
   "outputs": [],
   "source": [
    "df = pd.concat([finance, young, old])"
   ]
  },
  {
   "cell_type": "code",
   "execution_count": null,
   "id": "29b0bd56-9280-4b9c-aafa-e72dcb923a8d",
   "metadata": {
    "tags": []
   },
   "outputs": [],
   "source": [
    "df['label'] = df['label'].apply(lambda x: 'Unrelated' if x == 'old' else 'Unrelated' if x == 'young' else 'Unrelated' if x == 'None' else x)"
   ]
  },
  {
   "cell_type": "code",
   "execution_count": null,
   "id": "16894ea6-17a8-4d23-bcc1-0e2884db3294",
   "metadata": {
    "tags": []
   },
   "outputs": [],
   "source": [
    "def create_messages(snippet):\n",
    "    messages = [\n",
    "        {\"role\": \"system\", \"content\" : \"You are a classifier that determines if a YouTube video snippet falls under a label. A snippet is a concatenation of the video title, summarized transcript, and video tags. The labels and additional instructions will be included in the first user message.\"},\n",
    "        {\"role\": \"user\", \"content\" : \"\"\"Labels:\n",
    "\n",
    "Traditional: Videos that recommend or educate about stocks, bonds, real estate, commodities, retirement accounts, or other traditional investments or keywords related to them.\n",
    "Blockchain: Videos that recommend or educate about cryptocurrency (BTC, ETH, etc.), NFTs, or other Web3 investments or keywords related to them.\n",
    "Mixed: Videos that recommend or educate about both blockchain and traditional investments or keywords related to both.\n",
    "Unrelated: Videos that do not recommend or educate about either blockchain or traditional investments or keywords related to them.\n",
    "\n",
    "Instructions:\n",
    "- The classifier should consider the context and meaning of the keywords used to determine whether the snippet is related to traditional or blockchain investments.\n",
    "- If talks about making money from jobs, side hustles, or other alternative assets (cars, watches, artificial intelligence, trading cards, art, etc), they are Unrelated.\n",
    "- A video that is only downplaying an investment or discussing it negatively should be classified as Unrelated.\n",
    "- Please return predictions in the format\" {Label} : {20 word or shorter rationale}\"\"\"},\n",
    "        {\"role\": \"assistant\", \"content\": \"\"\"Understood. I will classify YouTube video snippets based on the provided labels and instructions. Here's how I will format the predictions:\n",
    "\n",
    "{Label} : {20-word or shorter rationale}\n",
    "\n",
    "Please provide me with the YouTube video snippet you would like me to classify.\"\"\"},\n",
    "    ]\n",
    "    \n",
    "    snippet_message = {\"role\" : \"user\", \"content\" : snippet.replace(\"\\n\", \" \").replace(\"  \", \" \")}\n",
    "    \n",
    "    messages.append(snippet_message)\n",
    "    \n",
    "    return messages"
   ]
  },
  {
   "cell_type": "code",
   "execution_count": null,
   "id": "0d2d5f87-ce39-4b82-991b-3d889c03e8cb",
   "metadata": {
    "tags": []
   },
   "outputs": [],
   "source": [
    "def classify(messages, temp = 0.25):\n",
    "    chatCompletion = openai.ChatCompletion.create(\n",
    "      model=\"gpt-3.5-turbo\",\n",
    "      messages=messages,\n",
    "      temperature=temp\n",
    "    )\n",
    "    return chatCompletion"
   ]
  },
  {
   "cell_type": "code",
   "execution_count": null,
   "id": "909f5f4d-c66d-4ca8-96ce-d9337806eb08",
   "metadata": {
    "tags": []
   },
   "outputs": [],
   "source": [
    "df['messages'] = df['snippet'].apply(create_messages)"
   ]
  },
  {
   "cell_type": "code",
   "execution_count": null,
   "id": "0cc031d6-869e-4077-b4a3-1d1a5091fbbb",
   "metadata": {},
   "outputs": [],
   "source": [
    "completions = []\n",
    "\n",
    "pbar = tqdm(df.iterrows())  \n",
    "\n",
    "for idx, entry in pbar:\n",
    "    pbar.set_description(\"Processing %s\" % entry['title'])\n",
    "    \n",
    "    body = classify(entry['messages'])\n",
    "    \n",
    "    ## Add error catching\n",
    "    completion = dict(body['choices'][0]['message'])\n",
    "    completion['prediction']  = completion['content'].split(':')[0].strip()\n",
    "    completion['reason'] = completion['content'].split(':')[1].strip()\n",
    "    completion['message'] = entry['messages']\n",
    "    completion['title'] = entry['title']\n",
    "    completion['transcript'] = entry['cleaned_transcript']\n",
    "    completion['snippet'] = entry['snippet']\n",
    "    completion['link'] = entry['link']\n",
    "\n",
    "    ## Grab meta data\n",
    "    completion.update({key: body[key] for key in ['created', 'id', 'model', 'object']})\n",
    "    \n",
    "    ## Grab token usage\n",
    "    completion.update(dict(body['usage']))\n",
    "\n",
    "    completions.append(completion)\n",
    "    \n",
    "    pd.DataFrame(completions).to_csv('seed_predictions.csv', index_label = False)\n",
    "    \n",
    "    \n",
    "    time.sleep(5)"
   ]
  },
  {
   "cell_type": "code",
   "execution_count": null,
   "id": "5a3cb121-85b2-4092-8f11-9a8ed0d9ff7c",
   "metadata": {
    "tags": []
   },
   "outputs": [],
   "source": [
    "predictions = pd.read_csv('seed_predictions.csv')"
   ]
  },
  {
   "cell_type": "code",
   "execution_count": null,
   "id": "35b2c031-c4b0-4048-8489-aada532d5710",
   "metadata": {
    "tags": []
   },
   "outputs": [],
   "source": [
    "predictions['prediction'].value_counts()"
   ]
  },
  {
   "cell_type": "code",
   "execution_count": null,
   "id": "d723f312-5321-416a-8dae-2cfde541b1fb",
   "metadata": {
    "tags": []
   },
   "outputs": [],
   "source": [
    "preds = list(predictions['prediction'])\n",
    "actual = list(df['label'])\n",
    "preds = ['Blockchain' if pred == 'Label' else pred for pred in preds]\n",
    "sum(predictions['total_tokens']) * TURBO_COST"
   ]
  },
  {
   "cell_type": "code",
   "execution_count": null,
   "id": "236d2e5c",
   "metadata": {},
   "outputs": [],
   "source": [
    "from sklearn.metrics import confusion_matrix\n",
    "import seaborn as sns"
   ]
  },
  {
   "cell_type": "code",
   "execution_count": null,
   "id": "4e77f2cd-c948-4eba-93ff-1e67c1139176",
   "metadata": {
    "tags": []
   },
   "outputs": [],
   "source": [
    "pd.set_option('display.max_rows', 500)"
   ]
  },
  {
   "cell_type": "code",
   "execution_count": null,
   "id": "bf96f0b3",
   "metadata": {},
   "outputs": [],
   "source": [
    "cf_matrix = confusion_matrix(actual, preds)"
   ]
  },
  {
   "cell_type": "code",
   "execution_count": null,
   "id": "de1a2018",
   "metadata": {},
   "outputs": [],
   "source": [
    "cf_matrix"
   ]
  },
  {
   "cell_type": "code",
   "execution_count": null,
   "id": "e3016aa5",
   "metadata": {},
   "outputs": [],
   "source": [
    "import matplotlib.pyplot as plt     \n",
    "\n",
    "ax= plt.subplot()\n",
    "\n",
    "sns.heatmap(cf_matrix, annot=True)\n",
    "\n",
    "# labels, title and ticks\n",
    "ax.set_xlabel('Predicted Labels');ax.set_ylabel('True Labels'); \n",
    "ax.set_title('Confusion Matrix'); \n",
    "ax.xaxis.set_ticklabels(['Blockchain', 'Mixed', 'Traditional', 'Unrelated']); ax.yaxis.set_ticklabels(['Traditional', 'Blockchain', 'Mixed', 'Unrelated']);"
   ]
  },
  {
   "cell_type": "code",
   "execution_count": null,
   "id": "b34bfb0e",
   "metadata": {},
   "outputs": [],
   "source": [
    "def make_confusion_matrix(cf,\n",
    "                          group_names=None,\n",
    "                          categories='auto',\n",
    "                          count=True,\n",
    "                          percent=True,\n",
    "                          cbar=True,\n",
    "                          xyticks=True,\n",
    "                          xyplotlabels=True,\n",
    "                          sum_stats=True,\n",
    "                          figsize=None,\n",
    "                          cmap='Blues',\n",
    "                          title=None):\n",
    "    '''\n",
    "    This function will make a pretty plot of an sklearn Confusion Matrix cm using a Seaborn heatmap visualization.\n",
    "    Arguments\n",
    "    ---------\n",
    "    cf:            confusion matrix to be passed in\n",
    "    group_names:   List of strings that represent the labels row by row to be shown in each square.\n",
    "    categories:    List of strings containing the categories to be displayed on the x,y axis. Default is 'auto'\n",
    "    count:         If True, show the raw number in the confusion matrix. Default is True.\n",
    "    normalize:     If True, show the proportions for each category. Default is True.\n",
    "    cbar:          If True, show the color bar. The cbar values are based off the values in the confusion matrix.\n",
    "                   Default is True.\n",
    "    xyticks:       If True, show x and y ticks. Default is True.\n",
    "    xyplotlabels:  If True, show 'True Label' and 'Predicted Label' on the figure. Default is True.\n",
    "    sum_stats:     If True, display summary statistics below the figure. Default is True.\n",
    "    figsize:       Tuple representing the figure size. Default will be the matplotlib rcParams value.\n",
    "    cmap:          Colormap of the values displayed from matplotlib.pyplot.cm. Default is 'Blues'\n",
    "                   See http://matplotlib.org/examples/color/colormaps_reference.html\n",
    "                   \n",
    "    title:         Title for the heatmap. Default is None.\n",
    "    '''\n",
    "\n",
    "\n",
    "    # CODE TO GENERATE TEXT INSIDE EACH SQUARE\n",
    "    blanks = ['' for i in range(cf.size)]\n",
    "\n",
    "    if group_names and len(group_names)==cf.size:\n",
    "        group_labels = [\"{}\\n\".format(value) for value in group_names]\n",
    "    else:\n",
    "        group_labels = blanks\n",
    "\n",
    "    if count:\n",
    "        group_counts = [\"{0:0.0f}\\n\".format(value) for value in cf.flatten()]\n",
    "    else:\n",
    "        group_counts = blanks\n",
    "\n",
    "    if percent:\n",
    "        group_percentages = [\"{0:.2%}\".format(value) for value in cf.flatten()/np.sum(cf)]\n",
    "    else:\n",
    "        group_percentages = blanks\n",
    "\n",
    "    box_labels = [f\"{v1}{v2}{v3}\".strip() for v1, v2, v3 in zip(group_labels,group_counts,group_percentages)]\n",
    "    box_labels = np.asarray(box_labels).reshape(cf.shape[0],cf.shape[1])\n",
    "\n",
    "\n",
    "    # CODE TO GENERATE SUMMARY STATISTICS & TEXT FOR SUMMARY STATS\n",
    "    if sum_stats:\n",
    "        #Accuracy is sum of diagonal divided by total observations\n",
    "        accuracy  = np.trace(cf) / float(np.sum(cf)) * 100\n",
    "\n",
    "        #if it is a binary confusion matrix, show some more stats\n",
    "        if len(cf)==2:\n",
    "            #Metrics for Binary Confusion Matrices\n",
    "            precision = cf[1,1] / sum(cf[:,1])\n",
    "            recall    = cf[1,1] / sum(cf[1,:])\n",
    "            f1_score  = 2*precision*recall / (precision + recall)\n",
    "            stats_text = \"\\n\\nAccuracy={:0.3f}\\nPrecision={:0.3f}\\nRecall={:0.3f}\\nF1 Score={:0.3f}\".format(\n",
    "                accuracy,precision,recall,f1_score)\n",
    "        else:\n",
    "            stats_text = \"\\n\\nAccuracy={:0.3f}%\".format(accuracy)\n",
    "    else:\n",
    "        stats_text = \"\"\n",
    "\n",
    "\n",
    "    # SET FIGURE PARAMETERS ACCORDING TO OTHER ARGUMENTS\n",
    "    if figsize==None:\n",
    "        #Get default figure size if not set\n",
    "        figsize = plt.rcParams.get('figure.figsize')\n",
    "\n",
    "    if xyticks==False:\n",
    "        #Do not show categories if xyticks is False\n",
    "        categories=False\n",
    "\n",
    "\n",
    "    # MAKE THE HEATMAP VISUALIZATION\n",
    "    plt.figure(figsize=figsize)\n",
    "    output = sns.heatmap(cf,annot=box_labels,fmt=\"\",cmap=cmap,cbar=cbar,xticklabels=categories,yticklabels=categories)\n",
    "\n",
    "    if xyplotlabels:\n",
    "        plt.ylabel('True label')\n",
    "        plt.xlabel('Predicted label' + stats_text)\n",
    "    else:\n",
    "        plt.xlabel(stats_text)\n",
    "    \n",
    "    if title:\n",
    "        plt.title(title)\n",
    "\n",
    "    return output"
   ]
  },
  {
   "cell_type": "code",
   "execution_count": null,
   "id": "876af4ce",
   "metadata": {},
   "outputs": [],
   "source": [
    "labels = ['Blockchain', 'Mixed', 'Traditional', 'Unrelated']\n",
    "cf_matrix = confusion_matrix(actual, preds)\n",
    "\n",
    "make_confusion_matrix(cf_matrix, categories = labels, cmap = \"rocket\").get_figure().savefig(\"seed_training_results.png\", dpi = 300, bbox_inches ='tight')"
   ]
  },
  {
   "cell_type": "code",
   "execution_count": null,
   "id": "b02262f4-25f4-4026-8987-08d675f57f4e",
   "metadata": {
    "tags": []
   },
   "outputs": [],
   "source": [
    "print(accuracy_score(actual, preds))\n",
    "print(classification_report(actual, preds))"
   ]
  },
  {
   "cell_type": "code",
   "execution_count": null,
   "id": "44e5b80f-30f1-4f26-b121-0aca1b519957",
   "metadata": {
    "tags": []
   },
   "outputs": [],
   "source": [
    "pred = 'Label :Blockchain bruh'"
   ]
  },
  {
   "cell_type": "code",
   "execution_count": null,
   "id": "d243ed00-94d4-464a-8cad-c2e74bdfd577",
   "metadata": {
    "tags": []
   },
   "outputs": [],
   "source": [
    "pred = pred.lower().strip('label').strip('label:').strip().strip(\":\").strip().split(\" \")[0]"
   ]
  },
  {
   "cell_type": "code",
   "execution_count": null,
   "id": "2e4fd185-c567-416d-8075-b460b58aeed4",
   "metadata": {
    "tags": []
   },
   "outputs": [],
   "source": [
    "pred = pred[0].upper() + pred[1:]"
   ]
  },
  {
   "cell_type": "code",
   "execution_count": null,
   "id": "149f890c-9dd9-444f-94f7-3bd4a5464be4",
   "metadata": {
    "tags": []
   },
   "outputs": [],
   "source": [
    "pred"
   ]
  },
  {
   "cell_type": "code",
   "execution_count": null,
   "id": "1a009fe1-bb2b-4b3f-95cb-e92d229fa64b",
   "metadata": {},
   "outputs": [],
   "source": [
    "\n",
    "df = pd.read_csv(\"../data/audit/youtube/processed/snippets/downloaded_sidebar_mixed_old_with_snippets.csv\")"
   ]
  },
  {
   "cell_type": "code",
   "execution_count": null,
   "id": "b167607a",
   "metadata": {},
   "outputs": [],
   "source": [
    "create_messages(df.iloc[545]['snippet'])"
   ]
  },
  {
   "cell_type": "code",
   "execution_count": null,
   "id": "c43f5570",
   "metadata": {},
   "outputs": [],
   "source": [
    "classify(create_messages(df.iloc[545]['snippet']))"
   ]
  }
 ],
 "metadata": {
  "kernelspec": {
   "display_name": ".venv",
   "language": "python",
   "name": "python3"
  },
  "language_info": {
   "codemirror_mode": {
    "name": "ipython",
    "version": 3
   },
   "file_extension": ".py",
   "mimetype": "text/x-python",
   "name": "python",
   "nbconvert_exporter": "python",
   "pygments_lexer": "ipython3",
   "version": "3.8.5"
  }
 },
 "nbformat": 4,
 "nbformat_minor": 5
}
