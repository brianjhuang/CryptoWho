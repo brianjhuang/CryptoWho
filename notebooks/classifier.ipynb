{
 "cells": [
  {
   "cell_type": "code",
   "execution_count": 2,
   "id": "548a6a05-463b-4469-957c-4f119b024cb6",
   "metadata": {
    "tags": []
   },
   "outputs": [],
   "source": [
    "import pandas as pd\n",
    "import numpy as np\n",
    "import random\n",
    "\n",
    "import openai\n",
    "import os\n",
    "from tqdm import tqdm\n",
    "import time\n",
    "\n",
    "import sys\n",
    "\n",
    "from sklearn.metrics import accuracy_score, classification_report\n",
    "\n",
    "sys.path.insert(0, '..')"
   ]
  },
  {
   "cell_type": "code",
   "execution_count": 2,
   "id": "2ac7516d-f85a-4395-be2a-f540c741efdf",
   "metadata": {
    "tags": []
   },
   "outputs": [],
   "source": [
    "# TURBO COST\n",
    "TURBO_COST = 0.00200 / 1000"
   ]
  },
  {
   "cell_type": "code",
   "execution_count": 3,
   "id": "986a0411-fa9c-494e-8c77-cea9162df14d",
   "metadata": {
    "tags": []
   },
   "outputs": [],
   "source": [
    "# Initialize the API client\n",
    "openai.api_key = os.environ.get(\"OPENAI_API_KEY\")"
   ]
  },
  {
   "cell_type": "code",
   "execution_count": 4,
   "id": "0c20ffe2-bfd0-4a1f-92f8-a51c696305ad",
   "metadata": {
    "tags": []
   },
   "outputs": [],
   "source": [
    "finance = pd.read_csv('../data/seed/youtube/seed_videos.csv')\n",
    "young = pd.read_csv('../data/seed/youtube/young_videos.csv')\n",
    "old = pd.read_csv('../data/seed/youtube/old_videos.csv')"
   ]
  },
  {
   "cell_type": "code",
   "execution_count": 6,
   "id": "c536a8ce-1ccc-4f1f-bd77-e46dcd2ba87f",
   "metadata": {
    "tags": []
   },
   "outputs": [],
   "source": [
    "df = pd.concat([finance, young, old])"
   ]
  },
  {
   "cell_type": "code",
   "execution_count": 12,
   "id": "29b0bd56-9280-4b9c-aafa-e72dcb923a8d",
   "metadata": {
    "tags": []
   },
   "outputs": [],
   "source": [
    "df['label'] = df['label'].apply(lambda x: 'Unrelated' if x == 'old' else 'Unrelated' if x == 'young' else 'Unrelated' if x == 'None' else x)"
   ]
  },
  {
   "cell_type": "code",
   "execution_count": 8,
   "id": "16894ea6-17a8-4d23-bcc1-0e2884db3294",
   "metadata": {
    "tags": []
   },
   "outputs": [],
   "source": [
    "def create_messages(snippet):\n",
    "    messages = [\n",
    "        {\"role\": \"system\", \"content\" : \"You are a classifier that determines if a YouTube video snippet falls under a label. A snippet is a concatenation of the video title, summarized transcript, and video tags. The labels and additional instructions will be included in the first user message.\"},\n",
    "        {\"role\": \"user\", \"content\" : \"\"\"Labels:\n",
    "\n",
    "Traditional: Videos that recommend or educate about stocks, bonds, real estate, commodities, retirement accounts, or other traditional investments or keywords related to them.\n",
    "Blockchain: Videos that recommend or educate about cryptocurrency (BTC, ETH, etc.), NFTs, or other Web3 investments or keywords related to them.\n",
    "Mixed: Videos that recommend or educate about both blockchain and traditional investments or keywords related to both.\n",
    "Unrelated: Videos that do not recommend or educate about either blockchain or traditional investments or keywords related to them.\n",
    "\n",
    "Instructions:\n",
    "- The classifier should consider the context and meaning of the keywords used to determine whether the snippet is related to traditional or blockchain investments.\n",
    "- If talks about making money from jobs, side hustles, or other alternative assets (cars, watches, artificial intelligence, trading cards, art, etc), they are Unrelated.\n",
    "- A video that is only downplaying an investment or discussing it negatively should be classified as Unrelated.\n",
    "- Please return predictions in the format\" {Label} : {20 word or shorter rationale}\"\"\"},\n",
    "        {\"role\": \"assistant\", \"content\": \"\"\"Understood. I will classify YouTube video snippets based on the provided labels and instructions. Here's how I will format the predictions:\n",
    "\n",
    "{Label} : {20-word or shorter rationale}\n",
    "\n",
    "Please provide me with the YouTube video snippet you would like me to classify.\"\"\"},\n",
    "    ]\n",
    "    \n",
    "    snippet_message = {\"role\" : \"user\", \"content\" : snippet.replace(\"\\n\", \" \").replace(\"  \", \" \")}\n",
    "    \n",
    "    messages.append(snippet_message)\n",
    "    \n",
    "    return messages"
   ]
  },
  {
   "cell_type": "code",
   "execution_count": 14,
   "id": "0d2d5f87-ce39-4b82-991b-3d889c03e8cb",
   "metadata": {
    "tags": []
   },
   "outputs": [],
   "source": [
    "def classify(messages, temp = 0.25):\n",
    "    chatCompletion = openai.ChatCompletion.create(\n",
    "      model=\"gpt-3.5-turbo\",\n",
    "      messages=messages,\n",
    "      temperature=temp\n",
    "    )\n",
    "    return chatCompletion"
   ]
  },
  {
   "cell_type": "code",
   "execution_count": 16,
   "id": "909f5f4d-c66d-4ca8-96ce-d9337806eb08",
   "metadata": {
    "tags": []
   },
   "outputs": [],
   "source": [
    "df['messages'] = df['snippet'].apply(create_messages)"
   ]
  },
  {
   "cell_type": "code",
   "execution_count": 18,
   "id": "0cc031d6-869e-4077-b4a3-1d1a5091fbbb",
   "metadata": {},
   "outputs": [
    {
     "name": "stderr",
     "output_type": "stream",
     "text": [
      "Processing How To Stay Healthy Until Your Old Age: : 140it [15:30,  6.65s/it]                                                             \n"
     ]
    }
   ],
   "source": [
    "completions = []\n",
    "\n",
    "pbar = tqdm(df.iterrows())  \n",
    "\n",
    "for idx, entry in pbar:\n",
    "    pbar.set_description(\"Processing %s\" % entry['title'])\n",
    "    \n",
    "    body = classify(entry['messages'])\n",
    "    \n",
    "    ## Add error catching\n",
    "    completion = dict(body['choices'][0]['message'])\n",
    "    completion['prediction']  = completion['content'].split(':')[0].strip()\n",
    "    completion['reason'] = completion['content'].split(':')[1].strip()\n",
    "    completion['message'] = entry['messages']\n",
    "    completion['title'] = entry['title']\n",
    "    completion['transcript'] = entry['cleaned_transcript']\n",
    "    completion['snippet'] = entry['snippet']\n",
    "    completion['link'] = entry['link']\n",
    "\n",
    "    ## Grab meta data\n",
    "    completion.update({key: body[key] for key in ['created', 'id', 'model', 'object']})\n",
    "    \n",
    "    ## Grab token usage\n",
    "    completion.update(dict(body['usage']))\n",
    "\n",
    "    completions.append(completion)\n",
    "    \n",
    "    pd.DataFrame(completions).to_csv('seed_predictions.csv', index_label = False)\n",
    "    \n",
    "    \n",
    "    time.sleep(5)"
   ]
  },
  {
   "cell_type": "code",
   "execution_count": 19,
   "id": "5a3cb121-85b2-4092-8f11-9a8ed0d9ff7c",
   "metadata": {
    "tags": []
   },
   "outputs": [],
   "source": [
    "predictions = pd.read_csv('seed_predictions.csv')"
   ]
  },
  {
   "cell_type": "code",
   "execution_count": 34,
   "id": "35b2c031-c4b0-4048-8489-aada532d5710",
   "metadata": {
    "tags": []
   },
   "outputs": [
    {
     "data": {
      "text/plain": [
       "Unrelated      50\n",
       "Traditional    43\n",
       "Blockchain     35\n",
       "Mixed          12\n",
       "Name: prediction, dtype: int64"
      ]
     },
     "execution_count": 34,
     "metadata": {},
     "output_type": "execute_result"
    }
   ],
   "source": [
    "predictions['prediction'].value_counts()"
   ]
  },
  {
   "cell_type": "code",
   "execution_count": 28,
   "id": "d723f312-5321-416a-8dae-2cfde541b1fb",
   "metadata": {
    "tags": []
   },
   "outputs": [
    {
     "data": {
      "text/plain": [
       "0.208982"
      ]
     },
     "execution_count": 28,
     "metadata": {},
     "output_type": "execute_result"
    }
   ],
   "source": [
    "preds = list(predictions['prediction'])\n",
    "actual = list(df['label'])\n",
    "preds = ['Blockchain' if pred == 'Label' else pred for pred in preds]\n",
    "sum(predictions['total_tokens']) * TURBO_COST"
   ]
  },
  {
   "cell_type": "code",
   "execution_count": 31,
   "id": "4e77f2cd-c948-4eba-93ff-1e67c1139176",
   "metadata": {
    "tags": []
   },
   "outputs": [],
   "source": [
    "pd.set_option('display.max_rows', 500)"
   ]
  },
  {
   "cell_type": "code",
   "execution_count": 29,
   "id": "b02262f4-25f4-4026-8987-08d675f57f4e",
   "metadata": {
    "tags": []
   },
   "outputs": [
    {
     "name": "stdout",
     "output_type": "stream",
     "text": [
      "0.9071428571428571\n",
      "              precision    recall  f1-score   support\n",
      "\n",
      "  Blockchain       1.00      0.88      0.93        40\n",
      "       Mixed       0.42      1.00      0.59         5\n",
      " Traditional       0.91      0.97      0.94        40\n",
      "   Unrelated       0.96      0.87      0.91        55\n",
      "\n",
      "    accuracy                           0.91       140\n",
      "   macro avg       0.82      0.93      0.84       140\n",
      "weighted avg       0.94      0.91      0.92       140\n",
      "\n"
     ]
    }
   ],
   "source": [
    "print(accuracy_score(actual, preds))\n",
    "print(classification_report(actual, preds))"
   ]
  },
  {
   "cell_type": "code",
   "execution_count": 84,
   "id": "44e5b80f-30f1-4f26-b121-0aca1b519957",
   "metadata": {
    "tags": []
   },
   "outputs": [],
   "source": [
    "pred = 'Label :Blockchain bruh'"
   ]
  },
  {
   "cell_type": "code",
   "execution_count": 86,
   "id": "d243ed00-94d4-464a-8cad-c2e74bdfd577",
   "metadata": {
    "tags": []
   },
   "outputs": [],
   "source": [
    "pred = pred.lower().strip('label').strip('label:').strip().strip(\":\").strip().split(\" \")[0]"
   ]
  },
  {
   "cell_type": "code",
   "execution_count": 87,
   "id": "2e4fd185-c567-416d-8075-b460b58aeed4",
   "metadata": {
    "tags": []
   },
   "outputs": [],
   "source": [
    "pred = pred[0].upper() + pred[1:]"
   ]
  },
  {
   "cell_type": "code",
   "execution_count": 88,
   "id": "149f890c-9dd9-444f-94f7-3bd4a5464be4",
   "metadata": {
    "tags": []
   },
   "outputs": [
    {
     "data": {
      "text/plain": [
       "'Blockchain'"
      ]
     },
     "execution_count": 88,
     "metadata": {},
     "output_type": "execute_result"
    }
   ],
   "source": [
    "pred"
   ]
  },
  {
   "cell_type": "code",
   "execution_count": 3,
   "id": "1a009fe1-bb2b-4b3f-95cb-e92d229fa64b",
   "metadata": {},
   "outputs": [],
   "source": [
    "\n",
    "df = pd.read_csv(\"../data/audit/youtube/processed/snippets/downloaded_sidebar_mixed_old_with_snippets.csv\")"
   ]
  },
  {
   "cell_type": "code",
   "execution_count": 12,
   "id": "b167607a",
   "metadata": {},
   "outputs": [
    {
     "data": {
      "text/plain": [
       "[{'role': 'system',\n",
       "  'content': 'You are a classifier that determines if a YouTube video snippet falls under a label. A snippet is a concatenation of the video title, summarized transcript, and video tags. The labels and additional instructions will be included in the first user message.'},\n",
       " {'role': 'user',\n",
       "  'content': 'Labels:\\n\\nTraditional: Videos that recommend or educate about stocks, bonds, real estate, commodities, retirement accounts, or other traditional investments or keywords related to them.\\nBlockchain: Videos that recommend or educate about cryptocurrency (BTC, ETH, etc.), NFTs, or other Web3 investments or keywords related to them.\\nMixed: Videos that recommend or educate about both blockchain and traditional investments or keywords related to both.\\nUnrelated: Videos that do not recommend or educate about either blockchain or traditional investments or keywords related to them.\\n\\nInstructions:\\n- The classifier should consider the context and meaning of the keywords used to determine whether the snippet is related to traditional or blockchain investments.\\n- If talks about making money from jobs, side hustles, or other alternative assets (cars, watches, artificial intelligence, trading cards, art, etc), they are Unrelated.\\n- A video that is only downplaying an investment or discussing it negatively should be classified as Unrelated.\\n- Please return predictions in the format\" {Label} : {20 word or shorter rationale}'},\n",
       " {'role': 'assistant',\n",
       "  'content': \"Understood. I will classify YouTube video snippets based on the provided labels and instructions. Here's how I will format the predictions:\\n\\n{Label} : {20-word or shorter rationale}\\n\\nPlease provide me with the YouTube video snippet you would like me to classify.\"},\n",
       " {'role': 'user', 'content': 'March 2, 2023. this way. [Music]. .'}]"
      ]
     },
     "execution_count": 12,
     "metadata": {},
     "output_type": "execute_result"
    }
   ],
   "source": [
    "create_messages(df.iloc[545]['snippet'])"
   ]
  },
  {
   "cell_type": "code",
   "execution_count": 15,
   "id": "c43f5570",
   "metadata": {},
   "outputs": [
    {
     "data": {
      "text/plain": [
       "<OpenAIObject chat.completion id=chatcmpl-6sFOX8YKozXDvwqKq3UFBI3dvrCMT at 0x7fa9950ba2c0> JSON: {\n",
       "  \"choices\": [\n",
       "    {\n",
       "      \"finish_reason\": \"stop\",\n",
       "      \"index\": 0,\n",
       "      \"message\": {\n",
       "        \"content\": \"I'm sorry, but the provided input is not a valid YouTube video snippet. Please provide a valid YouTube video snippet for me to classify.\",\n",
       "        \"role\": \"assistant\"\n",
       "      }\n",
       "    }\n",
       "  ],\n",
       "  \"created\": 1678386909,\n",
       "  \"id\": \"chatcmpl-6sFOX8YKozXDvwqKq3UFBI3dvrCMT\",\n",
       "  \"model\": \"gpt-3.5-turbo-0301\",\n",
       "  \"object\": \"chat.completion\",\n",
       "  \"usage\": {\n",
       "    \"completion_tokens\": 30,\n",
       "    \"prompt_tokens\": 346,\n",
       "    \"total_tokens\": 376\n",
       "  }\n",
       "}"
      ]
     },
     "execution_count": 15,
     "metadata": {},
     "output_type": "execute_result"
    }
   ],
   "source": [
    "classify(create_messages(df.iloc[545]['snippet']))"
   ]
  }
 ],
 "metadata": {
  "kernelspec": {
   "display_name": ".venv",
   "language": "python",
   "name": "python3"
  },
  "language_info": {
   "codemirror_mode": {
    "name": "ipython",
    "version": 3
   },
   "file_extension": ".py",
   "mimetype": "text/x-python",
   "name": "python",
   "nbconvert_exporter": "python",
   "pygments_lexer": "ipython3",
   "version": "3.8.5"
  }
 },
 "nbformat": 4,
 "nbformat_minor": 5
}
